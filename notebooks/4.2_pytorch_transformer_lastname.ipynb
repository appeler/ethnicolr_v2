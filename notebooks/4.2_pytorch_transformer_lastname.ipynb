{
 "cells": [
  {
   "cell_type": "code",
   "execution_count": 1,
   "metadata": {
    "executionInfo": {
     "elapsed": 5022,
     "status": "ok",
     "timestamp": 1685655943130,
     "user": {
      "displayName": "Rajashekar Chintalapati",
      "userId": "03596288833202137831"
     },
     "user_tz": 420
    },
    "id": "6wTqaxXwRGBE"
   },
   "outputs": [
    {
     "name": "stderr",
     "output_type": "stream",
     "text": [
      "/home/ubuntu/.local/lib/python3.8/site-packages/pandas/core/computation/expressions.py:20: UserWarning: Pandas requires version '2.7.3' or newer of 'numexpr' (version '2.7.1' currently installed).\n",
      "  from pandas.core.computation.check import NUMEXPR_INSTALLED\n"
     ]
    }
   ],
   "source": [
    "import string\n",
    "\n",
    "import torch \n",
    "import torch.nn as nn\n",
    "from torch.utils.data import Dataset, DataLoader\n",
    "from torch.optim.adamw import AdamW\n",
    "\n",
    "from tqdm import tqdm\n",
    "tqdm.pandas()\n",
    "\n",
    "import pandas as pd\n",
    "import numpy as np\n",
    "\n",
    "from fastprogress import master_bar, progress_bar"
   ]
  },
  {
   "cell_type": "markdown",
   "metadata": {
    "id": "cSlSeNxpELos"
   },
   "source": [
    "\n",
    "\n",
    "## load data"
   ]
  },
  {
   "cell_type": "code",
   "execution_count": 4,
   "metadata": {
    "executionInfo": {
     "elapsed": 16403,
     "status": "ok",
     "timestamp": 1685655959531,
     "user": {
      "displayName": "Rajashekar Chintalapati",
      "userId": "03596288833202137831"
     },
     "user_tz": 420
    },
    "id": "VVVfrmyYbL0-"
   },
   "outputs": [],
   "source": [
    "train_df = pd.read_csv(\"data/fl_2022_LastName_train.csv.gz\")\n",
    "val_df = pd.read_csv(\"data/fl_2022_LastName_val.csv.gz\")\n",
    "test_df = pd.read_csv(\"data/fl_2022_LastName_test.csv.gz\")"
   ]
  },
  {
   "cell_type": "code",
   "execution_count": 5,
   "metadata": {
    "colab": {
     "base_uri": "https://localhost:8080/",
     "height": 206
    },
    "executionInfo": {
     "elapsed": 26,
     "status": "ok",
     "timestamp": 1685655959532,
     "user": {
      "displayName": "Rajashekar Chintalapati",
      "userId": "03596288833202137831"
     },
     "user_tz": 420
    },
    "id": "u0TJpyUQEAHz",
    "outputId": "d88beb3a-982e-4a3b-c550-38def9684122"
   },
   "outputs": [
    {
     "data": {
      "text/html": [
       "<div>\n",
       "<style scoped>\n",
       "    .dataframe tbody tr th:only-of-type {\n",
       "        vertical-align: middle;\n",
       "    }\n",
       "\n",
       "    .dataframe tbody tr th {\n",
       "        vertical-align: top;\n",
       "    }\n",
       "\n",
       "    .dataframe thead th {\n",
       "        text-align: right;\n",
       "    }\n",
       "</style>\n",
       "<table border=\"1\" class=\"dataframe\">\n",
       "  <thead>\n",
       "    <tr style=\"text-align: right;\">\n",
       "      <th></th>\n",
       "      <th>name_last</th>\n",
       "      <th>name_first</th>\n",
       "      <th>race</th>\n",
       "      <th>race_code</th>\n",
       "    </tr>\n",
       "  </thead>\n",
       "  <tbody>\n",
       "    <tr>\n",
       "      <th>0</th>\n",
       "      <td>Olivier-White</td>\n",
       "      <td>Jean</td>\n",
       "      <td>hispanic</td>\n",
       "      <td>3</td>\n",
       "    </tr>\n",
       "    <tr>\n",
       "      <th>1</th>\n",
       "      <td>Menkhorst</td>\n",
       "      <td>Erwin</td>\n",
       "      <td>nh_white</td>\n",
       "      <td>2</td>\n",
       "    </tr>\n",
       "    <tr>\n",
       "      <th>2</th>\n",
       "      <td>Mosquera Cubillos</td>\n",
       "      <td>Catalina</td>\n",
       "      <td>hispanic</td>\n",
       "      <td>3</td>\n",
       "    </tr>\n",
       "    <tr>\n",
       "      <th>3</th>\n",
       "      <td>Coste</td>\n",
       "      <td>Charles</td>\n",
       "      <td>nh_white</td>\n",
       "      <td>2</td>\n",
       "    </tr>\n",
       "    <tr>\n",
       "      <th>4</th>\n",
       "      <td>Jimenez De Los Santo</td>\n",
       "      <td>Rosa</td>\n",
       "      <td>hispanic</td>\n",
       "      <td>3</td>\n",
       "    </tr>\n",
       "  </tbody>\n",
       "</table>\n",
       "</div>"
      ],
      "text/plain": [
       "              name_last name_first      race  race_code\n",
       "0         Olivier-White       Jean  hispanic          3\n",
       "1             Menkhorst      Erwin  nh_white          2\n",
       "2     Mosquera Cubillos   Catalina  hispanic          3\n",
       "3                 Coste    Charles  nh_white          2\n",
       "4  Jimenez De Los Santo       Rosa  hispanic          3"
      ]
     },
     "execution_count": 5,
     "metadata": {},
     "output_type": "execute_result"
    }
   ],
   "source": [
    "train_df.head()"
   ]
  },
  {
   "cell_type": "markdown",
   "metadata": {
    "id": "GzHXp_2UE_H6"
   },
   "source": [
    "## Creating Dataset"
   ]
  },
  {
   "cell_type": "code",
   "execution_count": 6,
   "metadata": {
    "executionInfo": {
     "elapsed": 12,
     "status": "ok",
     "timestamp": 1685655959532,
     "user": {
      "displayName": "Rajashekar Chintalapati",
      "userId": "03596288833202137831"
     },
     "user_tz": 420
    },
    "id": "eQma_l_7KbGw"
   },
   "outputs": [],
   "source": [
    "all_letters = string.ascii_letters + \"'- \""
   ]
  },
  {
   "cell_type": "code",
   "execution_count": 7,
   "metadata": {
    "colab": {
     "base_uri": "https://localhost:8080/",
     "height": 35
    },
    "executionInfo": {
     "elapsed": 12,
     "status": "ok",
     "timestamp": 1685655959533,
     "user": {
      "displayName": "Rajashekar Chintalapati",
      "userId": "03596288833202137831"
     },
     "user_tz": 420
    },
    "id": "acgCGLmiKePO",
    "outputId": "aac79dd6-9323-40da-8c2b-28598fb89565"
   },
   "outputs": [
    {
     "data": {
      "text/plain": [
       "\"abcdefghijklmnopqrstuvwxyzABCDEFGHIJKLMNOPQRSTUVWXYZ'- \""
      ]
     },
     "execution_count": 7,
     "metadata": {},
     "output_type": "execute_result"
    }
   ],
   "source": [
    "all_letters"
   ]
  },
  {
   "cell_type": "code",
   "execution_count": 8,
   "metadata": {
    "executionInfo": {
     "elapsed": 12,
     "status": "ok",
     "timestamp": 1685655959533,
     "user": {
      "displayName": "Rajashekar Chintalapati",
      "userId": "03596288833202137831"
     },
     "user_tz": 420
    },
    "id": "NRIPVUoDKg6I"
   },
   "outputs": [],
   "source": [
    "n_letters = len(all_letters)"
   ]
  },
  {
   "cell_type": "code",
   "execution_count": 9,
   "metadata": {
    "colab": {
     "base_uri": "https://localhost:8080/"
    },
    "executionInfo": {
     "elapsed": 11,
     "status": "ok",
     "timestamp": 1685655959533,
     "user": {
      "displayName": "Rajashekar Chintalapati",
      "userId": "03596288833202137831"
     },
     "user_tz": 420
    },
    "id": "54yuEsreKkDP",
    "outputId": "30496ece-c51c-4d05-aa44-049464cc76d5"
   },
   "outputs": [
    {
     "data": {
      "text/plain": [
       "55"
      ]
     },
     "execution_count": 9,
     "metadata": {},
     "output_type": "execute_result"
    }
   ],
   "source": [
    "n_letters"
   ]
  },
  {
   "cell_type": "code",
   "execution_count": 10,
   "metadata": {
    "executionInfo": {
     "elapsed": 785,
     "status": "ok",
     "timestamp": 1685655960310,
     "user": {
      "displayName": "Rajashekar Chintalapati",
      "userId": "03596288833202137831"
     },
     "user_tz": 420
    },
    "id": "Y0LCplqlShEA"
   },
   "outputs": [],
   "source": [
    "all_categories = train_df['race'].unique()"
   ]
  },
  {
   "cell_type": "code",
   "execution_count": 11,
   "metadata": {
    "colab": {
     "base_uri": "https://localhost:8080/"
    },
    "executionInfo": {
     "elapsed": 7,
     "status": "ok",
     "timestamp": 1685655960310,
     "user": {
      "displayName": "Rajashekar Chintalapati",
      "userId": "03596288833202137831"
     },
     "user_tz": 420
    },
    "id": "7U_2wvowSlBw",
    "outputId": "710dee75-e625-4d63-b348-50cc95530ffe"
   },
   "outputs": [
    {
     "data": {
      "text/plain": [
       "array(['hispanic', 'nh_white', 'nh_black', 'other', 'asian'], dtype=object)"
      ]
     },
     "execution_count": 11,
     "metadata": {},
     "output_type": "execute_result"
    }
   ],
   "source": [
    "all_categories"
   ]
  },
  {
   "cell_type": "code",
   "execution_count": 12,
   "metadata": {
    "executionInfo": {
     "elapsed": 7,
     "status": "ok",
     "timestamp": 1685655960311,
     "user": {
      "displayName": "Rajashekar Chintalapati",
      "userId": "03596288833202137831"
     },
     "user_tz": 420
    },
    "id": "RGI0sLnDLyAc"
   },
   "outputs": [],
   "source": [
    "n_categories = len(train_df['race_code'].unique())"
   ]
  },
  {
   "cell_type": "code",
   "execution_count": 13,
   "metadata": {
    "colab": {
     "base_uri": "https://localhost:8080/"
    },
    "executionInfo": {
     "elapsed": 6,
     "status": "ok",
     "timestamp": 1685655960311,
     "user": {
      "displayName": "Rajashekar Chintalapati",
      "userId": "03596288833202137831"
     },
     "user_tz": 420
    },
    "id": "mfoygEhaXeHx",
    "outputId": "40f16953-bceb-49f1-956e-39f235bd1ef4"
   },
   "outputs": [
    {
     "data": {
      "text/plain": [
       "5"
      ]
     },
     "execution_count": 13,
     "metadata": {},
     "output_type": "execute_result"
    }
   ],
   "source": [
    "n_categories"
   ]
  },
  {
   "cell_type": "code",
   "execution_count": 16,
   "metadata": {
    "executionInfo": {
     "elapsed": 1289,
     "status": "ok",
     "timestamp": 1685655961596,
     "user": {
      "displayName": "Rajashekar Chintalapati",
      "userId": "03596288833202137831"
     },
     "user_tz": 420
    },
    "id": "XB3ojCrtKYfo"
   },
   "outputs": [],
   "source": [
    "max_name = train_df['name_last'].str.len().max()"
   ]
  },
  {
   "cell_type": "code",
   "execution_count": 17,
   "metadata": {
    "executionInfo": {
     "elapsed": 16,
     "status": "ok",
     "timestamp": 1685655961597,
     "user": {
      "displayName": "Rajashekar Chintalapati",
      "userId": "03596288833202137831"
     },
     "user_tz": 420
    },
    "id": "hBEpDT5HoQh_"
   },
   "outputs": [],
   "source": [
    "oob = n_letters + 1"
   ]
  },
  {
   "cell_type": "code",
   "execution_count": 18,
   "metadata": {
    "executionInfo": {
     "elapsed": 15,
     "status": "ok",
     "timestamp": 1685655961597,
     "user": {
      "displayName": "Rajashekar Chintalapati",
      "userId": "03596288833202137831"
     },
     "user_tz": 420
    },
    "id": "AJoUZ5yJKw7x"
   },
   "outputs": [],
   "source": [
    "def letterToIndex(letter):\n",
    "    return all_letters.find(letter)"
   ]
  },
  {
   "cell_type": "code",
   "execution_count": 19,
   "metadata": {
    "executionInfo": {
     "elapsed": 16,
     "status": "ok",
     "timestamp": 1685655961598,
     "user": {
      "displayName": "Rajashekar Chintalapati",
      "userId": "03596288833202137831"
     },
     "user_tz": 420
    },
    "id": "k_pOih-zKyXc"
   },
   "outputs": [],
   "source": [
    "def lineToTensor(line):\n",
    "    tensor = torch.ones(max_name) * oob\n",
    "    for li, letter in enumerate(line):\n",
    "        tensor[li] = letterToIndex(letter)\n",
    "    return tensor"
   ]
  },
  {
   "cell_type": "code",
   "execution_count": 20,
   "metadata": {
    "colab": {
     "base_uri": "https://localhost:8080/"
    },
    "executionInfo": {
     "elapsed": 16,
     "status": "ok",
     "timestamp": 1685655961598,
     "user": {
      "displayName": "Rajashekar Chintalapati",
      "userId": "03596288833202137831"
     },
     "user_tz": 420
    },
    "id": "fpvaQT5nK_2y",
    "outputId": "c5b145dc-044b-47e3-e9dd-9a8f467ffd86"
   },
   "outputs": [
    {
     "data": {
      "text/plain": [
       "tensor([35.,  0., 18., 14., 13., 56., 56., 56., 56., 56., 56., 56., 56., 56.,\n",
       "        56., 56., 56., 56., 56., 56., 56., 56., 56., 56., 56., 56., 56., 56.,\n",
       "        56., 56.])"
      ]
     },
     "execution_count": 20,
     "metadata": {},
     "output_type": "execute_result"
    }
   ],
   "source": [
    "lineToTensor('Jason')"
   ]
  },
  {
   "cell_type": "code",
   "execution_count": 21,
   "metadata": {
    "colab": {
     "base_uri": "https://localhost:8080/"
    },
    "executionInfo": {
     "elapsed": 14,
     "status": "ok",
     "timestamp": 1685655961598,
     "user": {
      "displayName": "Rajashekar Chintalapati",
      "userId": "03596288833202137831"
     },
     "user_tz": 420
    },
    "id": "NPAYYcHAK59U",
    "outputId": "4678cf8d-21ba-411d-a439-b9041ae271a4"
   },
   "outputs": [
    {
     "name": "stdout",
     "output_type": "stream",
     "text": [
      "torch.Size([30])\n"
     ]
    }
   ],
   "source": [
    "print(lineToTensor('Jason').size())"
   ]
  },
  {
   "cell_type": "code",
   "execution_count": 22,
   "metadata": {
    "executionInfo": {
     "elapsed": 12,
     "status": "ok",
     "timestamp": 1685655961599,
     "user": {
      "displayName": "Rajashekar Chintalapati",
      "userId": "03596288833202137831"
     },
     "user_tz": 420
    },
    "id": "w7d6NEgjKX9m"
   },
   "outputs": [],
   "source": [
    "def getTarget(label):\n",
    "  target = n_categories * [0]\n",
    "  target[label] = 1\n",
    "  return target"
   ]
  },
  {
   "cell_type": "code",
   "execution_count": 23,
   "metadata": {},
   "outputs": [
    {
     "data": {
      "text/html": [
       "<div>\n",
       "<style scoped>\n",
       "    .dataframe tbody tr th:only-of-type {\n",
       "        vertical-align: middle;\n",
       "    }\n",
       "\n",
       "    .dataframe tbody tr th {\n",
       "        vertical-align: top;\n",
       "    }\n",
       "\n",
       "    .dataframe thead th {\n",
       "        text-align: right;\n",
       "    }\n",
       "</style>\n",
       "<table border=\"1\" class=\"dataframe\">\n",
       "  <thead>\n",
       "    <tr style=\"text-align: right;\">\n",
       "      <th></th>\n",
       "      <th>name_last</th>\n",
       "      <th>name_first</th>\n",
       "      <th>race</th>\n",
       "      <th>race_code</th>\n",
       "    </tr>\n",
       "  </thead>\n",
       "  <tbody>\n",
       "    <tr>\n",
       "      <th>0</th>\n",
       "      <td>Olivier-White</td>\n",
       "      <td>Jean</td>\n",
       "      <td>hispanic</td>\n",
       "      <td>3</td>\n",
       "    </tr>\n",
       "    <tr>\n",
       "      <th>1</th>\n",
       "      <td>Menkhorst</td>\n",
       "      <td>Erwin</td>\n",
       "      <td>nh_white</td>\n",
       "      <td>2</td>\n",
       "    </tr>\n",
       "    <tr>\n",
       "      <th>2</th>\n",
       "      <td>Mosquera Cubillos</td>\n",
       "      <td>Catalina</td>\n",
       "      <td>hispanic</td>\n",
       "      <td>3</td>\n",
       "    </tr>\n",
       "    <tr>\n",
       "      <th>3</th>\n",
       "      <td>Coste</td>\n",
       "      <td>Charles</td>\n",
       "      <td>nh_white</td>\n",
       "      <td>2</td>\n",
       "    </tr>\n",
       "    <tr>\n",
       "      <th>4</th>\n",
       "      <td>Jimenez De Los Santo</td>\n",
       "      <td>Rosa</td>\n",
       "      <td>hispanic</td>\n",
       "      <td>3</td>\n",
       "    </tr>\n",
       "  </tbody>\n",
       "</table>\n",
       "</div>"
      ],
      "text/plain": [
       "              name_last name_first      race  race_code\n",
       "0         Olivier-White       Jean  hispanic          3\n",
       "1             Menkhorst      Erwin  nh_white          2\n",
       "2     Mosquera Cubillos   Catalina  hispanic          3\n",
       "3                 Coste    Charles  nh_white          2\n",
       "4  Jimenez De Los Santo       Rosa  hispanic          3"
      ]
     },
     "execution_count": 23,
     "metadata": {},
     "output_type": "execute_result"
    }
   ],
   "source": [
    "train_df.head()"
   ]
  },
  {
   "cell_type": "code",
   "execution_count": 24,
   "metadata": {
    "executionInfo": {
     "elapsed": 12,
     "status": "ok",
     "timestamp": 1685655961599,
     "user": {
      "displayName": "Rajashekar Chintalapati",
      "userId": "03596288833202137831"
     },
     "user_tz": 420
    },
    "id": "kKwuNTwjEzkV"
   },
   "outputs": [],
   "source": [
    "# A custom Dataset class must implement three functions: __init__, __len__, and __getitem__\n",
    "\n",
    "class EthniColorDataset(Dataset):\n",
    "  def __init__(self, data_df, transform=None):\n",
    "    self.df = data_df\n",
    "    self.transform = transform\n",
    "  \n",
    "  def __len__(self):\n",
    "    return len(self.df)\n",
    "\n",
    "  def __getitem__(self, idx):\n",
    "    if torch.is_tensor(idx):\n",
    "      idx = idx.tolist()\n",
    "    name = self.df.iloc[idx, 0]\n",
    "    if self.transform:\n",
    "      name = self.transform(name)\n",
    "    label = self.df.iloc[idx, 3]\n",
    "    #target = getTarget(label)\n",
    "    target = torch.tensor(label, dtype=torch.int64)\n",
    "    return name, target"
   ]
  },
  {
   "cell_type": "code",
   "execution_count": 25,
   "metadata": {
    "executionInfo": {
     "elapsed": 12,
     "status": "ok",
     "timestamp": 1685655961599,
     "user": {
      "displayName": "Rajashekar Chintalapati",
      "userId": "03596288833202137831"
     },
     "user_tz": 420
    },
    "id": "Ue_MhX-7QN9I"
   },
   "outputs": [],
   "source": [
    "train_dataset = EthniColorDataset(train_df, lineToTensor)\n",
    "val_dataset = EthniColorDataset(val_df, lineToTensor)\n",
    "test_dataset = EthniColorDataset(test_df, lineToTensor)"
   ]
  },
  {
   "cell_type": "code",
   "execution_count": 26,
   "metadata": {
    "colab": {
     "base_uri": "https://localhost:8080/"
    },
    "executionInfo": {
     "elapsed": 11,
     "status": "ok",
     "timestamp": 1685655961599,
     "user": {
      "displayName": "Rajashekar Chintalapati",
      "userId": "03596288833202137831"
     },
     "user_tz": 420
    },
    "id": "U9fp-gC9Mnft",
    "outputId": "ca9f9e01-1b31-4cad-cfed-78130274e615"
   },
   "outputs": [
    {
     "name": "stdout",
     "output_type": "stream",
     "text": [
      "0 tensor([40., 11.,  8., 21.,  8.,  4., 17., 53., 48.,  7.,  8., 19.,  4., 56.,\n",
      "        56., 56., 56., 56., 56., 56., 56., 56., 56., 56., 56., 56., 56., 56.,\n",
      "        56., 56.]) tensor(3)\n",
      "1 tensor([38.,  4., 13., 10.,  7., 14., 17., 18., 19., 56., 56., 56., 56., 56.,\n",
      "        56., 56., 56., 56., 56., 56., 56., 56., 56., 56., 56., 56., 56., 56.,\n",
      "        56., 56.]) tensor(2)\n",
      "2 tensor([38., 14., 18., 16., 20.,  4., 17.,  0., 54., 28., 20.,  1.,  8., 11.,\n",
      "        11., 14., 18., 56., 56., 56., 56., 56., 56., 56., 56., 56., 56., 56.,\n",
      "        56., 56.]) tensor(3)\n"
     ]
    }
   ],
   "source": [
    "for i in range(3):\n",
    "  name, label = train_dataset[i]\n",
    "  print(i, name, label)"
   ]
  },
  {
   "cell_type": "code",
   "execution_count": 27,
   "metadata": {
    "colab": {
     "base_uri": "https://localhost:8080/"
    },
    "executionInfo": {
     "elapsed": 10,
     "status": "ok",
     "timestamp": 1685655961600,
     "user": {
      "displayName": "Rajashekar Chintalapati",
      "userId": "03596288833202137831"
     },
     "user_tz": 420
    },
    "id": "tGyzWNzgNzjc",
    "outputId": "245b5d4e-57e7-444a-dd2e-831f0820c31a"
   },
   "outputs": [],
   "source": [
    "# The Dataset retrieves our dataset’s features and labels one sample at a time. \n",
    "# While training a model, we typically want to pass samples in “minibatches”, \n",
    "# reshuffle the data at every epoch to reduce model overfitting, and \n",
    "# use Python’s multiprocessing to speed up data retrieval.\n",
    "\n",
    "batch_size=128\n",
    "\n",
    "train_dataloader = DataLoader(train_dataset, batch_size=batch_size, shuffle=True, drop_last=True, num_workers=12)\n",
    "val_dataloader = DataLoader(val_dataset, batch_size=batch_size, shuffle=True, drop_last=True, num_workers=12)\n",
    "test_dataloader = DataLoader(test_dataset, batch_size=batch_size, shuffle=True, drop_last=True, num_workers=12)"
   ]
  },
  {
   "cell_type": "code",
   "execution_count": 28,
   "metadata": {
    "colab": {
     "base_uri": "https://localhost:8080/"
    },
    "executionInfo": {
     "elapsed": 3271,
     "status": "ok",
     "timestamp": 1685655964862,
     "user": {
      "displayName": "Rajashekar Chintalapati",
      "userId": "03596288833202137831"
     },
     "user_tz": 420
    },
    "id": "C7c7-RtYlE3G",
    "outputId": "a488f175-bed1-439c-90fa-ded0078a5ed7"
   },
   "outputs": [
    {
     "data": {
      "text/plain": [
       "[tensor([[32.,  0., 18.,  ..., 56., 56., 56.],\n",
       "         [30., 10.,  4.,  ..., 56., 56., 56.],\n",
       "         [29.,  4.,  2.,  ..., 56., 56., 56.],\n",
       "         ...,\n",
       "         [48.,  4.,  8.,  ..., 56., 56., 56.],\n",
       "         [33.,  0., 17.,  ..., 56., 56., 56.],\n",
       "         [41.,  5.,  4.,  ..., 56., 56., 56.]]),\n",
       " tensor([3, 4, 2, 2, 0, 0, 1, 2, 3, 3, 2, 2, 3, 0, 3, 3, 3, 3, 3, 3, 3, 3, 1, 2,\n",
       "         2, 3, 2, 1, 3, 3, 2, 4, 4, 2, 2, 2, 4, 2, 1, 2, 3, 2, 2, 3, 3, 1, 2, 3,\n",
       "         2, 2, 2, 2, 1, 3, 2, 3, 2, 0, 3, 2, 2, 2, 2, 2, 3, 3, 2, 4, 3, 2, 3, 3,\n",
       "         1, 1, 2, 1, 0, 2, 0, 2, 2, 3, 2, 2, 4, 2, 3, 1, 2, 2, 2, 2, 3, 2, 2, 2,\n",
       "         3, 3, 0, 3, 1, 2, 4, 3, 3, 2, 2, 2, 2, 4, 3, 2, 2, 3, 4, 2, 2, 2, 3, 1,\n",
       "         1, 4, 3, 3, 3, 2, 0, 2])]"
      ]
     },
     "execution_count": 28,
     "metadata": {},
     "output_type": "execute_result"
    }
   ],
   "source": [
    "next(iter(train_dataloader))"
   ]
  },
  {
   "cell_type": "code",
   "execution_count": 29,
   "metadata": {
    "colab": {
     "base_uri": "https://localhost:8080/"
    },
    "executionInfo": {
     "elapsed": 6,
     "status": "ok",
     "timestamp": 1685655964862,
     "user": {
      "displayName": "Rajashekar Chintalapati",
      "userId": "03596288833202137831"
     },
     "user_tz": 420
    },
    "id": "UAebM2_6kIr1",
    "outputId": "b812e4da-6ad7-4368-a44d-2431720bbfc3"
   },
   "outputs": [
    {
     "name": "stdout",
     "output_type": "stream",
     "text": [
      "0 torch.Size([128, 30]) torch.Size([128])\n",
      "1 torch.Size([128, 30]) torch.Size([128])\n",
      "2 torch.Size([128, 30]) torch.Size([128])\n"
     ]
    }
   ],
   "source": [
    "for i_batch, sample_batched in enumerate(train_dataloader):\n",
    "    print(i_batch, sample_batched[0].size(), sample_batched[1].size())\n",
    "    if i_batch == 2:\n",
    "        break"
   ]
  },
  {
   "cell_type": "code",
   "execution_count": 30,
   "metadata": {
    "executionInfo": {
     "elapsed": 4,
     "status": "ok",
     "timestamp": 1685655964862,
     "user": {
      "displayName": "Rajashekar Chintalapati",
      "userId": "03596288833202137831"
     },
     "user_tz": 420
    },
    "id": "SEkodp68Sdsj"
   },
   "outputs": [],
   "source": [
    "def categoryFromOutput(output):\n",
    "    top_n, top_i = output.topk(1)\n",
    "    category_i = top_i[0].item()\n",
    "    return all_categories[category_i], category_i"
   ]
  },
  {
   "cell_type": "code",
   "execution_count": 31,
   "metadata": {
    "executionInfo": {
     "elapsed": 5,
     "status": "ok",
     "timestamp": 1685655964863,
     "user": {
      "displayName": "Rajashekar Chintalapati",
      "userId": "03596288833202137831"
     },
     "user_tz": 420
    },
    "id": "IUewq69bGlIR"
   },
   "outputs": [],
   "source": [
    "import math \n",
    "\n",
    "class PositionalEncoding(nn.Module):\n",
    "    def __init__(self, d_model, dropout=0.1, max_len=5000):\n",
    "        super(PositionalEncoding, self).__init__()\n",
    "        self.dropout = nn.Dropout(p=dropout)\n",
    "\n",
    "        pe = torch.zeros(max_len, d_model)\n",
    "        position = torch.arange(0, max_len, dtype=torch.float).unsqueeze(1)\n",
    "        div_term = torch.exp(torch.arange(0, d_model, 2).float() * -(math.log(10000.0) / d_model))\n",
    "        pe[:, 0::2] = torch.sin(position * div_term)\n",
    "        pe[:, 1::2] = torch.cos(position * div_term)\n",
    "        pe = pe.unsqueeze(0).transpose(0, 1)\n",
    "        self.register_buffer('pe', pe)\n",
    "\n",
    "    def forward(self, x):\n",
    "        x = x + self.pe[:x.size(0), :]\n",
    "        return self.dropout(x)\n"
   ]
  },
  {
   "cell_type": "code",
   "execution_count": 47,
   "metadata": {
    "colab": {
     "base_uri": "https://localhost:8080/"
    },
    "executionInfo": {
     "elapsed": 3972,
     "status": "ok",
     "timestamp": 1685655968830,
     "user": {
      "displayName": "Rajashekar Chintalapati",
      "userId": "03596288833202137831"
     },
     "user_tz": 420
    },
    "id": "5zvwGXG2M-Gu",
    "outputId": "f995fdf0-90e5-4bff-e721-0e7ee1da79e4"
   },
   "outputs": [
    {
     "data": {
      "text/plain": [
       "Transformer(\n",
       "  (embedding): Embedding(57, 256)\n",
       "  (pos_encoder): PositionalEncoding(\n",
       "    (dropout): Dropout(p=0.1, inplace=False)\n",
       "  )\n",
       "  (transformer_encoder): TransformerEncoder(\n",
       "    (layers): ModuleList(\n",
       "      (0): TransformerEncoderLayer(\n",
       "        (self_attn): MultiheadAttention(\n",
       "          (out_proj): NonDynamicallyQuantizableLinear(in_features=256, out_features=256, bias=True)\n",
       "        )\n",
       "        (linear1): Linear(in_features=256, out_features=2048, bias=True)\n",
       "        (dropout): Dropout(p=0.1, inplace=False)\n",
       "        (linear2): Linear(in_features=2048, out_features=256, bias=True)\n",
       "        (norm1): LayerNorm((256,), eps=1e-05, elementwise_affine=True)\n",
       "        (norm2): LayerNorm((256,), eps=1e-05, elementwise_affine=True)\n",
       "        (dropout1): Dropout(p=0.1, inplace=False)\n",
       "        (dropout2): Dropout(p=0.1, inplace=False)\n",
       "      )\n",
       "      (1): TransformerEncoderLayer(\n",
       "        (self_attn): MultiheadAttention(\n",
       "          (out_proj): NonDynamicallyQuantizableLinear(in_features=256, out_features=256, bias=True)\n",
       "        )\n",
       "        (linear1): Linear(in_features=256, out_features=2048, bias=True)\n",
       "        (dropout): Dropout(p=0.1, inplace=False)\n",
       "        (linear2): Linear(in_features=2048, out_features=256, bias=True)\n",
       "        (norm1): LayerNorm((256,), eps=1e-05, elementwise_affine=True)\n",
       "        (norm2): LayerNorm((256,), eps=1e-05, elementwise_affine=True)\n",
       "        (dropout1): Dropout(p=0.1, inplace=False)\n",
       "        (dropout2): Dropout(p=0.1, inplace=False)\n",
       "      )\n",
       "      (2): TransformerEncoderLayer(\n",
       "        (self_attn): MultiheadAttention(\n",
       "          (out_proj): NonDynamicallyQuantizableLinear(in_features=256, out_features=256, bias=True)\n",
       "        )\n",
       "        (linear1): Linear(in_features=256, out_features=2048, bias=True)\n",
       "        (dropout): Dropout(p=0.1, inplace=False)\n",
       "        (linear2): Linear(in_features=2048, out_features=256, bias=True)\n",
       "        (norm1): LayerNorm((256,), eps=1e-05, elementwise_affine=True)\n",
       "        (norm2): LayerNorm((256,), eps=1e-05, elementwise_affine=True)\n",
       "        (dropout1): Dropout(p=0.1, inplace=False)\n",
       "        (dropout2): Dropout(p=0.1, inplace=False)\n",
       "      )\n",
       "      (3): TransformerEncoderLayer(\n",
       "        (self_attn): MultiheadAttention(\n",
       "          (out_proj): NonDynamicallyQuantizableLinear(in_features=256, out_features=256, bias=True)\n",
       "        )\n",
       "        (linear1): Linear(in_features=256, out_features=2048, bias=True)\n",
       "        (dropout): Dropout(p=0.1, inplace=False)\n",
       "        (linear2): Linear(in_features=2048, out_features=256, bias=True)\n",
       "        (norm1): LayerNorm((256,), eps=1e-05, elementwise_affine=True)\n",
       "        (norm2): LayerNorm((256,), eps=1e-05, elementwise_affine=True)\n",
       "        (dropout1): Dropout(p=0.1, inplace=False)\n",
       "        (dropout2): Dropout(p=0.1, inplace=False)\n",
       "      )\n",
       "    )\n",
       "  )\n",
       "  (fc): Linear(in_features=256, out_features=5, bias=True)\n",
       "  (softmax): LogSoftmax(dim=1)\n",
       ")"
      ]
     },
     "execution_count": 47,
     "metadata": {},
     "output_type": "execute_result"
    }
   ],
   "source": [
    "# Set the random seed for reproducible results\n",
    "torch.manual_seed(42)\n",
    "device = torch.device(\"cuda:0\" if torch.cuda.is_available() else \"cpu\")\n",
    "\n",
    "# Define the Transformer model\n",
    "class Transformer(nn.Module):\n",
    "    def __init__(self, input_size, hidden_size, output_size, nhead, num_layers=1):\n",
    "        super(Transformer, self).__init__()\n",
    "        self.hidden_size = hidden_size\n",
    "\n",
    "        self.embedding = nn.Embedding(input_size, hidden_size)\n",
    "        self.pos_encoder = PositionalEncoding(hidden_size)\n",
    "        encoder_layers = nn.TransformerEncoderLayer(hidden_size, nhead, batch_first=True)\n",
    "        self.transformer_encoder = nn.TransformerEncoder(encoder_layers, num_layers)\n",
    "        self.fc = nn.Linear(hidden_size, output_size)\n",
    "        self.softmax = nn.LogSoftmax(dim=1)\n",
    "\n",
    "    def forward(self, input):\n",
    "        embedded = self.embedding(input.type(torch.IntTensor).to(input.device))\n",
    "        pos_encoded = self.pos_encoder(embedded)\n",
    "        out = self.transformer_encoder(pos_encoded) # (batch, seq, feature)\n",
    "        out = out[:, -1, :] # drop seq\n",
    "        out = self.fc(out)\n",
    "        out = self.softmax(out) # (batch, out_cats)\n",
    "        return out\n",
    "\n",
    "n_hidden = 256 # 128\n",
    "seq_len = max_name \n",
    "vocab_size = n_letters + 2\n",
    "\n",
    "model = Transformer(vocab_size, n_hidden, n_categories, nhead=4, num_layers=4)\n",
    "model.to(device)"
   ]
  },
  {
   "cell_type": "code",
   "execution_count": 33,
   "metadata": {
    "colab": {
     "base_uri": "https://localhost:8080/"
    },
    "executionInfo": {
     "elapsed": 2526,
     "status": "ok",
     "timestamp": 1685655971350,
     "user": {
      "displayName": "Rajashekar Chintalapati",
      "userId": "03596288833202137831"
     },
     "user_tz": 420
    },
    "id": "G2v1iG1PTDsO",
    "outputId": "493a1828-ad9b-48f8-bdc0-6404d301dc11"
   },
   "outputs": [
    {
     "name": "stdout",
     "output_type": "stream",
     "text": [
      "input shape :  torch.Size([30])\n",
      "input shape w batch :  torch.Size([1, 30])\n",
      "torch.Size([1, 5])\n"
     ]
    }
   ],
   "source": [
    "input = lineToTensor('Rogers Renee')\n",
    "\n",
    "print(\"input shape : \",input.shape)\n",
    "print(\"input shape w batch : \", input.unsqueeze(0).shape)\n",
    "#print(hidden.shape)\n",
    "\n",
    "# sending with batch 1\n",
    "output = model(input.unsqueeze(0).to(device))\n",
    "# print(output) - has 47x8 log values\n",
    "print(output.shape)"
   ]
  },
  {
   "cell_type": "code",
   "execution_count": 34,
   "metadata": {
    "colab": {
     "base_uri": "https://localhost:8080/"
    },
    "executionInfo": {
     "elapsed": 27,
     "status": "ok",
     "timestamp": 1685655971350,
     "user": {
      "displayName": "Rajashekar Chintalapati",
      "userId": "03596288833202137831"
     },
     "user_tz": 420
    },
    "id": "1o8BWYwHfwVg",
    "outputId": "7e9a0003-8752-40a0-dfd6-0202b39d018a"
   },
   "outputs": [
    {
     "data": {
      "text/plain": [
       "tensor([[-1.8181, -1.9027, -2.3115, -0.9948, -1.5159]], device='cuda:0',\n",
       "       grad_fn=<LogSoftmaxBackward0>)"
      ]
     },
     "execution_count": 34,
     "metadata": {},
     "output_type": "execute_result"
    }
   ],
   "source": [
    "output"
   ]
  },
  {
   "cell_type": "code",
   "execution_count": 35,
   "metadata": {
    "colab": {
     "base_uri": "https://localhost:8080/"
    },
    "executionInfo": {
     "elapsed": 26,
     "status": "ok",
     "timestamp": 1685655971351,
     "user": {
      "displayName": "Rajashekar Chintalapati",
      "userId": "03596288833202137831"
     },
     "user_tz": 420
    },
    "id": "VuiaYKq3eBnW",
    "outputId": "46e0f3e8-6b32-4473-fbec-f12023b02025"
   },
   "outputs": [
    {
     "data": {
      "text/plain": [
       "tensor(3, device='cuda:0')"
      ]
     },
     "execution_count": 35,
     "metadata": {},
     "output_type": "execute_result"
    }
   ],
   "source": [
    "torch.argmax(output)"
   ]
  },
  {
   "cell_type": "code",
   "execution_count": 36,
   "metadata": {
    "colab": {
     "base_uri": "https://localhost:8080/"
    },
    "executionInfo": {
     "elapsed": 24,
     "status": "ok",
     "timestamp": 1685655971351,
     "user": {
      "displayName": "Rajashekar Chintalapati",
      "userId": "03596288833202137831"
     },
     "user_tz": 420
    },
    "id": "vlKeNDgxZyHe",
    "outputId": "c309fe0b-987a-4b2e-af6c-5bde395774af"
   },
   "outputs": [
    {
     "name": "stdout",
     "output_type": "stream",
     "text": [
      "torch.Size([1, 2, 3, 4, 5, 6])\n",
      "torch.Size([1, 2, 60, 6])\n"
     ]
    }
   ],
   "source": [
    "a = torch.zeros(1, 2, 3, 4, 5, 6)\n",
    "b = a.view(*a.shape[:2], -1, *a.shape[5:])\n",
    "print(a.shape)\n",
    "print(b.shape)"
   ]
  },
  {
   "cell_type": "code",
   "execution_count": 37,
   "metadata": {
    "colab": {
     "base_uri": "https://localhost:8080/"
    },
    "executionInfo": {
     "elapsed": 23,
     "status": "ok",
     "timestamp": 1685655971351,
     "user": {
      "displayName": "Rajashekar Chintalapati",
      "userId": "03596288833202137831"
     },
     "user_tz": 420
    },
    "id": "Rge6zcdfZ-M5",
    "outputId": "a450a6b5-602c-4f03-8b8a-b50e2e73c703"
   },
   "outputs": [
    {
     "name": "stdout",
     "output_type": "stream",
     "text": [
      "torch.Size([1, 47, 53, 64])\n",
      "torch.Size([1, 2491, 64])\n",
      "torch.Size([1, 47, 53, 256])\n"
     ]
    }
   ],
   "source": [
    "a = torch.zeros(1,47,53,64)\n",
    "b = a.view(a.shape[0],-1,a.shape[3])\n",
    "print(a.shape)\n",
    "print(b.shape)\n",
    "c = torch.zeros([1, 2491, 256])\n",
    "d = c.view(c.shape[0],47,53,c.shape[2])\n",
    "print(d.shape)"
   ]
  },
  {
   "cell_type": "code",
   "execution_count": 38,
   "metadata": {
    "executionInfo": {
     "elapsed": 22,
     "status": "ok",
     "timestamp": 1685655971352,
     "user": {
      "displayName": "Rajashekar Chintalapati",
      "userId": "03596288833202137831"
     },
     "user_tz": 420
    },
    "id": "k15fW9OOP6vx"
   },
   "outputs": [],
   "source": [
    "top_n, top_i = output.topk(1)"
   ]
  },
  {
   "cell_type": "code",
   "execution_count": 39,
   "metadata": {
    "colab": {
     "base_uri": "https://localhost:8080/"
    },
    "executionInfo": {
     "elapsed": 22,
     "status": "ok",
     "timestamp": 1685655971352,
     "user": {
      "displayName": "Rajashekar Chintalapati",
      "userId": "03596288833202137831"
     },
     "user_tz": 420
    },
    "id": "wdwl6Kn6UziH",
    "outputId": "ca1296aa-fcd4-4b0a-e1db-e93eef7bd930"
   },
   "outputs": [
    {
     "data": {
      "text/plain": [
       "tensor([[-1.8181, -1.9027, -2.3115, -0.9948, -1.5159]], device='cuda:0',\n",
       "       grad_fn=<LogSoftmaxBackward0>)"
      ]
     },
     "execution_count": 39,
     "metadata": {},
     "output_type": "execute_result"
    }
   ],
   "source": [
    "output"
   ]
  },
  {
   "cell_type": "code",
   "execution_count": 40,
   "metadata": {
    "colab": {
     "base_uri": "https://localhost:8080/"
    },
    "executionInfo": {
     "elapsed": 20,
     "status": "ok",
     "timestamp": 1685655971352,
     "user": {
      "displayName": "Rajashekar Chintalapati",
      "userId": "03596288833202137831"
     },
     "user_tz": 420
    },
    "id": "dUcERMgqUqYu",
    "outputId": "21ee5a67-c4c0-4d6c-cf1c-86d909ac2230"
   },
   "outputs": [
    {
     "data": {
      "text/plain": [
       "tensor([[-0.9948]], device='cuda:0', grad_fn=<TopkBackward0>)"
      ]
     },
     "execution_count": 40,
     "metadata": {},
     "output_type": "execute_result"
    }
   ],
   "source": [
    "top_n"
   ]
  },
  {
   "cell_type": "code",
   "execution_count": 41,
   "metadata": {
    "colab": {
     "base_uri": "https://localhost:8080/"
    },
    "executionInfo": {
     "elapsed": 19,
     "status": "ok",
     "timestamp": 1685655971352,
     "user": {
      "displayName": "Rajashekar Chintalapati",
      "userId": "03596288833202137831"
     },
     "user_tz": 420
    },
    "id": "WQULPwDcUV0Q",
    "outputId": "48523e0a-486e-4236-d525-becf0d7c009b"
   },
   "outputs": [
    {
     "data": {
      "text/plain": [
       "tensor([[3]], device='cuda:0')"
      ]
     },
     "execution_count": 41,
     "metadata": {},
     "output_type": "execute_result"
    }
   ],
   "source": [
    "top_n # has log values\n",
    "top_i # has indices"
   ]
  },
  {
   "cell_type": "code",
   "execution_count": 42,
   "metadata": {
    "colab": {
     "base_uri": "https://localhost:8080/"
    },
    "executionInfo": {
     "elapsed": 18,
     "status": "ok",
     "timestamp": 1685655971353,
     "user": {
      "displayName": "Rajashekar Chintalapati",
      "userId": "03596288833202137831"
     },
     "user_tz": 420
    },
    "id": "C55j2v1dTVoN",
    "outputId": "8dbcc3aa-4042-4d7b-d5da-b869eeb7e3fb"
   },
   "outputs": [
    {
     "data": {
      "text/plain": [
       "('other', 3)"
      ]
     },
     "execution_count": 42,
     "metadata": {},
     "output_type": "execute_result"
    }
   ],
   "source": [
    "# to get best value\n",
    "top_n, top_i = output.topk(1)\n",
    "category_i = top_i[0].item()\n",
    "all_categories[category_i], category_i"
   ]
  },
  {
   "cell_type": "markdown",
   "metadata": {
    "id": "_qsEnfPKgYgt"
   },
   "source": [
    "## Training\n"
   ]
  },
  {
   "cell_type": "code",
   "execution_count": 43,
   "metadata": {
    "colab": {
     "base_uri": "https://localhost:8080/"
    },
    "executionInfo": {
     "elapsed": 16,
     "status": "ok",
     "timestamp": 1685655971353,
     "user": {
      "displayName": "Rajashekar Chintalapati",
      "userId": "03596288833202137831"
     },
     "user_tz": 420
    },
    "id": "wLGyoOcm09kH",
    "outputId": "5811b608-10dc-43b5-ea5b-a4207c8bcabd"
   },
   "outputs": [
    {
     "data": {
      "text/plain": [
       "device(type='cuda', index=0)"
      ]
     },
     "execution_count": 43,
     "metadata": {},
     "output_type": "execute_result"
    }
   ],
   "source": [
    "device"
   ]
  },
  {
   "cell_type": "code",
   "execution_count": 44,
   "metadata": {
    "colab": {
     "base_uri": "https://localhost:8080/"
    },
    "executionInfo": {
     "elapsed": 14,
     "status": "ok",
     "timestamp": 1685655971353,
     "user": {
      "displayName": "Rajashekar Chintalapati",
      "userId": "03596288833202137831"
     },
     "user_tz": 420
    },
    "id": "cj2WPKg3rov2",
    "outputId": "39e0a0b1-fab5-4747-9554-0339a74d7756"
   },
   "outputs": [
    {
     "name": "stdout",
     "output_type": "stream",
     "text": [
      "CPU op-mode(s):                  32-bit, 64-bit\n",
      "CPU(s):                          30\n",
      "On-line CPU(s) list:             0-29\n",
      "CPU family:                      25\n",
      "CPU MHz:                         2449.998\n",
      "NUMA node0 CPU(s):               0-29\n",
      "Flags:                           fpu vme de pse tsc msr pae mce cx8 apic sep mtrr pge mca cmov pat pse36 clflush mmx fxsr sse sse2 syscall nx mmxext fxsr_opt pdpe1gb rdtscp lm rep_good nopl cpuid extd_apicid tsc_known_freq pni pclmulqdq ssse3 fma cx16 pcid sse4_1 sse4_2 x2apic movbe popcnt tsc_deadline_timer aes xsave avx f16c rdrand hypervisor lahf_lm cmp_legacy svm cr8_legacy abm sse4a misalignsse 3dnowprefetch osvw perfctr_core invpcid_single ssbd ibrs ibpb stibp vmmcall fsgsbase tsc_adjust bmi1 avx2 smep bmi2 erms invpcid rdseed adx smap clflushopt clwb sha_ni xsaveopt xsavec xgetbv1 xsaves clzero xsaveerptr wbnoinvd arat npt nrip_save umip pku ospke vaes vpclmulqdq rdpid fsrm arch_capabilities\n"
     ]
    }
   ],
   "source": [
    "!lscpu | grep -i cpu"
   ]
  },
  {
   "cell_type": "code",
   "execution_count": 45,
   "metadata": {
    "id": "zRcu2U_PUKsP"
   },
   "outputs": [],
   "source": [
    "class EarlyStopper:\n",
    "    def __init__(self, patience=1, min_delta=0):\n",
    "        self.patience = patience\n",
    "        self.min_delta = min_delta\n",
    "        self.counter = 0\n",
    "        self.min_validation_loss = np.inf\n",
    "\n",
    "    def early_stop(self, validation_loss):\n",
    "        if validation_loss < self.min_validation_loss:\n",
    "            self.min_validation_loss = validation_loss\n",
    "            self.counter = 0\n",
    "        elif validation_loss > (self.min_validation_loss + self.min_delta):\n",
    "            self.counter += 1\n",
    "            if self.counter >= self.patience:\n",
    "                return True\n",
    "        return False"
   ]
  },
  {
   "cell_type": "code",
   "execution_count": 48,
   "metadata": {
    "colab": {
     "background_save": true,
     "base_uri": "https://localhost:8080/",
     "height": 1000
    },
    "id": "RUkgRkq-TuWB",
    "outputId": "10ee9807-6ff9-45e5-e8c1-6be6893d1f39"
   },
   "outputs": [
    {
     "data": {
      "text/html": [
       "\n",
       "<style>\n",
       "    /* Turns off some styling */\n",
       "    progress {\n",
       "        /* gets rid of default border in Firefox and Opera. */\n",
       "        border: none;\n",
       "        /* Needs to be in here for Safari polyfill so background images work as expected. */\n",
       "        background-size: auto;\n",
       "    }\n",
       "    progress:not([value]), progress:not([value])::-webkit-progress-bar {\n",
       "        background: repeating-linear-gradient(45deg, #7e7e7e, #7e7e7e 10px, #5c5c5c 10px, #5c5c5c 20px);\n",
       "    }\n",
       "    .progress-bar-interrupted, .progress-bar-interrupted::-webkit-progress-bar {\n",
       "        background: #F44336;\n",
       "    }\n",
       "</style>\n"
      ],
      "text/plain": [
       "<IPython.core.display.HTML object>"
      ]
     },
     "metadata": {},
     "output_type": "display_data"
    },
    {
     "data": {
      "text/html": [
       "\n",
       "Epoch 0: Training loss 1.312618 validation loss 1.263888 with lr 0.000100<p>\n",
       "Epoch 1: Training loss 1.261435 validation loss 1.235533 with lr 0.000100<p>\n",
       "Epoch 2: Training loss 1.240345 validation loss 1.217960 with lr 0.000100<p>\n",
       "Epoch 3: Training loss 1.223057 validation loss 1.198859 with lr 0.000100<p>\n",
       "Epoch 4: Training loss 1.205177 validation loss 1.183365 with lr 0.000100<p>\n",
       "Epoch 5: Training loss 1.192783 validation loss 1.173872 with lr 0.000100<p>\n",
       "Epoch 6: Training loss 1.183991 validation loss 1.166319 with lr 0.000100<p>\n",
       "Epoch 7: Training loss 1.177122 validation loss 1.159646 with lr 0.000100<p>\n",
       "Epoch 8: Training loss 1.170277 validation loss 1.152202 with lr 0.000100<p>\n",
       "Epoch 9: Training loss 1.164545 validation loss 1.146749 with lr 0.000100<p>\n",
       "Epoch 10: Training loss 1.159079 validation loss 1.141907 with lr 0.000100<p>\n",
       "Epoch 11: Training loss 1.155083 validation loss 1.138317 with lr 0.000100<p>\n",
       "Epoch 12: Training loss 1.151046 validation loss 1.134991 with lr 0.000100<p>\n",
       "Epoch 13: Training loss 1.147882 validation loss 1.132874 with lr 0.000100<p>\n",
       "Epoch 14: Training loss 1.145098 validation loss 1.129707 with lr 0.000100<p>\n",
       "Epoch 15: Training loss 1.142186 validation loss 1.126368 with lr 0.000100<p>\n",
       "Epoch 16: Training loss 1.139513 validation loss 1.124194 with lr 0.000100<p>\n",
       "Epoch 17: Training loss 1.137165 validation loss 1.121465 with lr 0.000100<p>\n",
       "Epoch 18: Training loss 1.134730 validation loss 1.119238 with lr 0.000100<p>\n",
       "Epoch 19: Training loss 1.132400 validation loss 1.117351 with lr 0.000100<p>\n",
       "Epoch 20: Training loss 1.130709 validation loss 1.115670 with lr 0.000100<p>\n",
       "Epoch 21: Training loss 1.128793 validation loss 1.113727 with lr 0.000100<p>\n",
       "Epoch 22: Training loss 1.127102 validation loss 1.112878 with lr 0.000100<p>\n",
       "Epoch 23: Training loss 1.125316 validation loss 1.111272 with lr 0.000100<p>\n",
       "Epoch 24: Training loss 1.123675 validation loss 1.110252 with lr 0.000100<p>\n",
       "Epoch 25: Training loss 1.122478 validation loss 1.108622 with lr 0.000100<p>\n",
       "Epoch 26: Training loss 1.121455 validation loss 1.107942 with lr 0.000100<p>\n",
       "Epoch 27: Training loss 1.120079 validation loss 1.106142 with lr 0.000100<p>\n",
       "Epoch 28: Training loss 1.118739 validation loss 1.105610 with lr 0.000100<p>\n",
       "Epoch 29: Training loss 1.117580 validation loss 1.106135 with lr 0.000100<p>\n",
       "Epoch 30: Training loss 1.116807 validation loss 1.103431 with lr 0.000100<p>\n",
       "Epoch 31: Training loss 1.115912 validation loss 1.103829 with lr 0.000100<p>\n",
       "Epoch 32: Training loss 1.115301 validation loss 1.103325 with lr 0.000100<p>\n",
       "Epoch 33: Training loss 1.114324 validation loss 1.101968 with lr 0.000100<p>\n",
       "Epoch 34: Training loss 1.113620 validation loss 1.101859 with lr 0.000100<p>\n",
       "Epoch 35: Training loss 1.112752 validation loss 1.101284 with lr 0.000100<p>\n",
       "Epoch 36: Training loss 1.112060 validation loss 1.100760 with lr 0.000100<p>\n",
       "Epoch 37: Training loss 1.111643 validation loss 1.100509 with lr 0.000100<p>\n",
       "Epoch 38: Training loss 1.110748 validation loss 1.099692 with lr 0.000100<p>\n",
       "Epoch 39: Training loss 1.110532 validation loss 1.098196 with lr 0.000100<p>\n",
       "Epoch 40: Training loss 1.109647 validation loss 1.098474 with lr 0.000100<p>\n",
       "Epoch 41: Training loss 1.109276 validation loss 1.098078 with lr 0.000100<p>\n",
       "Epoch 42: Training loss 1.108744 validation loss 1.097335 with lr 0.000100<p>\n",
       "Epoch 43: Training loss 1.108203 validation loss 1.098078 with lr 0.000100<p>\n",
       "Epoch 44: Training loss 1.107823 validation loss 1.096715 with lr 0.000100<p>\n",
       "Epoch 45: Training loss 1.107294 validation loss 1.095864 with lr 0.000100<p>\n",
       "Epoch 46: Training loss 1.106571 validation loss 1.095738 with lr 0.000100<p>\n",
       "Epoch 47: Training loss 1.106364 validation loss 1.096055 with lr 0.000100<p>\n",
       "Epoch 48: Training loss 1.106189 validation loss 1.095555 with lr 0.000100<p>\n",
       "Epoch 49: Training loss 1.105828 validation loss 1.095327 with lr 0.000100<p>\n",
       "Epoch 50: Training loss 1.105268 validation loss 1.094547 with lr 0.000100<p>\n",
       "Epoch 51: Training loss 1.105044 validation loss 1.094342 with lr 0.000100<p>\n",
       "Epoch 52: Training loss 1.104459 validation loss 1.093809 with lr 0.000100<p>\n",
       "Epoch 53: Training loss 1.104603 validation loss 1.094063 with lr 0.000100<p>\n",
       "Epoch 54: Training loss 1.104159 validation loss 1.093505 with lr 0.000100<p>\n",
       "Epoch 55: Training loss 1.103770 validation loss 1.093514 with lr 0.000100<p>\n",
       "Epoch 56: Training loss 1.103353 validation loss 1.093699 with lr 0.000100<p>\n",
       "Epoch 57: Training loss 1.102937 validation loss 1.093091 with lr 0.000100<p>\n",
       "Epoch 58: Training loss 1.103045 validation loss 1.093259 with lr 0.000100<p>\n",
       "Epoch 59: Training loss 1.102530 validation loss 1.093365 with lr 0.000100<p>\n",
       "Epoch 60: Training loss 1.102439 validation loss 1.092463 with lr 0.000100<p>\n",
       "Epoch 61: Training loss 1.101919 validation loss 1.092970 with lr 0.000100<p>\n",
       "Epoch 62: Training loss 1.101636 validation loss 1.092280 with lr 0.000100<p>\n",
       "Epoch 63: Training loss 1.101383 validation loss 1.091696 with lr 0.000100<p>\n",
       "Epoch 64: Training loss 1.101370 validation loss 1.092362 with lr 0.000100<p>\n",
       "Epoch 65: Training loss 1.101086 validation loss 1.091409 with lr 0.000100<p>\n",
       "Epoch 66: Training loss 1.100780 validation loss 1.091725 with lr 0.000100<p>\n",
       "Epoch 67: Training loss 1.100864 validation loss 1.091138 with lr 0.000100<p>\n",
       "Epoch 68: Training loss 1.100477 validation loss 1.090997 with lr 0.000100<p>\n",
       "Epoch 69: Training loss 1.100050 validation loss 1.091525 with lr 0.000100<p>\n",
       "Epoch 70: Training loss 1.100000 validation loss 1.091050 with lr 0.000100<p>\n",
       "Epoch 71: Training loss 1.099803 validation loss 1.090116 with lr 0.000100<p>\n",
       "Epoch 72: Training loss 1.099687 validation loss 1.089859 with lr 0.000100<p>\n",
       "Epoch 73: Training loss 1.099784 validation loss 1.090284 with lr 0.000100<p>\n",
       "Epoch 74: Training loss 1.099231 validation loss 1.090154 with lr 0.000100<p>\n",
       "Epoch 75: Training loss 1.098983 validation loss 1.089113 with lr 0.000100<p>\n",
       "Epoch 76: Training loss 1.098973 validation loss 1.089417 with lr 0.000100<p>\n",
       "Epoch 77: Training loss 1.098860 validation loss 1.090080 with lr 0.000100<p>\n",
       "Epoch 78: Training loss 1.098497 validation loss 1.088908 with lr 0.000100<p>\n",
       "Epoch 79: Training loss 1.098574 validation loss 1.090858 with lr 0.000100<p>\n",
       "Epoch 80: Training loss 1.098058 validation loss 1.089168 with lr 0.000100<p>\n",
       "Epoch 81: Training loss 1.097980 validation loss 1.088737 with lr 0.000100<p>\n",
       "Epoch 82: Training loss 1.098078 validation loss 1.089348 with lr 0.000100<p>\n",
       "Epoch 83: Training loss 1.097618 validation loss 1.089318 with lr 0.000100<p>\n",
       "Epoch 84: Training loss 1.097601 validation loss 1.088571 with lr 0.000100<p>\n",
       "Epoch 85: Training loss 1.097622 validation loss 1.088769 with lr 0.000100<p>\n",
       "Epoch 86: Training loss 1.097356 validation loss 1.088847 with lr 0.000100<p>\n",
       "Epoch 87: Training loss 1.097206 validation loss 1.088244 with lr 0.000100<p>\n",
       "Epoch 88: Training loss 1.097076 validation loss 1.088360 with lr 0.000100<p>\n",
       "Epoch 89: Training loss 1.096854 validation loss 1.088357 with lr 0.000100<p>\n",
       "Epoch 90: Training loss 1.096913 validation loss 1.088343 with lr 0.000100<p>\n",
       "Epoch 91: Training loss 1.096371 validation loss 1.088044 with lr 0.000100<p>\n",
       "Epoch 92: Training loss 1.096678 validation loss 1.088151 with lr 0.000100<p>\n",
       "Epoch 93: Training loss 1.096311 validation loss 1.087472 with lr 0.000100<p>\n",
       "Epoch 94: Training loss 1.096298 validation loss 1.087640 with lr 0.000100<p>\n",
       "Epoch 95: Training loss 1.096036 validation loss 1.087595 with lr 0.000100<p>\n",
       "Epoch 96: Training loss 1.095870 validation loss 1.086982 with lr 0.000100<p>\n",
       "Epoch 97: Training loss 1.095929 validation loss 1.087089 with lr 0.000100<p>\n",
       "Epoch 98: Training loss 1.095594 validation loss 1.087067 with lr 0.000100<p>\n",
       "Epoch 99: Training loss 1.095501 validation loss 1.086965 with lr 0.000100"
      ],
      "text/plain": [
       "<IPython.core.display.HTML object>"
      ]
     },
     "metadata": {},
     "output_type": "display_data"
    },
    {
     "data": {
      "image/png": "[encoded data removed]",
      "text/plain": [
       "<Figure size 432x288 with 1 Axes>"
      ]
     },
     "metadata": {},
     "output_type": "display_data"
    },
    {
     "name": "stdout",
     "output_type": "stream",
     "text": [
      "Validation loss decreased (inf --> 1.263888).  Saving model ...\n"
     ]
    },
    {
     "name": "stderr",
     "output_type": "stream",
     "text": [
      "/home/ubuntu/.local/lib/python3.8/site-packages/numpy/core/shape_base.py:65: VisibleDeprecationWarning: Creating an ndarray from ragged nested sequences (which is a list-or-tuple of lists-or-tuples-or ndarrays with different lengths or shapes) is deprecated. If you meant to do this, you must specify 'dtype=object' when creating the ndarray.\n",
      "  ary = asanyarray(ary)\n"
     ]
    },
    {
     "name": "stdout",
     "output_type": "stream",
     "text": [
      "Validation loss decreased (1.263888 --> 1.235533).  Saving model ...\n",
      "Validation loss decreased (1.235533 --> 1.217960).  Saving model ...\n",
      "Validation loss decreased (1.217960 --> 1.198859).  Saving model ...\n",
      "Validation loss decreased (1.198859 --> 1.183365).  Saving model ...\n",
      "Validation loss decreased (1.183365 --> 1.173872).  Saving model ...\n",
      "Validation loss decreased (1.173872 --> 1.166319).  Saving model ...\n",
      "Validation loss decreased (1.166319 --> 1.159646).  Saving model ...\n",
      "Validation loss decreased (1.159646 --> 1.152202).  Saving model ...\n",
      "Validation loss decreased (1.152202 --> 1.146749).  Saving model ...\n",
      "Validation loss decreased (1.146749 --> 1.141907).  Saving model ...\n",
      "Validation loss decreased (1.141907 --> 1.138317).  Saving model ...\n",
      "Validation loss decreased (1.138317 --> 1.134991).  Saving model ...\n",
      "Validation loss decreased (1.134991 --> 1.132874).  Saving model ...\n",
      "Validation loss decreased (1.132874 --> 1.129707).  Saving model ...\n",
      "Validation loss decreased (1.129707 --> 1.126368).  Saving model ...\n",
      "Validation loss decreased (1.126368 --> 1.124194).  Saving model ...\n",
      "Validation loss decreased (1.124194 --> 1.121465).  Saving model ...\n",
      "Validation loss decreased (1.121465 --> 1.119238).  Saving model ...\n",
      "Validation loss decreased (1.119238 --> 1.117351).  Saving model ...\n",
      "Validation loss decreased (1.117351 --> 1.115670).  Saving model ...\n",
      "Validation loss decreased (1.115670 --> 1.113727).  Saving model ...\n",
      "Validation loss decreased (1.113727 --> 1.112878).  Saving model ...\n",
      "Validation loss decreased (1.112878 --> 1.111272).  Saving model ...\n",
      "Validation loss decreased (1.111272 --> 1.110252).  Saving model ...\n",
      "Validation loss decreased (1.110252 --> 1.108622).  Saving model ...\n",
      "Validation loss decreased (1.108622 --> 1.107942).  Saving model ...\n",
      "Validation loss decreased (1.107942 --> 1.106142).  Saving model ...\n",
      "Validation loss decreased (1.106142 --> 1.105610).  Saving model ...\n",
      "Validation loss decreased (1.105610 --> 1.103431).  Saving model ...\n",
      "Validation loss decreased (1.103431 --> 1.103325).  Saving model ...\n",
      "Validation loss decreased (1.103325 --> 1.101968).  Saving model ...\n",
      "Validation loss decreased (1.101968 --> 1.101859).  Saving model ...\n",
      "Validation loss decreased (1.101859 --> 1.101284).  Saving model ...\n",
      "Validation loss decreased (1.101284 --> 1.100760).  Saving model ...\n",
      "Validation loss decreased (1.100760 --> 1.100509).  Saving model ...\n",
      "Validation loss decreased (1.100509 --> 1.099692).  Saving model ...\n",
      "Validation loss decreased (1.099692 --> 1.098196).  Saving model ...\n",
      "Validation loss decreased (1.098196 --> 1.098078).  Saving model ...\n",
      "Validation loss decreased (1.098078 --> 1.097335).  Saving model ...\n",
      "Validation loss decreased (1.097335 --> 1.096715).  Saving model ...\n",
      "Validation loss decreased (1.096715 --> 1.095864).  Saving model ...\n",
      "Validation loss decreased (1.095864 --> 1.095738).  Saving model ...\n",
      "Validation loss decreased (1.095738 --> 1.095555).  Saving model ...\n",
      "Validation loss decreased (1.095555 --> 1.095327).  Saving model ...\n",
      "Validation loss decreased (1.095327 --> 1.094547).  Saving model ...\n",
      "Validation loss decreased (1.094547 --> 1.094342).  Saving model ...\n",
      "Validation loss decreased (1.094342 --> 1.093809).  Saving model ...\n",
      "Validation loss decreased (1.093809 --> 1.093505).  Saving model ...\n",
      "Validation loss decreased (1.093505 --> 1.093091).  Saving model ...\n",
      "Validation loss decreased (1.093091 --> 1.092463).  Saving model ...\n",
      "Validation loss decreased (1.092463 --> 1.092280).  Saving model ...\n",
      "Validation loss decreased (1.092280 --> 1.091696).  Saving model ...\n",
      "Validation loss decreased (1.091696 --> 1.091409).  Saving model ...\n",
      "Validation loss decreased (1.091409 --> 1.091138).  Saving model ...\n",
      "Validation loss decreased (1.091138 --> 1.090997).  Saving model ...\n",
      "Validation loss decreased (1.090997 --> 1.090116).  Saving model ...\n",
      "Validation loss decreased (1.090116 --> 1.089859).  Saving model ...\n",
      "Validation loss decreased (1.089859 --> 1.089113).  Saving model ...\n",
      "Validation loss decreased (1.089113 --> 1.088908).  Saving model ...\n",
      "Validation loss decreased (1.088908 --> 1.088737).  Saving model ...\n",
      "Validation loss decreased (1.088737 --> 1.088571).  Saving model ...\n",
      "Validation loss decreased (1.088571 --> 1.088244).  Saving model ...\n",
      "Validation loss decreased (1.088244 --> 1.088044).  Saving model ...\n",
      "Validation loss decreased (1.088044 --> 1.087472).  Saving model ...\n",
      "Validation loss decreased (1.087472 --> 1.086982).  Saving model ...\n",
      "Validation loss decreased (1.086982 --> 1.086965).  Saving model ...\n"
     ]
    }
   ],
   "source": [
    "epochs = 100\n",
    "lr = 0.0001 # 0.005 is very slow\n",
    "\n",
    "\n",
    "# CrossEntropyLoss expects raw prediction values while NLLLoss expects log probabilities.\n",
    "# criterion = nn.CrossEntropyLoss() # nn.NLLLoss()\n",
    "# since we are using nn.LogSoftmax as final layer at model  \n",
    "criterion = nn.NLLLoss()\n",
    "\n",
    "#optimizer = AdamW(model.parameters(), lr)\n",
    "optimizer = torch.optim.SGD(model.parameters(), lr=lr)\n",
    "scheduler = torch.optim.lr_scheduler.StepLR(optimizer, step_size=10, gamma=0.95)\n",
    "\n",
    "early_stopper = EarlyStopper(patience=5)\n",
    "\n",
    "mb = master_bar(range(epochs))\n",
    "mb.names = ['Training loss', 'Validation loss']\n",
    "\n",
    "x = []\n",
    "training_losses = []\n",
    "validation_losses = []\n",
    "\n",
    "valid_mean_min = np.Inf\n",
    "\n",
    "till_batch = 100\n",
    "\n",
    "for epoch in mb:\n",
    "  x.append(epoch)\n",
    "  # Train\n",
    "  i = 0\n",
    "  model.train()\n",
    "  total_loss = torch.Tensor([0.0]).to(device)\n",
    "  for batch in progress_bar(train_dataloader, parent=mb):\n",
    "    model.zero_grad()\n",
    "    input = batch[0].to(device)\n",
    "    label = batch[1].to(device)\n",
    "    output = model(input)\n",
    "    loss = criterion(output, label)\n",
    "    # backward propagation\n",
    "    loss.backward()\n",
    "    optimizer.step()\n",
    "    with torch.no_grad():\n",
    "      total_loss += loss.item()\n",
    "    i += 1\n",
    "    #if i == till_batch:\n",
    "    #  break\n",
    "\n",
    "  # decay lr\n",
    "  # scheduler.step()\n",
    "\n",
    "  mean = total_loss / len(train_dataloader)\n",
    "  #mean = total_loss / till_batch\n",
    "  training_losses.append(mean.cpu())\n",
    "\n",
    "  # Evaluate\n",
    "  i = 0\n",
    "  model.eval()\n",
    "  validation_loss = torch.Tensor([0.0]).to(device)\n",
    "  with torch.no_grad():\n",
    "    for batch in progress_bar(val_dataloader, parent=mb):\n",
    "      input = batch[0].to(device)\n",
    "      label = batch[1].to(device)\n",
    "      output = model(input)\n",
    "      loss = criterion(output, label)\n",
    "      validation_loss += loss.item()\n",
    "      i += 1\n",
    "      #if i == till_batch:\n",
    "      #  break\n",
    "\n",
    "  val_mean = validation_loss / len(val_dataloader)\n",
    "  #val_mean = validation_loss / till_batch\n",
    "\n",
    "  validation_losses.append(val_mean.cpu())\n",
    "  # Update training chart\n",
    "  mb.update_graph([[x, training_losses], [x, validation_losses]], [0,epochs])\n",
    "  mb.write(f\"\\nEpoch {epoch}: Training loss {mean.item():.6f} validation loss {val_mean.item():.6f} with lr {lr:.6f}\")\n",
    "  # save model if validation loss has decreased\n",
    "  if val_mean.item() <= valid_mean_min:\n",
    "      print('Validation loss decreased ({:.6f} --> {:.6f}).  Saving model ...'.format(\n",
    "      valid_mean_min,\n",
    "      val_mean.item()))\n",
    "      torch.save(model.state_dict(), 'transformer_fullname.pt')\n",
    "      valid_mean_min = val_mean.item()\n",
    "\n",
    "  if early_stopper.early_stop(val_mean.item()):             \n",
    "        break"
   ]
  },
  {
   "cell_type": "markdown",
   "metadata": {
    "id": "BAjnrNfQqsjQ"
   },
   "source": [
    "## Save Model"
   ]
  },
  {
   "cell_type": "code",
   "execution_count": 49,
   "metadata": {
    "colab": {
     "background_save": true
    },
    "id": "9ahPb_GaquBz"
   },
   "outputs": [],
   "source": [
    "torch.save(model.state_dict(), 'transformer_lastname_after_train.pt')"
   ]
  },
  {
   "cell_type": "code",
   "execution_count": 40,
   "metadata": {
    "colab": {
     "base_uri": "https://localhost:8080/"
    },
    "executionInfo": {
     "elapsed": 1903,
     "status": "ok",
     "timestamp": 1685656311704,
     "user": {
      "displayName": "Rajashekar Chintalapati",
      "userId": "03596288833202137831"
     },
     "user_tz": 420
    },
    "id": "00kkuZuq8OEh",
    "outputId": "c37d0d13-cb44-40db-809e-e6780ffa9df4"
   },
   "outputs": [
    {
     "data": {
      "text/plain": [
       "<All keys matched successfully>"
      ]
     },
     "execution_count": 40,
     "metadata": {},
     "output_type": "execute_result"
    }
   ],
   "source": [
    "model.load_state_dict(torch.load('/content/drive/MyDrive/Colab/ethnicolor/transformer_fullname_after_train.pt'))"
   ]
  },
  {
   "cell_type": "code",
   "execution_count": 43,
   "metadata": {
    "executionInfo": {
     "elapsed": 2,
     "status": "ok",
     "timestamp": 1685656349752,
     "user": {
      "displayName": "Rajashekar Chintalapati",
      "userId": "03596288833202137831"
     },
     "user_tz": 420
    },
    "id": "nKUqPuSO8p7h"
   },
   "outputs": [],
   "source": [
    "criterion = nn.NLLLoss()"
   ]
  },
  {
   "cell_type": "markdown",
   "metadata": {
    "id": "YkVR5WaPBRin"
   },
   "source": [
    "## Testing"
   ]
  },
  {
   "cell_type": "code",
   "execution_count": 50,
   "metadata": {
    "colab": {
     "base_uri": "https://localhost:8080/"
    },
    "executionInfo": {
     "elapsed": 376,
     "status": "ok",
     "timestamp": 1685656315724,
     "user": {
      "displayName": "Rajashekar Chintalapati",
      "userId": "03596288833202137831"
     },
     "user_tz": 420
    },
    "id": "WClV6_m9yFsG",
    "outputId": "88706b37-444f-4e1b-ecb2-7aa789b44421"
   },
   "outputs": [
    {
     "name": "stdout",
     "output_type": "stream",
     "text": [
      "CUDA is available!  Training on GPU ...\n"
     ]
    }
   ],
   "source": [
    "# check if CUDA is available\n",
    "train_on_gpu = torch.cuda.is_available()\n",
    "\n",
    "if not train_on_gpu:\n",
    "    print('CUDA is not available.  Training on CPU ...')\n",
    "else:\n",
    "    print('CUDA is available!  Training on GPU ...')"
   ]
  },
  {
   "cell_type": "code",
   "execution_count": 51,
   "metadata": {
    "colab": {
     "base_uri": "https://localhost:8080/"
    },
    "executionInfo": {
     "elapsed": 170402,
     "status": "ok",
     "timestamp": 1685656522445,
     "user": {
      "displayName": "Rajashekar Chintalapati",
      "userId": "03596288833202137831"
     },
     "user_tz": 420
    },
    "id": "eDUpH4eNgb5O",
    "outputId": "69ed50c6-668b-41f0-d985-e88e00db9311"
   },
   "outputs": [
    {
     "name": "stderr",
     "output_type": "stream",
     "text": [
      "Testing: 100%|██████████| 1053/1053 [00:19<00:00, 53.31it/s]\n",
      "/usr/lib/python3/dist-packages/sklearn/metrics/_classification.py:1272: UndefinedMetricWarning: Precision and F-score are ill-defined and being set to 0.0 in labels with no predicted samples. Use `zero_division` parameter to control this behavior.\n",
      "  _warn_prf(average, modifier, msg_start, len(result))\n"
     ]
    },
    {
     "name": "stdout",
     "output_type": "stream",
     "text": [
      "              precision    recall  f1-score   support\n",
      "\n",
      "       asian       0.45      0.01      0.01      6860\n",
      "    hispanic       0.00      0.00      0.00     14361\n",
      "    nh_black       0.56      0.91      0.69     60910\n",
      "    nh_white       0.47      0.07      0.12     13717\n",
      "       other       0.77      0.66      0.71     38936\n",
      "\n",
      "    accuracy                           0.61    134784\n",
      "   macro avg       0.45      0.33      0.31    134784\n",
      "weighted avg       0.55      0.61      0.53    134784\n",
      "\n"
     ]
    }
   ],
   "source": [
    "from sklearn.metrics import confusion_matrix, classification_report, ConfusionMatrixDisplay\n",
    "\n",
    "# track test loss\n",
    "test_loss = 0.0\n",
    "\n",
    "\n",
    "class_correct = list(0. for i in range(n_categories))\n",
    "class_total = list(0. for i in range(n_categories))\n",
    "\n",
    "\n",
    "actual = []\n",
    "predictions = []\n",
    "\n",
    "model.eval()\n",
    "# iterate over test data\n",
    "pbar = tqdm(test_dataloader, total=len(test_dataloader), position=0, desc=\"Testing\", leave=True)\n",
    "for batch in pbar:\n",
    "    # move tensors to GPU if CUDA is available\n",
    "    input = batch[0].to(device)\n",
    "    label = batch[1].to(device)\n",
    "    output = model(input)\n",
    "    loss = criterion(output, label)\n",
    "    test_loss += loss.item()\n",
    "    pred = torch.argmax(output, dim=1)\n",
    "    correct_tensor = pred.eq(label.data.view_as(pred))\n",
    "    correct = np.squeeze(correct_tensor.numpy()) if not train_on_gpu else np.squeeze(correct_tensor.cpu().numpy())\n",
    "    # calculate test accuracy for each object class\n",
    "    for i in range(label.shape[0]):\n",
    "        l = label.data[i]\n",
    "        class_correct[l.long()] += correct[i].item()\n",
    "        class_total[l.long()] += 1\n",
    "        # for confusion matrix    \n",
    "        actual.append(all_categories[label.data[i].item()])\n",
    "        predictions.append(all_categories[pred.data[i].item()])\n",
    "\n",
    "\n",
    "# plot confusion matrix\n",
    "cm = confusion_matrix(actual, predictions, labels=all_categories)\n",
    "print(classification_report(actual, predictions))"
   ]
  },
  {
   "cell_type": "code",
   "execution_count": 52,
   "metadata": {
    "colab": {
     "base_uri": "https://localhost:8080/",
     "height": 702
    },
    "executionInfo": {
     "elapsed": 804,
     "status": "ok",
     "timestamp": 1685656588971,
     "user": {
      "displayName": "Rajashekar Chintalapati",
      "userId": "03596288833202137831"
     },
     "user_tz": 420
    },
    "id": "TrS2WIqxyJPL",
    "outputId": "3d89ea17-d860-46b5-af03-b41fd08b67b1"
   },
   "outputs": [
    {
     "data": {
      "text/plain": [
       "<sklearn.metrics._plot.confusion_matrix.ConfusionMatrixDisplay at 0x7f9222c81760>"
      ]
     },
     "execution_count": 52,
     "metadata": {},
     "output_type": "execute_result"
    },
    {
     "data": {
      "image/png": "[encoded data removed]",
      "text/plain": [
       "<Figure size 576x576 with 2 Axes>"
      ]
     },
     "metadata": {
      "needs_background": "light"
     },
     "output_type": "display_data"
    }
   ],
   "source": [
    "import matplotlib.pyplot as plt\n",
    "%matplotlib inline  \n",
    "\n",
    "cmp = ConfusionMatrixDisplay(cm, display_labels=all_categories)\n",
    "fig, ax = plt.subplots(figsize=(8,8))\n",
    "cmp.plot(ax=ax, xticks_rotation='vertical')"
   ]
  },
  {
   "cell_type": "code",
   "execution_count": 53,
   "metadata": {
    "colab": {
     "base_uri": "https://localhost:8080/"
    },
    "executionInfo": {
     "elapsed": 509,
     "status": "ok",
     "timestamp": 1685656594032,
     "user": {
      "displayName": "Rajashekar Chintalapati",
      "userId": "03596288833202137831"
     },
     "user_tz": 420
    },
    "id": "Kjz7DX4o9qlO",
    "outputId": "dfaf7b9c-1316-480d-e936-0d080579c4ac"
   },
   "outputs": [
    {
     "name": "stdout",
     "output_type": "stream",
     "text": [
      "Test Loss: 1.088802\n",
      "\n",
      "Test Accuracy of hispanic:  0% ( 0/14361)\n",
      "Test Accuracy of nh_white:  7% (965/13717)\n",
      "Test Accuracy of nh_black: 90% (55214/60910)\n",
      "Test Accuracy of other: 66% (25839/38936)\n",
      "Test Accuracy of asian:  0% (48/6860)\n",
      "\n",
      "Test Accuracy (Overall): 60% (82066/134784)\n"
     ]
    }
   ],
   "source": [
    "# average test loss\n",
    "test_loss = test_loss/len(test_dataloader)\n",
    "print('Test Loss: {:.6f}\\n'.format(test_loss))\n",
    "\n",
    "for i in range(len(all_categories)):\n",
    "    if class_total[i] > 0:\n",
    "        print('Test Accuracy of %5s: %2d%% (%2d/%2d)' % (\n",
    "            all_categories[i], 100 * class_correct[i] / class_total[i],\n",
    "            np.sum(class_correct[i]), np.sum(class_total[i])))\n",
    "    else:\n",
    "        print('Test Accuracy of %5s: N/A (no training examples)' % (all_categories[i]))\n",
    "\n",
    "print('\\nTest Accuracy (Overall): %2d%% (%2d/%2d)' % (\n",
    "    100. * np.sum(class_correct) / np.sum(class_total),\n",
    "    np.sum(class_correct), np.sum(class_total)))"
   ]
  },
  {
   "cell_type": "code",
   "execution_count": 54,
   "metadata": {
    "colab": {
     "base_uri": "https://localhost:8080/"
    },
    "executionInfo": {
     "elapsed": 432,
     "status": "ok",
     "timestamp": 1685656600875,
     "user": {
      "displayName": "Rajashekar Chintalapati",
      "userId": "03596288833202137831"
     },
     "user_tz": 420
    },
    "id": "Hy8oB6Kg-YM8",
    "outputId": "a433350b-a8c3-4ee4-c7ed-772c9bc32309"
   },
   "outputs": [
    {
     "name": "stdout",
     "output_type": "stream",
     "text": [
      "torch.Size([30])\n",
      "torch.Size([1, 5])\n",
      "tensor(2, device='cuda:0')\n",
      "nh_black\n"
     ]
    }
   ],
   "source": [
    "name = \"Ward Stephanie\"\n",
    "name_tokens = lineToTensor(name)\n",
    "inp = name_tokens\n",
    "print(inp.shape)\n",
    "out = model(inp.unsqueeze(0).to(device))\n",
    "print(out.shape)\n",
    "out = torch.argmax(out)\n",
    "print(out)\n",
    "print(all_categories[out.item()])"
   ]
  },
  {
   "cell_type": "code",
   "execution_count": null,
   "metadata": {
    "id": "dNfTPeMc_jbo"
   },
   "outputs": [],
   "source": []
  }
 ],
 "metadata": {
  "accelerator": "GPU",
  "colab": {
   "authorship_tag": "ABX9TyNk46e/Bo4EPSL5/xPgCzIE",
   "machine_shape": "hm",
   "mount_file_id": "14Y4Yjo3nNGECdLjIdRWALkGWXvGoOUi7",
   "provenance": [
    {
     "file_id": "18vxQ-x8rNumUd1V7jH8jZEGokXlnbCju",
     "timestamp": 1685382340423
    },
    {
     "file_id": "1n2phP8-EKNA2cat7ZzMJfr5v4SZFCm40",
     "timestamp": 1685311583522
    },
    {
     "file_id": "14XW0A35mmg-q5iB1DACFxWZs6vQJ77jB",
     "timestamp": 1685056707605
    }
   ]
  },
  "kernelspec": {
   "display_name": "Python 3",
   "language": "python",
   "name": "python3"
  },
  "language_info": {
   "codemirror_mode": {
    "name": "ipython",
    "version": 3
   },
   "file_extension": ".py",
   "mimetype": "text/x-python",
   "name": "python",
   "nbconvert_exporter": "python",
   "pygments_lexer": "ipython3",
   "version": "3.8.10"
  }
 },
 "nbformat": 4,
 "nbformat_minor": 0
}
