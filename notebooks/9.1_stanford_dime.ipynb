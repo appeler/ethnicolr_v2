{
 "cells": [
  {
   "cell_type": "markdown",
   "id": "31afb26b-443f-4036-9e3d-09e89be657cb",
   "metadata": {},
   "source": [
    "# Contrib data from Standford DIME"
   ]
  },
  {
   "cell_type": "markdown",
   "id": "27cc2b66-40af-4072-86e7-b35bd99a9cb2",
   "metadata": {},
   "source": [
    "## Downloading the contribuation list from Stanford DIME\n",
    "https://data.stanford.edu/dime"
   ]
  },
  {
   "cell_type": "code",
   "execution_count": 3,
   "id": "dd481f16-bfca-477e-983a-87d395b4ebed",
   "metadata": {
    "tags": []
   },
   "outputs": [
    {
     "name": "stderr",
     "output_type": "stream",
     "text": [
      "Downloading...\n",
      "From (uriginal): https://drive.google.com/uc?id=0B5SFXStyeVhrb1JnaVYzT2p6WWM\n",
      "From (redirected): https://drive.google.com/uc?id=0B5SFXStyeVhrb1JnaVYzT2p6WWM&confirm=t&uuid=ea39d9a7-d0c7-4ad9-96f4-19fa6fce79fb\n",
      "To: /home/distill1994/ethnicolor/data/dime/contribDB_2014.csv\n",
      "100%|██████████| 10.7G/10.7G [15:47<00:00, 11.3MB/s]  \n"
     ]
    },
    {
     "data": {
      "text/plain": [
       "'contribDB_2014.csv'"
      ]
     },
     "execution_count": 3,
     "metadata": {},
     "output_type": "execute_result"
    }
   ],
   "source": [
    "import gdown\n",
    "\n",
    "# downloading the contribDB_2014.csv of size 10GB\n",
    "# https://drive.google.com/file/d/0B5SFXStyeVhrb1JnaVYzT2p6WWM/view?usp=drive_link&resourcekey=0-WEXQFkUpA46AEUev_ucR7w\n",
    "\n",
    "url = 'https://drive.google.com/uc?id=0B5SFXStyeVhrb1JnaVYzT2p6WWM'\n",
    "output = 'contribDB_2014.csv'\n",
    "gdown.download(url, output, quiet=False)"
   ]
  },
  {
   "cell_type": "code",
   "execution_count": 4,
   "id": "ea82babe-a898-453d-bec3-e14136f853ca",
   "metadata": {
    "tags": []
   },
   "outputs": [
    {
     "name": "stdout",
     "output_type": "stream",
     "text": [
      "\"cycle\",\"transaction.id\",\"transaction.type\",\"amount\",\"date\",\"bonica.cid\",\"contributor.name\",\"contributor.lname\",\"contributor.fname\",\"contributor.mname\",\"contributor.suffix\",\"contributor.title\",\"contributor.ffname\",\"contributor.type\",\"contributor.gender\",\"contributor.address\",\"contributor.city\",\"contributor.state\",\"contributor.zipcode\",\"contributor.occupation\",\"contributor.employer\",\"is.corp\",\"recipient.name\",\"bonica.rid\",\"recipient.party\",\"recipient.type\",\"recipient.state\",\"seat\",\"election.type\",\"latitude\",\"longitude\",\"gis.confidence\",\"contributor.district.90s\",\"contributor.district.00s\",\"contributor.district.10s\",\"censustract\",\"efec.memo\",\"efec.memo2\",\"efec.transaction.id.orig\",\"bk.ref.transaction.id\",\"efec.org.orig\",\"efec.comid.orig\",\"efec.form.type\",\"excluded.from.scaling\",\"contributor.cfscore\",\"candidate.cfscore\"\n",
      "2014,\"CA:1424021_INC634_2014_1_\",\"15\",1789.15,\"2013-11-19\",3836518376,\"state of california\",\"\",\"\",\"\",\"\",\"\",\"\",\"C\",\"\",\"\",\"sacramento\",\"ca\",95814,\"\",\"\",\"\",\"yes on prop 93, a coalition of business, labor, teachers, lawmakers, public safety and assemblymembers de leon, nunez, b\",\"comm9995154\",\"NA\",\"COMM\",\"CA\",\"state:ballot\",\"\",38.580173,-121.506897,0.688,\"CA05\",\"CA05\",\"CA06\",\"06067000700\",\"\",,\"INC634\",\"\",\"\",\"\",\"I\",1,-0.36,-0.87\n",
      "2014,\"CA:1436949_INC342_2014_0_\",\"15\",408.26,\"2009-01-07\",32780584235,\"golden state business bank\",\"\",\"\",\"\",\"\",\"\",\"\",\"C\",\"\",\"\",\"upland\",\"ca\",91786,\"\",\"\",\"corp\",\"brulte, jim\",\"cand27195\",\"200\",\"CAND\",\"CA\",\"state:office\",\"\",34.105282,-117.662033,1,\"CA41\",\"CA26\",\"CA31\",\"06071000824\",\"\",,\"INC342\",\"\",\"\",\"\",\"I\",1,0.05,0.03\n",
      "2014,\"CA:1436949_INC343_2014_0_\",\"15\",842.06,\"2009-01-12\",32780584235,\"golden state business bank\",\"\",\"\",\"\",\"\",\"\",\"\",\"C\",\"\",\"\",\"upland\",\"ca\",91786,\"\",\"\",\"corp\",\"brulte, jim\",\"cand27195\",\"200\",\"CAND\",\"CA\",\"state:office\",\"\",34.105282,-117.662033,1,\"CA41\",\"CA26\",\"CA31\",\"06071000824\",\"\",,\"INC343\",\"\",\"\",\"\",\"I\",1,0.05,0.03\n",
      "2014,\"CA:1436949_INC352_2014_0_\",\"15\",230.53,\"2009-01-21\",3839554438,\"arrowhead credit union\",\"\",\"\",\"\",\"\",\"\",\"\",\"C\",\"\",\"\",\"san bernardino\",\"ca\",92402,\"\",\"\",\"\",\"brulte, jim\",\"cand27195\",\"200\",\"CAND\",\"CA\",\"state:office\",\"\",34.06741,-117.283325,0.805,\"CA42\",\"CA41\",\"CA31\",\"06071012400\",\"\",,\"INC352\",\"\",\"\",\"\",\"I\",1,-0.05,0.03\n",
      "2014,\"CA:1436949_INC356_2014_0_\",\"15\",409.44,\"2009-02-07\",32780584235,\"golden state business bank\",\"\",\"\",\"\",\"\",\"\",\"\",\"C\",\"\",\"\",\"upland\",\"ca\",91786,\"\",\"\",\"corp\",\"brulte, jim\",\"cand27195\",\"200\",\"CAND\",\"CA\",\"state:office\",\"\",34.105282,-117.662033,1,\"CA41\",\"CA26\",\"CA31\",\"06071000824\",\"\",,\"INC356\",\"\",\"\",\"\",\"I\",1,0.05,0.03\n",
      "2014,\"CA:1436949_INC358_2014_0_\",\"15\",141.75,\"2009-01-31\",3839554438,\"arrowhead credit union\",\"\",\"\",\"\",\"\",\"\",\"\",\"C\",\"\",\"\",\"san bernardino\",\"ca\",92402,\"\",\"\",\"\",\"brulte, jim\",\"cand27195\",\"200\",\"CAND\",\"CA\",\"state:office\",\"\",34.06741,-117.283325,0.805,\"CA42\",\"CA41\",\"CA31\",\"06071012400\",\"\",,\"INC358\",\"\",\"\",\"\",\"I\",1,-0.05,0.03\n",
      "2014,\"CA:1436949_INC360_2014_0_\",\"15\",2.17,\"2009-01-31\",3839554438,\"arrowhead credit union\",\"\",\"\",\"\",\"\",\"\",\"\",\"C\",\"\",\"\",\"san bernardino\",\"ca\",92402,\"\",\"\",\"\",\"brulte, jim\",\"cand27195\",\"200\",\"CAND\",\"CA\",\"state:office\",\"\",34.06741,-117.283325,0.805,\"CA42\",\"CA41\",\"CA31\",\"06071012400\",\"\",,\"INC360\",\"\",\"\",\"\",\"I\",1,-0.05,0.03\n",
      "2014,\"CA:1436949_INC362_2014_0_\",\"15\",208.7,\"2009-02-26\",3839554438,\"arrowhead credit union\",\"\",\"\",\"\",\"\",\"\",\"\",\"C\",\"\",\"\",\"san bernardino\",\"ca\",92402,\"\",\"\",\"\",\"brulte, jim\",\"cand27195\",\"200\",\"CAND\",\"CA\",\"state:office\",\"\",34.06741,-117.283325,0.805,\"CA42\",\"CA41\",\"CA31\",\"06071012400\",\"\",,\"INC362\",\"\",\"\",\"\",\"I\",1,-0.05,0.03\n",
      "2014,\"CA:1436949_INC373_2014_0_\",\"15\",370.83,\"2009-03-07\",32780584235,\"golden state business bank\",\"\",\"\",\"\",\"\",\"\",\"\",\"C\",\"\",\"\",\"upland\",\"ca\",91786,\"\",\"\",\"corp\",\"brulte, jim\",\"cand27195\",\"200\",\"CAND\",\"CA\",\"state:office\",\"\",34.105282,-117.662033,1,\"CA41\",\"CA26\",\"CA31\",\"06071000824\",\"\",,\"INC373\",\"\",\"\",\"\",\"I\",1,0.05,0.03\n"
     ]
    }
   ],
   "source": [
    "# peaking first 10 rows\n",
    "!head -10 contribDB_2014.csv"
   ]
  },
  {
   "cell_type": "code",
   "execution_count": 31,
   "id": "3a9537dc-be1d-4765-a53d-0aa12c889c40",
   "metadata": {
    "tags": []
   },
   "outputs": [],
   "source": [
    "import pandas as pd"
   ]
  },
  {
   "cell_type": "code",
   "execution_count": 2,
   "id": "cbaf1918-5ddd-4294-bdba-ea2cc19f9a5d",
   "metadata": {
    "tags": []
   },
   "outputs": [],
   "source": [
    "# take a small chunk, to peak data\n",
    "!head -1000 data/dime/contribDB_2014.csv > data/dime/contribDB_2014_min.csv"
   ]
  },
  {
   "cell_type": "code",
   "execution_count": 5,
   "id": "703b8bc4-4fe0-4157-b9f5-6a76042bf22d",
   "metadata": {
    "tags": []
   },
   "outputs": [],
   "source": [
    "df = pd.read_csv('data/dime/contribDB_2014_min.csv', engine='python')"
   ]
  },
  {
   "cell_type": "code",
   "execution_count": 6,
   "id": "7d49376a-92dd-4151-95e3-0bd1b5b490e0",
   "metadata": {},
   "outputs": [
    {
     "data": {
      "text/html": [
       "<div>\n",
       "<style scoped>\n",
       "    .dataframe tbody tr th:only-of-type {\n",
       "        vertical-align: middle;\n",
       "    }\n",
       "\n",
       "    .dataframe tbody tr th {\n",
       "        vertical-align: top;\n",
       "    }\n",
       "\n",
       "    .dataframe thead th {\n",
       "        text-align: right;\n",
       "    }\n",
       "</style>\n",
       "<table border=\"1\" class=\"dataframe\">\n",
       "  <thead>\n",
       "    <tr style=\"text-align: right;\">\n",
       "      <th></th>\n",
       "      <th>cycle</th>\n",
       "      <th>transaction.id</th>\n",
       "      <th>transaction.type</th>\n",
       "      <th>amount</th>\n",
       "      <th>date</th>\n",
       "      <th>bonica.cid</th>\n",
       "      <th>contributor.name</th>\n",
       "      <th>contributor.lname</th>\n",
       "      <th>contributor.fname</th>\n",
       "      <th>contributor.mname</th>\n",
       "      <th>...</th>\n",
       "      <th>efec.memo</th>\n",
       "      <th>efec.memo2</th>\n",
       "      <th>efec.transaction.id.orig</th>\n",
       "      <th>bk.ref.transaction.id</th>\n",
       "      <th>efec.org.orig</th>\n",
       "      <th>efec.comid.orig</th>\n",
       "      <th>efec.form.type</th>\n",
       "      <th>excluded.from.scaling</th>\n",
       "      <th>contributor.cfscore</th>\n",
       "      <th>candidate.cfscore</th>\n",
       "    </tr>\n",
       "  </thead>\n",
       "  <tbody>\n",
       "    <tr>\n",
       "      <th>0</th>\n",
       "      <td>2014</td>\n",
       "      <td>CA:1424021_INC634_2014_1_</td>\n",
       "      <td>15</td>\n",
       "      <td>1789.15</td>\n",
       "      <td>2013-11-19</td>\n",
       "      <td>3836518376</td>\n",
       "      <td>state of california</td>\n",
       "      <td>NaN</td>\n",
       "      <td>NaN</td>\n",
       "      <td>NaN</td>\n",
       "      <td>...</td>\n",
       "      <td>NaN</td>\n",
       "      <td>NaN</td>\n",
       "      <td>INC634</td>\n",
       "      <td>NaN</td>\n",
       "      <td>NaN</td>\n",
       "      <td>NaN</td>\n",
       "      <td>I</td>\n",
       "      <td>1.0</td>\n",
       "      <td>-0.36</td>\n",
       "      <td>-0.87</td>\n",
       "    </tr>\n",
       "    <tr>\n",
       "      <th>1</th>\n",
       "      <td>2014</td>\n",
       "      <td>CA:1436949_INC342_2014_0_</td>\n",
       "      <td>15</td>\n",
       "      <td>408.26</td>\n",
       "      <td>2009-01-07</td>\n",
       "      <td>32780584235</td>\n",
       "      <td>golden state business bank</td>\n",
       "      <td>NaN</td>\n",
       "      <td>NaN</td>\n",
       "      <td>NaN</td>\n",
       "      <td>...</td>\n",
       "      <td>NaN</td>\n",
       "      <td>NaN</td>\n",
       "      <td>INC342</td>\n",
       "      <td>NaN</td>\n",
       "      <td>NaN</td>\n",
       "      <td>NaN</td>\n",
       "      <td>I</td>\n",
       "      <td>1.0</td>\n",
       "      <td>0.05</td>\n",
       "      <td>0.03</td>\n",
       "    </tr>\n",
       "    <tr>\n",
       "      <th>2</th>\n",
       "      <td>2014</td>\n",
       "      <td>CA:1436949_INC343_2014_0_</td>\n",
       "      <td>15</td>\n",
       "      <td>842.06</td>\n",
       "      <td>2009-01-12</td>\n",
       "      <td>32780584235</td>\n",
       "      <td>golden state business bank</td>\n",
       "      <td>NaN</td>\n",
       "      <td>NaN</td>\n",
       "      <td>NaN</td>\n",
       "      <td>...</td>\n",
       "      <td>NaN</td>\n",
       "      <td>NaN</td>\n",
       "      <td>INC343</td>\n",
       "      <td>NaN</td>\n",
       "      <td>NaN</td>\n",
       "      <td>NaN</td>\n",
       "      <td>I</td>\n",
       "      <td>1.0</td>\n",
       "      <td>0.05</td>\n",
       "      <td>0.03</td>\n",
       "    </tr>\n",
       "    <tr>\n",
       "      <th>3</th>\n",
       "      <td>2014</td>\n",
       "      <td>CA:1436949_INC352_2014_0_</td>\n",
       "      <td>15</td>\n",
       "      <td>230.53</td>\n",
       "      <td>2009-01-21</td>\n",
       "      <td>3839554438</td>\n",
       "      <td>arrowhead credit union</td>\n",
       "      <td>NaN</td>\n",
       "      <td>NaN</td>\n",
       "      <td>NaN</td>\n",
       "      <td>...</td>\n",
       "      <td>NaN</td>\n",
       "      <td>NaN</td>\n",
       "      <td>INC352</td>\n",
       "      <td>NaN</td>\n",
       "      <td>NaN</td>\n",
       "      <td>NaN</td>\n",
       "      <td>I</td>\n",
       "      <td>1.0</td>\n",
       "      <td>-0.05</td>\n",
       "      <td>0.03</td>\n",
       "    </tr>\n",
       "    <tr>\n",
       "      <th>4</th>\n",
       "      <td>2014</td>\n",
       "      <td>CA:1436949_INC356_2014_0_</td>\n",
       "      <td>15</td>\n",
       "      <td>409.44</td>\n",
       "      <td>2009-02-07</td>\n",
       "      <td>32780584235</td>\n",
       "      <td>golden state business bank</td>\n",
       "      <td>NaN</td>\n",
       "      <td>NaN</td>\n",
       "      <td>NaN</td>\n",
       "      <td>...</td>\n",
       "      <td>NaN</td>\n",
       "      <td>NaN</td>\n",
       "      <td>INC356</td>\n",
       "      <td>NaN</td>\n",
       "      <td>NaN</td>\n",
       "      <td>NaN</td>\n",
       "      <td>I</td>\n",
       "      <td>1.0</td>\n",
       "      <td>0.05</td>\n",
       "      <td>0.03</td>\n",
       "    </tr>\n",
       "  </tbody>\n",
       "</table>\n",
       "<p>5 rows × 46 columns</p>\n",
       "</div>"
      ],
      "text/plain": [
       "   cycle             transaction.id transaction.type   amount        date   \n",
       "0   2014  CA:1424021_INC634_2014_1_               15  1789.15  2013-11-19  \\\n",
       "1   2014  CA:1436949_INC342_2014_0_               15   408.26  2009-01-07   \n",
       "2   2014  CA:1436949_INC343_2014_0_               15   842.06  2009-01-12   \n",
       "3   2014  CA:1436949_INC352_2014_0_               15   230.53  2009-01-21   \n",
       "4   2014  CA:1436949_INC356_2014_0_               15   409.44  2009-02-07   \n",
       "\n",
       "    bonica.cid            contributor.name contributor.lname   \n",
       "0   3836518376         state of california               NaN  \\\n",
       "1  32780584235  golden state business bank               NaN   \n",
       "2  32780584235  golden state business bank               NaN   \n",
       "3   3839554438      arrowhead credit union               NaN   \n",
       "4  32780584235  golden state business bank               NaN   \n",
       "\n",
       "  contributor.fname contributor.mname  ... efec.memo  efec.memo2   \n",
       "0               NaN               NaN  ...       NaN         NaN  \\\n",
       "1               NaN               NaN  ...       NaN         NaN   \n",
       "2               NaN               NaN  ...       NaN         NaN   \n",
       "3               NaN               NaN  ...       NaN         NaN   \n",
       "4               NaN               NaN  ...       NaN         NaN   \n",
       "\n",
       "  efec.transaction.id.orig bk.ref.transaction.id efec.org.orig   \n",
       "0                   INC634                   NaN           NaN  \\\n",
       "1                   INC342                   NaN           NaN   \n",
       "2                   INC343                   NaN           NaN   \n",
       "3                   INC352                   NaN           NaN   \n",
       "4                   INC356                   NaN           NaN   \n",
       "\n",
       "   efec.comid.orig efec.form.type excluded.from.scaling  contributor.cfscore   \n",
       "0              NaN              I                   1.0                -0.36  \\\n",
       "1              NaN              I                   1.0                 0.05   \n",
       "2              NaN              I                   1.0                 0.05   \n",
       "3              NaN              I                   1.0                -0.05   \n",
       "4              NaN              I                   1.0                 0.05   \n",
       "\n",
       "  candidate.cfscore  \n",
       "0             -0.87  \n",
       "1              0.03  \n",
       "2              0.03  \n",
       "3              0.03  \n",
       "4              0.03  \n",
       "\n",
       "[5 rows x 46 columns]"
      ]
     },
     "execution_count": 6,
     "metadata": {},
     "output_type": "execute_result"
    }
   ],
   "source": [
    "df.head()"
   ]
  },
  {
   "cell_type": "code",
   "execution_count": 7,
   "id": "cb0937ba-cae6-4a19-bd53-f8fc16cd99f9",
   "metadata": {
    "tags": []
   },
   "outputs": [
    {
     "data": {
      "text/plain": [
       "Index(['cycle', 'transaction.id', 'transaction.type', 'amount', 'date',\n",
       "       'bonica.cid', 'contributor.name', 'contributor.lname',\n",
       "       'contributor.fname', 'contributor.mname', 'contributor.suffix',\n",
       "       'contributor.title', 'contributor.ffname', 'contributor.type',\n",
       "       'contributor.gender', 'contributor.address', 'contributor.city',\n",
       "       'contributor.state', 'contributor.zipcode', 'contributor.occupation',\n",
       "       'contributor.employer', 'is.corp', 'recipient.name', 'bonica.rid',\n",
       "       'recipient.party', 'recipient.type', 'recipient.state', 'seat',\n",
       "       'election.type', 'latitude', 'longitude', 'gis.confidence',\n",
       "       'contributor.district.90s', 'contributor.district.00s',\n",
       "       'contributor.district.10s', 'censustract', 'efec.memo', 'efec.memo2',\n",
       "       'efec.transaction.id.orig', 'bk.ref.transaction.id', 'efec.org.orig',\n",
       "       'efec.comid.orig', 'efec.form.type', 'excluded.from.scaling',\n",
       "       'contributor.cfscore', 'candidate.cfscore'],\n",
       "      dtype='object')"
      ]
     },
     "execution_count": 7,
     "metadata": {},
     "output_type": "execute_result"
    }
   ],
   "source": [
    "df.columns"
   ]
  },
  {
   "cell_type": "markdown",
   "id": "d6f92cdb-9971-4fb4-92d0-11bffe7ee3e3",
   "metadata": {},
   "source": [
    "## Dropping rest of the columns to reduce dataset size"
   ]
  },
  {
   "cell_type": "code",
   "execution_count": 5,
   "id": "790d564e-e042-47c2-a0b1-f94aedb93ca2",
   "metadata": {},
   "outputs": [
    {
     "name": "stdout",
     "output_type": "stream",
     "text": [
      "10G\tdata/dime/contribDB_2014.csv\n"
     ]
    }
   ],
   "source": [
    "!du -sh data/dime/contribDB_2014.csv"
   ]
  },
  {
   "cell_type": "code",
   "execution_count": 35,
   "id": "9b22e862-8d35-4017-9a89-ce824e8b30fa",
   "metadata": {},
   "outputs": [],
   "source": [
    "# get only first name and last names\n",
    "!awk -F, '{print $8\",\"$9}' data/dime/contribDB_2014.csv > data/dime/contribDB_2014_names.csv"
   ]
  },
  {
   "cell_type": "code",
   "execution_count": 30,
   "id": "c0366653-c909-4b5f-8e6a-de6f6ae44b9e",
   "metadata": {},
   "outputs": [
    {
     "name": "stdout",
     "output_type": "stream",
     "text": [
      "397M\tdata/dime/contribDB_2014_names.csv\n"
     ]
    }
   ],
   "source": [
    "!du -sh data/dime/contribDB_2014_names.csv"
   ]
  },
  {
   "cell_type": "code",
   "execution_count": 33,
   "id": "80693cff-29ac-4f7e-b27b-08fe448b6069",
   "metadata": {},
   "outputs": [
    {
     "name": "stdout",
     "output_type": "stream",
     "text": [
      "23161961 data/dime/contribDB_2014_names.csv\n"
     ]
    }
   ],
   "source": [
    "!wc -l data/dime/contribDB_2014_names.csv"
   ]
  },
  {
   "cell_type": "code",
   "execution_count": 36,
   "id": "3fc64c50-1299-4923-9dc3-3d8eeb7493ee",
   "metadata": {},
   "outputs": [
    {
     "name": "stdout",
     "output_type": "stream",
     "text": [
      "\"contributor.lname\",\"contributor.fname\"\n",
      "\"\",\"\"\n",
      "\"\",\"\"\n",
      "\"\",\"\"\n",
      "\"\",\"\"\n",
      "\"\",\"\"\n",
      "\"\",\"\"\n",
      "\"\",\"\"\n",
      "\"\",\"\"\n",
      "\"\",\"\"\n"
     ]
    }
   ],
   "source": [
    "!head -10 data/dime/contribDB_2014_names.csv"
   ]
  },
  {
   "cell_type": "code",
   "execution_count": 40,
   "id": "3b4f756f-4973-46d0-97ea-e94349038d9b",
   "metadata": {},
   "outputs": [],
   "source": [
    "!sed -i 's/\"//g' data/dime/contribDB_2014_names.csv"
   ]
  },
  {
   "cell_type": "code",
   "execution_count": 41,
   "id": "be4d5fd7-2dea-435b-9ff5-5f9157ca182e",
   "metadata": {},
   "outputs": [
    {
     "name": "stdout",
     "output_type": "stream",
     "text": [
      "contributor.lname,contributor.fname\n",
      ",\n",
      ",\n",
      ",\n",
      ",\n",
      ",\n",
      ",\n",
      ",\n",
      ",\n",
      ",\n"
     ]
    }
   ],
   "source": [
    "!head -10 data/dime/contribDB_2014_names.csv"
   ]
  },
  {
   "cell_type": "code",
   "execution_count": 42,
   "id": "9bc4ae6c-0b0c-4660-901a-f79588ac9771",
   "metadata": {},
   "outputs": [],
   "source": [
    "df = pd.read_csv('data/dime/contribDB_2014_names.csv', engine='python')"
   ]
  },
  {
   "cell_type": "code",
   "execution_count": 44,
   "id": "591563a5-eab2-45e6-9a7d-69372dd7439b",
   "metadata": {},
   "outputs": [
    {
     "data": {
      "text/plain": [
       "(23161960, 2)"
      ]
     },
     "execution_count": 44,
     "metadata": {},
     "output_type": "execute_result"
    }
   ],
   "source": [
    "df.shape"
   ]
  },
  {
   "cell_type": "code",
   "execution_count": 46,
   "id": "6e54317d-0006-432a-99be-fdda3e0e841c",
   "metadata": {},
   "outputs": [],
   "source": [
    "df = df.dropna()"
   ]
  },
  {
   "cell_type": "code",
   "execution_count": 47,
   "id": "2c139345-0f2d-424c-a8b5-3e5b26a7e404",
   "metadata": {},
   "outputs": [
    {
     "data": {
      "text/plain": [
       "(21342463, 2)"
      ]
     },
     "execution_count": 47,
     "metadata": {},
     "output_type": "execute_result"
    }
   ],
   "source": [
    "df.shape"
   ]
  },
  {
   "cell_type": "code",
   "execution_count": 48,
   "id": "d56aeb20-9de0-438a-a899-f0df2c3b9a79",
   "metadata": {},
   "outputs": [
    {
     "data": {
      "text/html": [
       "<div>\n",
       "<style scoped>\n",
       "    .dataframe tbody tr th:only-of-type {\n",
       "        vertical-align: middle;\n",
       "    }\n",
       "\n",
       "    .dataframe tbody tr th {\n",
       "        vertical-align: top;\n",
       "    }\n",
       "\n",
       "    .dataframe thead th {\n",
       "        text-align: right;\n",
       "    }\n",
       "</style>\n",
       "<table border=\"1\" class=\"dataframe\">\n",
       "  <thead>\n",
       "    <tr style=\"text-align: right;\">\n",
       "      <th></th>\n",
       "      <th>contributor.lname</th>\n",
       "      <th>contributor.fname</th>\n",
       "    </tr>\n",
       "  </thead>\n",
       "  <tbody>\n",
       "    <tr>\n",
       "      <th>42</th>\n",
       "      <td>county &amp; municipal employees</td>\n",
       "      <td>local 2620 pac</td>\n",
       "    </tr>\n",
       "    <tr>\n",
       "      <th>47</th>\n",
       "      <td>phelps &amp; phillips</td>\n",
       "      <td>llp</td>\n",
       "    </tr>\n",
       "    <tr>\n",
       "      <th>67</th>\n",
       "      <td>janet gray</td>\n",
       "      <td>hayes</td>\n",
       "    </tr>\n",
       "    <tr>\n",
       "      <th>74</th>\n",
       "      <td>thomas m</td>\n",
       "      <td>dailey</td>\n",
       "    </tr>\n",
       "    <tr>\n",
       "      <th>77</th>\n",
       "      <td>margaret</td>\n",
       "      <td>giberson</td>\n",
       "    </tr>\n",
       "  </tbody>\n",
       "</table>\n",
       "</div>"
      ],
      "text/plain": [
       "                contributor.lname contributor.fname\n",
       "42   county & municipal employees    local 2620 pac\n",
       "47              phelps & phillips               llp\n",
       "67                     janet gray             hayes\n",
       "74                       thomas m            dailey\n",
       "77                       margaret          giberson"
      ]
     },
     "execution_count": 48,
     "metadata": {},
     "output_type": "execute_result"
    }
   ],
   "source": [
    "df.head()"
   ]
  },
  {
   "cell_type": "code",
   "execution_count": 54,
   "id": "0a1a86bc-0681-4068-9f2b-8cc0ee55bb12",
   "metadata": {},
   "outputs": [],
   "source": [
    "df = df.drop(df[df['contributor.lname'].str.contains(\"&|employee|\\d\",regex=True)].index)"
   ]
  },
  {
   "cell_type": "code",
   "execution_count": 55,
   "id": "62514d6c-6d8c-4c2b-b0ce-4b2a1c9e4655",
   "metadata": {},
   "outputs": [
    {
     "data": {
      "text/html": [
       "<div>\n",
       "<style scoped>\n",
       "    .dataframe tbody tr th:only-of-type {\n",
       "        vertical-align: middle;\n",
       "    }\n",
       "\n",
       "    .dataframe tbody tr th {\n",
       "        vertical-align: top;\n",
       "    }\n",
       "\n",
       "    .dataframe thead th {\n",
       "        text-align: right;\n",
       "    }\n",
       "</style>\n",
       "<table border=\"1\" class=\"dataframe\">\n",
       "  <thead>\n",
       "    <tr style=\"text-align: right;\">\n",
       "      <th></th>\n",
       "      <th>contributor.lname</th>\n",
       "      <th>contributor.fname</th>\n",
       "    </tr>\n",
       "  </thead>\n",
       "  <tbody>\n",
       "    <tr>\n",
       "      <th>67</th>\n",
       "      <td>janet gray</td>\n",
       "      <td>hayes</td>\n",
       "    </tr>\n",
       "    <tr>\n",
       "      <th>74</th>\n",
       "      <td>thomas m</td>\n",
       "      <td>dailey</td>\n",
       "    </tr>\n",
       "    <tr>\n",
       "      <th>77</th>\n",
       "      <td>margaret</td>\n",
       "      <td>giberson</td>\n",
       "    </tr>\n",
       "    <tr>\n",
       "      <th>78</th>\n",
       "      <td>gregory f</td>\n",
       "      <td>hooper</td>\n",
       "    </tr>\n",
       "    <tr>\n",
       "      <th>79</th>\n",
       "      <td>william spencer</td>\n",
       "      <td>lewis</td>\n",
       "    </tr>\n",
       "  </tbody>\n",
       "</table>\n",
       "</div>"
      ],
      "text/plain": [
       "   contributor.lname contributor.fname\n",
       "67        janet gray             hayes\n",
       "74          thomas m            dailey\n",
       "77          margaret          giberson\n",
       "78         gregory f            hooper\n",
       "79   william spencer             lewis"
      ]
     },
     "execution_count": 55,
     "metadata": {},
     "output_type": "execute_result"
    }
   ],
   "source": [
    "df.head()"
   ]
  },
  {
   "cell_type": "code",
   "execution_count": 57,
   "id": "018e5bb2-8d87-4c24-a915-1c6324817e5a",
   "metadata": {},
   "outputs": [],
   "source": [
    "df['contributor.lname'] = df['contributor.lname'].str.title()\n",
    "df['contributor.fname'] = df['contributor.fname'].str.title()"
   ]
  },
  {
   "cell_type": "code",
   "execution_count": 58,
   "id": "eb8fe8cf-443f-474f-bc22-c514e1da725e",
   "metadata": {},
   "outputs": [
    {
     "data": {
      "text/html": [
       "<div>\n",
       "<style scoped>\n",
       "    .dataframe tbody tr th:only-of-type {\n",
       "        vertical-align: middle;\n",
       "    }\n",
       "\n",
       "    .dataframe tbody tr th {\n",
       "        vertical-align: top;\n",
       "    }\n",
       "\n",
       "    .dataframe thead th {\n",
       "        text-align: right;\n",
       "    }\n",
       "</style>\n",
       "<table border=\"1\" class=\"dataframe\">\n",
       "  <thead>\n",
       "    <tr style=\"text-align: right;\">\n",
       "      <th></th>\n",
       "      <th>contributor.lname</th>\n",
       "      <th>contributor.fname</th>\n",
       "    </tr>\n",
       "  </thead>\n",
       "  <tbody>\n",
       "    <tr>\n",
       "      <th>67</th>\n",
       "      <td>Janet Gray</td>\n",
       "      <td>Hayes</td>\n",
       "    </tr>\n",
       "    <tr>\n",
       "      <th>74</th>\n",
       "      <td>Thomas M</td>\n",
       "      <td>Dailey</td>\n",
       "    </tr>\n",
       "    <tr>\n",
       "      <th>77</th>\n",
       "      <td>Margaret</td>\n",
       "      <td>Giberson</td>\n",
       "    </tr>\n",
       "    <tr>\n",
       "      <th>78</th>\n",
       "      <td>Gregory F</td>\n",
       "      <td>Hooper</td>\n",
       "    </tr>\n",
       "    <tr>\n",
       "      <th>79</th>\n",
       "      <td>William Spencer</td>\n",
       "      <td>Lewis</td>\n",
       "    </tr>\n",
       "  </tbody>\n",
       "</table>\n",
       "</div>"
      ],
      "text/plain": [
       "   contributor.lname contributor.fname\n",
       "67        Janet Gray             Hayes\n",
       "74          Thomas M            Dailey\n",
       "77          Margaret          Giberson\n",
       "78         Gregory F            Hooper\n",
       "79   William Spencer             Lewis"
      ]
     },
     "execution_count": 58,
     "metadata": {},
     "output_type": "execute_result"
    }
   ],
   "source": [
    "df.head()"
   ]
  },
  {
   "cell_type": "code",
   "execution_count": 59,
   "id": "0560dc28-7331-43cf-8268-9a184d6395b0",
   "metadata": {},
   "outputs": [
    {
     "data": {
      "text/plain": [
       "(21325576, 2)"
      ]
     },
     "execution_count": 59,
     "metadata": {},
     "output_type": "execute_result"
    }
   ],
   "source": [
    "df.shape"
   ]
  },
  {
   "cell_type": "code",
   "execution_count": 60,
   "id": "76713b26-acf1-47fa-afcd-2b91162a7e1d",
   "metadata": {},
   "outputs": [],
   "source": [
    "df.to_csv(\"data/dime/contribDB_2014_final.csv\", index=False)"
   ]
  },
  {
   "cell_type": "code",
   "execution_count": null,
   "id": "fc6f6e84-1f75-4f60-a4ef-d70a8269cc80",
   "metadata": {},
   "outputs": [],
   "source": []
  }
 ],
 "metadata": {
  "kernelspec": {
   "display_name": "Python 3 (ipykernel)",
   "language": "python",
   "name": "python3"
  },
  "language_info": {
   "codemirror_mode": {
    "name": "ipython",
    "version": 3
   },
   "file_extension": ".py",
   "mimetype": "text/x-python",
   "name": "python",
   "nbconvert_exporter": "python",
   "pygments_lexer": "ipython3",
   "version": "3.10.6"
  }
 },
 "nbformat": 4,
 "nbformat_minor": 5
}
