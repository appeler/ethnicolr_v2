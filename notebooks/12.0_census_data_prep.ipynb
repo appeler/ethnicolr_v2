{
 "cells": [
  {
   "cell_type": "code",
   "execution_count": 1,
   "id": "3a6841ed-6f04-4150-b119-70afacbefc16",
   "metadata": {},
   "outputs": [],
   "source": [
    "import pandas as pd"
   ]
  },
  {
   "cell_type": "code",
   "execution_count": 2,
   "id": "cf2636ee-9c80-4c09-bb8a-a2619eb9536a",
   "metadata": {},
   "outputs": [],
   "source": [
    "df = pd.read_csv(\"census_2010_processed.csv\")"
   ]
  },
  {
   "cell_type": "code",
   "execution_count": 3,
   "id": "38830a63-62a3-462a-8a03-f7e5c07f7127",
   "metadata": {},
   "outputs": [
    {
     "data": {
      "text/html": [
       "<div>\n",
       "<style scoped>\n",
       "    .dataframe tbody tr th:only-of-type {\n",
       "        vertical-align: middle;\n",
       "    }\n",
       "\n",
       "    .dataframe tbody tr th {\n",
       "        vertical-align: top;\n",
       "    }\n",
       "\n",
       "    .dataframe thead th {\n",
       "        text-align: right;\n",
       "    }\n",
       "</style>\n",
       "<table border=\"1\" class=\"dataframe\">\n",
       "  <thead>\n",
       "    <tr style=\"text-align: right;\">\n",
       "      <th></th>\n",
       "      <th>Unnamed: 0</th>\n",
       "      <th>name</th>\n",
       "      <th>rank</th>\n",
       "      <th>count</th>\n",
       "      <th>prop100k</th>\n",
       "      <th>cum_prop100k</th>\n",
       "      <th>pctwhite</th>\n",
       "      <th>pctblack</th>\n",
       "      <th>pctapi</th>\n",
       "      <th>pctaian</th>\n",
       "      <th>pct2prace</th>\n",
       "      <th>pcthispanic</th>\n",
       "      <th>argmax</th>\n",
       "      <th>ethni_act</th>\n",
       "    </tr>\n",
       "  </thead>\n",
       "  <tbody>\n",
       "    <tr>\n",
       "      <th>0</th>\n",
       "      <td>0</td>\n",
       "      <td>Smith</td>\n",
       "      <td>1</td>\n",
       "      <td>2442977</td>\n",
       "      <td>828.19</td>\n",
       "      <td>828.19</td>\n",
       "      <td>70.90</td>\n",
       "      <td>23.11</td>\n",
       "      <td>0.50</td>\n",
       "      <td>0.89</td>\n",
       "      <td>2.19</td>\n",
       "      <td>2.40</td>\n",
       "      <td>pctwhite</td>\n",
       "      <td>nh_white</td>\n",
       "    </tr>\n",
       "    <tr>\n",
       "      <th>1</th>\n",
       "      <td>1</td>\n",
       "      <td>Johnson</td>\n",
       "      <td>2</td>\n",
       "      <td>1932812</td>\n",
       "      <td>655.24</td>\n",
       "      <td>1483.42</td>\n",
       "      <td>58.97</td>\n",
       "      <td>34.63</td>\n",
       "      <td>0.54</td>\n",
       "      <td>0.94</td>\n",
       "      <td>2.56</td>\n",
       "      <td>2.36</td>\n",
       "      <td>pctwhite</td>\n",
       "      <td>nh_white</td>\n",
       "    </tr>\n",
       "    <tr>\n",
       "      <th>2</th>\n",
       "      <td>2</td>\n",
       "      <td>Williams</td>\n",
       "      <td>3</td>\n",
       "      <td>1625252</td>\n",
       "      <td>550.97</td>\n",
       "      <td>2034.39</td>\n",
       "      <td>45.75</td>\n",
       "      <td>47.68</td>\n",
       "      <td>0.46</td>\n",
       "      <td>0.82</td>\n",
       "      <td>2.81</td>\n",
       "      <td>2.49</td>\n",
       "      <td>pctblack</td>\n",
       "      <td>nh_black</td>\n",
       "    </tr>\n",
       "    <tr>\n",
       "      <th>3</th>\n",
       "      <td>3</td>\n",
       "      <td>Brown</td>\n",
       "      <td>4</td>\n",
       "      <td>1437026</td>\n",
       "      <td>487.16</td>\n",
       "      <td>2521.56</td>\n",
       "      <td>57.95</td>\n",
       "      <td>35.60</td>\n",
       "      <td>0.51</td>\n",
       "      <td>0.87</td>\n",
       "      <td>2.55</td>\n",
       "      <td>2.52</td>\n",
       "      <td>pctwhite</td>\n",
       "      <td>nh_white</td>\n",
       "    </tr>\n",
       "    <tr>\n",
       "      <th>4</th>\n",
       "      <td>4</td>\n",
       "      <td>Jones</td>\n",
       "      <td>5</td>\n",
       "      <td>1425470</td>\n",
       "      <td>483.24</td>\n",
       "      <td>3004.80</td>\n",
       "      <td>55.19</td>\n",
       "      <td>38.48</td>\n",
       "      <td>0.44</td>\n",
       "      <td>1.00</td>\n",
       "      <td>2.61</td>\n",
       "      <td>2.29</td>\n",
       "      <td>pctwhite</td>\n",
       "      <td>nh_white</td>\n",
       "    </tr>\n",
       "  </tbody>\n",
       "</table>\n",
       "</div>"
      ],
      "text/plain": [
       "   Unnamed: 0      name  rank    count  prop100k  cum_prop100k  pctwhite   \n",
       "0           0     Smith     1  2442977    828.19        828.19     70.90  \\\n",
       "1           1   Johnson     2  1932812    655.24       1483.42     58.97   \n",
       "2           2  Williams     3  1625252    550.97       2034.39     45.75   \n",
       "3           3     Brown     4  1437026    487.16       2521.56     57.95   \n",
       "4           4     Jones     5  1425470    483.24       3004.80     55.19   \n",
       "\n",
       "   pctblack  pctapi  pctaian  pct2prace  pcthispanic    argmax ethni_act  \n",
       "0     23.11    0.50     0.89       2.19         2.40  pctwhite  nh_white  \n",
       "1     34.63    0.54     0.94       2.56         2.36  pctwhite  nh_white  \n",
       "2     47.68    0.46     0.82       2.81         2.49  pctblack  nh_black  \n",
       "3     35.60    0.51     0.87       2.55         2.52  pctwhite  nh_white  \n",
       "4     38.48    0.44     1.00       2.61         2.29  pctwhite  nh_white  "
      ]
     },
     "execution_count": 3,
     "metadata": {},
     "output_type": "execute_result"
    }
   ],
   "source": [
    "df.head()"
   ]
  },
  {
   "cell_type": "code",
   "execution_count": 6,
   "id": "1d3a9163-40b8-4aa5-90be-165b6d0455a7",
   "metadata": {},
   "outputs": [],
   "source": [
    "df = df[['name','ethni_act']]"
   ]
  },
  {
   "cell_type": "code",
   "execution_count": 8,
   "id": "9a8de5e6-ea4c-4582-9841-3910b5f75ba2",
   "metadata": {},
   "outputs": [
    {
     "name": "stderr",
     "output_type": "stream",
     "text": [
      "/tmp/ipykernel_1620919/3217760362.py:1: SettingWithCopyWarning: \n",
      "A value is trying to be set on a copy of a slice from a DataFrame.\n",
      "Try using .loc[row_indexer,col_indexer] = value instead\n",
      "\n",
      "See the caveats in the documentation: https://pandas.pydata.org/pandas-docs/stable/user_guide/indexing.html#returning-a-view-versus-a-copy\n",
      "  df['race_code'] = df.ethni_act.factorize()[0]\n"
     ]
    }
   ],
   "source": [
    "df['race_code'] = df.ethni_act.factorize()[0]"
   ]
  },
  {
   "cell_type": "code",
   "execution_count": 9,
   "id": "609d2fc7-5a55-4365-b781-108265257c15",
   "metadata": {},
   "outputs": [
    {
     "data": {
      "text/html": [
       "<div>\n",
       "<style scoped>\n",
       "    .dataframe tbody tr th:only-of-type {\n",
       "        vertical-align: middle;\n",
       "    }\n",
       "\n",
       "    .dataframe tbody tr th {\n",
       "        vertical-align: top;\n",
       "    }\n",
       "\n",
       "    .dataframe thead th {\n",
       "        text-align: right;\n",
       "    }\n",
       "</style>\n",
       "<table border=\"1\" class=\"dataframe\">\n",
       "  <thead>\n",
       "    <tr style=\"text-align: right;\">\n",
       "      <th></th>\n",
       "      <th>name</th>\n",
       "      <th>ethni_act</th>\n",
       "      <th>race_code</th>\n",
       "    </tr>\n",
       "  </thead>\n",
       "  <tbody>\n",
       "    <tr>\n",
       "      <th>0</th>\n",
       "      <td>Smith</td>\n",
       "      <td>nh_white</td>\n",
       "      <td>0</td>\n",
       "    </tr>\n",
       "    <tr>\n",
       "      <th>1</th>\n",
       "      <td>Johnson</td>\n",
       "      <td>nh_white</td>\n",
       "      <td>0</td>\n",
       "    </tr>\n",
       "    <tr>\n",
       "      <th>2</th>\n",
       "      <td>Williams</td>\n",
       "      <td>nh_black</td>\n",
       "      <td>1</td>\n",
       "    </tr>\n",
       "    <tr>\n",
       "      <th>3</th>\n",
       "      <td>Brown</td>\n",
       "      <td>nh_white</td>\n",
       "      <td>0</td>\n",
       "    </tr>\n",
       "    <tr>\n",
       "      <th>4</th>\n",
       "      <td>Jones</td>\n",
       "      <td>nh_white</td>\n",
       "      <td>0</td>\n",
       "    </tr>\n",
       "  </tbody>\n",
       "</table>\n",
       "</div>"
      ],
      "text/plain": [
       "       name ethni_act  race_code\n",
       "0     Smith  nh_white          0\n",
       "1   Johnson  nh_white          0\n",
       "2  Williams  nh_black          1\n",
       "3     Brown  nh_white          0\n",
       "4     Jones  nh_white          0"
      ]
     },
     "execution_count": 9,
     "metadata": {},
     "output_type": "execute_result"
    }
   ],
   "source": [
    "df.head()"
   ]
  },
  {
   "cell_type": "code",
   "execution_count": 11,
   "id": "0ddb1f2d-2222-4215-a8cb-93e0eebad36d",
   "metadata": {},
   "outputs": [],
   "source": [
    "df = df.rename(columns={'ethni_act': 'race','name':'name_last'})"
   ]
  },
  {
   "cell_type": "code",
   "execution_count": 12,
   "id": "957e57d5-9d88-4fe3-bc6c-46dffd4d0193",
   "metadata": {},
   "outputs": [
    {
     "data": {
      "text/html": [
       "<div>\n",
       "<style scoped>\n",
       "    .dataframe tbody tr th:only-of-type {\n",
       "        vertical-align: middle;\n",
       "    }\n",
       "\n",
       "    .dataframe tbody tr th {\n",
       "        vertical-align: top;\n",
       "    }\n",
       "\n",
       "    .dataframe thead th {\n",
       "        text-align: right;\n",
       "    }\n",
       "</style>\n",
       "<table border=\"1\" class=\"dataframe\">\n",
       "  <thead>\n",
       "    <tr style=\"text-align: right;\">\n",
       "      <th></th>\n",
       "      <th>name_last</th>\n",
       "      <th>race</th>\n",
       "      <th>race_code</th>\n",
       "    </tr>\n",
       "  </thead>\n",
       "  <tbody>\n",
       "    <tr>\n",
       "      <th>0</th>\n",
       "      <td>Smith</td>\n",
       "      <td>nh_white</td>\n",
       "      <td>0</td>\n",
       "    </tr>\n",
       "    <tr>\n",
       "      <th>1</th>\n",
       "      <td>Johnson</td>\n",
       "      <td>nh_white</td>\n",
       "      <td>0</td>\n",
       "    </tr>\n",
       "    <tr>\n",
       "      <th>2</th>\n",
       "      <td>Williams</td>\n",
       "      <td>nh_black</td>\n",
       "      <td>1</td>\n",
       "    </tr>\n",
       "    <tr>\n",
       "      <th>3</th>\n",
       "      <td>Brown</td>\n",
       "      <td>nh_white</td>\n",
       "      <td>0</td>\n",
       "    </tr>\n",
       "    <tr>\n",
       "      <th>4</th>\n",
       "      <td>Jones</td>\n",
       "      <td>nh_white</td>\n",
       "      <td>0</td>\n",
       "    </tr>\n",
       "  </tbody>\n",
       "</table>\n",
       "</div>"
      ],
      "text/plain": [
       "  name_last      race  race_code\n",
       "0     Smith  nh_white          0\n",
       "1   Johnson  nh_white          0\n",
       "2  Williams  nh_black          1\n",
       "3     Brown  nh_white          0\n",
       "4     Jones  nh_white          0"
      ]
     },
     "execution_count": 12,
     "metadata": {},
     "output_type": "execute_result"
    }
   ],
   "source": [
    "df.head()"
   ]
  },
  {
   "cell_type": "code",
   "execution_count": 13,
   "id": "e4581234-ebce-4345-94f3-d87eae817fc8",
   "metadata": {},
   "outputs": [],
   "source": [
    "from sklearn.model_selection import train_test_split\n",
    "\n",
    "train_df, rest_df = train_test_split(df, test_size=0.2, random_state=42, stratify=df['race_code'])\n",
    "val_df, test_df = train_test_split(rest_df, test_size=0.5, random_state=42, stratify=rest_df['race_code'])"
   ]
  },
  {
   "cell_type": "code",
   "execution_count": 14,
   "id": "c9207f3b-99f5-45c2-86ed-3d16bfbe8a45",
   "metadata": {},
   "outputs": [
    {
     "name": "stdout",
     "output_type": "stream",
     "text": [
      "(129802, 3)\n",
      "(16225, 3)\n",
      "(16226, 3)\n"
     ]
    }
   ],
   "source": [
    "print(train_df.shape)\n",
    "print(val_df.shape)\n",
    "print(test_df.shape)"
   ]
  },
  {
   "cell_type": "code",
   "execution_count": 15,
   "id": "42d0570e-cdbb-4220-a8e8-9aac216f9244",
   "metadata": {},
   "outputs": [],
   "source": [
    "train_df.to_csv(\"data/census_ln_train.csv\",index=False)\n",
    "val_df.to_csv(\"data/census_ln_val.csv\",index=False)\n",
    "test_df.to_csv(\"data/census_ln_test.csv\",index=False)"
   ]
  },
  {
   "cell_type": "code",
   "execution_count": 23,
   "id": "98fa1015-68ba-4d4c-b6a2-6d1df5a3bdfb",
   "metadata": {},
   "outputs": [
    {
     "name": "stdout",
     "output_type": "stream",
     "text": [
      "300K\t./data/census_ln_val.csv\n",
      "2.4M\t./data/census_ln_train.csv\n",
      "300K\t./data/census_ln_test.csv\n"
     ]
    }
   ],
   "source": [
    "!find . -name \"census_ln_*.csv\" | xargs du -sh"
   ]
  },
  {
   "cell_type": "markdown",
   "id": "1bbca22d-a058-4549-b767-4a86680110c3",
   "metadata": {},
   "source": [
    "## Augmenting data"
   ]
  },
  {
   "cell_type": "code",
   "execution_count": 24,
   "id": "b9e55787-8e6d-4c6c-b73d-6b9e91820132",
   "metadata": {},
   "outputs": [
    {
     "data": {
      "text/html": [
       "<div>\n",
       "<style scoped>\n",
       "    .dataframe tbody tr th:only-of-type {\n",
       "        vertical-align: middle;\n",
       "    }\n",
       "\n",
       "    .dataframe tbody tr th {\n",
       "        vertical-align: top;\n",
       "    }\n",
       "\n",
       "    .dataframe thead th {\n",
       "        text-align: right;\n",
       "    }\n",
       "</style>\n",
       "<table border=\"1\" class=\"dataframe\">\n",
       "  <thead>\n",
       "    <tr style=\"text-align: right;\">\n",
       "      <th></th>\n",
       "      <th>name_last</th>\n",
       "      <th>race</th>\n",
       "      <th>race_code</th>\n",
       "    </tr>\n",
       "  </thead>\n",
       "  <tbody>\n",
       "    <tr>\n",
       "      <th>0</th>\n",
       "      <td>Smith</td>\n",
       "      <td>nh_white</td>\n",
       "      <td>0</td>\n",
       "    </tr>\n",
       "    <tr>\n",
       "      <th>1</th>\n",
       "      <td>Johnson</td>\n",
       "      <td>nh_white</td>\n",
       "      <td>0</td>\n",
       "    </tr>\n",
       "    <tr>\n",
       "      <th>2</th>\n",
       "      <td>Williams</td>\n",
       "      <td>nh_black</td>\n",
       "      <td>1</td>\n",
       "    </tr>\n",
       "    <tr>\n",
       "      <th>3</th>\n",
       "      <td>Brown</td>\n",
       "      <td>nh_white</td>\n",
       "      <td>0</td>\n",
       "    </tr>\n",
       "    <tr>\n",
       "      <th>4</th>\n",
       "      <td>Jones</td>\n",
       "      <td>nh_white</td>\n",
       "      <td>0</td>\n",
       "    </tr>\n",
       "  </tbody>\n",
       "</table>\n",
       "</div>"
      ],
      "text/plain": [
       "  name_last      race  race_code\n",
       "0     Smith  nh_white          0\n",
       "1   Johnson  nh_white          0\n",
       "2  Williams  nh_black          1\n",
       "3     Brown  nh_white          0\n",
       "4     Jones  nh_white          0"
      ]
     },
     "execution_count": 24,
     "metadata": {},
     "output_type": "execute_result"
    }
   ],
   "source": [
    "df.head()"
   ]
  },
  {
   "cell_type": "code",
   "execution_count": 29,
   "id": "6b5aa5c2-5e15-4423-b3e8-71ace046cd3c",
   "metadata": {},
   "outputs": [],
   "source": [
    "ln_train_df = pd.read_csv(\"data/fl_2022_LastName_train.csv.gz\")\n",
    "ln_val_df = pd.read_csv(\"data/fl_2022_LastName_val.csv.gz\")\n",
    "ln_test_df = pd.read_csv(\"data/fl_2022_LastName_test.csv.gz\")"
   ]
  },
  {
   "cell_type": "code",
   "execution_count": 31,
   "id": "6c07249d-77ca-4358-9b56-c7e83be45f15",
   "metadata": {},
   "outputs": [],
   "source": [
    "ln_df = pd.concat([ln_train_df,ln_val_df,ln_test_df])"
   ]
  },
  {
   "cell_type": "code",
   "execution_count": 37,
   "id": "2d6ea0bb-52ec-417f-9693-d7ca79d10fe3",
   "metadata": {},
   "outputs": [],
   "source": [
    "ln_df = ln_df[['name_last', 'race', 'race_code']]"
   ]
  },
  {
   "cell_type": "code",
   "execution_count": 38,
   "id": "eba550f8-6451-46e9-accc-d7ffcea2e8da",
   "metadata": {},
   "outputs": [
    {
     "data": {
      "text/plain": [
       "(1056645, 3)"
      ]
     },
     "execution_count": 38,
     "metadata": {},
     "output_type": "execute_result"
    }
   ],
   "source": [
    "ln_df.shape"
   ]
  },
  {
   "cell_type": "code",
   "execution_count": 39,
   "id": "c062beb6-75ba-4dd4-9fe3-04fa665a58e7",
   "metadata": {},
   "outputs": [
    {
     "data": {
      "text/plain": [
       "(162253, 3)"
      ]
     },
     "execution_count": 39,
     "metadata": {},
     "output_type": "execute_result"
    }
   ],
   "source": [
    "df.shape"
   ]
  },
  {
   "cell_type": "code",
   "execution_count": 40,
   "id": "6ebd018a-ddd5-4430-a256-4203319b6798",
   "metadata": {},
   "outputs": [],
   "source": [
    "df_all = ln_df.merge(df, on=['name_last','name_last'], how='left', indicator=True)"
   ]
  },
  {
   "cell_type": "code",
   "execution_count": 41,
   "id": "bb1fe58b-325d-4100-b7c6-d4e4a1874dea",
   "metadata": {},
   "outputs": [
    {
     "data": {
      "text/html": [
       "<div>\n",
       "<style scoped>\n",
       "    .dataframe tbody tr th:only-of-type {\n",
       "        vertical-align: middle;\n",
       "    }\n",
       "\n",
       "    .dataframe tbody tr th {\n",
       "        vertical-align: top;\n",
       "    }\n",
       "\n",
       "    .dataframe thead th {\n",
       "        text-align: right;\n",
       "    }\n",
       "</style>\n",
       "<table border=\"1\" class=\"dataframe\">\n",
       "  <thead>\n",
       "    <tr style=\"text-align: right;\">\n",
       "      <th></th>\n",
       "      <th>name_last</th>\n",
       "      <th>race_x</th>\n",
       "      <th>race_code_x</th>\n",
       "      <th>race_y</th>\n",
       "      <th>race_code_y</th>\n",
       "      <th>_merge</th>\n",
       "    </tr>\n",
       "  </thead>\n",
       "  <tbody>\n",
       "    <tr>\n",
       "      <th>0</th>\n",
       "      <td>Neaman-Piotrowicz</td>\n",
       "      <td>nh_white</td>\n",
       "      <td>3</td>\n",
       "      <td>NaN</td>\n",
       "      <td>NaN</td>\n",
       "      <td>left_only</td>\n",
       "    </tr>\n",
       "    <tr>\n",
       "      <th>1</th>\n",
       "      <td>Chaet</td>\n",
       "      <td>nh_white</td>\n",
       "      <td>3</td>\n",
       "      <td>nh_white</td>\n",
       "      <td>0.0</td>\n",
       "      <td>both</td>\n",
       "    </tr>\n",
       "    <tr>\n",
       "      <th>2</th>\n",
       "      <td>Veloz Perez</td>\n",
       "      <td>hispanic</td>\n",
       "      <td>1</td>\n",
       "      <td>NaN</td>\n",
       "      <td>NaN</td>\n",
       "      <td>left_only</td>\n",
       "    </tr>\n",
       "    <tr>\n",
       "      <th>3</th>\n",
       "      <td>Spalter</td>\n",
       "      <td>nh_white</td>\n",
       "      <td>3</td>\n",
       "      <td>nh_white</td>\n",
       "      <td>0.0</td>\n",
       "      <td>both</td>\n",
       "    </tr>\n",
       "    <tr>\n",
       "      <th>4</th>\n",
       "      <td>Kearns-Edwards</td>\n",
       "      <td>nh_white</td>\n",
       "      <td>3</td>\n",
       "      <td>NaN</td>\n",
       "      <td>NaN</td>\n",
       "      <td>left_only</td>\n",
       "    </tr>\n",
       "  </tbody>\n",
       "</table>\n",
       "</div>"
      ],
      "text/plain": [
       "           name_last    race_x  race_code_x    race_y  race_code_y     _merge\n",
       "0  Neaman-Piotrowicz  nh_white            3       NaN          NaN  left_only\n",
       "1              Chaet  nh_white            3  nh_white          0.0       both\n",
       "2        Veloz Perez  hispanic            1       NaN          NaN  left_only\n",
       "3            Spalter  nh_white            3  nh_white          0.0       both\n",
       "4     Kearns-Edwards  nh_white            3       NaN          NaN  left_only"
      ]
     },
     "execution_count": 41,
     "metadata": {},
     "output_type": "execute_result"
    }
   ],
   "source": [
    "df_all.head()"
   ]
  },
  {
   "cell_type": "code",
   "execution_count": 51,
   "id": "fffca1a9-f176-45e9-9f85-f73416259cda",
   "metadata": {},
   "outputs": [],
   "source": [
    "not_in_df = df_all[df_all['_merge'] == 'left_only'][['name_last','race_x','race_code_x']]"
   ]
  },
  {
   "cell_type": "code",
   "execution_count": 55,
   "id": "d2337843-68b7-4d33-9add-f26c4b1978ee",
   "metadata": {},
   "outputs": [],
   "source": [
    "not_in_df = not_in_df.rename(columns={'race_x':'race', 'race_code_x':'race_code'})"
   ]
  },
  {
   "cell_type": "code",
   "execution_count": 56,
   "id": "78297c7c-3126-4f0b-b3be-c5f1854becff",
   "metadata": {},
   "outputs": [
    {
     "data": {
      "text/html": [
       "<div>\n",
       "<style scoped>\n",
       "    .dataframe tbody tr th:only-of-type {\n",
       "        vertical-align: middle;\n",
       "    }\n",
       "\n",
       "    .dataframe tbody tr th {\n",
       "        vertical-align: top;\n",
       "    }\n",
       "\n",
       "    .dataframe thead th {\n",
       "        text-align: right;\n",
       "    }\n",
       "</style>\n",
       "<table border=\"1\" class=\"dataframe\">\n",
       "  <thead>\n",
       "    <tr style=\"text-align: right;\">\n",
       "      <th></th>\n",
       "      <th>name_last</th>\n",
       "      <th>race</th>\n",
       "      <th>race_code</th>\n",
       "    </tr>\n",
       "  </thead>\n",
       "  <tbody>\n",
       "    <tr>\n",
       "      <th>0</th>\n",
       "      <td>Neaman-Piotrowicz</td>\n",
       "      <td>nh_white</td>\n",
       "      <td>3</td>\n",
       "    </tr>\n",
       "    <tr>\n",
       "      <th>2</th>\n",
       "      <td>Veloz Perez</td>\n",
       "      <td>hispanic</td>\n",
       "      <td>1</td>\n",
       "    </tr>\n",
       "    <tr>\n",
       "      <th>4</th>\n",
       "      <td>Kearns-Edwards</td>\n",
       "      <td>nh_white</td>\n",
       "      <td>3</td>\n",
       "    </tr>\n",
       "    <tr>\n",
       "      <th>5</th>\n",
       "      <td>Forgit-Talano</td>\n",
       "      <td>nh_white</td>\n",
       "      <td>3</td>\n",
       "    </tr>\n",
       "    <tr>\n",
       "      <th>6</th>\n",
       "      <td>Chotta</td>\n",
       "      <td>nh_white</td>\n",
       "      <td>3</td>\n",
       "    </tr>\n",
       "  </tbody>\n",
       "</table>\n",
       "</div>"
      ],
      "text/plain": [
       "           name_last      race  race_code\n",
       "0  Neaman-Piotrowicz  nh_white          3\n",
       "2        Veloz Perez  hispanic          1\n",
       "4     Kearns-Edwards  nh_white          3\n",
       "5      Forgit-Talano  nh_white          3\n",
       "6             Chotta  nh_white          3"
      ]
     },
     "execution_count": 56,
     "metadata": {},
     "output_type": "execute_result"
    }
   ],
   "source": [
    "not_in_df.head()"
   ]
  },
  {
   "cell_type": "code",
   "execution_count": 57,
   "id": "80f2d1bc-9aeb-42ef-96b4-1736599828ec",
   "metadata": {},
   "outputs": [],
   "source": [
    "## Sync the race_code\n",
    "race_id_df = df[['race', 'race_code']].drop_duplicates().sort_values('race_code')\n",
    "race_to_id = dict(race_id_df.values)"
   ]
  },
  {
   "cell_type": "code",
   "execution_count": 58,
   "id": "1b0a1104-f9f3-4ab4-9237-668bd83294c7",
   "metadata": {},
   "outputs": [
    {
     "data": {
      "text/plain": [
       "{'nh_white': 0, 'nh_black': 1, 'hispanic': 2, 'asian': 3, 'other': 4}"
      ]
     },
     "execution_count": 58,
     "metadata": {},
     "output_type": "execute_result"
    }
   ],
   "source": [
    "race_to_id"
   ]
  },
  {
   "cell_type": "code",
   "execution_count": 63,
   "id": "fc1a22ce-7dbe-4109-9fb2-417891567346",
   "metadata": {},
   "outputs": [],
   "source": [
    "not_in_df['race_code'] = not_in_df.apply(lambda x: race_to_id[x['race']] ,axis=1)"
   ]
  },
  {
   "cell_type": "code",
   "execution_count": 64,
   "id": "c9f395fa-3362-4959-8334-32e007cd2e3b",
   "metadata": {},
   "outputs": [
    {
     "data": {
      "text/html": [
       "<div>\n",
       "<style scoped>\n",
       "    .dataframe tbody tr th:only-of-type {\n",
       "        vertical-align: middle;\n",
       "    }\n",
       "\n",
       "    .dataframe tbody tr th {\n",
       "        vertical-align: top;\n",
       "    }\n",
       "\n",
       "    .dataframe thead th {\n",
       "        text-align: right;\n",
       "    }\n",
       "</style>\n",
       "<table border=\"1\" class=\"dataframe\">\n",
       "  <thead>\n",
       "    <tr style=\"text-align: right;\">\n",
       "      <th></th>\n",
       "      <th>name_last</th>\n",
       "      <th>race</th>\n",
       "      <th>race_code</th>\n",
       "    </tr>\n",
       "  </thead>\n",
       "  <tbody>\n",
       "    <tr>\n",
       "      <th>0</th>\n",
       "      <td>Neaman-Piotrowicz</td>\n",
       "      <td>nh_white</td>\n",
       "      <td>0</td>\n",
       "    </tr>\n",
       "    <tr>\n",
       "      <th>2</th>\n",
       "      <td>Veloz Perez</td>\n",
       "      <td>hispanic</td>\n",
       "      <td>2</td>\n",
       "    </tr>\n",
       "    <tr>\n",
       "      <th>4</th>\n",
       "      <td>Kearns-Edwards</td>\n",
       "      <td>nh_white</td>\n",
       "      <td>0</td>\n",
       "    </tr>\n",
       "    <tr>\n",
       "      <th>5</th>\n",
       "      <td>Forgit-Talano</td>\n",
       "      <td>nh_white</td>\n",
       "      <td>0</td>\n",
       "    </tr>\n",
       "    <tr>\n",
       "      <th>6</th>\n",
       "      <td>Chotta</td>\n",
       "      <td>nh_white</td>\n",
       "      <td>0</td>\n",
       "    </tr>\n",
       "  </tbody>\n",
       "</table>\n",
       "</div>"
      ],
      "text/plain": [
       "           name_last      race  race_code\n",
       "0  Neaman-Piotrowicz  nh_white          0\n",
       "2        Veloz Perez  hispanic          2\n",
       "4     Kearns-Edwards  nh_white          0\n",
       "5      Forgit-Talano  nh_white          0\n",
       "6             Chotta  nh_white          0"
      ]
     },
     "execution_count": 64,
     "metadata": {},
     "output_type": "execute_result"
    }
   ],
   "source": [
    "not_in_df.head()"
   ]
  },
  {
   "cell_type": "code",
   "execution_count": 65,
   "id": "f764bba9-679a-43aa-b4b8-655a8123bf77",
   "metadata": {},
   "outputs": [],
   "source": [
    "final_df = pd.concat([train_df, not_in_df])"
   ]
  },
  {
   "cell_type": "code",
   "execution_count": 66,
   "id": "df3f97f4-c820-4e38-8f17-c13112fd7c89",
   "metadata": {},
   "outputs": [
    {
     "data": {
      "text/plain": [
       "(1034440, 3)"
      ]
     },
     "execution_count": 66,
     "metadata": {},
     "output_type": "execute_result"
    }
   ],
   "source": [
    "final_df.shape"
   ]
  },
  {
   "cell_type": "code",
   "execution_count": 67,
   "id": "ba130334-1d93-4e14-b8e7-f2a13fd39f76",
   "metadata": {},
   "outputs": [],
   "source": [
    "final_df.to_csv(\"data/census_ln_train_w_ln_ds.csv\",index=False)"
   ]
  },
  {
   "cell_type": "code",
   "execution_count": null,
   "id": "172c9986-25cc-42a6-9d07-f23e422e7634",
   "metadata": {},
   "outputs": [],
   "source": []
  }
 ],
 "metadata": {
  "kernelspec": {
   "display_name": "Python 3 (ipykernel)",
   "language": "python",
   "name": "python3"
  },
  "language_info": {
   "codemirror_mode": {
    "name": "ipython",
    "version": 3
   },
   "file_extension": ".py",
   "mimetype": "text/x-python",
   "name": "python",
   "nbconvert_exporter": "python",
   "pygments_lexer": "ipython3",
   "version": "3.10.6"
  }
 },
 "nbformat": 4,
 "nbformat_minor": 5
}
