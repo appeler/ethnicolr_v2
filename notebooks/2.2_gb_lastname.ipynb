{
 "cells": [
  {
   "cell_type": "code",
   "execution_count": 1,
   "id": "43bdd7b0-bff8-428d-9025-0593bd0330d5",
   "metadata": {
    "tags": []
   },
   "outputs": [],
   "source": [
    "import numpy as np\n",
    "import pandas as pd\n",
    "import joblib\n",
    "\n",
    "from sklearn.ensemble import GradientBoostingClassifier\n",
    "from sklearn.feature_extraction.text import CountVectorizer\n",
    "from sklearn import metrics"
   ]
  },
  {
   "cell_type": "code",
   "execution_count": 2,
   "id": "6f9bb41e-594e-43a6-ab47-cb2dfc35f40f",
   "metadata": {
    "tags": []
   },
   "outputs": [],
   "source": [
    "train_df = pd.read_csv('./data/fl_2022_LastName_train.csv.gz')\n",
    "val_df = pd.read_csv('./data/fl_2022_LastName_val.csv.gz')\n",
    "test_df = pd.read_csv('./data/fl_2022_LastName_test.csv.gz')"
   ]
  },
  {
   "cell_type": "code",
   "execution_count": 3,
   "id": "08cc4254-d07e-4b01-9e55-14ca25bdc558",
   "metadata": {
    "tags": []
   },
   "outputs": [
    {
     "name": "stdout",
     "output_type": "stream",
     "text": [
      "(845316, 9)\n",
      "(105664, 9)\n",
      "(105665, 9)\n"
     ]
    }
   ],
   "source": [
    "print(train_df.shape)\n",
    "print(val_df.shape)\n",
    "print(test_df.shape)"
   ]
  },
  {
   "cell_type": "code",
   "execution_count": 5,
   "id": "77dd986b-7b40-4b03-98b5-24c8664d4650",
   "metadata": {},
   "outputs": [
    {
     "data": {
      "text/html": [
       "<div>\n",
       "<style scoped>\n",
       "    .dataframe tbody tr th:only-of-type {\n",
       "        vertical-align: middle;\n",
       "    }\n",
       "\n",
       "    .dataframe tbody tr th {\n",
       "        vertical-align: top;\n",
       "    }\n",
       "\n",
       "    .dataframe thead th {\n",
       "        text-align: right;\n",
       "    }\n",
       "</style>\n",
       "<table border=\"1\" class=\"dataframe\">\n",
       "  <thead>\n",
       "    <tr style=\"text-align: right;\">\n",
       "      <th></th>\n",
       "      <th>name_last</th>\n",
       "      <th>asian</th>\n",
       "      <th>hispanic</th>\n",
       "      <th>nh_black</th>\n",
       "      <th>nh_white</th>\n",
       "      <th>other</th>\n",
       "      <th>total_n</th>\n",
       "      <th>race</th>\n",
       "      <th>race_code</th>\n",
       "    </tr>\n",
       "  </thead>\n",
       "  <tbody>\n",
       "    <tr>\n",
       "      <th>0</th>\n",
       "      <td>Neaman-Piotrowicz</td>\n",
       "      <td>0.0</td>\n",
       "      <td>0.0</td>\n",
       "      <td>0.0</td>\n",
       "      <td>1.000000</td>\n",
       "      <td>0.000000</td>\n",
       "      <td>1.0</td>\n",
       "      <td>nh_white</td>\n",
       "      <td>3</td>\n",
       "    </tr>\n",
       "    <tr>\n",
       "      <th>1</th>\n",
       "      <td>Chaet</td>\n",
       "      <td>0.0</td>\n",
       "      <td>0.0</td>\n",
       "      <td>0.0</td>\n",
       "      <td>1.000000</td>\n",
       "      <td>0.000000</td>\n",
       "      <td>13.0</td>\n",
       "      <td>nh_white</td>\n",
       "      <td>3</td>\n",
       "    </tr>\n",
       "    <tr>\n",
       "      <th>2</th>\n",
       "      <td>Veloz Perez</td>\n",
       "      <td>0.0</td>\n",
       "      <td>1.0</td>\n",
       "      <td>0.0</td>\n",
       "      <td>0.000000</td>\n",
       "      <td>0.000000</td>\n",
       "      <td>1.0</td>\n",
       "      <td>hispanic</td>\n",
       "      <td>1</td>\n",
       "    </tr>\n",
       "    <tr>\n",
       "      <th>3</th>\n",
       "      <td>Spalter</td>\n",
       "      <td>0.0</td>\n",
       "      <td>0.0</td>\n",
       "      <td>0.0</td>\n",
       "      <td>0.928571</td>\n",
       "      <td>0.071429</td>\n",
       "      <td>42.0</td>\n",
       "      <td>nh_white</td>\n",
       "      <td>3</td>\n",
       "    </tr>\n",
       "    <tr>\n",
       "      <th>4</th>\n",
       "      <td>Kearns-Edwards</td>\n",
       "      <td>0.0</td>\n",
       "      <td>0.0</td>\n",
       "      <td>0.0</td>\n",
       "      <td>1.000000</td>\n",
       "      <td>0.000000</td>\n",
       "      <td>1.0</td>\n",
       "      <td>nh_white</td>\n",
       "      <td>3</td>\n",
       "    </tr>\n",
       "  </tbody>\n",
       "</table>\n",
       "</div>"
      ],
      "text/plain": [
       "           name_last  asian  hispanic  nh_black  nh_white     other  total_n   \n",
       "0  Neaman-Piotrowicz    0.0       0.0       0.0  1.000000  0.000000      1.0  \\\n",
       "1              Chaet    0.0       0.0       0.0  1.000000  0.000000     13.0   \n",
       "2        Veloz Perez    0.0       1.0       0.0  0.000000  0.000000      1.0   \n",
       "3            Spalter    0.0       0.0       0.0  0.928571  0.071429     42.0   \n",
       "4     Kearns-Edwards    0.0       0.0       0.0  1.000000  0.000000      1.0   \n",
       "\n",
       "       race  race_code  \n",
       "0  nh_white          3  \n",
       "1  nh_white          3  \n",
       "2  hispanic          1  \n",
       "3  nh_white          3  \n",
       "4  nh_white          3  "
      ]
     },
     "execution_count": 5,
     "metadata": {},
     "output_type": "execute_result"
    }
   ],
   "source": [
    "train_df.head()"
   ]
  },
  {
   "cell_type": "code",
   "execution_count": 8,
   "id": "75dccd6e-d232-49f3-99cf-460f00070133",
   "metadata": {},
   "outputs": [],
   "source": [
    "train_df.dropna(inplace=True)\n",
    "val_df.dropna(inplace=True)\n",
    "test_df.dropna(inplace=True)"
   ]
  },
  {
   "cell_type": "markdown",
   "id": "4e2ed379-51d3-445d-995e-258c724d3abb",
   "metadata": {},
   "source": [
    "## Extract features"
   ]
  },
  {
   "cell_type": "code",
   "execution_count": 14,
   "id": "56a1d629-37ea-435f-b99e-f48e285335d6",
   "metadata": {
    "tags": []
   },
   "outputs": [],
   "source": [
    "vectorizer = CountVectorizer(analyzer='char', ngram_range=(1, 2), min_df=50, lowercase=False)"
   ]
  },
  {
   "cell_type": "code",
   "execution_count": 15,
   "id": "accd0e12-5cb2-4f64-b46e-fd0e65b4843c",
   "metadata": {
    "tags": []
   },
   "outputs": [],
   "source": [
    "X_train = vectorizer.fit_transform(train_df['name_last'])\n",
    "X_val = vectorizer.transform(val_df['name_last'])\n",
    "X_test = vectorizer.transform(test_df['name_last'])"
   ]
  },
  {
   "cell_type": "code",
   "execution_count": 16,
   "id": "d18ba028-c270-49fc-8921-18b996754fa5",
   "metadata": {
    "tags": []
   },
   "outputs": [
    {
     "data": {
      "text/plain": [
       "(845316, 1066)"
      ]
     },
     "execution_count": 16,
     "metadata": {},
     "output_type": "execute_result"
    }
   ],
   "source": [
    "X_train.shape"
   ]
  },
  {
   "cell_type": "code",
   "execution_count": 17,
   "id": "84e32c72-e1c4-48dc-bda2-6348b9114e5c",
   "metadata": {
    "tags": []
   },
   "outputs": [
    {
     "data": {
      "text/plain": [
       "(105664, 1066)"
      ]
     },
     "execution_count": 17,
     "metadata": {},
     "output_type": "execute_result"
    }
   ],
   "source": [
    "X_val.shape"
   ]
  },
  {
   "cell_type": "code",
   "execution_count": 18,
   "id": "0af4b540-2f0b-4af3-8e48-931c105419af",
   "metadata": {
    "tags": []
   },
   "outputs": [
    {
     "data": {
      "text/plain": [
       "(105664, 1066)"
      ]
     },
     "execution_count": 18,
     "metadata": {},
     "output_type": "execute_result"
    }
   ],
   "source": [
    "X_test.shape"
   ]
  },
  {
   "cell_type": "code",
   "execution_count": 19,
   "id": "7078aec6-e9ef-4393-9086-e6c6b919a8a6",
   "metadata": {
    "tags": []
   },
   "outputs": [
    {
     "data": {
      "text/plain": [
       "array([' ', ' -', ' A', ..., 'zw', 'zy', 'zz'], dtype=object)"
      ]
     },
     "execution_count": 19,
     "metadata": {},
     "output_type": "execute_result"
    }
   ],
   "source": [
    "vectorizer.get_feature_names_out()"
   ]
  },
  {
   "cell_type": "code",
   "execution_count": 20,
   "id": "8f8729a2-b6f0-4265-abbd-d9878879f14a",
   "metadata": {
    "tags": []
   },
   "outputs": [
    {
     "data": {
      "text/plain": [
       "1066"
      ]
     },
     "execution_count": 20,
     "metadata": {},
     "output_type": "execute_result"
    }
   ],
   "source": [
    "len(vectorizer.get_feature_names_out())"
   ]
  },
  {
   "cell_type": "code",
   "execution_count": 21,
   "id": "19714c3f-3aa9-4e2f-8145-1aeda563f13c",
   "metadata": {
    "tags": []
   },
   "outputs": [],
   "source": [
    "vocab = vectorizer.get_feature_names_out()"
   ]
  },
  {
   "cell_type": "code",
   "execution_count": 22,
   "id": "550526c7-8ac1-4e4f-b1ca-3922832c6119",
   "metadata": {
    "tags": []
   },
   "outputs": [],
   "source": [
    "y_train = train_df.race_code\n",
    "y_val = val_df.race_code\n",
    "y_test = test_df.race_code"
   ]
  },
  {
   "cell_type": "code",
   "execution_count": 23,
   "id": "9b0c0894-2832-4d63-a09b-0063c7d06207",
   "metadata": {
    "tags": []
   },
   "outputs": [
    {
     "data": {
      "text/plain": [
       "3"
      ]
     },
     "execution_count": 23,
     "metadata": {},
     "output_type": "execute_result"
    }
   ],
   "source": [
    "y_train[0]"
   ]
  },
  {
   "cell_type": "code",
   "execution_count": 24,
   "id": "c5747cde-b751-4037-9012-95ec8e7b4566",
   "metadata": {
    "tags": []
   },
   "outputs": [],
   "source": [
    "#Create a Gaussian Classifier\n",
    "clf = GradientBoostingClassifier(random_state=42, verbose=6)"
   ]
  },
  {
   "cell_type": "code",
   "execution_count": 25,
   "id": "27b2c2e0-561e-42c9-965f-72cfcfd2caa8",
   "metadata": {
    "tags": []
   },
   "outputs": [
    {
     "name": "stdout",
     "output_type": "stream",
     "text": [
      "(845316, 1066)\n",
      "(105664, 1066)\n"
     ]
    }
   ],
   "source": [
    "print(X_train.shape)\n",
    "print(X_test.shape)"
   ]
  },
  {
   "cell_type": "markdown",
   "id": "f4a954e6-adb7-4ed1-a998-ff259bb63d59",
   "metadata": {},
   "source": [
    "## Training"
   ]
  },
  {
   "cell_type": "code",
   "execution_count": 26,
   "id": "5adcf7e6-ee3d-4e57-b008-e0bfaab740ef",
   "metadata": {
    "tags": []
   },
   "outputs": [
    {
     "name": "stdout",
     "output_type": "stream",
     "text": [
      "      Iter       Train Loss   Remaining Time \n",
      "         1           1.0800           45.62m\n",
      "         2           1.0353           44.42m\n",
      "         3           1.0013           43.02m\n",
      "         4           0.9740           42.85m\n",
      "         5           0.9522           42.14m\n",
      "         6           0.9347           41.34m\n",
      "         7           0.9200           40.73m\n",
      "         8           0.9072           40.11m\n",
      "         9           0.8967           39.60m\n",
      "        10           0.8871           38.93m\n",
      "        11           0.8788           38.26m\n",
      "        12           0.8713           37.97m\n",
      "        13           0.8651           37.42m\n",
      "        14           0.8585           36.91m\n",
      "        15           0.8531           36.45m\n",
      "        16           0.8482           36.06m\n",
      "        17           0.8439           35.47m\n",
      "        18           0.8393           34.98m\n",
      "        19           0.8356           34.45m\n",
      "        20           0.8319           33.93m\n",
      "        21           0.8291           33.50m\n",
      "        22           0.8256           33.08m\n",
      "        23           0.8222           32.70m\n",
      "        24           0.8195           32.30m\n",
      "        25           0.8167           31.89m\n",
      "        26           0.8143           31.47m\n",
      "        27           0.8115           31.00m\n",
      "        28           0.8089           30.57m\n",
      "        29           0.8070           30.08m\n",
      "        30           0.8049           29.63m\n",
      "        31           0.8031           29.17m\n",
      "        32           0.8011           28.74m\n",
      "        33           0.7993           28.34m\n",
      "        34           0.7975           27.91m\n",
      "        35           0.7959           27.44m\n",
      "        36           0.7944           26.99m\n",
      "        37           0.7929           26.55m\n",
      "        38           0.7913           26.08m\n",
      "        39           0.7899           25.61m\n",
      "        40           0.7885           25.16m\n",
      "        41           0.7869           24.73m\n",
      "        42           0.7857           24.29m\n",
      "        43           0.7843           23.86m\n",
      "        44           0.7832           23.40m\n",
      "        45           0.7821           22.95m\n",
      "        46           0.7809           22.50m\n",
      "        47           0.7799           22.04m\n",
      "        48           0.7788           21.61m\n",
      "        49           0.7776           21.19m\n",
      "        50           0.7763           20.75m\n",
      "        51           0.7752           20.32m\n",
      "        52           0.7741           19.89m\n",
      "        53           0.7732           19.46m\n",
      "        54           0.7722           19.03m\n",
      "        55           0.7713           18.60m\n",
      "        56           0.7704           18.16m\n",
      "        57           0.7694           17.74m\n",
      "        58           0.7685           17.31m\n",
      "        59           0.7677           16.88m\n",
      "        60           0.7669           16.45m\n",
      "        61           0.7660           16.03m\n",
      "        62           0.7651           15.61m\n",
      "        63           0.7641           15.19m\n",
      "        64           0.7633           14.77m\n",
      "        65           0.7625           14.35m\n",
      "        66           0.7618           13.93m\n",
      "        67           0.7611           13.51m\n",
      "        68           0.7604           13.09m\n",
      "        69           0.7596           12.68m\n",
      "        70           0.7587           12.26m\n",
      "        71           0.7579           11.85m\n",
      "        72           0.7573           11.43m\n",
      "        73           0.7567           11.02m\n",
      "        74           0.7560           10.60m\n",
      "        75           0.7554           10.19m\n",
      "        76           0.7546            9.77m\n",
      "        77           0.7539            9.36m\n",
      "        78           0.7533            8.95m\n",
      "        79           0.7527            8.54m\n",
      "        80           0.7520            8.13m\n",
      "        81           0.7514            7.72m\n",
      "        82           0.7507            7.31m\n",
      "        83           0.7502            6.90m\n",
      "        84           0.7495            6.50m\n",
      "        85           0.7489            6.09m\n",
      "        86           0.7484            5.69m\n",
      "        87           0.7477            5.29m\n",
      "        88           0.7471            4.88m\n",
      "        89           0.7466            4.47m\n",
      "        90           0.7460            4.07m\n",
      "        91           0.7455            3.66m\n",
      "        92           0.7451            3.25m\n",
      "        93           0.7446            2.84m\n",
      "        94           0.7441            2.44m\n",
      "        95           0.7435            2.03m\n",
      "        96           0.7428            1.62m\n",
      "        97           0.7424            1.22m\n",
      "        98           0.7419           48.65s\n",
      "        99           0.7414           24.32s\n",
      "       100           0.7409            0.00s\n",
      "CPU times: user 39min 5s, sys: 1min 23s, total: 40min 29s\n",
      "Wall time: 40min 33s\n"
     ]
    },
    {
     "data": {
      "text/html": [
       "<style>#sk-container-id-1 {color: black;background-color: white;}#sk-container-id-1 pre{padding: 0;}#sk-container-id-1 div.sk-toggleable {background-color: white;}#sk-container-id-1 label.sk-toggleable__label {cursor: pointer;display: block;width: 100%;margin-bottom: 0;padding: 0.3em;box-sizing: border-box;text-align: center;}#sk-container-id-1 label.sk-toggleable__label-arrow:before {content: \"▸\";float: left;margin-right: 0.25em;color: #696969;}#sk-container-id-1 label.sk-toggleable__label-arrow:hover:before {color: black;}#sk-container-id-1 div.sk-estimator:hover label.sk-toggleable__label-arrow:before {color: black;}#sk-container-id-1 div.sk-toggleable__content {max-height: 0;max-width: 0;overflow: hidden;text-align: left;background-color: #f0f8ff;}#sk-container-id-1 div.sk-toggleable__content pre {margin: 0.2em;color: black;border-radius: 0.25em;background-color: #f0f8ff;}#sk-container-id-1 input.sk-toggleable__control:checked~div.sk-toggleable__content {max-height: 200px;max-width: 100%;overflow: auto;}#sk-container-id-1 input.sk-toggleable__control:checked~label.sk-toggleable__label-arrow:before {content: \"▾\";}#sk-container-id-1 div.sk-estimator input.sk-toggleable__control:checked~label.sk-toggleable__label {background-color: #d4ebff;}#sk-container-id-1 div.sk-label input.sk-toggleable__control:checked~label.sk-toggleable__label {background-color: #d4ebff;}#sk-container-id-1 input.sk-hidden--visually {border: 0;clip: rect(1px 1px 1px 1px);clip: rect(1px, 1px, 1px, 1px);height: 1px;margin: -1px;overflow: hidden;padding: 0;position: absolute;width: 1px;}#sk-container-id-1 div.sk-estimator {font-family: monospace;background-color: #f0f8ff;border: 1px dotted black;border-radius: 0.25em;box-sizing: border-box;margin-bottom: 0.5em;}#sk-container-id-1 div.sk-estimator:hover {background-color: #d4ebff;}#sk-container-id-1 div.sk-parallel-item::after {content: \"\";width: 100%;border-bottom: 1px solid gray;flex-grow: 1;}#sk-container-id-1 div.sk-label:hover label.sk-toggleable__label {background-color: #d4ebff;}#sk-container-id-1 div.sk-serial::before {content: \"\";position: absolute;border-left: 1px solid gray;box-sizing: border-box;top: 0;bottom: 0;left: 50%;z-index: 0;}#sk-container-id-1 div.sk-serial {display: flex;flex-direction: column;align-items: center;background-color: white;padding-right: 0.2em;padding-left: 0.2em;position: relative;}#sk-container-id-1 div.sk-item {position: relative;z-index: 1;}#sk-container-id-1 div.sk-parallel {display: flex;align-items: stretch;justify-content: center;background-color: white;position: relative;}#sk-container-id-1 div.sk-item::before, #sk-container-id-1 div.sk-parallel-item::before {content: \"\";position: absolute;border-left: 1px solid gray;box-sizing: border-box;top: 0;bottom: 0;left: 50%;z-index: -1;}#sk-container-id-1 div.sk-parallel-item {display: flex;flex-direction: column;z-index: 1;position: relative;background-color: white;}#sk-container-id-1 div.sk-parallel-item:first-child::after {align-self: flex-end;width: 50%;}#sk-container-id-1 div.sk-parallel-item:last-child::after {align-self: flex-start;width: 50%;}#sk-container-id-1 div.sk-parallel-item:only-child::after {width: 0;}#sk-container-id-1 div.sk-dashed-wrapped {border: 1px dashed gray;margin: 0 0.4em 0.5em 0.4em;box-sizing: border-box;padding-bottom: 0.4em;background-color: white;}#sk-container-id-1 div.sk-label label {font-family: monospace;font-weight: bold;display: inline-block;line-height: 1.2em;}#sk-container-id-1 div.sk-label-container {text-align: center;}#sk-container-id-1 div.sk-container {/* jupyter's `normalize.less` sets `[hidden] { display: none; }` but bootstrap.min.css set `[hidden] { display: none !important; }` so we also need the `!important` here to be able to override the default hidden behavior on the sphinx rendered scikit-learn.org. See: https://github.com/scikit-learn/scikit-learn/issues/21755 */display: inline-block !important;position: relative;}#sk-container-id-1 div.sk-text-repr-fallback {display: none;}</style><div id=\"sk-container-id-1\" class=\"sk-top-container\"><div class=\"sk-text-repr-fallback\"><pre>GradientBoostingClassifier(random_state=42, verbose=6)</pre><b>In a Jupyter environment, please rerun this cell to show the HTML representation or trust the notebook. <br />On GitHub, the HTML representation is unable to render, please try loading this page with nbviewer.org.</b></div><div class=\"sk-container\" hidden><div class=\"sk-item\"><div class=\"sk-estimator sk-toggleable\"><input class=\"sk-toggleable__control sk-hidden--visually\" id=\"sk-estimator-id-1\" type=\"checkbox\" checked><label for=\"sk-estimator-id-1\" class=\"sk-toggleable__label sk-toggleable__label-arrow\">GradientBoostingClassifier</label><div class=\"sk-toggleable__content\"><pre>GradientBoostingClassifier(random_state=42, verbose=6)</pre></div></div></div></div></div>"
      ],
      "text/plain": [
       "GradientBoostingClassifier(random_state=42, verbose=6)"
      ]
     },
     "execution_count": 26,
     "metadata": {},
     "output_type": "execute_result"
    }
   ],
   "source": [
    "%%time\n",
    "\n",
    "clf.fit(X_train, y_train)"
   ]
  },
  {
   "cell_type": "code",
   "execution_count": 27,
   "id": "b0e02b4b-c6fb-45db-b25d-4a8ca6b1b1d9",
   "metadata": {
    "tags": []
   },
   "outputs": [
    {
     "name": "stdout",
     "output_type": "stream",
     "text": [
      "Val Accuracy: 0.7558392640823743\n",
      "CPU times: user 1.18 s, sys: 46.8 ms, total: 1.22 s\n",
      "Wall time: 1.39 s\n"
     ]
    }
   ],
   "source": [
    "%%time\n",
    "y_pred = clf.predict(X_val)\n",
    "# Model Accuracy, how often is the classifier correct?\n",
    "print(\"Val Accuracy:\", metrics.accuracy_score(y_val, y_pred))"
   ]
  },
  {
   "cell_type": "code",
   "execution_count": 28,
   "id": "706b6bbd-7bf7-4f7f-b3ca-42f425ee8da0",
   "metadata": {
    "tags": []
   },
   "outputs": [
    {
     "name": "stdout",
     "output_type": "stream",
     "text": [
      "Test Accuracy: 0.7545710932768019\n",
      "CPU times: user 1.22 s, sys: 44.7 ms, total: 1.26 s\n",
      "Wall time: 1.43 s\n"
     ]
    }
   ],
   "source": [
    "%%time\n",
    "y_pred = clf.predict(X_test)\n",
    "# Model Accuracy, how often is the classifier correct?\n",
    "print(\"Test Accuracy:\", metrics.accuracy_score(y_test, y_pred))"
   ]
  },
  {
   "cell_type": "code",
   "execution_count": 29,
   "id": "2899fe5b-1699-444d-988a-981a7053940f",
   "metadata": {
    "tags": []
   },
   "outputs": [
    {
     "data": {
      "text/plain": [
       "['models/gb_vec_lastname.joblib']"
      ]
     },
     "execution_count": 29,
     "metadata": {},
     "output_type": "execute_result"
    }
   ],
   "source": [
    "joblib.dump(vectorizer, \"models/gb_vec_lastname.joblib\", compress=3)  # compression is ON!"
   ]
  },
  {
   "cell_type": "code",
   "execution_count": 30,
   "id": "7d836a71-0053-4159-819e-b78f7fbbd27c",
   "metadata": {
    "tags": []
   },
   "outputs": [
    {
     "data": {
      "text/plain": [
       "['models/gb_model_lastname.joblib']"
      ]
     },
     "execution_count": 30,
     "metadata": {},
     "output_type": "execute_result"
    }
   ],
   "source": [
    "joblib.dump(clf, \"models/gb_model_lastname.joblib\", compress=3)  # compression is ON!"
   ]
  },
  {
   "cell_type": "markdown",
   "id": "39450453-38bd-4b6f-a792-6ecd875a106b",
   "metadata": {},
   "source": [
    "## Confusion Matrix"
   ]
  },
  {
   "cell_type": "code",
   "execution_count": 31,
   "id": "575f426e-e2c1-40bb-8c88-bf0dcec9bab8",
   "metadata": {
    "tags": []
   },
   "outputs": [],
   "source": [
    "race_id_df = train_df[['race', 'race_code']].drop_duplicates().sort_values('race_code')\n",
    "race_to_id = dict(race_id_df.values)"
   ]
  },
  {
   "cell_type": "code",
   "execution_count": 32,
   "id": "4d186d8d-ef16-466a-9b94-132d4d79ab6f",
   "metadata": {
    "tags": []
   },
   "outputs": [
    {
     "data": {
      "text/plain": [
       "{'asian': 0, 'hispanic': 1, 'nh_black': 2, 'nh_white': 3, 'other': 4}"
      ]
     },
     "execution_count": 32,
     "metadata": {},
     "output_type": "execute_result"
    }
   ],
   "source": [
    "race_to_id"
   ]
  },
  {
   "cell_type": "code",
   "execution_count": 33,
   "id": "547e0fce-052e-4835-8a2a-fb8435b2b395",
   "metadata": {
    "tags": []
   },
   "outputs": [],
   "source": [
    "id_to_race = dict(race_id_df[['race_code', 'race']].values)"
   ]
  },
  {
   "cell_type": "code",
   "execution_count": 34,
   "id": "324feaf6-2b00-4a27-9170-681248a23c01",
   "metadata": {
    "tags": []
   },
   "outputs": [
    {
     "data": {
      "text/plain": [
       "{0: 'asian', 1: 'hispanic', 2: 'nh_black', 3: 'nh_white', 4: 'other'}"
      ]
     },
     "execution_count": 34,
     "metadata": {},
     "output_type": "execute_result"
    }
   ],
   "source": [
    "id_to_race"
   ]
  },
  {
   "cell_type": "code",
   "execution_count": 35,
   "id": "27ace3e7-d206-448f-8fd0-8baa003bc4a0",
   "metadata": {
    "tags": []
   },
   "outputs": [
    {
     "name": "stdout",
     "output_type": "stream",
     "text": [
      "              precision    recall  f1-score   support\n",
      "\n",
      "       asian       0.67      0.07      0.13      3648\n",
      "    hispanic       0.83      0.80      0.81     32461\n",
      "    nh_black       0.64      0.12      0.20     10403\n",
      "    nh_white       0.73      0.93      0.81     56262\n",
      "       other       0.34      0.01      0.01      2890\n",
      "\n",
      "    accuracy                           0.75    105664\n",
      "   macro avg       0.64      0.39      0.40    105664\n",
      "weighted avg       0.74      0.75      0.71    105664\n",
      "\n"
     ]
    },
    {
     "data": {
      "text/plain": [
       "<sklearn.metrics._plot.confusion_matrix.ConfusionMatrixDisplay at 0x7fec0592fe80>"
      ]
     },
     "execution_count": 35,
     "metadata": {},
     "output_type": "execute_result"
    },
    {
     "data": {
      "image/png": "[encoded data removed]",
      "text/plain": [
       "<Figure size 800x800 with 2 Axes>"
      ]
     },
     "metadata": {},
     "output_type": "display_data"
    }
   ],
   "source": [
    "from sklearn.metrics import confusion_matrix, classification_report, ConfusionMatrixDisplay\n",
    "import matplotlib.pyplot as plt\n",
    "%matplotlib inline  \n",
    "\n",
    "model = joblib.load('models/gb_model_lastname.joblib')\n",
    "preds = model.predict(X_test)\n",
    "predicted = [id_to_race[p] for p in preds]\n",
    "actual = [id_to_race[p] for p in y_test.values]\n",
    "\n",
    "print(classification_report(actual, predicted))\n",
    "\n",
    "cm = confusion_matrix(actual, predicted, labels=list(race_to_id.keys()))\n",
    "cmp = ConfusionMatrixDisplay(cm, display_labels=list(race_to_id.keys()))\n",
    "fig, ax = plt.subplots(figsize=(8,8))\n",
    "cmp.plot(ax=ax, xticks_rotation='vertical')"
   ]
  },
  {
   "cell_type": "code",
   "execution_count": 36,
   "id": "fe128ebf-fab3-4212-9004-7fa63d50f94f",
   "metadata": {
    "tags": []
   },
   "outputs": [
    {
     "name": "stdout",
     "output_type": "stream",
     "text": [
      "Accuracy for class asian: 0.07\n",
      "Accuracy for class hispanic: 0.80\n",
      "Accuracy for class nh_black: 0.12\n",
      "Accuracy for class nh_white: 0.93\n",
      "Accuracy for class other: 0.01\n"
     ]
    }
   ],
   "source": [
    "for class_id in id_to_race:\n",
    "    correct = np.sum((y_test == class_id) & (preds == class_id))\n",
    "    total = np.sum(y_test == class_id)\n",
    "    print(f'Accuracy for class {id_to_race[class_id]}: {correct / total:.2f}')"
   ]
  },
  {
   "cell_type": "code",
   "execution_count": null,
   "id": "8902a781-dc53-47ca-a7ca-95feee016507",
   "metadata": {},
   "outputs": [],
   "source": []
  }
 ],
 "metadata": {
  "kernelspec": {
   "display_name": "Python 3 (ipykernel)",
   "language": "python",
   "name": "python3"
  },
  "language_info": {
   "codemirror_mode": {
    "name": "ipython",
    "version": 3
   },
   "file_extension": ".py",
   "mimetype": "text/x-python",
   "name": "python",
   "nbconvert_exporter": "python",
   "pygments_lexer": "ipython3",
   "version": "3.10.6"
  }
 },
 "nbformat": 4,
 "nbformat_minor": 5
}
