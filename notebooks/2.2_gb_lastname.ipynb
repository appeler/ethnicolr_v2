{
 "cells": [
  {
   "cell_type": "code",
   "execution_count": 1,
   "id": "43bdd7b0-bff8-428d-9025-0593bd0330d5",
   "metadata": {
    "tags": []
   },
   "outputs": [],
   "source": [
    "import numpy as np\n",
    "import pandas as pd\n",
    "import joblib\n",
    "\n",
    "from sklearn.ensemble import GradientBoostingClassifier\n",
    "from sklearn.feature_extraction.text import CountVectorizer\n",
    "from sklearn import metrics"
   ]
  },
  {
   "cell_type": "code",
   "execution_count": 4,
   "id": "6f9bb41e-594e-43a6-ab47-cb2dfc35f40f",
   "metadata": {
    "tags": []
   },
   "outputs": [],
   "source": [
    "train_df = pd.read_csv('./data/fl_2022_LastName_train.csv.gz')\n",
    "val_df = pd.read_csv('./data/fl_2022_LastName_val.csv.gz')\n",
    "test_df = pd.read_csv('./data/fl_2022_LastName_test.csv.gz')"
   ]
  },
  {
   "cell_type": "code",
   "execution_count": 5,
   "id": "08cc4254-d07e-4b01-9e55-14ca25bdc558",
   "metadata": {
    "tags": []
   },
   "outputs": [
    {
     "name": "stdout",
     "output_type": "stream",
     "text": [
      "(1079199, 4)\n",
      "(134900, 4)\n",
      "(134900, 4)\n"
     ]
    }
   ],
   "source": [
    "print(train_df.shape)\n",
    "print(val_df.shape)\n",
    "print(test_df.shape)"
   ]
  },
  {
   "cell_type": "code",
   "execution_count": 12,
   "id": "7be8fd87-1f77-4a4c-9b7a-c553b237cfd7",
   "metadata": {
    "tags": []
   },
   "outputs": [],
   "source": [
    "train_df = train_df.dropna()\n",
    "val_df = val_df.dropna()\n",
    "test_df = test_df.dropna()"
   ]
  },
  {
   "cell_type": "markdown",
   "id": "4e2ed379-51d3-445d-995e-258c724d3abb",
   "metadata": {},
   "source": [
    "## Extract features"
   ]
  },
  {
   "cell_type": "code",
   "execution_count": 6,
   "id": "56a1d629-37ea-435f-b99e-f48e285335d6",
   "metadata": {
    "tags": []
   },
   "outputs": [],
   "source": [
    "vectorizer = CountVectorizer(analyzer='char', ngram_range=(1, 2), lowercase=False)"
   ]
  },
  {
   "cell_type": "code",
   "execution_count": 13,
   "id": "accd0e12-5cb2-4f64-b46e-fd0e65b4843c",
   "metadata": {
    "tags": []
   },
   "outputs": [],
   "source": [
    "X_train = vectorizer.fit_transform(train_df['name_last'])\n",
    "X_val = vectorizer.transform(val_df['name_last'])\n",
    "X_test = vectorizer.transform(test_df['name_last'])"
   ]
  },
  {
   "cell_type": "code",
   "execution_count": 14,
   "id": "d18ba028-c270-49fc-8921-18b996754fa5",
   "metadata": {
    "tags": []
   },
   "outputs": [
    {
     "data": {
      "text/plain": [
       "(1079191, 1588)"
      ]
     },
     "execution_count": 14,
     "metadata": {},
     "output_type": "execute_result"
    }
   ],
   "source": [
    "X_train.shape"
   ]
  },
  {
   "cell_type": "code",
   "execution_count": 15,
   "id": "84e32c72-e1c4-48dc-bda2-6348b9114e5c",
   "metadata": {
    "tags": []
   },
   "outputs": [
    {
     "data": {
      "text/plain": [
       "(134896, 1588)"
      ]
     },
     "execution_count": 15,
     "metadata": {},
     "output_type": "execute_result"
    }
   ],
   "source": [
    "X_val.shape"
   ]
  },
  {
   "cell_type": "code",
   "execution_count": 16,
   "id": "0af4b540-2f0b-4af3-8e48-931c105419af",
   "metadata": {
    "tags": []
   },
   "outputs": [
    {
     "data": {
      "text/plain": [
       "(134898, 1588)"
      ]
     },
     "execution_count": 16,
     "metadata": {},
     "output_type": "execute_result"
    }
   ],
   "source": [
    "X_test.shape"
   ]
  },
  {
   "cell_type": "code",
   "execution_count": 17,
   "id": "7078aec6-e9ef-4393-9086-e6c6b919a8a6",
   "metadata": {
    "tags": []
   },
   "outputs": [
    {
     "data": {
      "text/plain": [
       "array([' ', \" '\", ' -', ..., 'zx', 'zy', 'zz'], dtype=object)"
      ]
     },
     "execution_count": 17,
     "metadata": {},
     "output_type": "execute_result"
    }
   ],
   "source": [
    "vectorizer.get_feature_names_out()"
   ]
  },
  {
   "cell_type": "code",
   "execution_count": 18,
   "id": "8f8729a2-b6f0-4265-abbd-d9878879f14a",
   "metadata": {
    "tags": []
   },
   "outputs": [
    {
     "data": {
      "text/plain": [
       "1588"
      ]
     },
     "execution_count": 18,
     "metadata": {},
     "output_type": "execute_result"
    }
   ],
   "source": [
    "len(vectorizer.get_feature_names_out())"
   ]
  },
  {
   "cell_type": "code",
   "execution_count": 19,
   "id": "19714c3f-3aa9-4e2f-8145-1aeda563f13c",
   "metadata": {
    "tags": []
   },
   "outputs": [],
   "source": [
    "vocab = vectorizer.get_feature_names_out()"
   ]
  },
  {
   "cell_type": "code",
   "execution_count": 20,
   "id": "550526c7-8ac1-4e4f-b1ca-3922832c6119",
   "metadata": {
    "tags": []
   },
   "outputs": [],
   "source": [
    "y_train = train_df.race_code\n",
    "y_val = val_df.race_code\n",
    "y_test = test_df.race_code"
   ]
  },
  {
   "cell_type": "code",
   "execution_count": 21,
   "id": "9b0c0894-2832-4d63-a09b-0063c7d06207",
   "metadata": {
    "tags": []
   },
   "outputs": [
    {
     "data": {
      "text/plain": [
       "3"
      ]
     },
     "execution_count": 21,
     "metadata": {},
     "output_type": "execute_result"
    }
   ],
   "source": [
    "y_train[0]"
   ]
  },
  {
   "cell_type": "code",
   "execution_count": 22,
   "id": "c5747cde-b751-4037-9012-95ec8e7b4566",
   "metadata": {
    "tags": []
   },
   "outputs": [],
   "source": [
    "#Create a Gaussian Classifier\n",
    "clf = GradientBoostingClassifier(random_state=42, verbose=6)"
   ]
  },
  {
   "cell_type": "code",
   "execution_count": 23,
   "id": "27b2c2e0-561e-42c9-965f-72cfcfd2caa8",
   "metadata": {
    "tags": []
   },
   "outputs": [
    {
     "name": "stdout",
     "output_type": "stream",
     "text": [
      "(1079191, 1588)\n",
      "(134898, 1588)\n"
     ]
    }
   ],
   "source": [
    "print(X_train.shape)\n",
    "print(X_test.shape)"
   ]
  },
  {
   "cell_type": "markdown",
   "id": "f4a954e6-adb7-4ed1-a998-ff259bb63d59",
   "metadata": {},
   "source": [
    "## Training"
   ]
  },
  {
   "cell_type": "markdown",
   "id": "3eaf206d-5323-4b62-b449-6ee4df96390c",
   "metadata": {},
   "source": [
    "## Doing it for 1 million with 100 iterations"
   ]
  },
  {
   "cell_type": "code",
   "execution_count": 24,
   "id": "5adcf7e6-ee3d-4e57-b008-e0bfaab740ef",
   "metadata": {
    "tags": []
   },
   "outputs": [
    {
     "name": "stdout",
     "output_type": "stream",
     "text": [
      "      Iter       Train Loss   Remaining Time \n",
      "         1           1.3002           55.32m\n",
      "         2           1.2699           54.93m\n",
      "         3           1.2460           53.71m\n",
      "         4           1.2267           52.77m\n",
      "         5           1.2111           52.28m\n",
      "         6           1.1986           51.72m\n",
      "         7           1.1879           50.64m\n",
      "         8           1.1786           49.75m\n",
      "         9           1.1711           49.19m\n",
      "        10           1.1645           48.46m\n",
      "        11           1.1588           48.03m\n",
      "        12           1.1534           47.37m\n",
      "        13           1.1487           46.82m\n",
      "        14           1.1447           46.20m\n",
      "        15           1.1412           45.66m\n",
      "        16           1.1379           45.15m\n",
      "        17           1.1347           44.77m\n",
      "        18           1.1316           44.29m\n",
      "        19           1.1291           43.76m\n",
      "        20           1.1267           43.11m\n",
      "        21           1.1245           42.47m\n",
      "        22           1.1224           41.83m\n",
      "        23           1.1205           41.30m\n",
      "        24           1.1188           40.71m\n",
      "        25           1.1169           40.13m\n",
      "        26           1.1154           39.57m\n",
      "        27           1.1137           38.99m\n",
      "        28           1.1123           38.41m\n",
      "        29           1.1110           37.75m\n",
      "        30           1.1096           37.16m\n",
      "        31           1.1081           36.52m\n",
      "        32           1.1071           35.92m\n",
      "        33           1.1059           35.38m\n",
      "        34           1.1047           34.83m\n",
      "        35           1.1036           34.26m\n",
      "        36           1.1027           33.80m\n",
      "        37           1.1017           33.21m\n",
      "        38           1.1006           32.64m\n",
      "        39           1.0997           32.06m\n",
      "        40           1.0988           31.55m\n",
      "        41           1.0978           30.95m\n",
      "        42           1.0970           30.42m\n",
      "        43           1.0960           29.87m\n",
      "        44           1.0952           29.35m\n",
      "        45           1.0945           28.79m\n",
      "        46           1.0937           28.26m\n",
      "        47           1.0930           27.69m\n",
      "        48           1.0922           27.15m\n",
      "        49           1.0915           26.60m\n",
      "        50           1.0908           26.07m\n",
      "        51           1.0902           25.51m\n",
      "        52           1.0896           25.01m\n",
      "        53           1.0890           24.46m\n",
      "        54           1.0885           23.93m\n",
      "        55           1.0880           23.38m\n",
      "        56           1.0874           22.85m\n",
      "        57           1.0869           22.31m\n",
      "        58           1.0860           21.79m\n",
      "        59           1.0854           21.25m\n",
      "        60           1.0849           20.71m\n",
      "        61           1.0843           20.17m\n",
      "        62           1.0838           19.65m\n",
      "        63           1.0832           19.12m\n",
      "        64           1.0826           18.59m\n",
      "        65           1.0821           18.09m\n",
      "        66           1.0816           17.59m\n",
      "        67           1.0812           17.09m\n",
      "        68           1.0806           16.59m\n",
      "        69           1.0802           16.09m\n",
      "        70           1.0797           15.58m\n",
      "        71           1.0792           15.08m\n",
      "        72           1.0788           14.59m\n",
      "        73           1.0784           14.08m\n",
      "        74           1.0780           13.56m\n",
      "        75           1.0775           13.04m\n",
      "        76           1.0770           12.53m\n",
      "        77           1.0766           12.01m\n",
      "        78           1.0761           11.50m\n",
      "        79           1.0757           10.98m\n",
      "        80           1.0753           10.47m\n",
      "        81           1.0749            9.96m\n",
      "        82           1.0744            9.44m\n",
      "        83           1.0740            8.92m\n",
      "        84           1.0737            8.40m\n",
      "        85           1.0733            7.87m\n",
      "        86           1.0730            7.36m\n",
      "        87           1.0726            6.84m\n",
      "        88           1.0722            6.32m\n",
      "        89           1.0718            5.80m\n",
      "        90           1.0715            5.27m\n",
      "        91           1.0711            4.75m\n",
      "        92           1.0707            4.22m\n",
      "        93           1.0704            3.70m\n",
      "        94           1.0701            3.17m\n",
      "        95           1.0697            2.64m\n",
      "        96           1.0694            2.11m\n",
      "        97           1.0691            1.59m\n",
      "        98           1.0688            1.06m\n",
      "        99           1.0685           31.74s\n",
      "       100           1.0682            0.00s\n",
      "CPU times: user 51min 43s, sys: 1min 8s, total: 52min 51s\n",
      "Wall time: 52min 56s\n"
     ]
    },
    {
     "data": {
      "text/html": [
       "<style>#sk-container-id-1 {color: black;background-color: white;}#sk-container-id-1 pre{padding: 0;}#sk-container-id-1 div.sk-toggleable {background-color: white;}#sk-container-id-1 label.sk-toggleable__label {cursor: pointer;display: block;width: 100%;margin-bottom: 0;padding: 0.3em;box-sizing: border-box;text-align: center;}#sk-container-id-1 label.sk-toggleable__label-arrow:before {content: \"▸\";float: left;margin-right: 0.25em;color: #696969;}#sk-container-id-1 label.sk-toggleable__label-arrow:hover:before {color: black;}#sk-container-id-1 div.sk-estimator:hover label.sk-toggleable__label-arrow:before {color: black;}#sk-container-id-1 div.sk-toggleable__content {max-height: 0;max-width: 0;overflow: hidden;text-align: left;background-color: #f0f8ff;}#sk-container-id-1 div.sk-toggleable__content pre {margin: 0.2em;color: black;border-radius: 0.25em;background-color: #f0f8ff;}#sk-container-id-1 input.sk-toggleable__control:checked~div.sk-toggleable__content {max-height: 200px;max-width: 100%;overflow: auto;}#sk-container-id-1 input.sk-toggleable__control:checked~label.sk-toggleable__label-arrow:before {content: \"▾\";}#sk-container-id-1 div.sk-estimator input.sk-toggleable__control:checked~label.sk-toggleable__label {background-color: #d4ebff;}#sk-container-id-1 div.sk-label input.sk-toggleable__control:checked~label.sk-toggleable__label {background-color: #d4ebff;}#sk-container-id-1 input.sk-hidden--visually {border: 0;clip: rect(1px 1px 1px 1px);clip: rect(1px, 1px, 1px, 1px);height: 1px;margin: -1px;overflow: hidden;padding: 0;position: absolute;width: 1px;}#sk-container-id-1 div.sk-estimator {font-family: monospace;background-color: #f0f8ff;border: 1px dotted black;border-radius: 0.25em;box-sizing: border-box;margin-bottom: 0.5em;}#sk-container-id-1 div.sk-estimator:hover {background-color: #d4ebff;}#sk-container-id-1 div.sk-parallel-item::after {content: \"\";width: 100%;border-bottom: 1px solid gray;flex-grow: 1;}#sk-container-id-1 div.sk-label:hover label.sk-toggleable__label {background-color: #d4ebff;}#sk-container-id-1 div.sk-serial::before {content: \"\";position: absolute;border-left: 1px solid gray;box-sizing: border-box;top: 0;bottom: 0;left: 50%;z-index: 0;}#sk-container-id-1 div.sk-serial {display: flex;flex-direction: column;align-items: center;background-color: white;padding-right: 0.2em;padding-left: 0.2em;position: relative;}#sk-container-id-1 div.sk-item {position: relative;z-index: 1;}#sk-container-id-1 div.sk-parallel {display: flex;align-items: stretch;justify-content: center;background-color: white;position: relative;}#sk-container-id-1 div.sk-item::before, #sk-container-id-1 div.sk-parallel-item::before {content: \"\";position: absolute;border-left: 1px solid gray;box-sizing: border-box;top: 0;bottom: 0;left: 50%;z-index: -1;}#sk-container-id-1 div.sk-parallel-item {display: flex;flex-direction: column;z-index: 1;position: relative;background-color: white;}#sk-container-id-1 div.sk-parallel-item:first-child::after {align-self: flex-end;width: 50%;}#sk-container-id-1 div.sk-parallel-item:last-child::after {align-self: flex-start;width: 50%;}#sk-container-id-1 div.sk-parallel-item:only-child::after {width: 0;}#sk-container-id-1 div.sk-dashed-wrapped {border: 1px dashed gray;margin: 0 0.4em 0.5em 0.4em;box-sizing: border-box;padding-bottom: 0.4em;background-color: white;}#sk-container-id-1 div.sk-label label {font-family: monospace;font-weight: bold;display: inline-block;line-height: 1.2em;}#sk-container-id-1 div.sk-label-container {text-align: center;}#sk-container-id-1 div.sk-container {/* jupyter's `normalize.less` sets `[hidden] { display: none; }` but bootstrap.min.css set `[hidden] { display: none !important; }` so we also need the `!important` here to be able to override the default hidden behavior on the sphinx rendered scikit-learn.org. See: https://github.com/scikit-learn/scikit-learn/issues/21755 */display: inline-block !important;position: relative;}#sk-container-id-1 div.sk-text-repr-fallback {display: none;}</style><div id=\"sk-container-id-1\" class=\"sk-top-container\"><div class=\"sk-text-repr-fallback\"><pre>GradientBoostingClassifier(random_state=42, verbose=6)</pre><b>In a Jupyter environment, please rerun this cell to show the HTML representation or trust the notebook. <br />On GitHub, the HTML representation is unable to render, please try loading this page with nbviewer.org.</b></div><div class=\"sk-container\" hidden><div class=\"sk-item\"><div class=\"sk-estimator sk-toggleable\"><input class=\"sk-toggleable__control sk-hidden--visually\" id=\"sk-estimator-id-1\" type=\"checkbox\" checked><label for=\"sk-estimator-id-1\" class=\"sk-toggleable__label sk-toggleable__label-arrow\">GradientBoostingClassifier</label><div class=\"sk-toggleable__content\"><pre>GradientBoostingClassifier(random_state=42, verbose=6)</pre></div></div></div></div></div>"
      ],
      "text/plain": [
       "GradientBoostingClassifier(random_state=42, verbose=6)"
      ]
     },
     "execution_count": 24,
     "metadata": {},
     "output_type": "execute_result"
    }
   ],
   "source": [
    "%%time\n",
    "#Train the model using the training sets y_pred=clf.predict(X_test)\n",
    "\n",
    "# 1 million\n",
    "samples = 100 * 100 * 100\n",
    "# 1 million records took 1h 11min 16s\n",
    "\n",
    "clf.fit(X_train[:samples], y_train[:samples])"
   ]
  },
  {
   "cell_type": "code",
   "execution_count": 25,
   "id": "b0e02b4b-c6fb-45db-b25d-4a8ca6b1b1d9",
   "metadata": {
    "tags": []
   },
   "outputs": [
    {
     "name": "stdout",
     "output_type": "stream",
     "text": [
      "Val Accuracy: 0.6178315146483216\n",
      "CPU times: user 1.72 s, sys: 93 ms, total: 1.81 s\n",
      "Wall time: 2.16 s\n"
     ]
    }
   ],
   "source": [
    "%%time\n",
    "y_pred = clf.predict(X_val)\n",
    "# Model Accuracy, how often is the classifier correct?\n",
    "print(\"Val Accuracy:\", metrics.accuracy_score(y_val, y_pred))"
   ]
  },
  {
   "cell_type": "code",
   "execution_count": 26,
   "id": "706b6bbd-7bf7-4f7f-b3ca-42f425ee8da0",
   "metadata": {
    "tags": []
   },
   "outputs": [
    {
     "name": "stdout",
     "output_type": "stream",
     "text": [
      "Test Accuracy: 0.617303444083678\n",
      "CPU times: user 1.46 s, sys: 64.7 ms, total: 1.52 s\n",
      "Wall time: 1.71 s\n"
     ]
    }
   ],
   "source": [
    "%%time\n",
    "y_pred = clf.predict(X_test)\n",
    "# Model Accuracy, how often is the classifier correct?\n",
    "print(\"Test Accuracy:\", metrics.accuracy_score(y_test, y_pred))"
   ]
  },
  {
   "cell_type": "code",
   "execution_count": 27,
   "id": "2899fe5b-1699-444d-988a-981a7053940f",
   "metadata": {
    "tags": []
   },
   "outputs": [
    {
     "data": {
      "text/plain": [
       "['models/gb_vec_lastname_1M.joblib']"
      ]
     },
     "execution_count": 27,
     "metadata": {},
     "output_type": "execute_result"
    }
   ],
   "source": [
    "joblib.dump(vectorizer, \"models/gb_vec_lastname_1M.joblib\", compress=3)  # compression is ON!"
   ]
  },
  {
   "cell_type": "code",
   "execution_count": 28,
   "id": "7d836a71-0053-4159-819e-b78f7fbbd27c",
   "metadata": {
    "tags": []
   },
   "outputs": [
    {
     "data": {
      "text/plain": [
       "['models/gb_model_lastname_1M.joblib']"
      ]
     },
     "execution_count": 28,
     "metadata": {},
     "output_type": "execute_result"
    }
   ],
   "source": [
    "joblib.dump(clf, \"models/gb_model_lastname_1M.joblib\", compress=3)  # compression is ON!"
   ]
  },
  {
   "cell_type": "markdown",
   "id": "e273dbc0-f400-4915-9f73-fcf0532c0155",
   "metadata": {},
   "source": [
    "## Doing it for 2 million with 100 iterations"
   ]
  },
  {
   "cell_type": "code",
   "execution_count": 29,
   "id": "76f1c55a-8ff1-4286-8670-699c2bba71d5",
   "metadata": {
    "tags": []
   },
   "outputs": [
    {
     "name": "stdout",
     "output_type": "stream",
     "text": [
      "      Iter       Train Loss   Remaining Time \n",
      "         1           1.3000           62.70m\n",
      "         2           1.2697           59.99m\n",
      "         3           1.2458           59.52m\n",
      "         4           1.2265           58.41m\n",
      "         5           1.2109           57.59m\n",
      "         6           1.1984           56.85m\n",
      "         7           1.1877           56.37m\n",
      "         8           1.1784           55.36m\n",
      "         9           1.1709           54.42m\n",
      "        10           1.1643           53.80m\n",
      "        11           1.1586           53.14m\n",
      "        12           1.1532           52.78m\n",
      "        13           1.1485           52.32m\n",
      "        14           1.1445           52.03m\n",
      "        15           1.1410           51.33m\n",
      "        16           1.1375           50.60m\n",
      "        17           1.1345           49.87m\n",
      "        18           1.1314           49.11m\n",
      "        19           1.1289           48.31m\n",
      "        20           1.1264           47.48m\n",
      "        21           1.1241           46.68m\n",
      "        22           1.1220           45.91m\n",
      "        23           1.1202           45.08m\n",
      "        24           1.1183           44.40m\n",
      "        25           1.1165           43.75m\n",
      "        26           1.1150           43.06m\n",
      "        27           1.1137           42.36m\n",
      "        28           1.1121           41.75m\n",
      "        29           1.1109           41.24m\n",
      "        30           1.1095           40.63m\n",
      "        31           1.1083           39.94m\n",
      "        32           1.1070           39.29m\n",
      "        33           1.1059           38.68m\n",
      "        34           1.1046           38.05m\n",
      "        35           1.1037           37.43m\n",
      "        36           1.1025           36.78m\n",
      "        37           1.1016           36.13m\n",
      "        38           1.1006           35.45m\n",
      "        39           1.0997           34.80m\n",
      "        40           1.0987           34.18m\n",
      "        41           1.0978           33.60m\n",
      "        42           1.0968           33.01m\n",
      "        43           1.0960           32.44m\n",
      "        44           1.0951           31.84m\n",
      "        45           1.0944           31.22m\n",
      "        46           1.0936           30.59m\n",
      "        47           1.0929           29.97m\n",
      "        48           1.0921           29.40m\n",
      "        49           1.0914           28.83m\n",
      "        50           1.0907           28.26m\n",
      "        51           1.0898           27.73m\n",
      "        52           1.0892           27.14m\n",
      "        53           1.0886           26.57m\n",
      "        54           1.0879           25.98m\n",
      "        55           1.0874           25.40m\n",
      "        56           1.0868           24.83m\n",
      "        57           1.0862           24.24m\n",
      "        58           1.0855           23.69m\n",
      "        59           1.0850           23.15m\n",
      "        60           1.0843           22.57m\n",
      "        61           1.0837           22.01m\n",
      "        62           1.0831           21.45m\n",
      "        63           1.0826           20.89m\n",
      "        64           1.0822           20.34m\n",
      "        65           1.0816           19.77m\n",
      "        66           1.0811           19.20m\n",
      "        67           1.0807           18.64m\n",
      "        68           1.0802           18.09m\n",
      "        69           1.0796           17.53m\n",
      "        70           1.0792           16.95m\n",
      "        71           1.0787           16.38m\n",
      "        72           1.0782           15.80m\n",
      "        73           1.0778           15.23m\n",
      "        74           1.0772           14.66m\n",
      "        75           1.0769           14.10m\n",
      "        76           1.0764           13.53m\n",
      "        77           1.0760           12.96m\n",
      "        78           1.0756           12.39m\n",
      "        79           1.0752           11.82m\n",
      "        80           1.0748           11.25m\n",
      "        81           1.0744           10.68m\n",
      "        82           1.0740           10.11m\n",
      "        83           1.0736            9.55m\n",
      "        84           1.0732            8.99m\n",
      "        85           1.0729            8.42m\n",
      "        86           1.0725            7.85m\n",
      "        87           1.0721            7.29m\n",
      "        88           1.0718            6.72m\n",
      "        89           1.0715            6.16m\n",
      "        90           1.0711            5.59m\n",
      "        91           1.0708            5.03m\n",
      "        92           1.0704            4.46m\n",
      "        93           1.0700            3.90m\n",
      "        94           1.0697            3.34m\n",
      "        95           1.0694            2.78m\n",
      "        96           1.0691            2.23m\n",
      "        97           1.0688            1.67m\n",
      "        98           1.0685            1.11m\n",
      "        99           1.0681           33.32s\n",
      "       100           1.0678            0.00s\n",
      "CPU times: user 54min 12s, sys: 1min 16s, total: 55min 29s\n",
      "Wall time: 55min 37s\n"
     ]
    },
    {
     "data": {
      "text/html": [
       "<style>#sk-container-id-2 {color: black;background-color: white;}#sk-container-id-2 pre{padding: 0;}#sk-container-id-2 div.sk-toggleable {background-color: white;}#sk-container-id-2 label.sk-toggleable__label {cursor: pointer;display: block;width: 100%;margin-bottom: 0;padding: 0.3em;box-sizing: border-box;text-align: center;}#sk-container-id-2 label.sk-toggleable__label-arrow:before {content: \"▸\";float: left;margin-right: 0.25em;color: #696969;}#sk-container-id-2 label.sk-toggleable__label-arrow:hover:before {color: black;}#sk-container-id-2 div.sk-estimator:hover label.sk-toggleable__label-arrow:before {color: black;}#sk-container-id-2 div.sk-toggleable__content {max-height: 0;max-width: 0;overflow: hidden;text-align: left;background-color: #f0f8ff;}#sk-container-id-2 div.sk-toggleable__content pre {margin: 0.2em;color: black;border-radius: 0.25em;background-color: #f0f8ff;}#sk-container-id-2 input.sk-toggleable__control:checked~div.sk-toggleable__content {max-height: 200px;max-width: 100%;overflow: auto;}#sk-container-id-2 input.sk-toggleable__control:checked~label.sk-toggleable__label-arrow:before {content: \"▾\";}#sk-container-id-2 div.sk-estimator input.sk-toggleable__control:checked~label.sk-toggleable__label {background-color: #d4ebff;}#sk-container-id-2 div.sk-label input.sk-toggleable__control:checked~label.sk-toggleable__label {background-color: #d4ebff;}#sk-container-id-2 input.sk-hidden--visually {border: 0;clip: rect(1px 1px 1px 1px);clip: rect(1px, 1px, 1px, 1px);height: 1px;margin: -1px;overflow: hidden;padding: 0;position: absolute;width: 1px;}#sk-container-id-2 div.sk-estimator {font-family: monospace;background-color: #f0f8ff;border: 1px dotted black;border-radius: 0.25em;box-sizing: border-box;margin-bottom: 0.5em;}#sk-container-id-2 div.sk-estimator:hover {background-color: #d4ebff;}#sk-container-id-2 div.sk-parallel-item::after {content: \"\";width: 100%;border-bottom: 1px solid gray;flex-grow: 1;}#sk-container-id-2 div.sk-label:hover label.sk-toggleable__label {background-color: #d4ebff;}#sk-container-id-2 div.sk-serial::before {content: \"\";position: absolute;border-left: 1px solid gray;box-sizing: border-box;top: 0;bottom: 0;left: 50%;z-index: 0;}#sk-container-id-2 div.sk-serial {display: flex;flex-direction: column;align-items: center;background-color: white;padding-right: 0.2em;padding-left: 0.2em;position: relative;}#sk-container-id-2 div.sk-item {position: relative;z-index: 1;}#sk-container-id-2 div.sk-parallel {display: flex;align-items: stretch;justify-content: center;background-color: white;position: relative;}#sk-container-id-2 div.sk-item::before, #sk-container-id-2 div.sk-parallel-item::before {content: \"\";position: absolute;border-left: 1px solid gray;box-sizing: border-box;top: 0;bottom: 0;left: 50%;z-index: -1;}#sk-container-id-2 div.sk-parallel-item {display: flex;flex-direction: column;z-index: 1;position: relative;background-color: white;}#sk-container-id-2 div.sk-parallel-item:first-child::after {align-self: flex-end;width: 50%;}#sk-container-id-2 div.sk-parallel-item:last-child::after {align-self: flex-start;width: 50%;}#sk-container-id-2 div.sk-parallel-item:only-child::after {width: 0;}#sk-container-id-2 div.sk-dashed-wrapped {border: 1px dashed gray;margin: 0 0.4em 0.5em 0.4em;box-sizing: border-box;padding-bottom: 0.4em;background-color: white;}#sk-container-id-2 div.sk-label label {font-family: monospace;font-weight: bold;display: inline-block;line-height: 1.2em;}#sk-container-id-2 div.sk-label-container {text-align: center;}#sk-container-id-2 div.sk-container {/* jupyter's `normalize.less` sets `[hidden] { display: none; }` but bootstrap.min.css set `[hidden] { display: none !important; }` so we also need the `!important` here to be able to override the default hidden behavior on the sphinx rendered scikit-learn.org. See: https://github.com/scikit-learn/scikit-learn/issues/21755 */display: inline-block !important;position: relative;}#sk-container-id-2 div.sk-text-repr-fallback {display: none;}</style><div id=\"sk-container-id-2\" class=\"sk-top-container\"><div class=\"sk-text-repr-fallback\"><pre>GradientBoostingClassifier(random_state=42, verbose=6)</pre><b>In a Jupyter environment, please rerun this cell to show the HTML representation or trust the notebook. <br />On GitHub, the HTML representation is unable to render, please try loading this page with nbviewer.org.</b></div><div class=\"sk-container\" hidden><div class=\"sk-item\"><div class=\"sk-estimator sk-toggleable\"><input class=\"sk-toggleable__control sk-hidden--visually\" id=\"sk-estimator-id-2\" type=\"checkbox\" checked><label for=\"sk-estimator-id-2\" class=\"sk-toggleable__label sk-toggleable__label-arrow\">GradientBoostingClassifier</label><div class=\"sk-toggleable__content\"><pre>GradientBoostingClassifier(random_state=42, verbose=6)</pre></div></div></div></div></div>"
      ],
      "text/plain": [
       "GradientBoostingClassifier(random_state=42, verbose=6)"
      ]
     },
     "execution_count": 29,
     "metadata": {},
     "output_type": "execute_result"
    }
   ],
   "source": [
    "%%time\n",
    "#Train the model using the training sets y_pred=clf.predict(X_test)\n",
    "clf = GradientBoostingClassifier(random_state=42, verbose=6)\n",
    "\n",
    "# 2 million\n",
    "samples = 2 * 100 * 100 * 100\n",
    "# 1 million records took 2h 10min 13s\n",
    "# 2 million records took 3h 50 mins\n",
    "# 8 million records will take ~17 hours\n",
    "\n",
    "clf.fit(X_train[:samples], y_train[:samples])"
   ]
  },
  {
   "cell_type": "code",
   "execution_count": 30,
   "id": "d915e779-d055-4c74-b129-5864ff3dd982",
   "metadata": {
    "tags": []
   },
   "outputs": [
    {
     "name": "stdout",
     "output_type": "stream",
     "text": [
      "Val Accuracy: 0.6179352983038785\n",
      "CPU times: user 1.8 s, sys: 334 ms, total: 2.13 s\n",
      "Wall time: 2.31 s\n"
     ]
    }
   ],
   "source": [
    "%%time\n",
    "y_pred = clf.predict(X_val)\n",
    "# Model Accuracy, how often is the classifier correct?\n",
    "print(\"Val Accuracy:\", metrics.accuracy_score(y_val, y_pred))"
   ]
  },
  {
   "cell_type": "code",
   "execution_count": 31,
   "id": "574338bf-b610-4619-bd23-ddc2eec5c899",
   "metadata": {
    "tags": []
   },
   "outputs": [
    {
     "name": "stdout",
     "output_type": "stream",
     "text": [
      "Test Accuracy: 0.6173479221337603\n",
      "CPU times: user 1.69 s, sys: 76.5 ms, total: 1.77 s\n",
      "Wall time: 1.96 s\n"
     ]
    }
   ],
   "source": [
    "%%time\n",
    "y_pred = clf.predict(X_test)\n",
    "# Model Accuracy, how often is the classifier correct?\n",
    "print(\"Test Accuracy:\", metrics.accuracy_score(y_test, y_pred))"
   ]
  },
  {
   "cell_type": "code",
   "execution_count": 32,
   "id": "ce7677d6-3723-4d2b-9e88-823ed900dc6b",
   "metadata": {
    "tags": []
   },
   "outputs": [
    {
     "data": {
      "text/plain": [
       "['models/gb_vec_lastname_2M.joblib']"
      ]
     },
     "execution_count": 32,
     "metadata": {},
     "output_type": "execute_result"
    }
   ],
   "source": [
    "joblib.dump(vectorizer, \"models/gb_vec_lastname_2M.joblib\", compress=3)  # compression is ON!"
   ]
  },
  {
   "cell_type": "code",
   "execution_count": 33,
   "id": "ba7d6ce8-ed66-4d5e-86a0-f75a66c35bc2",
   "metadata": {
    "tags": []
   },
   "outputs": [
    {
     "data": {
      "text/plain": [
       "['models/gb_model_lastname_2M.joblib']"
      ]
     },
     "execution_count": 33,
     "metadata": {},
     "output_type": "execute_result"
    }
   ],
   "source": [
    "joblib.dump(clf, \"models/gb_model_lastname_2M.joblib\", compress=3)  # compression is ON!"
   ]
  },
  {
   "cell_type": "markdown",
   "id": "5f97bc2d-13a9-430d-970d-4929d539f8f5",
   "metadata": {},
   "source": [
    "# Now lets do for the whole train dataset with 20 iterations"
   ]
  },
  {
   "cell_type": "code",
   "execution_count": 34,
   "id": "f88669a8-23d8-473f-a377-287a26139330",
   "metadata": {
    "tags": []
   },
   "outputs": [
    {
     "name": "stdout",
     "output_type": "stream",
     "text": [
      "      Iter       Train Loss   Remaining Time \n",
      "         1           1.3000           12.11m\n",
      "         2           1.2697           11.02m\n",
      "         3           1.2458           10.36m\n",
      "         4           1.2265            9.80m\n",
      "         5           1.2109            9.07m\n",
      "         6           1.1984            8.36m\n",
      "         7           1.1877            7.71m\n",
      "         8           1.1784            7.07m\n",
      "         9           1.1709            6.46m\n",
      "        10           1.1643            5.83m\n",
      "        11           1.1586            5.23m\n",
      "        12           1.1532            4.64m\n",
      "        13           1.1485            4.05m\n",
      "        14           1.1445            3.46m\n",
      "        15           1.1410            2.88m\n",
      "        16           1.1375            2.30m\n",
      "        17           1.1345            1.74m\n",
      "        18           1.1314            1.17m\n",
      "        19           1.1289           34.89s\n",
      "        20           1.1264            0.00s\n",
      "CPU times: user 11min 7s, sys: 33.6 s, total: 11min 41s\n",
      "Wall time: 11min 46s\n"
     ]
    },
    {
     "data": {
      "text/html": [
       "<style>#sk-container-id-3 {color: black;background-color: white;}#sk-container-id-3 pre{padding: 0;}#sk-container-id-3 div.sk-toggleable {background-color: white;}#sk-container-id-3 label.sk-toggleable__label {cursor: pointer;display: block;width: 100%;margin-bottom: 0;padding: 0.3em;box-sizing: border-box;text-align: center;}#sk-container-id-3 label.sk-toggleable__label-arrow:before {content: \"▸\";float: left;margin-right: 0.25em;color: #696969;}#sk-container-id-3 label.sk-toggleable__label-arrow:hover:before {color: black;}#sk-container-id-3 div.sk-estimator:hover label.sk-toggleable__label-arrow:before {color: black;}#sk-container-id-3 div.sk-toggleable__content {max-height: 0;max-width: 0;overflow: hidden;text-align: left;background-color: #f0f8ff;}#sk-container-id-3 div.sk-toggleable__content pre {margin: 0.2em;color: black;border-radius: 0.25em;background-color: #f0f8ff;}#sk-container-id-3 input.sk-toggleable__control:checked~div.sk-toggleable__content {max-height: 200px;max-width: 100%;overflow: auto;}#sk-container-id-3 input.sk-toggleable__control:checked~label.sk-toggleable__label-arrow:before {content: \"▾\";}#sk-container-id-3 div.sk-estimator input.sk-toggleable__control:checked~label.sk-toggleable__label {background-color: #d4ebff;}#sk-container-id-3 div.sk-label input.sk-toggleable__control:checked~label.sk-toggleable__label {background-color: #d4ebff;}#sk-container-id-3 input.sk-hidden--visually {border: 0;clip: rect(1px 1px 1px 1px);clip: rect(1px, 1px, 1px, 1px);height: 1px;margin: -1px;overflow: hidden;padding: 0;position: absolute;width: 1px;}#sk-container-id-3 div.sk-estimator {font-family: monospace;background-color: #f0f8ff;border: 1px dotted black;border-radius: 0.25em;box-sizing: border-box;margin-bottom: 0.5em;}#sk-container-id-3 div.sk-estimator:hover {background-color: #d4ebff;}#sk-container-id-3 div.sk-parallel-item::after {content: \"\";width: 100%;border-bottom: 1px solid gray;flex-grow: 1;}#sk-container-id-3 div.sk-label:hover label.sk-toggleable__label {background-color: #d4ebff;}#sk-container-id-3 div.sk-serial::before {content: \"\";position: absolute;border-left: 1px solid gray;box-sizing: border-box;top: 0;bottom: 0;left: 50%;z-index: 0;}#sk-container-id-3 div.sk-serial {display: flex;flex-direction: column;align-items: center;background-color: white;padding-right: 0.2em;padding-left: 0.2em;position: relative;}#sk-container-id-3 div.sk-item {position: relative;z-index: 1;}#sk-container-id-3 div.sk-parallel {display: flex;align-items: stretch;justify-content: center;background-color: white;position: relative;}#sk-container-id-3 div.sk-item::before, #sk-container-id-3 div.sk-parallel-item::before {content: \"\";position: absolute;border-left: 1px solid gray;box-sizing: border-box;top: 0;bottom: 0;left: 50%;z-index: -1;}#sk-container-id-3 div.sk-parallel-item {display: flex;flex-direction: column;z-index: 1;position: relative;background-color: white;}#sk-container-id-3 div.sk-parallel-item:first-child::after {align-self: flex-end;width: 50%;}#sk-container-id-3 div.sk-parallel-item:last-child::after {align-self: flex-start;width: 50%;}#sk-container-id-3 div.sk-parallel-item:only-child::after {width: 0;}#sk-container-id-3 div.sk-dashed-wrapped {border: 1px dashed gray;margin: 0 0.4em 0.5em 0.4em;box-sizing: border-box;padding-bottom: 0.4em;background-color: white;}#sk-container-id-3 div.sk-label label {font-family: monospace;font-weight: bold;display: inline-block;line-height: 1.2em;}#sk-container-id-3 div.sk-label-container {text-align: center;}#sk-container-id-3 div.sk-container {/* jupyter's `normalize.less` sets `[hidden] { display: none; }` but bootstrap.min.css set `[hidden] { display: none !important; }` so we also need the `!important` here to be able to override the default hidden behavior on the sphinx rendered scikit-learn.org. See: https://github.com/scikit-learn/scikit-learn/issues/21755 */display: inline-block !important;position: relative;}#sk-container-id-3 div.sk-text-repr-fallback {display: none;}</style><div id=\"sk-container-id-3\" class=\"sk-top-container\"><div class=\"sk-text-repr-fallback\"><pre>GradientBoostingClassifier(n_estimators=20, random_state=42, verbose=6)</pre><b>In a Jupyter environment, please rerun this cell to show the HTML representation or trust the notebook. <br />On GitHub, the HTML representation is unable to render, please try loading this page with nbviewer.org.</b></div><div class=\"sk-container\" hidden><div class=\"sk-item\"><div class=\"sk-estimator sk-toggleable\"><input class=\"sk-toggleable__control sk-hidden--visually\" id=\"sk-estimator-id-3\" type=\"checkbox\" checked><label for=\"sk-estimator-id-3\" class=\"sk-toggleable__label sk-toggleable__label-arrow\">GradientBoostingClassifier</label><div class=\"sk-toggleable__content\"><pre>GradientBoostingClassifier(n_estimators=20, random_state=42, verbose=6)</pre></div></div></div></div></div>"
      ],
      "text/plain": [
       "GradientBoostingClassifier(n_estimators=20, random_state=42, verbose=6)"
      ]
     },
     "execution_count": 34,
     "metadata": {},
     "output_type": "execute_result"
    }
   ],
   "source": [
    "%%time\n",
    "\n",
    "clf = GradientBoostingClassifier(n_estimators=20, random_state=42, verbose=6)\n",
    "clf.fit(X_train, y_train)"
   ]
  },
  {
   "cell_type": "code",
   "execution_count": 35,
   "id": "3e216450-1c30-45cc-85c5-833c05fb2f36",
   "metadata": {
    "tags": []
   },
   "outputs": [
    {
     "name": "stdout",
     "output_type": "stream",
     "text": [
      "Val Accuracy: 0.5985499940695054\n",
      "CPU times: user 620 ms, sys: 85.6 ms, total: 705 ms\n",
      "Wall time: 870 ms\n"
     ]
    }
   ],
   "source": [
    "%%time\n",
    "y_pred = clf.predict(X_val)\n",
    "# Model Accuracy, how often is the classifier correct?\n",
    "print(\"Val Accuracy:\", metrics.accuracy_score(y_val, y_pred))"
   ]
  },
  {
   "cell_type": "code",
   "execution_count": 36,
   "id": "b2a64a28-7aae-4156-bb57-76db1774680b",
   "metadata": {
    "tags": []
   },
   "outputs": [
    {
     "name": "stdout",
     "output_type": "stream",
     "text": [
      "Test Accuracy: 0.5973402126050794\n",
      "CPU times: user 606 ms, sys: 46.7 ms, total: 653 ms\n",
      "Wall time: 862 ms\n"
     ]
    }
   ],
   "source": [
    "%%time\n",
    "y_pred = clf.predict(X_test)\n",
    "# Model Accuracy, how often is the classifier correct?\n",
    "print(\"Test Accuracy:\", metrics.accuracy_score(y_test, y_pred))"
   ]
  },
  {
   "cell_type": "code",
   "execution_count": 37,
   "id": "fce9d2a2-df49-43fe-b477-fa51dc64f01e",
   "metadata": {
    "tags": []
   },
   "outputs": [
    {
     "data": {
      "text/plain": [
       "['models/gb_vec_lastname.joblib']"
      ]
     },
     "execution_count": 37,
     "metadata": {},
     "output_type": "execute_result"
    }
   ],
   "source": [
    "joblib.dump(vectorizer, \"models/gb_vec_lastname.joblib\", compress=3)  # compression is ON!"
   ]
  },
  {
   "cell_type": "code",
   "execution_count": 38,
   "id": "e391f3db-c17b-4f01-bf1d-4317ff363572",
   "metadata": {},
   "outputs": [
    {
     "data": {
      "text/plain": [
       "['models/gb_model_lastname.joblib']"
      ]
     },
     "execution_count": 38,
     "metadata": {},
     "output_type": "execute_result"
    }
   ],
   "source": [
    "joblib.dump(clf, \"models/gb_model_lastname.joblib\", compress=3)  # compression is ON!"
   ]
  },
  {
   "cell_type": "markdown",
   "id": "39450453-38bd-4b6f-a792-6ecd875a106b",
   "metadata": {},
   "source": [
    "## Confusion Matrix"
   ]
  },
  {
   "cell_type": "code",
   "execution_count": 39,
   "id": "575f426e-e2c1-40bb-8c88-bf0dcec9bab8",
   "metadata": {
    "tags": []
   },
   "outputs": [],
   "source": [
    "race_id_df = train_df[['race', 'race_code']].drop_duplicates().sort_values('race_code')\n",
    "race_to_id = dict(race_id_df.values)"
   ]
  },
  {
   "cell_type": "code",
   "execution_count": 40,
   "id": "4d186d8d-ef16-466a-9b94-132d4d79ab6f",
   "metadata": {
    "tags": []
   },
   "outputs": [
    {
     "data": {
      "text/plain": [
       "{'other': 0, 'nh_black': 1, 'nh_white': 2, 'hispanic': 3, 'asian': 4}"
      ]
     },
     "execution_count": 40,
     "metadata": {},
     "output_type": "execute_result"
    }
   ],
   "source": [
    "race_to_id"
   ]
  },
  {
   "cell_type": "code",
   "execution_count": 41,
   "id": "547e0fce-052e-4835-8a2a-fb8435b2b395",
   "metadata": {
    "tags": []
   },
   "outputs": [],
   "source": [
    "id_to_race = dict(race_id_df[['race_code', 'race']].values)"
   ]
  },
  {
   "cell_type": "code",
   "execution_count": 42,
   "id": "324feaf6-2b00-4a27-9170-681248a23c01",
   "metadata": {
    "tags": []
   },
   "outputs": [
    {
     "data": {
      "text/plain": [
       "{0: 'other', 1: 'nh_black', 2: 'nh_white', 3: 'hispanic', 4: 'asian'}"
      ]
     },
     "execution_count": 42,
     "metadata": {},
     "output_type": "execute_result"
    }
   ],
   "source": [
    "id_to_race"
   ]
  },
  {
   "cell_type": "markdown",
   "id": "9cf922af-de73-4254-93b2-a4e6e9726e6c",
   "metadata": {
    "tags": []
   },
   "source": [
    "### For 1M model"
   ]
  },
  {
   "cell_type": "code",
   "execution_count": 43,
   "id": "f21a2c41-faa1-49ba-b785-5a81e951d36f",
   "metadata": {
    "tags": []
   },
   "outputs": [
    {
     "name": "stdout",
     "output_type": "stream",
     "text": [
      "Defaulting to user installation because normal site-packages is not writeable\n",
      "Requirement already satisfied: matplotlib in /home/distill1994/.local/lib/python3.10/site-packages (3.7.1)\n",
      "Requirement already satisfied: packaging>=20.0 in /usr/local/lib/python3.10/dist-packages (from matplotlib) (23.1)\n",
      "Requirement already satisfied: contourpy>=1.0.1 in /home/distill1994/.local/lib/python3.10/site-packages (from matplotlib) (1.0.7)\n",
      "Requirement already satisfied: numpy>=1.20 in /home/distill1994/.local/lib/python3.10/site-packages (from matplotlib) (1.24.3)\n",
      "Requirement already satisfied: pyparsing>=2.3.1 in /home/distill1994/.local/lib/python3.10/site-packages (from matplotlib) (3.0.9)\n",
      "Requirement already satisfied: python-dateutil>=2.7 in /usr/local/lib/python3.10/dist-packages (from matplotlib) (2.8.2)\n",
      "Requirement already satisfied: cycler>=0.10 in /home/distill1994/.local/lib/python3.10/site-packages (from matplotlib) (0.11.0)\n",
      "Requirement already satisfied: pillow>=6.2.0 in /home/distill1994/.local/lib/python3.10/site-packages (from matplotlib) (9.3.0)\n",
      "Requirement already satisfied: kiwisolver>=1.0.1 in /home/distill1994/.local/lib/python3.10/site-packages (from matplotlib) (1.4.4)\n",
      "Requirement already satisfied: fonttools>=4.22.0 in /home/distill1994/.local/lib/python3.10/site-packages (from matplotlib) (4.39.4)\n",
      "Requirement already satisfied: six>=1.5 in /usr/lib/python3/dist-packages (from python-dateutil>=2.7->matplotlib) (1.16.0)\n"
     ]
    }
   ],
   "source": [
    "!pip install matplotlib"
   ]
  },
  {
   "cell_type": "code",
   "execution_count": 45,
   "id": "27ace3e7-d206-448f-8fd0-8baa003bc4a0",
   "metadata": {
    "tags": []
   },
   "outputs": [
    {
     "name": "stdout",
     "output_type": "stream",
     "text": [
      "              precision    recall  f1-score   support\n",
      "\n",
      "       asian       0.54      0.03      0.05      6867\n",
      "    hispanic       0.78      0.67      0.72     38961\n",
      "    nh_black       0.62      0.08      0.15     13726\n",
      "    nh_white       0.56      0.92      0.70     60970\n",
      "       other       0.35      0.00      0.00     14374\n",
      "\n",
      "    accuracy                           0.62    134898\n",
      "   macro avg       0.57      0.34      0.32    134898\n",
      "weighted avg       0.61      0.62      0.54    134898\n",
      "\n"
     ]
    },
    {
     "data": {
      "text/plain": [
       "<sklearn.metrics._plot.confusion_matrix.ConfusionMatrixDisplay at 0x7f7d96197f70>"
      ]
     },
     "execution_count": 45,
     "metadata": {},
     "output_type": "execute_result"
    },
    {
     "data": {
      "image/png": "[encoded data removed]",
      "text/plain": [
       "<Figure size 800x800 with 2 Axes>"
      ]
     },
     "metadata": {},
     "output_type": "display_data"
    }
   ],
   "source": [
    "from sklearn.metrics import confusion_matrix, classification_report, ConfusionMatrixDisplay\n",
    "import matplotlib.pyplot as plt\n",
    "%matplotlib inline  \n",
    "\n",
    "model_1m = joblib.load('models/gb_model_lastname_1M.joblib')\n",
    "preds = model_1m.predict(X_test)\n",
    "predicted = [id_to_race[p] for p in preds]\n",
    "actual = [id_to_race[p] for p in y_test.values]\n",
    "\n",
    "print(classification_report(actual, predicted))\n",
    "\n",
    "cm = confusion_matrix(actual, predicted, labels=list(race_to_id.keys()))\n",
    "cmp = ConfusionMatrixDisplay(cm, display_labels=list(race_to_id.keys()))\n",
    "fig, ax = plt.subplots(figsize=(8,8))\n",
    "cmp.plot(ax=ax, xticks_rotation='vertical')"
   ]
  },
  {
   "cell_type": "markdown",
   "id": "2d4ffcdb-0dfa-4135-92f0-4ee9bc1cca04",
   "metadata": {
    "tags": []
   },
   "source": [
    "### For 2M Model"
   ]
  },
  {
   "cell_type": "code",
   "execution_count": 46,
   "id": "775560d2-5583-4faf-8451-75ab19d09b18",
   "metadata": {
    "tags": []
   },
   "outputs": [
    {
     "name": "stdout",
     "output_type": "stream",
     "text": [
      "              precision    recall  f1-score   support\n",
      "\n",
      "       asian       0.53      0.03      0.05      6867\n",
      "    hispanic       0.78      0.67      0.72     38961\n",
      "    nh_black       0.63      0.08      0.15     13726\n",
      "    nh_white       0.56      0.92      0.70     60970\n",
      "       other       0.38      0.00      0.00     14374\n",
      "\n",
      "    accuracy                           0.62    134898\n",
      "   macro avg       0.58      0.34      0.32    134898\n",
      "weighted avg       0.61      0.62      0.54    134898\n",
      "\n"
     ]
    },
    {
     "data": {
      "text/plain": [
       "<sklearn.metrics._plot.confusion_matrix.ConfusionMatrixDisplay at 0x7f7d9da881c0>"
      ]
     },
     "execution_count": 46,
     "metadata": {},
     "output_type": "execute_result"
    },
    {
     "data": {
      "image/png": "[encoded data removed]",
      "text/plain": [
       "<Figure size 800x800 with 2 Axes>"
      ]
     },
     "metadata": {},
     "output_type": "display_data"
    }
   ],
   "source": [
    "model_2m = joblib.load('models/gb_model_lastname_2M.joblib')\n",
    "preds = model_2m.predict(X_test)\n",
    "predicted = [id_to_race[p] for p in preds]\n",
    "actual = [id_to_race[p] for p in y_test.values]\n",
    "\n",
    "print(classification_report(actual, predicted))\n",
    "\n",
    "cm = confusion_matrix(actual, predicted, labels=list(race_to_id.keys()))\n",
    "cmp = ConfusionMatrixDisplay(cm, display_labels=list(race_to_id.keys()))\n",
    "fig, ax = plt.subplots(figsize=(8,8))\n",
    "cmp.plot(ax=ax, xticks_rotation='vertical')"
   ]
  },
  {
   "cell_type": "markdown",
   "id": "4a95f50f-487a-411b-b3e5-eaf6af672206",
   "metadata": {
    "tags": []
   },
   "source": [
    "### For Model trained  with complete dataset (20 iterations)"
   ]
  },
  {
   "cell_type": "code",
   "execution_count": 47,
   "id": "7401ff7d-a24f-488b-b9f7-58ac0b45f5d2",
   "metadata": {
    "tags": []
   },
   "outputs": [
    {
     "name": "stderr",
     "output_type": "stream",
     "text": [
      "/home/distill1994/.local/lib/python3.10/site-packages/sklearn/metrics/_classification.py:1344: UndefinedMetricWarning: Precision and F-score are ill-defined and being set to 0.0 in labels with no predicted samples. Use `zero_division` parameter to control this behavior.\n",
      "  _warn_prf(average, modifier, msg_start, len(result))\n",
      "/home/distill1994/.local/lib/python3.10/site-packages/sklearn/metrics/_classification.py:1344: UndefinedMetricWarning: Precision and F-score are ill-defined and being set to 0.0 in labels with no predicted samples. Use `zero_division` parameter to control this behavior.\n",
      "  _warn_prf(average, modifier, msg_start, len(result))\n",
      "/home/distill1994/.local/lib/python3.10/site-packages/sklearn/metrics/_classification.py:1344: UndefinedMetricWarning: Precision and F-score are ill-defined and being set to 0.0 in labels with no predicted samples. Use `zero_division` parameter to control this behavior.\n",
      "  _warn_prf(average, modifier, msg_start, len(result))\n"
     ]
    },
    {
     "name": "stdout",
     "output_type": "stream",
     "text": [
      "              precision    recall  f1-score   support\n",
      "\n",
      "       asian       0.61      0.00      0.00      6867\n",
      "    hispanic       0.73      0.65      0.69     38961\n",
      "    nh_black       0.62      0.02      0.04     13726\n",
      "    nh_white       0.55      0.90      0.69     60970\n",
      "       other       0.00      0.00      0.00     14374\n",
      "\n",
      "    accuracy                           0.60    134898\n",
      "   macro avg       0.50      0.31      0.28    134898\n",
      "weighted avg       0.55      0.60      0.51    134898\n",
      "\n"
     ]
    },
    {
     "data": {
      "text/plain": [
       "<sklearn.metrics._plot.confusion_matrix.ConfusionMatrixDisplay at 0x7f7d97e211b0>"
      ]
     },
     "execution_count": 47,
     "metadata": {},
     "output_type": "execute_result"
    },
    {
     "data": {
      "image/png": "[encoded data removed]",
      "text/plain": [
       "<Figure size 800x800 with 2 Axes>"
      ]
     },
     "metadata": {},
     "output_type": "display_data"
    }
   ],
   "source": [
    "model_full = joblib.load('models/gb_model_lastname.joblib')\n",
    "preds = model_full.predict(X_test)\n",
    "predicted = [id_to_race[p] for p in preds]\n",
    "actual = [id_to_race[p] for p in y_test.values]\n",
    "\n",
    "print(classification_report(actual, predicted))\n",
    "\n",
    "cm = confusion_matrix(actual, predicted, labels=list(race_to_id.keys()))\n",
    "cmp = ConfusionMatrixDisplay(cm, display_labels=list(race_to_id.keys()))\n",
    "fig, ax = plt.subplots(figsize=(8,8))\n",
    "cmp.plot(ax=ax, xticks_rotation='vertical')"
   ]
  },
  {
   "cell_type": "code",
   "execution_count": null,
   "id": "80bf6183-fda0-4b73-8952-82c03d044580",
   "metadata": {},
   "outputs": [],
   "source": []
  }
 ],
 "metadata": {
  "kernelspec": {
   "display_name": "Python 3 (ipykernel)",
   "language": "python",
   "name": "python3"
  },
  "language_info": {
   "codemirror_mode": {
    "name": "ipython",
    "version": 3
   },
   "file_extension": ".py",
   "mimetype": "text/x-python",
   "name": "python",
   "nbconvert_exporter": "python",
   "pygments_lexer": "ipython3",
   "version": "3.10.6"
  }
 },
 "nbformat": 4,
 "nbformat_minor": 5
}
