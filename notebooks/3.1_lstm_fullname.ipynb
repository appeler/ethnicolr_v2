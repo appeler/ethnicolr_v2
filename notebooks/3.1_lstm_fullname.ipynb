{
 "cells": [
  {
   "cell_type": "code",
   "execution_count": 1,
   "metadata": {},
   "outputs": [
    {
     "name": "stdout",
     "output_type": "stream",
     "text": [
      "Defaulting to user installation because normal site-packages is not writeable\n",
      "Requirement already satisfied: fastprogress in ./.local/lib/python3.8/site-packages (1.0.3)\n",
      "\n",
      "\u001b[1m[\u001b[0m\u001b[34;49mnotice\u001b[0m\u001b[1;39;49m]\u001b[0m\u001b[39;49m A new release of pip is available: \u001b[0m\u001b[31;49m23.0.1\u001b[0m\u001b[39;49m -> \u001b[0m\u001b[32;49m23.1.2\u001b[0m\n",
      "\u001b[1m[\u001b[0m\u001b[34;49mnotice\u001b[0m\u001b[1;39;49m]\u001b[0m\u001b[39;49m To update, run: \u001b[0m\u001b[32;49mpython3 -m pip install --upgrade pip\u001b[0m\n"
     ]
    }
   ],
   "source": [
    "!pip install fastprogress"
   ]
  },
  {
   "cell_type": "code",
   "execution_count": 2,
   "metadata": {
    "id": "6wTqaxXwRGBE"
   },
   "outputs": [
    {
     "name": "stderr",
     "output_type": "stream",
     "text": [
      "/home/ubuntu/.local/lib/python3.8/site-packages/pandas/core/computation/expressions.py:20: UserWarning: Pandas requires version '2.7.3' or newer of 'numexpr' (version '2.7.1' currently installed).\n",
      "  from pandas.core.computation.check import NUMEXPR_INSTALLED\n"
     ]
    }
   ],
   "source": [
    "import string\n",
    "\n",
    "import torch \n",
    "import torch.nn as nn\n",
    "from torch.utils.data import Dataset, DataLoader\n",
    "from torch.optim.adamw import AdamW\n",
    "\n",
    "from tqdm import tqdm\n",
    "tqdm.pandas()\n",
    "\n",
    "import pandas as pd\n",
    "import numpy as np\n",
    "\n",
    "from fastprogress import master_bar, progress_bar"
   ]
  },
  {
   "cell_type": "markdown",
   "metadata": {
    "id": "cSlSeNxpELos"
   },
   "source": [
    "## Data preprocessing"
   ]
  },
  {
   "cell_type": "code",
   "execution_count": 3,
   "metadata": {
    "id": "VVVfrmyYbL0-"
   },
   "outputs": [],
   "source": [
    "train_df = pd.read_csv(\"data/fl_2022_FullName_train.csv.gz\")\n",
    "val_df = pd.read_csv(\"data/fl_2022_FullName_val.csv.gz\")\n",
    "test_df = pd.read_csv(\"data/fl_2022_FullName_test.csv.gz\")"
   ]
  },
  {
   "cell_type": "code",
   "execution_count": 4,
   "metadata": {
    "colab": {
     "base_uri": "https://localhost:8080/",
     "height": 206
    },
    "executionInfo": {
     "elapsed": 17,
     "status": "ok",
     "timestamp": 1685452688930,
     "user": {
      "displayName": "Rajashekar Chintalapati",
      "userId": "03596288833202137831"
     },
     "user_tz": 420
    },
    "id": "u0TJpyUQEAHz",
    "outputId": "c1c59856-850b-49c8-aab1-4c8f2de401de"
   },
   "outputs": [
    {
     "name": "stdout",
     "output_type": "stream",
     "text": [
      "(7678780, 5)\n",
      "(959847, 5)\n",
      "(959848, 5)\n"
     ]
    }
   ],
   "source": [
    "print(train_df.shape)\n",
    "print(val_df.shape)\n",
    "print(test_df.shape)"
   ]
  },
  {
   "cell_type": "markdown",
   "metadata": {
    "id": "GzHXp_2UE_H6"
   },
   "source": [
    "## Creating Dataset"
   ]
  },
  {
   "cell_type": "code",
   "execution_count": 5,
   "metadata": {
    "id": "eQma_l_7KbGw"
   },
   "outputs": [],
   "source": [
    "all_letters = string.ascii_letters + \"'- \""
   ]
  },
  {
   "cell_type": "code",
   "execution_count": 6,
   "metadata": {
    "colab": {
     "base_uri": "https://localhost:8080/",
     "height": 36
    },
    "executionInfo": {
     "elapsed": 24,
     "status": "ok",
     "timestamp": 1685452771796,
     "user": {
      "displayName": "Rajashekar Chintalapati",
      "userId": "03596288833202137831"
     },
     "user_tz": 420
    },
    "id": "acgCGLmiKePO",
    "outputId": "71bfc8d4-3243-42d3-ce30-53bbc778ceff"
   },
   "outputs": [
    {
     "data": {
      "text/plain": [
       "\"abcdefghijklmnopqrstuvwxyzABCDEFGHIJKLMNOPQRSTUVWXYZ'- \""
      ]
     },
     "execution_count": 6,
     "metadata": {},
     "output_type": "execute_result"
    }
   ],
   "source": [
    "all_letters"
   ]
  },
  {
   "cell_type": "code",
   "execution_count": 7,
   "metadata": {
    "id": "NRIPVUoDKg6I"
   },
   "outputs": [],
   "source": [
    "n_letters = len(all_letters)"
   ]
  },
  {
   "cell_type": "code",
   "execution_count": 8,
   "metadata": {
    "colab": {
     "base_uri": "https://localhost:8080/"
    },
    "executionInfo": {
     "elapsed": 22,
     "status": "ok",
     "timestamp": 1685452771797,
     "user": {
      "displayName": "Rajashekar Chintalapati",
      "userId": "03596288833202137831"
     },
     "user_tz": 420
    },
    "id": "54yuEsreKkDP",
    "outputId": "1aebf828-2613-418d-b267-75fe8fa5aabc"
   },
   "outputs": [
    {
     "data": {
      "text/plain": [
       "55"
      ]
     },
     "execution_count": 8,
     "metadata": {},
     "output_type": "execute_result"
    }
   ],
   "source": [
    "n_letters"
   ]
  },
  {
   "cell_type": "code",
   "execution_count": 57,
   "metadata": {},
   "outputs": [],
   "source": [
    "race_id_df = train_df[['race', 'race_code']].drop_duplicates().sort_values('race_code')\n",
    "race_to_id = dict(race_id_df.values)"
   ]
  },
  {
   "cell_type": "code",
   "execution_count": 58,
   "metadata": {},
   "outputs": [
    {
     "data": {
      "text/plain": [
       "{'nh_white': 0, 'nh_black': 1, 'other': 2, 'hispanic': 3, 'asian': 4}"
      ]
     },
     "execution_count": 58,
     "metadata": {},
     "output_type": "execute_result"
    }
   ],
   "source": [
    "race_to_id"
   ]
  },
  {
   "cell_type": "code",
   "execution_count": 59,
   "metadata": {},
   "outputs": [],
   "source": [
    "id_to_race = dict(race_id_df[['race_code', 'race']].values)"
   ]
  },
  {
   "cell_type": "code",
   "execution_count": 60,
   "metadata": {},
   "outputs": [
    {
     "data": {
      "text/plain": [
       "{0: 'nh_white', 1: 'nh_black', 2: 'other', 3: 'hispanic', 4: 'asian'}"
      ]
     },
     "execution_count": 60,
     "metadata": {},
     "output_type": "execute_result"
    }
   ],
   "source": [
    "id_to_race"
   ]
  },
  {
   "cell_type": "code",
   "execution_count": 62,
   "metadata": {},
   "outputs": [
    {
     "data": {
      "text/plain": [
       "dict_values(['nh_white', 'nh_black', 'other', 'hispanic', 'asian'])"
      ]
     },
     "execution_count": 62,
     "metadata": {},
     "output_type": "execute_result"
    }
   ],
   "source": [
    "id_to_race.values()"
   ]
  },
  {
   "cell_type": "code",
   "execution_count": 67,
   "metadata": {
    "id": "Y0LCplqlShEA"
   },
   "outputs": [],
   "source": [
    "all_categories = list(id_to_race.values())"
   ]
  },
  {
   "cell_type": "code",
   "execution_count": 68,
   "metadata": {
    "colab": {
     "base_uri": "https://localhost:8080/"
    },
    "executionInfo": {
     "elapsed": 18,
     "status": "ok",
     "timestamp": 1685452773760,
     "user": {
      "displayName": "Rajashekar Chintalapati",
      "userId": "03596288833202137831"
     },
     "user_tz": 420
    },
    "id": "7U_2wvowSlBw",
    "outputId": "98a40b82-e8f8-4854-86f4-8c1ded2bf471"
   },
   "outputs": [
    {
     "data": {
      "text/plain": [
       "['nh_white', 'nh_black', 'other', 'hispanic', 'asian']"
      ]
     },
     "execution_count": 68,
     "metadata": {},
     "output_type": "execute_result"
    }
   ],
   "source": [
    "all_categories"
   ]
  },
  {
   "cell_type": "code",
   "execution_count": 11,
   "metadata": {
    "id": "RGI0sLnDLyAc"
   },
   "outputs": [],
   "source": [
    "n_categories = len(train_df['race_code'].unique())"
   ]
  },
  {
   "cell_type": "code",
   "execution_count": 12,
   "metadata": {
    "colab": {
     "base_uri": "https://localhost:8080/"
    },
    "executionInfo": {
     "elapsed": 15,
     "status": "ok",
     "timestamp": 1685452773761,
     "user": {
      "displayName": "Rajashekar Chintalapati",
      "userId": "03596288833202137831"
     },
     "user_tz": 420
    },
    "id": "mfoygEhaXeHx",
    "outputId": "03676b88-c6a3-4a7e-f350-aa1d49d63f24"
   },
   "outputs": [
    {
     "data": {
      "text/plain": [
       "5"
      ]
     },
     "execution_count": 12,
     "metadata": {},
     "output_type": "execute_result"
    }
   ],
   "source": [
    "n_categories"
   ]
  },
  {
   "cell_type": "code",
   "execution_count": 13,
   "metadata": {
    "id": "XB3ojCrtKYfo"
   },
   "outputs": [],
   "source": [
    "max_name = train_df['full_name'].str.len().max()"
   ]
  },
  {
   "cell_type": "code",
   "execution_count": 14,
   "metadata": {
    "id": "RI-qV--Da6I_"
   },
   "outputs": [],
   "source": [
    "def letterToIndex(letter):\n",
    "    return all_letters.find(letter)"
   ]
  },
  {
   "cell_type": "code",
   "execution_count": 15,
   "metadata": {
    "colab": {
     "base_uri": "https://localhost:8080/"
    },
    "executionInfo": {
     "elapsed": 21,
     "status": "ok",
     "timestamp": 1685452776425,
     "user": {
      "displayName": "Rajashekar Chintalapati",
      "userId": "03596288833202137831"
     },
     "user_tz": 420
    },
    "id": "w8QVD30SbCRy",
    "outputId": "bc8c6904-0fc7-423d-af76-c993499f6b15"
   },
   "outputs": [
    {
     "data": {
      "text/plain": [
       "54"
      ]
     },
     "execution_count": 15,
     "metadata": {},
     "output_type": "execute_result"
    }
   ],
   "source": [
    "letterToIndex(' ')"
   ]
  },
  {
   "cell_type": "code",
   "execution_count": 16,
   "metadata": {
    "id": "t0fkgqZEbbh5"
   },
   "outputs": [],
   "source": [
    "oob = n_letters + 1"
   ]
  },
  {
   "cell_type": "code",
   "execution_count": 17,
   "metadata": {
    "colab": {
     "base_uri": "https://localhost:8080/"
    },
    "executionInfo": {
     "elapsed": 20,
     "status": "ok",
     "timestamp": 1685452776426,
     "user": {
      "displayName": "Rajashekar Chintalapati",
      "userId": "03596288833202137831"
     },
     "user_tz": 420
    },
    "id": "4b4W2hy7b_q-",
    "outputId": "edba2ba9-70eb-4036-c53e-78734da77692"
   },
   "outputs": [
    {
     "data": {
      "text/plain": [
       "tensor([1., 1., 1., 1., 1.])"
      ]
     },
     "execution_count": 17,
     "metadata": {},
     "output_type": "execute_result"
    }
   ],
   "source": [
    "torch.ones(5)"
   ]
  },
  {
   "cell_type": "code",
   "execution_count": 18,
   "metadata": {
    "id": "k_pOih-zKyXc"
   },
   "outputs": [],
   "source": [
    "def lineToTensor(line):\n",
    "    tensor = torch.ones(max_name) * oob\n",
    "    for li, letter in enumerate(line):\n",
    "        tensor[li] = letterToIndex(letter)\n",
    "    return tensor"
   ]
  },
  {
   "cell_type": "code",
   "execution_count": 19,
   "metadata": {
    "colab": {
     "base_uri": "https://localhost:8080/"
    },
    "executionInfo": {
     "elapsed": 16,
     "status": "ok",
     "timestamp": 1685452776427,
     "user": {
      "displayName": "Rajashekar Chintalapati",
      "userId": "03596288833202137831"
     },
     "user_tz": 420
    },
    "id": "uRYxmYbkcIVZ",
    "outputId": "795f71e2-8c49-46b5-e698-3e0529d6aff7"
   },
   "outputs": [
    {
     "data": {
      "text/plain": [
       "tensor([35.,  0., 18., 14., 13., 56., 56., 56., 56., 56., 56., 56., 56., 56.,\n",
       "        56., 56., 56., 56., 56., 56., 56., 56., 56., 56., 56., 56., 56., 56.,\n",
       "        56., 56., 56., 56., 56., 56., 56., 56., 56., 56., 56., 56., 56., 56.,\n",
       "        56., 56., 56., 56., 56.])"
      ]
     },
     "execution_count": 19,
     "metadata": {},
     "output_type": "execute_result"
    }
   ],
   "source": [
    "lineToTensor('Jason')"
   ]
  },
  {
   "cell_type": "code",
   "execution_count": 20,
   "metadata": {
    "colab": {
     "base_uri": "https://localhost:8080/"
    },
    "executionInfo": {
     "elapsed": 12,
     "status": "ok",
     "timestamp": 1685452776427,
     "user": {
      "displayName": "Rajashekar Chintalapati",
      "userId": "03596288833202137831"
     },
     "user_tz": 420
    },
    "id": "NPAYYcHAK59U",
    "outputId": "aef25557-21fe-4b98-90ef-121f34d72a61"
   },
   "outputs": [
    {
     "name": "stdout",
     "output_type": "stream",
     "text": [
      "torch.Size([47])\n"
     ]
    }
   ],
   "source": [
    "print(lineToTensor('Jason').size())"
   ]
  },
  {
   "cell_type": "code",
   "execution_count": 21,
   "metadata": {
    "id": "kKwuNTwjEzkV"
   },
   "outputs": [],
   "source": [
    "# A custom Dataset class must implement three functions: __init__, __len__, and __getitem__\n",
    "\n",
    "class EthniColorDataset(Dataset):\n",
    "  def __init__(self, data_df, transform=None):\n",
    "    self.df = data_df\n",
    "    self.transform = transform\n",
    "  \n",
    "  def __len__(self):\n",
    "    return len(self.df)\n",
    "\n",
    "  def __getitem__(self, idx):\n",
    "    if torch.is_tensor(idx):\n",
    "      idx = idx.tolist()\n",
    "    name = self.df.iloc[idx, 3]\n",
    "    if self.transform:\n",
    "      name = self.transform(name)\n",
    "    label = self.df.iloc[idx, 4]\n",
    "    #target = getTarget(label)\n",
    "    target = torch.tensor(label, dtype=torch.int64)\n",
    "    return name, target"
   ]
  },
  {
   "cell_type": "code",
   "execution_count": 22,
   "metadata": {
    "id": "Ue_MhX-7QN9I"
   },
   "outputs": [],
   "source": [
    "train_dataset = EthniColorDataset(train_df, lineToTensor)\n",
    "val_dataset = EthniColorDataset(val_df, lineToTensor)\n",
    "test_dataset = EthniColorDataset(test_df, lineToTensor)"
   ]
  },
  {
   "cell_type": "code",
   "execution_count": 23,
   "metadata": {
    "id": "U9fp-gC9Mnft"
   },
   "outputs": [
    {
     "name": "stdout",
     "output_type": "stream",
     "text": [
      "0 tensor([27.,  0., 23., 11.,  0., 54., 41.,  7., 24., 11., 11.,  8., 18., 56.,\n",
      "        56., 56., 56., 56., 56., 56., 56., 56., 56., 56., 56., 56., 56., 56.,\n",
      "        56., 56., 56., 56., 56., 56., 56., 56., 56., 56., 56., 56., 56., 56.,\n",
      "        56., 56., 56., 56., 56.]) tensor(0)\n",
      "1 tensor([37., 20.,  3., 22.,  8., 13., 54., 43., 14., 13., 56., 56., 56., 56.,\n",
      "        56., 56., 56., 56., 56., 56., 56., 56., 56., 56., 56., 56., 56., 56.,\n",
      "        56., 56., 56., 56., 56., 56., 56., 56., 56., 56., 56., 56., 56., 56.,\n",
      "        56., 56., 56., 56., 56.]) tensor(0)\n",
      "2 tensor([44.,  8.,  6., 13.,  4., 17., 54., 48.,  4., 11., 19., 14., 13., 54.,\n",
      "        35.,  4., 18., 18.,  8.,  2.,  0., 56., 56., 56., 56., 56., 56., 56.,\n",
      "        56., 56., 56., 56., 56., 56., 56., 56., 56., 56., 56., 56., 56., 56.,\n",
      "        56., 56., 56., 56., 56.]) tensor(0)\n"
     ]
    }
   ],
   "source": [
    "for i in range(3):\n",
    "  name, label = train_dataset[i]\n",
    "  print(i, name, label)"
   ]
  },
  {
   "cell_type": "code",
   "execution_count": 24,
   "metadata": {
    "id": "tGyzWNzgNzjc"
   },
   "outputs": [],
   "source": [
    "# The Dataset retrieves our dataset’s features and labels one sample at a time. \n",
    "# While training a model, we typically want to pass samples in “minibatches”, \n",
    "# reshuffle the data at every epoch to reduce model overfitting, and \n",
    "# use Python’s multiprocessing to speed up data retrieval.\n",
    "\n",
    "batch_size=128\n",
    "\n",
    "train_dataloader = DataLoader(train_dataset, batch_size=batch_size, shuffle=True, drop_last=True, num_workers=12)\n",
    "val_dataloader = DataLoader(val_dataset, batch_size=batch_size, shuffle=True, drop_last=True, num_workers=12)\n",
    "test_dataloader = DataLoader(test_dataset, batch_size=batch_size, shuffle=True, drop_last=True, num_workers=12)"
   ]
  },
  {
   "cell_type": "code",
   "execution_count": 25,
   "metadata": {
    "id": "C7c7-RtYlE3G"
   },
   "outputs": [
    {
     "data": {
      "text/plain": [
       "[tensor([[47., 14., 11.,  ..., 56., 56., 56.],\n",
       "         [41.,  4., 13.,  ..., 56., 56., 56.],\n",
       "         [44.,  4.,  8.,  ..., 56., 56., 56.],\n",
       "         ...,\n",
       "         [43.,  8.,  2.,  ..., 56., 56., 56.],\n",
       "         [26., 13.,  3.,  ..., 56., 56., 56.],\n",
       "         [43., 14.,  3.,  ..., 56., 56., 56.]]),\n",
       " tensor([0, 3, 1, 0, 3, 3, 0, 0, 1, 3, 0, 0, 3, 1, 0, 1, 3, 0, 0, 3, 0, 0, 1, 0,\n",
       "         0, 1, 0, 3, 0, 0, 0, 0, 0, 3, 3, 0, 0, 3, 3, 0, 3, 1, 1, 0, 0, 0, 0, 3,\n",
       "         0, 1, 0, 1, 1, 0, 3, 0, 3, 0, 0, 0, 2, 0, 0, 1, 1, 0, 1, 0, 0, 0, 0, 0,\n",
       "         0, 0, 1, 2, 0, 0, 0, 1, 3, 0, 0, 1, 0, 3, 3, 1, 2, 0, 0, 1, 0, 0, 2, 0,\n",
       "         0, 0, 0, 0, 3, 0, 1, 3, 0, 3, 2, 0, 3, 1, 0, 3, 0, 0, 1, 1, 0, 0, 3, 0,\n",
       "         0, 0, 0, 0, 0, 0, 1, 3])]"
      ]
     },
     "execution_count": 25,
     "metadata": {},
     "output_type": "execute_result"
    }
   ],
   "source": [
    "next(iter(train_dataloader))"
   ]
  },
  {
   "cell_type": "code",
   "execution_count": 26,
   "metadata": {
    "id": "UAebM2_6kIr1"
   },
   "outputs": [
    {
     "name": "stdout",
     "output_type": "stream",
     "text": [
      "0 torch.Size([128, 47]) torch.Size([128])\n",
      "1 torch.Size([128, 47]) torch.Size([128])\n",
      "2 torch.Size([128, 47]) torch.Size([128])\n"
     ]
    }
   ],
   "source": [
    "for i_batch, sample_batched in enumerate(train_dataloader):\n",
    "    print(i_batch, sample_batched[0].size(), sample_batched[1].size())\n",
    "    if i_batch == 2:\n",
    "        break"
   ]
  },
  {
   "cell_type": "code",
   "execution_count": 27,
   "metadata": {
    "id": "SEkodp68Sdsj"
   },
   "outputs": [],
   "source": [
    "def categoryFromOutput(output):\n",
    "    top_n, top_i = output.topk(1)\n",
    "    category_i = top_i[0].item()\n",
    "    return all_categories[category_i], category_i"
   ]
  },
  {
   "cell_type": "code",
   "execution_count": 28,
   "metadata": {
    "id": "5zvwGXG2M-Gu"
   },
   "outputs": [
    {
     "data": {
      "text/plain": [
       "LSTM(\n",
       "  (embedding): Embedding(57, 256)\n",
       "  (lstm): LSTM(256, 256, num_layers=2, batch_first=True)\n",
       "  (fc): Linear(in_features=256, out_features=5, bias=True)\n",
       "  (softmax): LogSoftmax(dim=1)\n",
       ")"
      ]
     },
     "execution_count": 28,
     "metadata": {},
     "output_type": "execute_result"
    }
   ],
   "source": [
    "# Set the random seed for reproducible results\n",
    "torch.manual_seed(42)\n",
    "device = torch.device(\"cuda:0\" if torch.cuda.is_available() else \"cpu\")\n",
    "\n",
    "class LSTM(nn.Module):\n",
    "    def __init__(self, input_size, hidden_size, output_size, num_layers=1):\n",
    "        super(LSTM, self).__init__()\n",
    "        self.hidden_size = hidden_size\n",
    "        self.num_layers = num_layers\n",
    "\n",
    "        # The nn.Embedding layer returns a new tensor with dimension (sequence_length, 1, hidden_size)\n",
    "        self.embedding = nn.Embedding(input_size, hidden_size)\n",
    "        # LSTM layer expects a tensor of dimension (batch_size, sequence_length, hidden_size).\n",
    "        self.lstm = nn.LSTM(hidden_size, hidden_size, num_layers, batch_first=True)\n",
    "        self.fc = nn.Linear(hidden_size, output_size)\n",
    "        self.softmax = nn.LogSoftmax(dim=1)\n",
    "\n",
    "    def forward(self, input):\n",
    "        embedded = self.embedding(input.type(torch.IntTensor).to(input.device))\n",
    "        # embedded = embedded.view(embedded.shape[0],-1,embedded.shape[3])\n",
    "        h0 = torch.zeros(self.num_layers, embedded.size(0), self.hidden_size).to(input.device)\n",
    "        c0 = torch.zeros(self.num_layers, embedded.size(0), self.hidden_size).to(input.device)\n",
    "        out, _ = self.lstm(embedded, (h0, c0))  \n",
    "        out = out[:, -1, :]  # get the output of the last time step\n",
    "        out = self.fc(out)\n",
    "        out = self.softmax(out)\n",
    "        return out\n",
    "\n",
    "\n",
    "n_hidden = 256\n",
    "seq_len = max_name \n",
    "vocab_size = n_letters + 2\n",
    "\n",
    "rnn = LSTM(vocab_size, n_hidden, n_categories, num_layers=2)\n",
    "rnn.to(device)"
   ]
  },
  {
   "cell_type": "code",
   "execution_count": 29,
   "metadata": {
    "colab": {
     "background_save": true
    },
    "id": "G2v1iG1PTDsO",
    "outputId": "e2d2f3e1-5dce-4279-c2bf-3fb9d8ce0595"
   },
   "outputs": [
    {
     "name": "stdout",
     "output_type": "stream",
     "text": [
      "tensor([43., 14.,  6.,  4., 17., 18., 54., 43.,  4., 13.,  4.,  4., 56., 56.,\n",
      "        56., 56., 56., 56., 56., 56., 56., 56., 56., 56., 56., 56., 56., 56.,\n",
      "        56., 56., 56., 56., 56., 56., 56., 56., 56., 56., 56., 56., 56., 56.,\n",
      "        56., 56., 56., 56., 56.])\n",
      "input shape :  torch.Size([47])\n",
      "input shape w batch :  torch.Size([1, 47])\n",
      "torch.Size([1, 5])\n"
     ]
    }
   ],
   "source": [
    "input = lineToTensor('Rogers Renee')\n",
    "\n",
    "print(input)\n",
    "print(\"input shape : \",input.shape)\n",
    "print(\"input shape w batch : \", input.unsqueeze(0).shape)\n",
    "#print(hidden.shape)\n",
    "\n",
    "# sending with batch 1\n",
    "output = rnn(input.unsqueeze(0).to(device))\n",
    "# print(output) - has 47x8 log values\n",
    "print(output.shape)"
   ]
  },
  {
   "cell_type": "code",
   "execution_count": 30,
   "metadata": {
    "colab": {
     "background_save": true
    },
    "id": "3HgkdwZkO9u-",
    "outputId": "fc4ccb62-db8d-4a28-ff8d-b01baa74fd38"
   },
   "outputs": [
    {
     "data": {
      "text/plain": [
       "tensor([[-1.6279, -1.6090, -1.6168, -1.5790, -1.6152]], device='cuda:0',\n",
       "       grad_fn=<LogSoftmaxBackward0>)"
      ]
     },
     "execution_count": 30,
     "metadata": {},
     "output_type": "execute_result"
    }
   ],
   "source": [
    "output"
   ]
  },
  {
   "cell_type": "code",
   "execution_count": 31,
   "metadata": {
    "colab": {
     "background_save": true
    },
    "id": "VuiaYKq3eBnW",
    "outputId": "6d3b29af-edf5-417e-f25f-11178ae2fcdc"
   },
   "outputs": [
    {
     "data": {
      "text/plain": [
       "tensor(3, device='cuda:0')"
      ]
     },
     "execution_count": 31,
     "metadata": {},
     "output_type": "execute_result"
    }
   ],
   "source": [
    "torch.argmax(output)"
   ]
  },
  {
   "cell_type": "code",
   "execution_count": 32,
   "metadata": {
    "id": "vlKeNDgxZyHe"
   },
   "outputs": [
    {
     "name": "stdout",
     "output_type": "stream",
     "text": [
      "torch.Size([1, 2, 3, 4, 5, 6])\n",
      "torch.Size([1, 2, 60, 6])\n"
     ]
    }
   ],
   "source": [
    "a = torch.zeros(1, 2, 3, 4, 5, 6)\n",
    "b = a.view(*a.shape[:2], -1, *a.shape[5:])\n",
    "print(a.shape)\n",
    "print(b.shape)"
   ]
  },
  {
   "cell_type": "code",
   "execution_count": 33,
   "metadata": {
    "id": "Rge6zcdfZ-M5"
   },
   "outputs": [
    {
     "name": "stdout",
     "output_type": "stream",
     "text": [
      "torch.Size([1, 47, 53, 64])\n",
      "torch.Size([1, 2491, 64])\n",
      "torch.Size([1, 47, 53, 256])\n"
     ]
    }
   ],
   "source": [
    "a = torch.zeros(1,47,53,64)\n",
    "b = a.view(a.shape[0],-1,a.shape[3])\n",
    "print(a.shape)\n",
    "print(b.shape)\n",
    "c = torch.zeros([1, 2491, 256])\n",
    "d = c.view(c.shape[0],47,53,c.shape[2])\n",
    "print(d.shape)"
   ]
  },
  {
   "cell_type": "code",
   "execution_count": 34,
   "metadata": {
    "executionInfo": {
     "elapsed": 412,
     "status": "ok",
     "timestamp": 1685452861071,
     "user": {
      "displayName": "Rajashekar Chintalapati",
      "userId": "03596288833202137831"
     },
     "user_tz": 420
    },
    "id": "k15fW9OOP6vx"
   },
   "outputs": [],
   "source": [
    "top_n, top_i = output.topk(1)"
   ]
  },
  {
   "cell_type": "code",
   "execution_count": 35,
   "metadata": {
    "colab": {
     "base_uri": "https://localhost:8080/"
    },
    "executionInfo": {
     "elapsed": 0,
     "status": "ok",
     "timestamp": 1685452861099,
     "user": {
      "displayName": "Rajashekar Chintalapati",
      "userId": "03596288833202137831"
     },
     "user_tz": 420
    },
    "id": "wdwl6Kn6UziH",
    "outputId": "e014ae1a-edc3-43b9-993c-488812dac07d"
   },
   "outputs": [
    {
     "data": {
      "text/plain": [
       "tensor([[-1.6279, -1.6090, -1.6168, -1.5790, -1.6152]], device='cuda:0',\n",
       "       grad_fn=<LogSoftmaxBackward0>)"
      ]
     },
     "execution_count": 35,
     "metadata": {},
     "output_type": "execute_result"
    }
   ],
   "source": [
    "output"
   ]
  },
  {
   "cell_type": "code",
   "execution_count": 36,
   "metadata": {
    "colab": {
     "base_uri": "https://localhost:8080/"
    },
    "executionInfo": {
     "elapsed": 0,
     "status": "ok",
     "timestamp": 1685452861177,
     "user": {
      "displayName": "Rajashekar Chintalapati",
      "userId": "03596288833202137831"
     },
     "user_tz": 420
    },
    "id": "dUcERMgqUqYu",
    "outputId": "3b6fb9cf-5ac4-41f2-a8af-a75253cbe200"
   },
   "outputs": [
    {
     "data": {
      "text/plain": [
       "tensor([[-1.5790]], device='cuda:0', grad_fn=<TopkBackward0>)"
      ]
     },
     "execution_count": 36,
     "metadata": {},
     "output_type": "execute_result"
    }
   ],
   "source": [
    "top_n"
   ]
  },
  {
   "cell_type": "code",
   "execution_count": 37,
   "metadata": {
    "colab": {
     "base_uri": "https://localhost:8080/"
    },
    "executionInfo": {
     "elapsed": 0,
     "status": "ok",
     "timestamp": 1685452861185,
     "user": {
      "displayName": "Rajashekar Chintalapati",
      "userId": "03596288833202137831"
     },
     "user_tz": 420
    },
    "id": "WQULPwDcUV0Q",
    "outputId": "6f368be2-d776-4db7-c3bb-3666918d0727"
   },
   "outputs": [
    {
     "data": {
      "text/plain": [
       "tensor([[3]], device='cuda:0')"
      ]
     },
     "execution_count": 37,
     "metadata": {},
     "output_type": "execute_result"
    }
   ],
   "source": [
    "top_n # has log values\n",
    "top_i # has indices"
   ]
  },
  {
   "cell_type": "code",
   "execution_count": 38,
   "metadata": {
    "colab": {
     "base_uri": "https://localhost:8080/"
    },
    "executionInfo": {
     "elapsed": 1,
     "status": "ok",
     "timestamp": 1685452861192,
     "user": {
      "displayName": "Rajashekar Chintalapati",
      "userId": "03596288833202137831"
     },
     "user_tz": 420
    },
    "id": "C55j2v1dTVoN",
    "outputId": "b611ce22-73b1-424f-bad5-38391eb43b9f"
   },
   "outputs": [
    {
     "data": {
      "text/plain": [
       "('asian', 3)"
      ]
     },
     "execution_count": 38,
     "metadata": {},
     "output_type": "execute_result"
    }
   ],
   "source": [
    "# to get best value\n",
    "top_n, top_i = output.topk(1)\n",
    "category_i = top_i[0].item()\n",
    "all_categories[category_i], category_i"
   ]
  },
  {
   "cell_type": "markdown",
   "metadata": {
    "id": "_qsEnfPKgYgt"
   },
   "source": [
    "## Training\n"
   ]
  },
  {
   "cell_type": "code",
   "execution_count": 39,
   "metadata": {
    "colab": {
     "base_uri": "https://localhost:8080/"
    },
    "executionInfo": {
     "elapsed": 0,
     "status": "ok",
     "timestamp": 1685452861198,
     "user": {
      "displayName": "Rajashekar Chintalapati",
      "userId": "03596288833202137831"
     },
     "user_tz": 420
    },
    "id": "wLGyoOcm09kH",
    "outputId": "c9c97949-ffaa-4a9a-dec1-66f94f53f5a4"
   },
   "outputs": [
    {
     "data": {
      "text/plain": [
       "device(type='cuda', index=0)"
      ]
     },
     "execution_count": 39,
     "metadata": {},
     "output_type": "execute_result"
    }
   ],
   "source": [
    "device"
   ]
  },
  {
   "cell_type": "code",
   "execution_count": 40,
   "metadata": {
    "colab": {
     "base_uri": "https://localhost:8080/"
    },
    "executionInfo": {
     "elapsed": 615,
     "status": "ok",
     "timestamp": 1685453286749,
     "user": {
      "displayName": "Rajashekar Chintalapati",
      "userId": "03596288833202137831"
     },
     "user_tz": 420
    },
    "id": "cj2WPKg3rov2",
    "outputId": "6e6c2ffa-d669-4a5c-cf31-7eed6c5b9c0c"
   },
   "outputs": [
    {
     "name": "stdout",
     "output_type": "stream",
     "text": [
      "CPU op-mode(s):                  32-bit, 64-bit\n",
      "CPU(s):                          30\n",
      "On-line CPU(s) list:             0-29\n",
      "CPU family:                      25\n",
      "CPU MHz:                         2449.998\n",
      "NUMA node0 CPU(s):               0-29\n",
      "Flags:                           fpu vme de pse tsc msr pae mce cx8 apic sep mtrr pge mca cmov pat pse36 clflush mmx fxsr sse sse2 syscall nx mmxext fxsr_opt pdpe1gb rdtscp lm rep_good nopl cpuid extd_apicid tsc_known_freq pni pclmulqdq ssse3 fma cx16 pcid sse4_1 sse4_2 x2apic movbe popcnt tsc_deadline_timer aes xsave avx f16c rdrand hypervisor lahf_lm cmp_legacy svm cr8_legacy abm sse4a misalignsse 3dnowprefetch osvw perfctr_core invpcid_single ssbd ibrs ibpb stibp vmmcall fsgsbase tsc_adjust bmi1 avx2 smep bmi2 erms invpcid rdseed adx smap clflushopt clwb sha_ni xsaveopt xsavec xgetbv1 xsaves clzero xsaveerptr wbnoinvd arat npt nrip_save umip pku ospke vaes vpclmulqdq rdpid fsrm arch_capabilities\n"
     ]
    }
   ],
   "source": [
    "!lscpu | grep -i cpu"
   ]
  },
  {
   "cell_type": "code",
   "execution_count": 41,
   "metadata": {
    "executionInfo": {
     "elapsed": 783,
     "status": "ok",
     "timestamp": 1685453295117,
     "user": {
      "displayName": "Rajashekar Chintalapati",
      "userId": "03596288833202137831"
     },
     "user_tz": 420
    },
    "id": "g6MYfcuxZm0_"
   },
   "outputs": [],
   "source": [
    "class EarlyStopper:\n",
    "    def __init__(self, patience=1, min_delta=0):\n",
    "        self.patience = patience\n",
    "        self.min_delta = min_delta\n",
    "        self.counter = 0\n",
    "        self.min_validation_loss = np.inf\n",
    "\n",
    "    def early_stop(self, validation_loss):\n",
    "        if validation_loss < self.min_validation_loss:\n",
    "            self.min_validation_loss = validation_loss\n",
    "            self.counter = 0\n",
    "        elif validation_loss > (self.min_validation_loss + self.min_delta):\n",
    "            self.counter += 1\n",
    "            if self.counter >= self.patience:\n",
    "                return True\n",
    "        return False"
   ]
  },
  {
   "cell_type": "code",
   "execution_count": 42,
   "metadata": {
    "colab": {
     "background_save": true,
     "base_uri": "https://localhost:8080/",
     "height": 1000
    },
    "id": "RUkgRkq-TuWB"
   },
   "outputs": [
    {
     "data": {
      "text/html": [
       "\n",
       "<style>\n",
       "    /* Turns off some styling */\n",
       "    progress {\n",
       "        /* gets rid of default border in Firefox and Opera. */\n",
       "        border: none;\n",
       "        /* Needs to be in here for Safari polyfill so background images work as expected. */\n",
       "        background-size: auto;\n",
       "    }\n",
       "    progress:not([value]), progress:not([value])::-webkit-progress-bar {\n",
       "        background: repeating-linear-gradient(45deg, #7e7e7e, #7e7e7e 10px, #5c5c5c 10px, #5c5c5c 20px);\n",
       "    }\n",
       "    .progress-bar-interrupted, .progress-bar-interrupted::-webkit-progress-bar {\n",
       "        background: #F44336;\n",
       "    }\n",
       "</style>\n"
      ],
      "text/plain": [
       "<IPython.core.display.HTML object>"
      ]
     },
     "metadata": {},
     "output_type": "display_data"
    },
    {
     "data": {
      "text/html": [
       "\n",
       "    <div>\n",
       "      <progress value='45' class='' max='100' style='width:300px; height:20px; vertical-align: middle;'></progress>\n",
       "      45.00% [45/100 4:19:29&lt;5:17:09]\n",
       "    </div>\n",
       "    \n",
       "\n",
       "Epoch 0: Training loss 0.661960 validation loss 0.606127 with lr 0.000500<p>\n",
       "Epoch 1: Training loss 0.590617 validation loss 0.587366 with lr 0.000500<p>\n",
       "Epoch 2: Training loss 0.574494 validation loss 0.578979 with lr 0.000500<p>\n",
       "Epoch 3: Training loss 0.566284 validation loss 0.572258 with lr 0.000500<p>\n",
       "Epoch 4: Training loss 0.561233 validation loss 0.570821 with lr 0.000500<p>\n",
       "Epoch 5: Training loss 0.557754 validation loss 0.569168 with lr 0.000500<p>\n",
       "Epoch 6: Training loss 0.555055 validation loss 0.566829 with lr 0.000500<p>\n",
       "Epoch 7: Training loss 0.552846 validation loss 0.565352 with lr 0.000500<p>\n",
       "Epoch 8: Training loss 0.551054 validation loss 0.565908 with lr 0.000500<p>\n",
       "Epoch 9: Training loss 0.549545 validation loss 0.564269 with lr 0.000500<p>\n",
       "Epoch 10: Training loss 0.548108 validation loss 0.565023 with lr 0.000500<p>\n",
       "Epoch 11: Training loss 0.546714 validation loss 0.564031 with lr 0.000500<p>\n",
       "Epoch 12: Training loss 0.545449 validation loss 0.561835 with lr 0.000500<p>\n",
       "Epoch 13: Training loss 0.544359 validation loss 0.561681 with lr 0.000500<p>\n",
       "Epoch 14: Training loss 0.543109 validation loss 0.560612 with lr 0.000500<p>\n",
       "Epoch 15: Training loss 0.541961 validation loss 0.560249 with lr 0.000500<p>\n",
       "Epoch 16: Training loss 0.540836 validation loss 0.560784 with lr 0.000500<p>\n",
       "Epoch 17: Training loss 0.539711 validation loss 0.559088 with lr 0.000500<p>\n",
       "Epoch 18: Training loss 0.538506 validation loss 0.559010 with lr 0.000500<p>\n",
       "Epoch 19: Training loss 0.537328 validation loss 0.558787 with lr 0.000500<p>\n",
       "Epoch 20: Training loss 0.536002 validation loss 0.557752 with lr 0.000500<p>\n",
       "Epoch 21: Training loss 0.534859 validation loss 0.557503 with lr 0.000500<p>\n",
       "Epoch 22: Training loss 0.533608 validation loss 0.557841 with lr 0.000500<p>\n",
       "Epoch 23: Training loss 0.532402 validation loss 0.557671 with lr 0.000500<p>\n",
       "Epoch 24: Training loss 0.531169 validation loss 0.558257 with lr 0.000500<p>\n",
       "Epoch 25: Training loss 0.529674 validation loss 0.556004 with lr 0.000500<p>\n",
       "Epoch 26: Training loss 0.528291 validation loss 0.556291 with lr 0.000500<p>\n",
       "Epoch 27: Training loss 0.526887 validation loss 0.555987 with lr 0.000500<p>\n",
       "Epoch 28: Training loss 0.525451 validation loss 0.556320 with lr 0.000500<p>\n",
       "Epoch 29: Training loss 0.523951 validation loss 0.556512 with lr 0.000500<p>\n",
       "Epoch 30: Training loss 0.522628 validation loss 0.555047 with lr 0.000500<p>\n",
       "Epoch 31: Training loss 0.521032 validation loss 0.554456 with lr 0.000500<p>\n",
       "Epoch 32: Training loss 0.519544 validation loss 0.555559 with lr 0.000500<p>\n",
       "Epoch 33: Training loss 0.517842 validation loss 0.554259 with lr 0.000500<p>\n",
       "Epoch 34: Training loss 0.516093 validation loss 0.553601 with lr 0.000500<p>\n",
       "Epoch 35: Training loss 0.514387 validation loss 0.553005 with lr 0.000500<p>\n",
       "Epoch 36: Training loss 0.512721 validation loss 0.555024 with lr 0.000500<p>\n",
       "Epoch 37: Training loss 0.510892 validation loss 0.553274 with lr 0.000500<p>\n",
       "Epoch 38: Training loss 0.509043 validation loss 0.553377 with lr 0.000500<p>\n",
       "Epoch 39: Training loss 0.507277 validation loss 0.556571 with lr 0.000500<p>\n",
       "Epoch 40: Training loss 0.505330 validation loss 0.554644 with lr 0.000500<p>\n",
       "Epoch 41: Training loss 0.503406 validation loss 0.554505 with lr 0.000500<p>\n",
       "Epoch 42: Training loss 0.501513 validation loss 0.555320 with lr 0.000500<p>\n",
       "Epoch 43: Training loss 0.499510 validation loss 0.556294 with lr 0.000500<p>\n",
       "Epoch 44: Training loss 0.497553 validation loss 0.555539 with lr 0.000500<p>\n",
       "\n",
       "    <div>\n",
       "      <progress value='7498' class='' max='7498' style='width:300px; height:20px; vertical-align: middle;'></progress>\n",
       "      100.00% [7498/7498 00:18&lt;00:00]\n",
       "    </div>\n",
       "    "
      ],
      "text/plain": [
       "<IPython.core.display.HTML object>"
      ]
     },
     "metadata": {},
     "output_type": "display_data"
    },
    {
     "data": {
      "image/png": "[encoded data removed]",
      "text/plain": [
       "<Figure size 432x288 with 1 Axes>"
      ]
     },
     "metadata": {},
     "output_type": "display_data"
    },
    {
     "name": "stderr",
     "output_type": "stream",
     "text": [
      "/home/ubuntu/.local/lib/python3.8/site-packages/numpy/core/shape_base.py:65: FutureWarning: The input object of type 'Tensor' is an array-like implementing one of the corresponding protocols (`__array__`, `__array_interface__` or `__array_struct__`); but not a sequence (or 0-D). In the future, this object will be coerced as if it was first converted using `np.array(obj)`. To retain the old behaviour, you have to either modify the type 'Tensor', or assign to an empty array created with `np.empty(correct_shape, dtype=object)`.\n",
      "  ary = asanyarray(ary)\n"
     ]
    },
    {
     "name": "stdout",
     "output_type": "stream",
     "text": [
      "Validation loss decreased (inf --> 0.606127).  Saving model ...\n"
     ]
    },
    {
     "name": "stderr",
     "output_type": "stream",
     "text": [
      "/home/ubuntu/.local/lib/python3.8/site-packages/numpy/core/shape_base.py:65: VisibleDeprecationWarning: Creating an ndarray from ragged nested sequences (which is a list-or-tuple of lists-or-tuples-or ndarrays with different lengths or shapes) is deprecated. If you meant to do this, you must specify 'dtype=object' when creating the ndarray.\n",
      "  ary = asanyarray(ary)\n"
     ]
    },
    {
     "name": "stdout",
     "output_type": "stream",
     "text": [
      "Validation loss decreased (0.606127 --> 0.587366).  Saving model ...\n",
      "Validation loss decreased (0.587366 --> 0.578979).  Saving model ...\n",
      "Validation loss decreased (0.578979 --> 0.572258).  Saving model ...\n",
      "Validation loss decreased (0.572258 --> 0.570821).  Saving model ...\n",
      "Validation loss decreased (0.570821 --> 0.569168).  Saving model ...\n",
      "Validation loss decreased (0.569168 --> 0.566829).  Saving model ...\n",
      "Validation loss decreased (0.566829 --> 0.565352).  Saving model ...\n",
      "Validation loss decreased (0.565352 --> 0.564269).  Saving model ...\n",
      "Validation loss decreased (0.564269 --> 0.564031).  Saving model ...\n",
      "Validation loss decreased (0.564031 --> 0.561835).  Saving model ...\n",
      "Validation loss decreased (0.561835 --> 0.561681).  Saving model ...\n",
      "Validation loss decreased (0.561681 --> 0.560612).  Saving model ...\n",
      "Validation loss decreased (0.560612 --> 0.560249).  Saving model ...\n",
      "Validation loss decreased (0.560249 --> 0.559088).  Saving model ...\n",
      "Validation loss decreased (0.559088 --> 0.559010).  Saving model ...\n",
      "Validation loss decreased (0.559010 --> 0.558787).  Saving model ...\n",
      "Validation loss decreased (0.558787 --> 0.557752).  Saving model ...\n",
      "Validation loss decreased (0.557752 --> 0.557503).  Saving model ...\n",
      "Validation loss decreased (0.557503 --> 0.556004).  Saving model ...\n",
      "Validation loss decreased (0.556004 --> 0.555987).  Saving model ...\n",
      "Validation loss decreased (0.555987 --> 0.555047).  Saving model ...\n",
      "Validation loss decreased (0.555047 --> 0.554456).  Saving model ...\n",
      "Validation loss decreased (0.554456 --> 0.554259).  Saving model ...\n",
      "Validation loss decreased (0.554259 --> 0.553601).  Saving model ...\n",
      "Validation loss decreased (0.553601 --> 0.553005).  Saving model ...\n"
     ]
    },
    {
     "data": {
      "image/png": "[encoded data removed]",
      "text/plain": [
       "<Figure size 432x288 with 1 Axes>"
      ]
     },
     "metadata": {
      "needs_background": "light"
     },
     "output_type": "display_data"
    }
   ],
   "source": [
    "epochs = 100\n",
    "lr = 0.0005 # 0.005 is very slow\n",
    "\n",
    "\n",
    "# CrossEntropyLoss expects raw prediction values while NLLLoss expects log probabilities.\n",
    "# criterion = nn.CrossEntropyLoss() # nn.NLLLoss()\n",
    "# since we are using nn.LogSoftmax as final layer at model  \n",
    "criterion = nn.NLLLoss()\n",
    "\n",
    "optimizer = AdamW(rnn.parameters(), lr)\n",
    "scheduler = torch.optim.lr_scheduler.CosineAnnealingLR(optimizer, T_max=60, eta_min=1e-5)\n",
    "\n",
    "\n",
    "early_stopper = EarlyStopper(patience=10)\n",
    "\n",
    "\n",
    "mb = master_bar(range(epochs))\n",
    "mb.names = ['Training loss', 'Validation loss']\n",
    "\n",
    "x = []\n",
    "training_losses = []\n",
    "validation_losses = []\n",
    "\n",
    "valid_mean_min = np.Inf\n",
    "\n",
    "till_batch = 1000\n",
    "\n",
    "for epoch in mb:\n",
    "  x.append(epoch)\n",
    "  # Train\n",
    "  i = 0\n",
    "  rnn.train()\n",
    "  total_loss = torch.Tensor([0.0]).to(device)\n",
    "  for batch in progress_bar(train_dataloader, parent=mb):\n",
    "    rnn.zero_grad()\n",
    "    input = batch[0].to(device)\n",
    "    label = batch[1].to(device)\n",
    "    output = rnn(input)\n",
    "    loss = criterion(output, label)\n",
    "    # backward propagation\n",
    "    loss.backward()\n",
    "    # `clip_grad_norm` helps prevent the exploding gradient problem in RNNs / LSTMs.\n",
    "    #torch.nn.utils.clip_grad_norm_(rnn.parameters(), clip)\n",
    "    optimizer.step()\n",
    "    with torch.no_grad():\n",
    "      total_loss += loss.item()\n",
    "    i += 1\n",
    "    #if i == till_batch:\n",
    "    #  break\n",
    "\n",
    "  # decay lr\n",
    "  scheduler.step()\n",
    "\n",
    "  mean = total_loss / len(train_dataloader)\n",
    "  #mean = total_loss / till_batch\n",
    "  training_losses.append(mean.cpu())\n",
    "\n",
    "  # Evaluate\n",
    "  i = 0\n",
    "  rnn.eval()\n",
    "  validation_loss = torch.Tensor([0.0]).to(device)\n",
    "  with torch.no_grad():\n",
    "    for batch in progress_bar(val_dataloader, parent=mb):\n",
    "      input = batch[0].to(device)\n",
    "      label = batch[1].to(device)\n",
    "      output = rnn(input)\n",
    "      loss = criterion(output, label)\n",
    "      validation_loss += loss.item()\n",
    "      i += 1\n",
    "      #if i == till_batch:\n",
    "      #  break\n",
    "\n",
    "  val_mean = validation_loss / len(val_dataloader)\n",
    "  #val_mean = validation_loss / till_batch \n",
    "  validation_losses.append(val_mean.cpu())\n",
    "  # Update training chart\n",
    "  mb.update_graph([[x, training_losses], [x, validation_losses]], [0,epochs])\n",
    "  mb.write(f\"\\nEpoch {epoch}: Training loss {mean.item():.6f} validation loss {val_mean.item():.6f} with lr {lr:.6f}\")\n",
    "  # save model if validation loss has decreased\n",
    "  if val_mean.item() <= valid_mean_min:\n",
    "      print('Validation loss decreased ({:.6f} --> {:.6f}).  Saving model ...'.format(\n",
    "      valid_mean_min,\n",
    "      val_mean.item()))\n",
    "      torch.save(rnn.state_dict(), 'simple_rnn_ethni.pt')\n",
    "      valid_mean_min = val_mean.item()\n",
    "\n",
    "  if early_stopper.early_stop(val_mean.item()):             \n",
    "      break"
   ]
  },
  {
   "cell_type": "markdown",
   "metadata": {
    "id": "e6ylXlQwqfkj"
   },
   "source": [
    "## Save Model"
   ]
  },
  {
   "cell_type": "code",
   "execution_count": 43,
   "metadata": {
    "colab": {
     "background_save": true
    },
    "id": "1DoKR-M_qedg"
   },
   "outputs": [],
   "source": [
    "torch.save(rnn.state_dict(), 'lstm_FullName_pytorch.pt')"
   ]
  },
  {
   "cell_type": "code",
   "execution_count": 44,
   "metadata": {},
   "outputs": [
    {
     "data": {
      "text/plain": [
       "Text(0, 0.5, 'loss')"
      ]
     },
     "execution_count": 44,
     "metadata": {},
     "output_type": "execute_result"
    },
    {
     "data": {
      "image/png": "[encoded data removed]",
      "text/plain": [
       "<Figure size 432x432 with 1 Axes>"
      ]
     },
     "metadata": {
      "needs_background": "light"
     },
     "output_type": "display_data"
    }
   ],
   "source": [
    "import matplotlib.pyplot as plt\n",
    "\n",
    "fig, ax = plt.subplots(figsize=(6, 6))\n",
    "ax.plot(x, training_losses, validation_losses)\n",
    "ax.legend(['Training Loss', 'Validation Loss'])\n",
    "plt.xlabel(\"epochs\")\n",
    "plt.ylabel(\"loss\")"
   ]
  },
  {
   "cell_type": "code",
   "execution_count": 45,
   "metadata": {},
   "outputs": [
    {
     "name": "stdout",
     "output_type": "stream",
     "text": [
      "tensor([0.4956])\n",
      "tensor([0.5582])\n"
     ]
    }
   ],
   "source": [
    "# last epoch losses\n",
    "print(training_losses[-1])\n",
    "print(validation_losses[-1])"
   ]
  },
  {
   "cell_type": "markdown",
   "metadata": {
    "id": "YkVR5WaPBRin"
   },
   "source": [
    "## Testing"
   ]
  },
  {
   "cell_type": "code",
   "execution_count": 46,
   "metadata": {
    "colab": {
     "background_save": true
    },
    "id": "WClV6_m9yFsG"
   },
   "outputs": [
    {
     "name": "stdout",
     "output_type": "stream",
     "text": [
      "CUDA is available!  Training on GPU ...\n"
     ]
    }
   ],
   "source": [
    "# check if CUDA is available\n",
    "train_on_gpu = torch.cuda.is_available()\n",
    "\n",
    "if not train_on_gpu:\n",
    "    print('CUDA is not available.  Training on CPU ...')\n",
    "else:\n",
    "    print('CUDA is available!  Training on GPU ...')"
   ]
  },
  {
   "cell_type": "code",
   "execution_count": 69,
   "metadata": {
    "colab": {
     "background_save": true
    },
    "id": "eDUpH4eNgb5O"
   },
   "outputs": [
    {
     "name": "stderr",
     "output_type": "stream",
     "text": [
      "Testing: 100%|██████████| 7498/7498 [01:51<00:00, 67.40it/s]\n"
     ]
    },
    {
     "name": "stdout",
     "output_type": "stream",
     "text": [
      "              precision    recall  f1-score   support\n",
      "\n",
      "       asian       0.65      0.57      0.61     27827\n",
      "    hispanic       0.79      0.83      0.81    169038\n",
      "    nh_black       0.73      0.69      0.71    149283\n",
      "    nh_white       0.85      0.90      0.88    573409\n",
      "       other       0.39      0.08      0.13     40187\n",
      "\n",
      "    accuracy                           0.81    959744\n",
      "   macro avg       0.68      0.61      0.63    959744\n",
      "weighted avg       0.80      0.81      0.80    959744\n",
      "\n"
     ]
    }
   ],
   "source": [
    "from sklearn.metrics import confusion_matrix, classification_report, ConfusionMatrixDisplay\n",
    "\n",
    "# track test loss\n",
    "test_loss = 0.0\n",
    "\n",
    "\n",
    "class_correct = list(0. for i in range(n_categories))\n",
    "class_total = list(0. for i in range(n_categories))\n",
    "\n",
    "\n",
    "actual = []\n",
    "predictions = []\n",
    "\n",
    "rnn.eval()\n",
    "# iterate over test data\n",
    "pbar = tqdm(test_dataloader, total=len(test_dataloader), position=0, desc=\"Testing\", leave=True)\n",
    "for batch in pbar:\n",
    "    # move tensors to GPU if CUDA is available\n",
    "    input = batch[0].to(device)\n",
    "    label = batch[1].to(device)\n",
    "    output = rnn(input)\n",
    "    loss = criterion(output, label)\n",
    "    test_loss += loss.item()\n",
    "    pred = torch.argmax(output, dim=1)\n",
    "    correct_tensor = pred.eq(label.data.view_as(pred))\n",
    "    correct = np.squeeze(correct_tensor.numpy()) if not train_on_gpu else np.squeeze(correct_tensor.cpu().numpy())\n",
    "    # calculate test accuracy for each object class\n",
    "    for i in range(label.shape[0]):\n",
    "        l = label.data[i]\n",
    "        class_correct[l.long()] += correct[i].item()\n",
    "        class_total[l.long()] += 1\n",
    "        # for confusion matrix    \n",
    "        actual.append(all_categories[label.data[i].item()])\n",
    "        predictions.append(all_categories[pred.data[i].item()])\n",
    "\n",
    "\n",
    "# plot confusion matrix\n",
    "cm = confusion_matrix(actual, predictions, labels=all_categories)\n",
    "print(classification_report(actual, predictions))"
   ]
  },
  {
   "cell_type": "code",
   "execution_count": 70,
   "metadata": {
    "colab": {
     "background_save": true
    },
    "id": "oKsIjrK_8KEJ"
   },
   "outputs": [
    {
     "data": {
      "text/plain": [
       "0.5560140885784328"
      ]
     },
     "execution_count": 70,
     "metadata": {},
     "output_type": "execute_result"
    }
   ],
   "source": [
    "test_loss/len(test_dataloader)"
   ]
  },
  {
   "cell_type": "code",
   "execution_count": 71,
   "metadata": {
    "colab": {
     "background_save": true
    },
    "id": "TrS2WIqxyJPL"
   },
   "outputs": [
    {
     "data": {
      "text/plain": [
       "<sklearn.metrics._plot.confusion_matrix.ConfusionMatrixDisplay at 0x7fa050df0130>"
      ]
     },
     "execution_count": 71,
     "metadata": {},
     "output_type": "execute_result"
    },
    {
     "data": {
      "image/png": "[encoded data removed]",
      "text/plain": [
       "<Figure size 720x720 with 2 Axes>"
      ]
     },
     "metadata": {
      "needs_background": "light"
     },
     "output_type": "display_data"
    }
   ],
   "source": [
    "import matplotlib.pyplot as plt\n",
    "%matplotlib inline  \n",
    "\n",
    "cmp = ConfusionMatrixDisplay(cm, display_labels=all_categories)\n",
    "fig, ax = plt.subplots(figsize=(10,10))\n",
    "cmp.plot(ax=ax, xticks_rotation='vertical')"
   ]
  },
  {
   "cell_type": "code",
   "execution_count": 72,
   "metadata": {
    "colab": {
     "background_save": true
    },
    "id": "Kjz7DX4o9qlO"
   },
   "outputs": [
    {
     "name": "stdout",
     "output_type": "stream",
     "text": [
      "Test Loss: 0.556014\n",
      "\n",
      "Test Accuracy of nh_white: 90% (518860/573409)\n",
      "Test Accuracy of nh_black: 68% (102890/149283)\n",
      "Test Accuracy of other:  7% (3094/40187)\n",
      "Test Accuracy of hispanic: 83% (140922/169038)\n",
      "Test Accuracy of asian: 56% (15798/27827)\n",
      "\n",
      "Test Accuracy (Overall): 81% (781564/959744)\n"
     ]
    }
   ],
   "source": [
    "# average test loss\n",
    "test_loss = test_loss/len(test_dataloader)\n",
    "print('Test Loss: {:.6f}\\n'.format(test_loss))\n",
    "\n",
    "for i in range(len(all_categories)):\n",
    "    if class_total[i] > 0:\n",
    "        print('Test Accuracy of %5s: %2d%% (%2d/%2d)' % (\n",
    "            all_categories[i], 100 * class_correct[i] / class_total[i],\n",
    "            np.sum(class_correct[i]), np.sum(class_total[i])))\n",
    "    else:\n",
    "        print('Test Accuracy of %5s: N/A (no training examples)' % (all_categories[i]))\n",
    "\n",
    "print('\\nTest Accuracy (Overall): %2d%% (%2d/%2d)' % (\n",
    "    100. * np.sum(class_correct) / np.sum(class_total),\n",
    "    np.sum(class_correct), np.sum(class_total)))"
   ]
  },
  {
   "cell_type": "markdown",
   "metadata": {
    "id": "m3j4uUHzpnKg"
   },
   "source": [
    "## Inference"
   ]
  },
  {
   "cell_type": "code",
   "execution_count": 73,
   "metadata": {
    "colab": {
     "base_uri": "https://localhost:8080/"
    },
    "executionInfo": {
     "elapsed": 17,
     "status": "ok",
     "timestamp": 1685429415994,
     "user": {
      "displayName": "Rajashekar Chintalapati",
      "userId": "03596288833202137831"
     },
     "user_tz": 420
    },
    "id": "Hy8oB6Kg-YM8",
    "outputId": "ae28ca99-a546-4a3e-fb03-47586ee1e161"
   },
   "outputs": [
    {
     "name": "stdout",
     "output_type": "stream",
     "text": [
      "torch.Size([47])\n",
      "torch.Size([1, 5])\n",
      "tensor(1, device='cuda:0')\n",
      "nh_black\n"
     ]
    }
   ],
   "source": [
    "name = \"Ward Stephanie\"\n",
    "name_tokens = lineToTensor(name)\n",
    "inp = name_tokens\n",
    "print(inp.shape)\n",
    "out = rnn(inp.unsqueeze(0).to(device))\n",
    "print(out.shape)\n",
    "out = torch.argmax(out)\n",
    "print(out)\n",
    "print(all_categories[out.item()])"
   ]
  },
  {
   "cell_type": "markdown",
   "metadata": {
    "id": "_cxLVsA7AyvA"
   },
   "source": [
    "## Load and Test"
   ]
  },
  {
   "cell_type": "code",
   "execution_count": 74,
   "metadata": {
    "id": "TL-PMZkSAyNm"
   },
   "outputs": [
    {
     "data": {
      "text/plain": [
       "LSTM(\n",
       "  (embedding): Embedding(57, 256)\n",
       "  (lstm): LSTM(256, 256, num_layers=2, batch_first=True)\n",
       "  (fc): Linear(in_features=256, out_features=5, bias=True)\n",
       "  (softmax): LogSoftmax(dim=1)\n",
       ")"
      ]
     },
     "execution_count": 74,
     "metadata": {},
     "output_type": "execute_result"
    }
   ],
   "source": [
    "test_rnn = LSTM(vocab_size, n_hidden, n_categories, num_layers=2)\n",
    "test_rnn.load_state_dict(torch.load('lstm_FullName_pytorch.pt'))\n",
    "test_rnn.to(device)"
   ]
  },
  {
   "cell_type": "code",
   "execution_count": 75,
   "metadata": {
    "id": "u82VG3fG8pBT"
   },
   "outputs": [
    {
     "name": "stderr",
     "output_type": "stream",
     "text": [
      "Testing: 100%|██████████| 7498/7498 [01:51<00:00, 67.30it/s]\n"
     ]
    },
    {
     "name": "stdout",
     "output_type": "stream",
     "text": [
      "              precision    recall  f1-score   support\n",
      "\n",
      "       asian       0.65      0.57      0.61     27825\n",
      "    hispanic       0.79      0.83      0.81    169036\n",
      "    nh_black       0.73      0.69      0.71    149282\n",
      "    nh_white       0.85      0.90      0.88    573417\n",
      "       other       0.39      0.08      0.13     40184\n",
      "\n",
      "    accuracy                           0.81    959744\n",
      "   macro avg       0.68      0.61      0.63    959744\n",
      "weighted avg       0.80      0.81      0.80    959744\n",
      "\n",
      "Test Loss: 0.555976\n",
      "\n",
      "Test Accuracy of nh_white: 90% (518871/573417)\n",
      "Test Accuracy of nh_black: 68% (102887/149282)\n",
      "Test Accuracy of other:  7% (3097/40184)\n",
      "Test Accuracy of hispanic: 83% (140922/169036)\n",
      "Test Accuracy of asian: 56% (15796/27825)\n",
      "\n",
      "Test Accuracy (Overall): 81% (781573/959744)\n"
     ]
    },
    {
     "data": {
      "image/png": "[encoded data removed]",
      "text/plain": [
       "<Figure size 576x576 with 2 Axes>"
      ]
     },
     "metadata": {
      "needs_background": "light"
     },
     "output_type": "display_data"
    }
   ],
   "source": [
    "from sklearn.metrics import confusion_matrix, classification_report, ConfusionMatrixDisplay\n",
    "\n",
    "# track test loss\n",
    "test_loss = 0.0\n",
    "\n",
    "\n",
    "class_correct = list(0. for i in range(n_categories))\n",
    "class_total = list(0. for i in range(n_categories))\n",
    "\n",
    "\n",
    "actual = []\n",
    "predictions = []\n",
    "\n",
    "rnn.eval()\n",
    "# iterate over test data\n",
    "pbar = tqdm(test_dataloader, total=len(test_dataloader), position=0, desc=\"Testing\", leave=True)\n",
    "for batch in pbar:\n",
    "    # move tensors to GPU if CUDA is available\n",
    "    input = batch[0].to(device)\n",
    "    label = batch[1].to(device)\n",
    "    output = test_rnn(input)\n",
    "    loss = criterion(output, label)\n",
    "    test_loss += loss.item()\n",
    "    pred = torch.argmax(output, dim=1)\n",
    "    correct_tensor = pred.eq(label.data.view_as(pred))\n",
    "    correct = np.squeeze(correct_tensor.numpy()) if not train_on_gpu else np.squeeze(correct_tensor.cpu().numpy())\n",
    "    # calculate test accuracy for each object class\n",
    "    for i in range(label.shape[0]):\n",
    "        l = label.data[i]\n",
    "        class_correct[l.long()] += correct[i].item()\n",
    "        class_total[l.long()] += 1\n",
    "        # for confusion matrix    \n",
    "        actual.append(all_categories[label.data[i].item()])\n",
    "        predictions.append(all_categories[pred.data[i].item()])\n",
    "\n",
    "\n",
    "# plot confusion matrix\n",
    "cm = confusion_matrix(actual, predictions, labels=all_categories)\n",
    "print(classification_report(actual, predictions))\n",
    "\n",
    "import matplotlib.pyplot as plt\n",
    "%matplotlib inline  \n",
    "\n",
    "cmp = ConfusionMatrixDisplay(cm, display_labels=all_categories)\n",
    "fig, ax = plt.subplots(figsize=(8,8))\n",
    "cmp.plot(ax=ax, xticks_rotation='vertical')\n",
    "\n",
    "# average test loss\n",
    "test_loss = test_loss/len(test_dataloader)\n",
    "print('Test Loss: {:.6f}\\n'.format(test_loss))\n",
    "\n",
    "for i in range(len(all_categories)):\n",
    "    if class_total[i] > 0:\n",
    "        print('Test Accuracy of %5s: %2d%% (%2d/%2d)' % (\n",
    "            all_categories[i], 100 * class_correct[i] / class_total[i],\n",
    "            np.sum(class_correct[i]), np.sum(class_total[i])))\n",
    "    else:\n",
    "        print('Test Accuracy of %5s: N/A (no training examples)' % (all_categories[i]))\n",
    "\n",
    "print('\\nTest Accuracy (Overall): %2d%% (%2d/%2d)' % (\n",
    "    100. * np.sum(class_correct) / np.sum(class_total),\n",
    "    np.sum(class_correct), np.sum(class_total)))"
   ]
  },
  {
   "cell_type": "code",
   "execution_count": 76,
   "metadata": {
    "id": "96QvegHxBvsb"
   },
   "outputs": [
    {
     "name": "stdout",
     "output_type": "stream",
     "text": [
      "4.1M\tlstm_FullName_pytorch.pt\n"
     ]
    }
   ],
   "source": [
    "!du -sh lstm_FullName_pytorch.pt"
   ]
  },
  {
   "cell_type": "code",
   "execution_count": null,
   "metadata": {},
   "outputs": [],
   "source": []
  }
 ],
 "metadata": {
  "kernelspec": {
   "display_name": "Python 3",
   "language": "python",
   "name": "python3"
  },
  "language_info": {
   "codemirror_mode": {
    "name": "ipython",
    "version": 3
   },
   "file_extension": ".py",
   "mimetype": "text/x-python",
   "name": "python",
   "nbconvert_exporter": "python",
   "pygments_lexer": "ipython3",
   "version": "3.8.10"
  }
 },
 "nbformat": 4,
 "nbformat_minor": 0
}
