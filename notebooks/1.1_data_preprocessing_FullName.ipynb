{
 "cells": [
  {
   "cell_type": "code",
   "execution_count": 1,
   "id": "71a4990d-d590-4f49-9d25-97982e6d58c0",
   "metadata": {
    "tags": []
   },
   "outputs": [],
   "source": [
    "import numpy as np\n",
    "import pandas as pd\n",
    "\n",
    "from sklearn.model_selection import train_test_split"
   ]
  },
  {
   "cell_type": "markdown",
   "id": "78ee21e5-efa5-4c7f-b2cc-32f8df219d08",
   "metadata": {},
   "source": [
    "# Preprocessing data"
   ]
  },
  {
   "cell_type": "code",
   "execution_count": 2,
   "id": "af05aa15-8218-4086-9626-adadd2552183",
   "metadata": {
    "tags": []
   },
   "outputs": [],
   "source": [
    "df = pd.read_csv('./data/fl_reg_name_race_2022.csv.gz')"
   ]
  },
  {
   "cell_type": "code",
   "execution_count": 3,
   "id": "05503af7-99a2-4cf2-bdd4-b25d9015aa92",
   "metadata": {
    "tags": []
   },
   "outputs": [
    {
     "data": {
      "text/html": [
       "<div>\n",
       "<style scoped>\n",
       "    .dataframe tbody tr th:only-of-type {\n",
       "        vertical-align: middle;\n",
       "    }\n",
       "\n",
       "    .dataframe tbody tr th {\n",
       "        vertical-align: top;\n",
       "    }\n",
       "\n",
       "    .dataframe thead th {\n",
       "        text-align: right;\n",
       "    }\n",
       "</style>\n",
       "<table border=\"1\" class=\"dataframe\">\n",
       "  <thead>\n",
       "    <tr style=\"text-align: right;\">\n",
       "      <th></th>\n",
       "      <th>name_last</th>\n",
       "      <th>name_first</th>\n",
       "      <th>race</th>\n",
       "    </tr>\n",
       "  </thead>\n",
       "  <tbody>\n",
       "    <tr>\n",
       "      <th>0</th>\n",
       "      <td>Hessler-Smith</td>\n",
       "      <td>Jason</td>\n",
       "      <td>nh_white</td>\n",
       "    </tr>\n",
       "    <tr>\n",
       "      <th>1</th>\n",
       "      <td>Rogers</td>\n",
       "      <td>Renee</td>\n",
       "      <td>nh_white</td>\n",
       "    </tr>\n",
       "    <tr>\n",
       "      <th>2</th>\n",
       "      <td>Bartolome</td>\n",
       "      <td>Crystal</td>\n",
       "      <td>nh_white</td>\n",
       "    </tr>\n",
       "    <tr>\n",
       "      <th>3</th>\n",
       "      <td>Bailey</td>\n",
       "      <td>Donna</td>\n",
       "      <td>nh_white</td>\n",
       "    </tr>\n",
       "    <tr>\n",
       "      <th>4</th>\n",
       "      <td>Carlson</td>\n",
       "      <td>Greggory</td>\n",
       "      <td>nh_white</td>\n",
       "    </tr>\n",
       "  </tbody>\n",
       "</table>\n",
       "</div>"
      ],
      "text/plain": [
       "       name_last name_first      race\n",
       "0  Hessler-Smith      Jason  nh_white\n",
       "1         Rogers      Renee  nh_white\n",
       "2      Bartolome    Crystal  nh_white\n",
       "3         Bailey      Donna  nh_white\n",
       "4        Carlson   Greggory  nh_white"
      ]
     },
     "execution_count": 3,
     "metadata": {},
     "output_type": "execute_result"
    }
   ],
   "source": [
    "df.head()"
   ]
  },
  {
   "cell_type": "code",
   "execution_count": 4,
   "id": "b6b123c8-70ba-4ab4-841c-b5486a1ba69a",
   "metadata": {
    "tags": []
   },
   "outputs": [
    {
     "data": {
      "text/html": [
       "<div>\n",
       "<style scoped>\n",
       "    .dataframe tbody tr th:only-of-type {\n",
       "        vertical-align: middle;\n",
       "    }\n",
       "\n",
       "    .dataframe tbody tr th {\n",
       "        vertical-align: top;\n",
       "    }\n",
       "\n",
       "    .dataframe thead th {\n",
       "        text-align: right;\n",
       "    }\n",
       "</style>\n",
       "<table border=\"1\" class=\"dataframe\">\n",
       "  <thead>\n",
       "    <tr style=\"text-align: right;\">\n",
       "      <th></th>\n",
       "      <th>name_last</th>\n",
       "      <th>name_first</th>\n",
       "      <th>race</th>\n",
       "    </tr>\n",
       "  </thead>\n",
       "  <tbody>\n",
       "    <tr>\n",
       "      <th>count</th>\n",
       "      <td>15454992</td>\n",
       "      <td>15455022</td>\n",
       "      <td>15455110</td>\n",
       "    </tr>\n",
       "    <tr>\n",
       "      <th>unique</th>\n",
       "      <td>1341195</td>\n",
       "      <td>641103</td>\n",
       "      <td>8</td>\n",
       "    </tr>\n",
       "    <tr>\n",
       "      <th>top</th>\n",
       "      <td>Smith</td>\n",
       "      <td>Michael</td>\n",
       "      <td>nh_white</td>\n",
       "    </tr>\n",
       "    <tr>\n",
       "      <th>freq</th>\n",
       "      <td>79362</td>\n",
       "      <td>153753</td>\n",
       "      <td>9446851</td>\n",
       "    </tr>\n",
       "  </tbody>\n",
       "</table>\n",
       "</div>"
      ],
      "text/plain": [
       "       name_last name_first      race\n",
       "count   15454992   15455022  15455110\n",
       "unique   1341195     641103         8\n",
       "top        Smith    Michael  nh_white\n",
       "freq       79362     153753   9446851"
      ]
     },
     "execution_count": 4,
     "metadata": {},
     "output_type": "execute_result"
    }
   ],
   "source": [
    "df.describe()"
   ]
  },
  {
   "cell_type": "code",
   "execution_count": 5,
   "id": "33b5941c-619c-485f-8767-27cdfa71ab27",
   "metadata": {
    "tags": []
   },
   "outputs": [
    {
     "data": {
      "text/plain": [
       "array(['nh_white', 'nh_black', 'other', 'hispanic', 'asian',\n",
       "       'native_indian', 'unknown', 'multi_racial'], dtype=object)"
      ]
     },
     "execution_count": 5,
     "metadata": {},
     "output_type": "execute_result"
    }
   ],
   "source": [
    "df['race'].unique()"
   ]
  },
  {
   "cell_type": "markdown",
   "id": "65f441b5-3c7d-48f2-b6ba-352e897a72ae",
   "metadata": {},
   "source": [
    "## Drop None Values"
   ]
  },
  {
   "cell_type": "code",
   "execution_count": 11,
   "id": "0522d1ca-b9bc-4028-b3f9-58ea8d143357",
   "metadata": {
    "tags": []
   },
   "outputs": [],
   "source": [
    "df.dropna(subset=['name_first', 'name_last'], inplace=True)"
   ]
  },
  {
   "cell_type": "code",
   "execution_count": 12,
   "id": "49bd34b0-6543-48bd-b0cd-99cb15bf2569",
   "metadata": {
    "tags": []
   },
   "outputs": [
    {
     "data": {
      "text/html": [
       "<div>\n",
       "<style scoped>\n",
       "    .dataframe tbody tr th:only-of-type {\n",
       "        vertical-align: middle;\n",
       "    }\n",
       "\n",
       "    .dataframe tbody tr th {\n",
       "        vertical-align: top;\n",
       "    }\n",
       "\n",
       "    .dataframe thead th {\n",
       "        text-align: right;\n",
       "    }\n",
       "</style>\n",
       "<table border=\"1\" class=\"dataframe\">\n",
       "  <thead>\n",
       "    <tr style=\"text-align: right;\">\n",
       "      <th></th>\n",
       "      <th>name_last</th>\n",
       "      <th>name_first</th>\n",
       "      <th>race</th>\n",
       "    </tr>\n",
       "  </thead>\n",
       "  <tbody>\n",
       "    <tr>\n",
       "      <th>count</th>\n",
       "      <td>15454908</td>\n",
       "      <td>15454908</td>\n",
       "      <td>15454908</td>\n",
       "    </tr>\n",
       "    <tr>\n",
       "      <th>unique</th>\n",
       "      <td>1341176</td>\n",
       "      <td>641095</td>\n",
       "      <td>8</td>\n",
       "    </tr>\n",
       "    <tr>\n",
       "      <th>top</th>\n",
       "      <td>Smith</td>\n",
       "      <td>Michael</td>\n",
       "      <td>nh_white</td>\n",
       "    </tr>\n",
       "    <tr>\n",
       "      <th>freq</th>\n",
       "      <td>79362</td>\n",
       "      <td>153753</td>\n",
       "      <td>9446749</td>\n",
       "    </tr>\n",
       "  </tbody>\n",
       "</table>\n",
       "</div>"
      ],
      "text/plain": [
       "       name_last name_first      race\n",
       "count   15454908   15454908  15454908\n",
       "unique   1341176     641095         8\n",
       "top        Smith    Michael  nh_white\n",
       "freq       79362     153753   9446749"
      ]
     },
     "execution_count": 12,
     "metadata": {},
     "output_type": "execute_result"
    }
   ],
   "source": [
    "df.describe()"
   ]
  },
  {
   "cell_type": "markdown",
   "id": "5a1c7014-99e8-4b29-b7e5-98ba16caa3b3",
   "metadata": {
    "tags": []
   },
   "source": [
    "## Drop Last name and first name of length 1"
   ]
  },
  {
   "cell_type": "code",
   "execution_count": 7,
   "id": "42f1fd6c-ef4f-4538-bb6c-286db30c250a",
   "metadata": {
    "tags": []
   },
   "outputs": [],
   "source": [
    "df = df.drop(df[df['name_last'].str.len() < 2].index)"
   ]
  },
  {
   "cell_type": "code",
   "execution_count": 8,
   "id": "1fc0d6fd-5ffc-4190-9a11-314f9c34535a",
   "metadata": {
    "tags": []
   },
   "outputs": [],
   "source": [
    "df = df.drop(df[df['name_first'].str.len() < 2].index)"
   ]
  },
  {
   "cell_type": "code",
   "execution_count": 9,
   "id": "02479d63-5cf8-43f3-a208-9119df5b5457",
   "metadata": {
    "tags": []
   },
   "outputs": [
    {
     "data": {
      "text/html": [
       "<div>\n",
       "<style scoped>\n",
       "    .dataframe tbody tr th:only-of-type {\n",
       "        vertical-align: middle;\n",
       "    }\n",
       "\n",
       "    .dataframe tbody tr th {\n",
       "        vertical-align: top;\n",
       "    }\n",
       "\n",
       "    .dataframe thead th {\n",
       "        text-align: right;\n",
       "    }\n",
       "</style>\n",
       "<table border=\"1\" class=\"dataframe\">\n",
       "  <thead>\n",
       "    <tr style=\"text-align: right;\">\n",
       "      <th></th>\n",
       "      <th>name_last</th>\n",
       "      <th>name_first</th>\n",
       "      <th>race</th>\n",
       "    </tr>\n",
       "  </thead>\n",
       "  <tbody>\n",
       "    <tr>\n",
       "      <th>count</th>\n",
       "      <td>15366773</td>\n",
       "      <td>15366804</td>\n",
       "      <td>15366891</td>\n",
       "    </tr>\n",
       "    <tr>\n",
       "      <th>unique</th>\n",
       "      <td>1340636</td>\n",
       "      <td>641063</td>\n",
       "      <td>8</td>\n",
       "    </tr>\n",
       "    <tr>\n",
       "      <th>top</th>\n",
       "      <td>Smith</td>\n",
       "      <td>Michael</td>\n",
       "      <td>nh_white</td>\n",
       "    </tr>\n",
       "    <tr>\n",
       "      <th>freq</th>\n",
       "      <td>79297</td>\n",
       "      <td>153752</td>\n",
       "      <td>9383782</td>\n",
       "    </tr>\n",
       "  </tbody>\n",
       "</table>\n",
       "</div>"
      ],
      "text/plain": [
       "       name_last name_first      race\n",
       "count   15366773   15366804  15366891\n",
       "unique   1340636     641063         8\n",
       "top        Smith    Michael  nh_white\n",
       "freq       79297     153752   9383782"
      ]
     },
     "execution_count": 9,
     "metadata": {},
     "output_type": "execute_result"
    }
   ],
   "source": [
    "df.describe()"
   ]
  },
  {
   "cell_type": "markdown",
   "id": "6a7d0983-9883-4777-a29e-6b9c913f9271",
   "metadata": {},
   "source": [
    "## Remove Special Characters"
   ]
  },
  {
   "cell_type": "code",
   "execution_count": 10,
   "id": "8c415ea0-1763-4fc2-b025-ba3cb5f7b786",
   "metadata": {
    "tags": []
   },
   "outputs": [],
   "source": [
    "df['full_name'] = df['name_last'] + ' ' + df['name_first']"
   ]
  },
  {
   "cell_type": "code",
   "execution_count": 11,
   "id": "12dea730-e4dc-4bbd-91f6-286abf4c2fee",
   "metadata": {
    "tags": []
   },
   "outputs": [],
   "source": [
    "df['full_name'] = df['full_name'].str.replace(\"[^a-zA-Z' -]\", '', regex=True)"
   ]
  },
  {
   "cell_type": "code",
   "execution_count": 12,
   "id": "7d693324-de62-4ea3-8edd-ed3892f52a2f",
   "metadata": {
    "tags": []
   },
   "outputs": [
    {
     "data": {
      "text/html": [
       "<div>\n",
       "<style scoped>\n",
       "    .dataframe tbody tr th:only-of-type {\n",
       "        vertical-align: middle;\n",
       "    }\n",
       "\n",
       "    .dataframe tbody tr th {\n",
       "        vertical-align: top;\n",
       "    }\n",
       "\n",
       "    .dataframe thead th {\n",
       "        text-align: right;\n",
       "    }\n",
       "</style>\n",
       "<table border=\"1\" class=\"dataframe\">\n",
       "  <thead>\n",
       "    <tr style=\"text-align: right;\">\n",
       "      <th></th>\n",
       "      <th>name_last</th>\n",
       "      <th>name_first</th>\n",
       "      <th>race</th>\n",
       "      <th>full_name</th>\n",
       "    </tr>\n",
       "  </thead>\n",
       "  <tbody>\n",
       "    <tr>\n",
       "      <th>0</th>\n",
       "      <td>Hessler-Smith</td>\n",
       "      <td>Jason</td>\n",
       "      <td>nh_white</td>\n",
       "      <td>Hessler-Smith Jason</td>\n",
       "    </tr>\n",
       "    <tr>\n",
       "      <th>1</th>\n",
       "      <td>Rogers</td>\n",
       "      <td>Renee</td>\n",
       "      <td>nh_white</td>\n",
       "      <td>Rogers Renee</td>\n",
       "    </tr>\n",
       "    <tr>\n",
       "      <th>2</th>\n",
       "      <td>Bartolome</td>\n",
       "      <td>Crystal</td>\n",
       "      <td>nh_white</td>\n",
       "      <td>Bartolome Crystal</td>\n",
       "    </tr>\n",
       "    <tr>\n",
       "      <th>3</th>\n",
       "      <td>Bailey</td>\n",
       "      <td>Donna</td>\n",
       "      <td>nh_white</td>\n",
       "      <td>Bailey Donna</td>\n",
       "    </tr>\n",
       "    <tr>\n",
       "      <th>4</th>\n",
       "      <td>Carlson</td>\n",
       "      <td>Greggory</td>\n",
       "      <td>nh_white</td>\n",
       "      <td>Carlson Greggory</td>\n",
       "    </tr>\n",
       "  </tbody>\n",
       "</table>\n",
       "</div>"
      ],
      "text/plain": [
       "       name_last name_first      race            full_name\n",
       "0  Hessler-Smith      Jason  nh_white  Hessler-Smith Jason\n",
       "1         Rogers      Renee  nh_white         Rogers Renee\n",
       "2      Bartolome    Crystal  nh_white    Bartolome Crystal\n",
       "3         Bailey      Donna  nh_white         Bailey Donna\n",
       "4        Carlson   Greggory  nh_white     Carlson Greggory"
      ]
     },
     "execution_count": 12,
     "metadata": {},
     "output_type": "execute_result"
    }
   ],
   "source": [
    "df.head()"
   ]
  },
  {
   "cell_type": "markdown",
   "id": "7ce1807d-f228-482d-a2d8-43211e2806c1",
   "metadata": {},
   "source": [
    "## Drop duplicates"
   ]
  },
  {
   "cell_type": "code",
   "execution_count": 13,
   "id": "98363907-538a-4255-9cd6-35846c58d044",
   "metadata": {
    "tags": []
   },
   "outputs": [
    {
     "data": {
      "text/html": [
       "<div>\n",
       "<style scoped>\n",
       "    .dataframe tbody tr th:only-of-type {\n",
       "        vertical-align: middle;\n",
       "    }\n",
       "\n",
       "    .dataframe tbody tr th {\n",
       "        vertical-align: top;\n",
       "    }\n",
       "\n",
       "    .dataframe thead th {\n",
       "        text-align: right;\n",
       "    }\n",
       "</style>\n",
       "<table border=\"1\" class=\"dataframe\">\n",
       "  <thead>\n",
       "    <tr style=\"text-align: right;\">\n",
       "      <th></th>\n",
       "      <th>name_last</th>\n",
       "      <th>name_first</th>\n",
       "      <th>race</th>\n",
       "      <th>full_name</th>\n",
       "    </tr>\n",
       "  </thead>\n",
       "  <tbody>\n",
       "    <tr>\n",
       "      <th>837</th>\n",
       "      <td>Moser</td>\n",
       "      <td>Patricia</td>\n",
       "      <td>nh_white</td>\n",
       "      <td>Moser Patricia</td>\n",
       "    </tr>\n",
       "    <tr>\n",
       "      <th>928</th>\n",
       "      <td>Johnson</td>\n",
       "      <td>Tiffany</td>\n",
       "      <td>nh_black</td>\n",
       "      <td>Johnson Tiffany</td>\n",
       "    </tr>\n",
       "    <tr>\n",
       "      <th>1247</th>\n",
       "      <td>Perry</td>\n",
       "      <td>Charles</td>\n",
       "      <td>nh_white</td>\n",
       "      <td>Perry Charles</td>\n",
       "    </tr>\n",
       "    <tr>\n",
       "      <th>2120</th>\n",
       "      <td>Johnson</td>\n",
       "      <td>Ashley</td>\n",
       "      <td>nh_black</td>\n",
       "      <td>Johnson Ashley</td>\n",
       "    </tr>\n",
       "    <tr>\n",
       "      <th>2285</th>\n",
       "      <td>Johnson</td>\n",
       "      <td>Clayton</td>\n",
       "      <td>nh_white</td>\n",
       "      <td>Johnson Clayton</td>\n",
       "    </tr>\n",
       "    <tr>\n",
       "      <th>...</th>\n",
       "      <td>...</td>\n",
       "      <td>...</td>\n",
       "      <td>...</td>\n",
       "      <td>...</td>\n",
       "    </tr>\n",
       "    <tr>\n",
       "      <th>15455101</th>\n",
       "      <td>Jones</td>\n",
       "      <td>Margaret</td>\n",
       "      <td>nh_white</td>\n",
       "      <td>Jones Margaret</td>\n",
       "    </tr>\n",
       "    <tr>\n",
       "      <th>15455102</th>\n",
       "      <td>Hartley</td>\n",
       "      <td>Brandon</td>\n",
       "      <td>nh_white</td>\n",
       "      <td>Hartley Brandon</td>\n",
       "    </tr>\n",
       "    <tr>\n",
       "      <th>15455104</th>\n",
       "      <td>Ballentine</td>\n",
       "      <td>Robert</td>\n",
       "      <td>nh_white</td>\n",
       "      <td>Ballentine Robert</td>\n",
       "    </tr>\n",
       "    <tr>\n",
       "      <th>15455106</th>\n",
       "      <td>Watts</td>\n",
       "      <td>Mark</td>\n",
       "      <td>nh_white</td>\n",
       "      <td>Watts Mark</td>\n",
       "    </tr>\n",
       "    <tr>\n",
       "      <th>15455108</th>\n",
       "      <td>Ward</td>\n",
       "      <td>Stephanie</td>\n",
       "      <td>nh_white</td>\n",
       "      <td>Ward Stephanie</td>\n",
       "    </tr>\n",
       "  </tbody>\n",
       "</table>\n",
       "<p>4555472 rows × 4 columns</p>\n",
       "</div>"
      ],
      "text/plain": [
       "           name_last name_first      race          full_name\n",
       "837            Moser   Patricia  nh_white     Moser Patricia\n",
       "928          Johnson    Tiffany  nh_black    Johnson Tiffany\n",
       "1247           Perry    Charles  nh_white      Perry Charles\n",
       "2120         Johnson     Ashley  nh_black     Johnson Ashley\n",
       "2285         Johnson    Clayton  nh_white    Johnson Clayton\n",
       "...              ...        ...       ...                ...\n",
       "15455101       Jones   Margaret  nh_white     Jones Margaret\n",
       "15455102     Hartley    Brandon  nh_white    Hartley Brandon\n",
       "15455104  Ballentine     Robert  nh_white  Ballentine Robert\n",
       "15455106       Watts       Mark  nh_white         Watts Mark\n",
       "15455108        Ward  Stephanie  nh_white     Ward Stephanie\n",
       "\n",
       "[4555472 rows x 4 columns]"
      ]
     },
     "execution_count": 13,
     "metadata": {},
     "output_type": "execute_result"
    }
   ],
   "source": [
    "df[df[['full_name','race']].duplicated()]"
   ]
  },
  {
   "cell_type": "code",
   "execution_count": 14,
   "id": "5dcbb0d6-ede7-4b20-af15-4466f04d3fcd",
   "metadata": {
    "tags": []
   },
   "outputs": [
    {
     "data": {
      "text/html": [
       "<div>\n",
       "<style scoped>\n",
       "    .dataframe tbody tr th:only-of-type {\n",
       "        vertical-align: middle;\n",
       "    }\n",
       "\n",
       "    .dataframe tbody tr th {\n",
       "        vertical-align: top;\n",
       "    }\n",
       "\n",
       "    .dataframe thead th {\n",
       "        text-align: right;\n",
       "    }\n",
       "</style>\n",
       "<table border=\"1\" class=\"dataframe\">\n",
       "  <thead>\n",
       "    <tr style=\"text-align: right;\">\n",
       "      <th></th>\n",
       "      <th>name_last</th>\n",
       "      <th>name_first</th>\n",
       "      <th>race</th>\n",
       "      <th>full_name</th>\n",
       "    </tr>\n",
       "  </thead>\n",
       "  <tbody>\n",
       "    <tr>\n",
       "      <th>136</th>\n",
       "      <td>Porter</td>\n",
       "      <td>Paula</td>\n",
       "      <td>nh_white</td>\n",
       "      <td>Porter Paula</td>\n",
       "    </tr>\n",
       "    <tr>\n",
       "      <th>550</th>\n",
       "      <td>Porter</td>\n",
       "      <td>Paula</td>\n",
       "      <td>nh_black</td>\n",
       "      <td>Porter Paula</td>\n",
       "    </tr>\n",
       "    <tr>\n",
       "      <th>1527456</th>\n",
       "      <td>Porter</td>\n",
       "      <td>Paula</td>\n",
       "      <td>nh_white</td>\n",
       "      <td>Porter Paula</td>\n",
       "    </tr>\n",
       "    <tr>\n",
       "      <th>7563599</th>\n",
       "      <td>Porter</td>\n",
       "      <td>Paula</td>\n",
       "      <td>nh_white</td>\n",
       "      <td>Porter Paula</td>\n",
       "    </tr>\n",
       "    <tr>\n",
       "      <th>7631191</th>\n",
       "      <td>Porter</td>\n",
       "      <td>Paula</td>\n",
       "      <td>nh_white</td>\n",
       "      <td>Porter Paula</td>\n",
       "    </tr>\n",
       "    <tr>\n",
       "      <th>8383292</th>\n",
       "      <td>Porter</td>\n",
       "      <td>Paula</td>\n",
       "      <td>nh_white</td>\n",
       "      <td>Porter Paula</td>\n",
       "    </tr>\n",
       "    <tr>\n",
       "      <th>10682106</th>\n",
       "      <td>Porter</td>\n",
       "      <td>Paula</td>\n",
       "      <td>nh_white</td>\n",
       "      <td>Porter Paula</td>\n",
       "    </tr>\n",
       "  </tbody>\n",
       "</table>\n",
       "</div>"
      ],
      "text/plain": [
       "         name_last name_first      race     full_name\n",
       "136         Porter      Paula  nh_white  Porter Paula\n",
       "550         Porter      Paula  nh_black  Porter Paula\n",
       "1527456     Porter      Paula  nh_white  Porter Paula\n",
       "7563599     Porter      Paula  nh_white  Porter Paula\n",
       "7631191     Porter      Paula  nh_white  Porter Paula\n",
       "8383292     Porter      Paula  nh_white  Porter Paula\n",
       "10682106    Porter      Paula  nh_white  Porter Paula"
      ]
     },
     "execution_count": 14,
     "metadata": {},
     "output_type": "execute_result"
    }
   ],
   "source": [
    "df[df['full_name'] == \"Porter Paula\"]"
   ]
  },
  {
   "cell_type": "code",
   "execution_count": 15,
   "id": "68f7146a-45e7-40c6-8f2a-9e50bd914743",
   "metadata": {
    "tags": []
   },
   "outputs": [],
   "source": [
    "df = df.drop_duplicates(['full_name','race'],keep= 'last')"
   ]
  },
  {
   "cell_type": "code",
   "execution_count": 17,
   "id": "ed066729-7970-47ea-ad65-9842bc71366a",
   "metadata": {
    "tags": []
   },
   "outputs": [
    {
     "data": {
      "text/html": [
       "<div>\n",
       "<style scoped>\n",
       "    .dataframe tbody tr th:only-of-type {\n",
       "        vertical-align: middle;\n",
       "    }\n",
       "\n",
       "    .dataframe tbody tr th {\n",
       "        vertical-align: top;\n",
       "    }\n",
       "\n",
       "    .dataframe thead th {\n",
       "        text-align: right;\n",
       "    }\n",
       "</style>\n",
       "<table border=\"1\" class=\"dataframe\">\n",
       "  <thead>\n",
       "    <tr style=\"text-align: right;\">\n",
       "      <th></th>\n",
       "      <th>name_last</th>\n",
       "      <th>name_first</th>\n",
       "      <th>race</th>\n",
       "      <th>full_name</th>\n",
       "    </tr>\n",
       "  </thead>\n",
       "  <tbody>\n",
       "    <tr>\n",
       "      <th>550</th>\n",
       "      <td>Porter</td>\n",
       "      <td>Paula</td>\n",
       "      <td>nh_black</td>\n",
       "      <td>Porter Paula</td>\n",
       "    </tr>\n",
       "    <tr>\n",
       "      <th>10682106</th>\n",
       "      <td>Porter</td>\n",
       "      <td>Paula</td>\n",
       "      <td>nh_white</td>\n",
       "      <td>Porter Paula</td>\n",
       "    </tr>\n",
       "  </tbody>\n",
       "</table>\n",
       "</div>"
      ],
      "text/plain": [
       "         name_last name_first      race     full_name\n",
       "550         Porter      Paula  nh_black  Porter Paula\n",
       "10682106    Porter      Paula  nh_white  Porter Paula"
      ]
     },
     "execution_count": 17,
     "metadata": {},
     "output_type": "execute_result"
    }
   ],
   "source": [
    "df[df['full_name'] == \"Porter Paula\"]"
   ]
  },
  {
   "cell_type": "code",
   "execution_count": 18,
   "id": "0d2504cf-d9f9-4eff-a53f-fa859f686ed1",
   "metadata": {
    "tags": []
   },
   "outputs": [
    {
     "data": {
      "text/plain": [
       "(10811419, 4)"
      ]
     },
     "execution_count": 18,
     "metadata": {},
     "output_type": "execute_result"
    }
   ],
   "source": [
    "df.shape"
   ]
  },
  {
   "cell_type": "code",
   "execution_count": 19,
   "id": "6351f866-44f2-4c5d-b9ec-ccbfb7278d9c",
   "metadata": {
    "tags": []
   },
   "outputs": [
    {
     "data": {
      "text/plain": [
       "10811419"
      ]
     },
     "execution_count": 19,
     "metadata": {},
     "output_type": "execute_result"
    }
   ],
   "source": [
    "len(df)"
   ]
  },
  {
   "cell_type": "markdown",
   "id": "9830ca67-c7a7-4587-bbc1-db7e0f552ae5",
   "metadata": {},
   "source": [
    "## Drop and merge columns"
   ]
  },
  {
   "cell_type": "code",
   "execution_count": 20,
   "id": "8c0468aa-dae8-4671-bbe5-88196c1b0fb1",
   "metadata": {
    "tags": []
   },
   "outputs": [],
   "source": [
    "# dropping unknown column\n",
    "df = df.drop(df[df['race'] == 'unknown'].index)"
   ]
  },
  {
   "cell_type": "code",
   "execution_count": 21,
   "id": "9d21c416-ea30-48f4-8794-721dd65f6259",
   "metadata": {
    "tags": []
   },
   "outputs": [],
   "source": [
    "# combine multi_racial and native_indian to other\n",
    "mapping = {'multi_racial': 'other', 'native_indian': 'other'}\n",
    "df['race'] = df['race'].replace(mapping)"
   ]
  },
  {
   "cell_type": "code",
   "execution_count": 22,
   "id": "4aeb7f29-01df-4702-bbbe-156924242bb0",
   "metadata": {
    "tags": []
   },
   "outputs": [
    {
     "data": {
      "text/html": [
       "<div>\n",
       "<style scoped>\n",
       "    .dataframe tbody tr th:only-of-type {\n",
       "        vertical-align: middle;\n",
       "    }\n",
       "\n",
       "    .dataframe tbody tr th {\n",
       "        vertical-align: top;\n",
       "    }\n",
       "\n",
       "    .dataframe thead th {\n",
       "        text-align: right;\n",
       "    }\n",
       "</style>\n",
       "<table border=\"1\" class=\"dataframe\">\n",
       "  <thead>\n",
       "    <tr style=\"text-align: right;\">\n",
       "      <th></th>\n",
       "      <th>full_name</th>\n",
       "    </tr>\n",
       "    <tr>\n",
       "      <th>race</th>\n",
       "      <th></th>\n",
       "    </tr>\n",
       "  </thead>\n",
       "  <tbody>\n",
       "    <tr>\n",
       "      <th>asian</th>\n",
       "      <td>288197</td>\n",
       "    </tr>\n",
       "    <tr>\n",
       "      <th>hispanic</th>\n",
       "      <td>1789315</td>\n",
       "    </tr>\n",
       "    <tr>\n",
       "      <th>nh_black</th>\n",
       "      <td>1592766</td>\n",
       "    </tr>\n",
       "    <tr>\n",
       "      <th>nh_white</th>\n",
       "      <td>6318521</td>\n",
       "    </tr>\n",
       "    <tr>\n",
       "      <th>other</th>\n",
       "      <td>399865</td>\n",
       "    </tr>\n",
       "  </tbody>\n",
       "</table>\n",
       "</div>"
      ],
      "text/plain": [
       "          full_name\n",
       "race               \n",
       "asian        288197\n",
       "hispanic    1789315\n",
       "nh_black    1592766\n",
       "nh_white    6318521\n",
       "other        399865"
      ]
     },
     "execution_count": 22,
     "metadata": {},
     "output_type": "execute_result"
    }
   ],
   "source": [
    "df.groupby('race').agg({'full_name':'nunique'})"
   ]
  },
  {
   "cell_type": "code",
   "execution_count": null,
   "id": "2e4d2735-03e0-4c3c-b049-216c662a84cb",
   "metadata": {},
   "outputs": [],
   "source": [
    "df['race_code'] = df.race.factorize()[0]"
   ]
  },
  {
   "cell_type": "markdown",
   "id": "a3378db9-94f4-4268-94a0-435a448d0d77",
   "metadata": {},
   "source": [
    "## Split dataset in train, validation and test"
   ]
  },
  {
   "cell_type": "code",
   "execution_count": 29,
   "id": "3a11b216-fde5-48c7-b5ec-904dbde4bb29",
   "metadata": {},
   "outputs": [],
   "source": [
    "train_df, rest_df = train_test_split(df, test_size=0.2, random_state=42, stratify=df['race_code'])"
   ]
  },
  {
   "cell_type": "code",
   "execution_count": 30,
   "id": "f7d44e05-63d5-47cc-85db-c59fc3e169f1",
   "metadata": {
    "tags": []
   },
   "outputs": [],
   "source": [
    "val_df, test_df = train_test_split(rest_df, test_size=0.5, random_state=42, stratify=rest_df['race_code'])"
   ]
  },
  {
   "cell_type": "code",
   "execution_count": 31,
   "id": "e47fa000-d58f-4360-9487-bd33c149433e",
   "metadata": {
    "tags": []
   },
   "outputs": [],
   "source": [
    "train_df = train_df.reset_index(drop=True)\n",
    "val_df = val_df.reset_index(drop=True)\n",
    "test_df = test_df.reset_index(drop=True)"
   ]
  },
  {
   "cell_type": "code",
   "execution_count": 32,
   "id": "fce465b6-0a17-437d-ad38-7d8036c74d0e",
   "metadata": {
    "tags": []
   },
   "outputs": [
    {
     "name": "stdout",
     "output_type": "stream",
     "text": [
      "(8317660, 5)\n",
      "(1039708, 5)\n",
      "(1039708, 5)\n"
     ]
    }
   ],
   "source": [
    "print(train_df.shape)\n",
    "print(val_df.shape)\n",
    "print(test_df.shape)"
   ]
  },
  {
   "cell_type": "code",
   "execution_count": 33,
   "id": "c30f722b-995b-4269-bac7-38bc4ba64999",
   "metadata": {
    "tags": []
   },
   "outputs": [
    {
     "data": {
      "text/html": [
       "<div>\n",
       "<style scoped>\n",
       "    .dataframe tbody tr th:only-of-type {\n",
       "        vertical-align: middle;\n",
       "    }\n",
       "\n",
       "    .dataframe tbody tr th {\n",
       "        vertical-align: top;\n",
       "    }\n",
       "\n",
       "    .dataframe thead th {\n",
       "        text-align: right;\n",
       "    }\n",
       "</style>\n",
       "<table border=\"1\" class=\"dataframe\">\n",
       "  <thead>\n",
       "    <tr style=\"text-align: right;\">\n",
       "      <th></th>\n",
       "      <th>full_name</th>\n",
       "    </tr>\n",
       "    <tr>\n",
       "      <th>race</th>\n",
       "      <th></th>\n",
       "    </tr>\n",
       "  </thead>\n",
       "  <tbody>\n",
       "    <tr>\n",
       "      <th>asian</th>\n",
       "      <td>288197</td>\n",
       "    </tr>\n",
       "    <tr>\n",
       "      <th>hispanic</th>\n",
       "      <td>1789315</td>\n",
       "    </tr>\n",
       "    <tr>\n",
       "      <th>nh_black</th>\n",
       "      <td>1592766</td>\n",
       "    </tr>\n",
       "    <tr>\n",
       "      <th>nh_white</th>\n",
       "      <td>6318521</td>\n",
       "    </tr>\n",
       "    <tr>\n",
       "      <th>other</th>\n",
       "      <td>399865</td>\n",
       "    </tr>\n",
       "  </tbody>\n",
       "</table>\n",
       "</div>"
      ],
      "text/plain": [
       "          full_name\n",
       "race               \n",
       "asian        288197\n",
       "hispanic    1789315\n",
       "nh_black    1592766\n",
       "nh_white    6318521\n",
       "other        399865"
      ]
     },
     "execution_count": 33,
     "metadata": {},
     "output_type": "execute_result"
    }
   ],
   "source": [
    "df.groupby('race').agg({'full_name':'nunique'})"
   ]
  },
  {
   "cell_type": "code",
   "execution_count": 34,
   "id": "66f97f4e-4fda-44bc-8d3c-65fbe6eea9b6",
   "metadata": {
    "tags": []
   },
   "outputs": [
    {
     "data": {
      "text/html": [
       "<div>\n",
       "<style scoped>\n",
       "    .dataframe tbody tr th:only-of-type {\n",
       "        vertical-align: middle;\n",
       "    }\n",
       "\n",
       "    .dataframe tbody tr th {\n",
       "        vertical-align: top;\n",
       "    }\n",
       "\n",
       "    .dataframe thead th {\n",
       "        text-align: right;\n",
       "    }\n",
       "</style>\n",
       "<table border=\"1\" class=\"dataframe\">\n",
       "  <thead>\n",
       "    <tr style=\"text-align: right;\">\n",
       "      <th></th>\n",
       "      <th>full_name</th>\n",
       "    </tr>\n",
       "    <tr>\n",
       "      <th>race</th>\n",
       "      <th></th>\n",
       "    </tr>\n",
       "  </thead>\n",
       "  <tbody>\n",
       "    <tr>\n",
       "      <th>asian</th>\n",
       "      <td>230558</td>\n",
       "    </tr>\n",
       "    <tr>\n",
       "      <th>hispanic</th>\n",
       "      <td>1431452</td>\n",
       "    </tr>\n",
       "    <tr>\n",
       "      <th>nh_black</th>\n",
       "      <td>1274213</td>\n",
       "    </tr>\n",
       "    <tr>\n",
       "      <th>nh_white</th>\n",
       "      <td>5054817</td>\n",
       "    </tr>\n",
       "    <tr>\n",
       "      <th>other</th>\n",
       "      <td>321190</td>\n",
       "    </tr>\n",
       "  </tbody>\n",
       "</table>\n",
       "</div>"
      ],
      "text/plain": [
       "          full_name\n",
       "race               \n",
       "asian        230558\n",
       "hispanic    1431452\n",
       "nh_black    1274213\n",
       "nh_white    5054817\n",
       "other        321190"
      ]
     },
     "execution_count": 34,
     "metadata": {},
     "output_type": "execute_result"
    }
   ],
   "source": [
    "train_df.groupby('race').agg({'full_name':'nunique'})"
   ]
  },
  {
   "cell_type": "code",
   "execution_count": 35,
   "id": "7d9a625b-fd10-4374-b744-e809620c86d5",
   "metadata": {
    "tags": []
   },
   "outputs": [
    {
     "data": {
      "text/html": [
       "<div>\n",
       "<style scoped>\n",
       "    .dataframe tbody tr th:only-of-type {\n",
       "        vertical-align: middle;\n",
       "    }\n",
       "\n",
       "    .dataframe tbody tr th {\n",
       "        vertical-align: top;\n",
       "    }\n",
       "\n",
       "    .dataframe thead th {\n",
       "        text-align: right;\n",
       "    }\n",
       "</style>\n",
       "<table border=\"1\" class=\"dataframe\">\n",
       "  <thead>\n",
       "    <tr style=\"text-align: right;\">\n",
       "      <th></th>\n",
       "      <th>full_name</th>\n",
       "    </tr>\n",
       "    <tr>\n",
       "      <th>race</th>\n",
       "      <th></th>\n",
       "    </tr>\n",
       "  </thead>\n",
       "  <tbody>\n",
       "    <tr>\n",
       "      <th>asian</th>\n",
       "      <td>28819</td>\n",
       "    </tr>\n",
       "    <tr>\n",
       "      <th>hispanic</th>\n",
       "      <td>178932</td>\n",
       "    </tr>\n",
       "    <tr>\n",
       "      <th>nh_black</th>\n",
       "      <td>159277</td>\n",
       "    </tr>\n",
       "    <tr>\n",
       "      <th>nh_white</th>\n",
       "      <td>631852</td>\n",
       "    </tr>\n",
       "    <tr>\n",
       "      <th>other</th>\n",
       "      <td>40735</td>\n",
       "    </tr>\n",
       "  </tbody>\n",
       "</table>\n",
       "</div>"
      ],
      "text/plain": [
       "          full_name\n",
       "race               \n",
       "asian         28819\n",
       "hispanic     178932\n",
       "nh_black     159277\n",
       "nh_white     631852\n",
       "other         40735"
      ]
     },
     "execution_count": 35,
     "metadata": {},
     "output_type": "execute_result"
    }
   ],
   "source": [
    "val_df.groupby('race').agg({'full_name':'nunique'})"
   ]
  },
  {
   "cell_type": "code",
   "execution_count": 36,
   "id": "e61fc0f4-1b6c-42a0-a1d5-cf7cbff8a290",
   "metadata": {
    "tags": []
   },
   "outputs": [
    {
     "data": {
      "text/html": [
       "<div>\n",
       "<style scoped>\n",
       "    .dataframe tbody tr th:only-of-type {\n",
       "        vertical-align: middle;\n",
       "    }\n",
       "\n",
       "    .dataframe tbody tr th {\n",
       "        vertical-align: top;\n",
       "    }\n",
       "\n",
       "    .dataframe thead th {\n",
       "        text-align: right;\n",
       "    }\n",
       "</style>\n",
       "<table border=\"1\" class=\"dataframe\">\n",
       "  <thead>\n",
       "    <tr style=\"text-align: right;\">\n",
       "      <th></th>\n",
       "      <th>full_name</th>\n",
       "    </tr>\n",
       "    <tr>\n",
       "      <th>race</th>\n",
       "      <th></th>\n",
       "    </tr>\n",
       "  </thead>\n",
       "  <tbody>\n",
       "    <tr>\n",
       "      <th>asian</th>\n",
       "      <td>28820</td>\n",
       "    </tr>\n",
       "    <tr>\n",
       "      <th>hispanic</th>\n",
       "      <td>178931</td>\n",
       "    </tr>\n",
       "    <tr>\n",
       "      <th>nh_black</th>\n",
       "      <td>159276</td>\n",
       "    </tr>\n",
       "    <tr>\n",
       "      <th>nh_white</th>\n",
       "      <td>631852</td>\n",
       "    </tr>\n",
       "    <tr>\n",
       "      <th>other</th>\n",
       "      <td>40744</td>\n",
       "    </tr>\n",
       "  </tbody>\n",
       "</table>\n",
       "</div>"
      ],
      "text/plain": [
       "          full_name\n",
       "race               \n",
       "asian         28820\n",
       "hispanic     178931\n",
       "nh_black     159276\n",
       "nh_white     631852\n",
       "other         40744"
      ]
     },
     "execution_count": 36,
     "metadata": {},
     "output_type": "execute_result"
    }
   ],
   "source": [
    "test_df.groupby('race').agg({'full_name':'nunique'})"
   ]
  },
  {
   "cell_type": "markdown",
   "id": "c82ede6e-5c68-4786-b3c3-68b346de2a2e",
   "metadata": {},
   "source": [
    "## Save datasets"
   ]
  },
  {
   "cell_type": "code",
   "execution_count": 37,
   "id": "ecc12a2c-bee0-49bd-b42d-ab8cb5589a15",
   "metadata": {
    "tags": []
   },
   "outputs": [],
   "source": [
    "train_df.to_csv(\"data/fl_2022_FullName_train.csv.gz\",index=False,compression=\"gzip\")\n",
    "val_df.to_csv(\"data/fl_2022_FullName_val.csv.gz\",index=False,compression=\"gzip\")\n",
    "test_df.to_csv(\"data/fl_2022_FullName_test.csv.gz\",index=False,compression=\"gzip\")"
   ]
  },
  {
   "cell_type": "code",
   "execution_count": 38,
   "id": "aa9be3b5-ee0d-4935-9b21-14012c676235",
   "metadata": {
    "tags": []
   },
   "outputs": [
    {
     "name": "stdout",
     "output_type": "stream",
     "text": [
      "15M\tdata/fl_2022_FullName_test.csv.gz\n",
      "115M\tdata/fl_2022_FullName_train.csv.gz\n",
      "15M\tdata/fl_2022_FullName_val.csv.gz\n"
     ]
    }
   ],
   "source": [
    "!du -sh data/fl_2022_FullName_*"
   ]
  },
  {
   "cell_type": "code",
   "execution_count": 39,
   "id": "2fb93bc9-448d-45e0-a976-9312bf94e708",
   "metadata": {
    "tags": []
   },
   "outputs": [
    {
     "data": {
      "text/html": [
       "<div>\n",
       "<style scoped>\n",
       "    .dataframe tbody tr th:only-of-type {\n",
       "        vertical-align: middle;\n",
       "    }\n",
       "\n",
       "    .dataframe tbody tr th {\n",
       "        vertical-align: top;\n",
       "    }\n",
       "\n",
       "    .dataframe thead th {\n",
       "        text-align: right;\n",
       "    }\n",
       "</style>\n",
       "<table border=\"1\" class=\"dataframe\">\n",
       "  <thead>\n",
       "    <tr style=\"text-align: right;\">\n",
       "      <th></th>\n",
       "      <th>name_last</th>\n",
       "      <th>name_first</th>\n",
       "      <th>race</th>\n",
       "      <th>full_name</th>\n",
       "      <th>race_code</th>\n",
       "    </tr>\n",
       "  </thead>\n",
       "  <tbody>\n",
       "    <tr>\n",
       "      <th>0</th>\n",
       "      <td>Peirce</td>\n",
       "      <td>Christine</td>\n",
       "      <td>nh_white</td>\n",
       "      <td>Peirce Christine</td>\n",
       "      <td>0</td>\n",
       "    </tr>\n",
       "    <tr>\n",
       "      <th>1</th>\n",
       "      <td>PONTARI</td>\n",
       "      <td>KENNETH</td>\n",
       "      <td>nh_white</td>\n",
       "      <td>PONTARI KENNETH</td>\n",
       "      <td>0</td>\n",
       "    </tr>\n",
       "    <tr>\n",
       "      <th>2</th>\n",
       "      <td>Gregory</td>\n",
       "      <td>Alexandrea</td>\n",
       "      <td>nh_black</td>\n",
       "      <td>Gregory Alexandrea</td>\n",
       "      <td>1</td>\n",
       "    </tr>\n",
       "    <tr>\n",
       "      <th>3</th>\n",
       "      <td>Lloyd</td>\n",
       "      <td>Josiane</td>\n",
       "      <td>nh_white</td>\n",
       "      <td>Lloyd Josiane</td>\n",
       "      <td>0</td>\n",
       "    </tr>\n",
       "    <tr>\n",
       "      <th>4</th>\n",
       "      <td>Gonzalez</td>\n",
       "      <td>Mavis</td>\n",
       "      <td>hispanic</td>\n",
       "      <td>Gonzalez Mavis</td>\n",
       "      <td>3</td>\n",
       "    </tr>\n",
       "  </tbody>\n",
       "</table>\n",
       "</div>"
      ],
      "text/plain": [
       "  name_last  name_first      race           full_name  race_code\n",
       "0    Peirce   Christine  nh_white    Peirce Christine          0\n",
       "1   PONTARI     KENNETH  nh_white     PONTARI KENNETH          0\n",
       "2   Gregory  Alexandrea  nh_black  Gregory Alexandrea          1\n",
       "3     Lloyd     Josiane  nh_white       Lloyd Josiane          0\n",
       "4  Gonzalez       Mavis  hispanic      Gonzalez Mavis          3"
      ]
     },
     "execution_count": 39,
     "metadata": {},
     "output_type": "execute_result"
    }
   ],
   "source": [
    "train_df.head()"
   ]
  },
  {
   "cell_type": "code",
   "execution_count": null,
   "id": "b0a55dbb-c317-4ab8-b4a8-7ff0eb9d645a",
   "metadata": {},
   "outputs": [],
   "source": []
  }
 ],
 "metadata": {
  "kernelspec": {
   "display_name": "Python 3 (ipykernel)",
   "language": "python",
   "name": "python3"
  },
  "language_info": {
   "codemirror_mode": {
    "name": "ipython",
    "version": 3
   },
   "file_extension": ".py",
   "mimetype": "text/x-python",
   "name": "python",
   "nbconvert_exporter": "python",
   "pygments_lexer": "ipython3",
   "version": "3.10.6"
  }
 },
 "nbformat": 4,
 "nbformat_minor": 5
}
