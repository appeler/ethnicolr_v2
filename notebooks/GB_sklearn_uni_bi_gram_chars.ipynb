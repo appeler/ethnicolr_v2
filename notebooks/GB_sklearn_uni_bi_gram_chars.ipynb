{
 "cells": [
  {
   "cell_type": "code",
   "execution_count": 1,
   "id": "43bdd7b0-bff8-428d-9025-0593bd0330d5",
   "metadata": {
    "tags": []
   },
   "outputs": [],
   "source": [
    "import numpy as np\n",
    "import pandas as pd\n",
    "import joblib\n",
    "\n",
    "from sklearn.model_selection import train_test_split\n",
    "from sklearn.ensemble import GradientBoostingClassifier\n",
    "from sklearn.feature_extraction.text import CountVectorizer\n",
    "from sklearn import metrics"
   ]
  },
  {
   "cell_type": "code",
   "execution_count": 2,
   "id": "6f9bb41e-594e-43a6-ab47-cb2dfc35f40f",
   "metadata": {
    "tags": []
   },
   "outputs": [],
   "source": [
    "df = pd.read_csv('./data/fl_reg_name_race_2022.csv.gz')"
   ]
  },
  {
   "cell_type": "code",
   "execution_count": 3,
   "id": "e4ecca49-9ce2-469d-befc-23a2c48bd85b",
   "metadata": {
    "tags": []
   },
   "outputs": [
    {
     "data": {
      "text/html": [
       "<div>\n",
       "<style scoped>\n",
       "    .dataframe tbody tr th:only-of-type {\n",
       "        vertical-align: middle;\n",
       "    }\n",
       "\n",
       "    .dataframe tbody tr th {\n",
       "        vertical-align: top;\n",
       "    }\n",
       "\n",
       "    .dataframe thead th {\n",
       "        text-align: right;\n",
       "    }\n",
       "</style>\n",
       "<table border=\"1\" class=\"dataframe\">\n",
       "  <thead>\n",
       "    <tr style=\"text-align: right;\">\n",
       "      <th></th>\n",
       "      <th>name_last</th>\n",
       "      <th>name_first</th>\n",
       "      <th>race</th>\n",
       "    </tr>\n",
       "  </thead>\n",
       "  <tbody>\n",
       "    <tr>\n",
       "      <th>0</th>\n",
       "      <td>Hessler-Smith</td>\n",
       "      <td>Jason</td>\n",
       "      <td>nh_white</td>\n",
       "    </tr>\n",
       "    <tr>\n",
       "      <th>1</th>\n",
       "      <td>Rogers</td>\n",
       "      <td>Renee</td>\n",
       "      <td>nh_white</td>\n",
       "    </tr>\n",
       "    <tr>\n",
       "      <th>2</th>\n",
       "      <td>Bartolome</td>\n",
       "      <td>Crystal</td>\n",
       "      <td>nh_white</td>\n",
       "    </tr>\n",
       "    <tr>\n",
       "      <th>3</th>\n",
       "      <td>Bailey</td>\n",
       "      <td>Donna</td>\n",
       "      <td>nh_white</td>\n",
       "    </tr>\n",
       "    <tr>\n",
       "      <th>4</th>\n",
       "      <td>Carlson</td>\n",
       "      <td>Greggory</td>\n",
       "      <td>nh_white</td>\n",
       "    </tr>\n",
       "  </tbody>\n",
       "</table>\n",
       "</div>"
      ],
      "text/plain": [
       "       name_last name_first      race\n",
       "0  Hessler-Smith      Jason  nh_white\n",
       "1         Rogers      Renee  nh_white\n",
       "2      Bartolome    Crystal  nh_white\n",
       "3         Bailey      Donna  nh_white\n",
       "4        Carlson   Greggory  nh_white"
      ]
     },
     "execution_count": 3,
     "metadata": {},
     "output_type": "execute_result"
    }
   ],
   "source": [
    "df.head()"
   ]
  },
  {
   "cell_type": "code",
   "execution_count": 4,
   "id": "44182c12-39d1-4946-ad0c-c590ae37056c",
   "metadata": {
    "tags": []
   },
   "outputs": [
    {
     "data": {
      "text/html": [
       "<div>\n",
       "<style scoped>\n",
       "    .dataframe tbody tr th:only-of-type {\n",
       "        vertical-align: middle;\n",
       "    }\n",
       "\n",
       "    .dataframe tbody tr th {\n",
       "        vertical-align: top;\n",
       "    }\n",
       "\n",
       "    .dataframe thead th {\n",
       "        text-align: right;\n",
       "    }\n",
       "</style>\n",
       "<table border=\"1\" class=\"dataframe\">\n",
       "  <thead>\n",
       "    <tr style=\"text-align: right;\">\n",
       "      <th></th>\n",
       "      <th>name_last</th>\n",
       "      <th>name_first</th>\n",
       "      <th>race</th>\n",
       "    </tr>\n",
       "  </thead>\n",
       "  <tbody>\n",
       "    <tr>\n",
       "      <th>count</th>\n",
       "      <td>15454992</td>\n",
       "      <td>15455022</td>\n",
       "      <td>15455110</td>\n",
       "    </tr>\n",
       "    <tr>\n",
       "      <th>unique</th>\n",
       "      <td>1341195</td>\n",
       "      <td>641103</td>\n",
       "      <td>8</td>\n",
       "    </tr>\n",
       "    <tr>\n",
       "      <th>top</th>\n",
       "      <td>Smith</td>\n",
       "      <td>Michael</td>\n",
       "      <td>nh_white</td>\n",
       "    </tr>\n",
       "    <tr>\n",
       "      <th>freq</th>\n",
       "      <td>79362</td>\n",
       "      <td>153753</td>\n",
       "      <td>9446851</td>\n",
       "    </tr>\n",
       "  </tbody>\n",
       "</table>\n",
       "</div>"
      ],
      "text/plain": [
       "       name_last name_first      race\n",
       "count   15454992   15455022  15455110\n",
       "unique   1341195     641103         8\n",
       "top        Smith    Michael  nh_white\n",
       "freq       79362     153753   9446851"
      ]
     },
     "execution_count": 4,
     "metadata": {},
     "output_type": "execute_result"
    }
   ],
   "source": [
    "df.describe()"
   ]
  },
  {
   "cell_type": "code",
   "execution_count": 5,
   "id": "2991943d-78b9-4e7a-9138-051b0334f5b6",
   "metadata": {
    "tags": []
   },
   "outputs": [
    {
     "data": {
      "text/plain": [
       "array(['nh_white', 'nh_black', 'other', 'hispanic', 'asian',\n",
       "       'native_indian', 'unknown', 'multi_racial'], dtype=object)"
      ]
     },
     "execution_count": 5,
     "metadata": {},
     "output_type": "execute_result"
    }
   ],
   "source": [
    "df['race'].unique()"
   ]
  },
  {
   "cell_type": "markdown",
   "id": "b9a23d1f-8a75-469c-b476-ed978525919e",
   "metadata": {},
   "source": [
    "## Drop none values"
   ]
  },
  {
   "cell_type": "code",
   "execution_count": 6,
   "id": "5f3e53a1-06e0-4c10-ab8a-0147366a161a",
   "metadata": {
    "tags": []
   },
   "outputs": [],
   "source": [
    "df.dropna(subset=['name_first', 'name_last'], inplace=True)"
   ]
  },
  {
   "cell_type": "code",
   "execution_count": 7,
   "id": "515024c9-126c-4d8f-af4e-7fc552a27ffd",
   "metadata": {
    "tags": []
   },
   "outputs": [
    {
     "data": {
      "text/html": [
       "<div>\n",
       "<style scoped>\n",
       "    .dataframe tbody tr th:only-of-type {\n",
       "        vertical-align: middle;\n",
       "    }\n",
       "\n",
       "    .dataframe tbody tr th {\n",
       "        vertical-align: top;\n",
       "    }\n",
       "\n",
       "    .dataframe thead th {\n",
       "        text-align: right;\n",
       "    }\n",
       "</style>\n",
       "<table border=\"1\" class=\"dataframe\">\n",
       "  <thead>\n",
       "    <tr style=\"text-align: right;\">\n",
       "      <th></th>\n",
       "      <th>name_last</th>\n",
       "      <th>name_first</th>\n",
       "      <th>race</th>\n",
       "    </tr>\n",
       "  </thead>\n",
       "  <tbody>\n",
       "    <tr>\n",
       "      <th>count</th>\n",
       "      <td>15454908</td>\n",
       "      <td>15454908</td>\n",
       "      <td>15454908</td>\n",
       "    </tr>\n",
       "    <tr>\n",
       "      <th>unique</th>\n",
       "      <td>1341176</td>\n",
       "      <td>641095</td>\n",
       "      <td>8</td>\n",
       "    </tr>\n",
       "    <tr>\n",
       "      <th>top</th>\n",
       "      <td>Smith</td>\n",
       "      <td>Michael</td>\n",
       "      <td>nh_white</td>\n",
       "    </tr>\n",
       "    <tr>\n",
       "      <th>freq</th>\n",
       "      <td>79362</td>\n",
       "      <td>153753</td>\n",
       "      <td>9446749</td>\n",
       "    </tr>\n",
       "  </tbody>\n",
       "</table>\n",
       "</div>"
      ],
      "text/plain": [
       "       name_last name_first      race\n",
       "count   15454908   15454908  15454908\n",
       "unique   1341176     641095         8\n",
       "top        Smith    Michael  nh_white\n",
       "freq       79362     153753   9446749"
      ]
     },
     "execution_count": 7,
     "metadata": {},
     "output_type": "execute_result"
    }
   ],
   "source": [
    "df.describe()"
   ]
  },
  {
   "cell_type": "markdown",
   "id": "36489cbb-c1ce-4439-a316-9f94cdd83b7b",
   "metadata": {},
   "source": [
    "## drop last name and first name of length 1"
   ]
  },
  {
   "cell_type": "code",
   "execution_count": 8,
   "id": "d9fc9d25-f5fd-4e1a-aa00-e3b406efb5a4",
   "metadata": {
    "tags": []
   },
   "outputs": [],
   "source": [
    "df = df.drop(df[df['name_last'].str.len() < 2].index)"
   ]
  },
  {
   "cell_type": "code",
   "execution_count": 9,
   "id": "364c4058-2c2f-49ff-bd84-30f52e02668a",
   "metadata": {
    "tags": []
   },
   "outputs": [],
   "source": [
    "df = df.drop(df[df['name_first'].str.len() < 2].index)"
   ]
  },
  {
   "cell_type": "code",
   "execution_count": 10,
   "id": "c9cb0daf-e4cb-4dda-b2fa-d74dc2998f0b",
   "metadata": {
    "tags": []
   },
   "outputs": [
    {
     "data": {
      "text/html": [
       "<div>\n",
       "<style scoped>\n",
       "    .dataframe tbody tr th:only-of-type {\n",
       "        vertical-align: middle;\n",
       "    }\n",
       "\n",
       "    .dataframe tbody tr th {\n",
       "        vertical-align: top;\n",
       "    }\n",
       "\n",
       "    .dataframe thead th {\n",
       "        text-align: right;\n",
       "    }\n",
       "</style>\n",
       "<table border=\"1\" class=\"dataframe\">\n",
       "  <thead>\n",
       "    <tr style=\"text-align: right;\">\n",
       "      <th></th>\n",
       "      <th>name_last</th>\n",
       "      <th>name_first</th>\n",
       "      <th>race</th>\n",
       "    </tr>\n",
       "  </thead>\n",
       "  <tbody>\n",
       "    <tr>\n",
       "      <th>count</th>\n",
       "      <td>15366690</td>\n",
       "      <td>15366690</td>\n",
       "      <td>15366690</td>\n",
       "    </tr>\n",
       "    <tr>\n",
       "      <th>unique</th>\n",
       "      <td>1340617</td>\n",
       "      <td>641055</td>\n",
       "      <td>8</td>\n",
       "    </tr>\n",
       "    <tr>\n",
       "      <th>top</th>\n",
       "      <td>Smith</td>\n",
       "      <td>Michael</td>\n",
       "      <td>nh_white</td>\n",
       "    </tr>\n",
       "    <tr>\n",
       "      <th>freq</th>\n",
       "      <td>79297</td>\n",
       "      <td>153752</td>\n",
       "      <td>9383680</td>\n",
       "    </tr>\n",
       "  </tbody>\n",
       "</table>\n",
       "</div>"
      ],
      "text/plain": [
       "       name_last name_first      race\n",
       "count   15366690   15366690  15366690\n",
       "unique   1340617     641055         8\n",
       "top        Smith    Michael  nh_white\n",
       "freq       79297     153752   9383680"
      ]
     },
     "execution_count": 10,
     "metadata": {},
     "output_type": "execute_result"
    }
   ],
   "source": [
    "df.describe()"
   ]
  },
  {
   "cell_type": "markdown",
   "id": "dbe02a6b-6151-4a41-8ad6-52d08801d3be",
   "metadata": {
    "tags": []
   },
   "source": [
    "## Remove special characters"
   ]
  },
  {
   "cell_type": "code",
   "execution_count": 11,
   "id": "4eed6dbf-3f8f-4a6a-b88a-daec42ca6152",
   "metadata": {
    "tags": []
   },
   "outputs": [],
   "source": [
    "df['full_name'] = df['name_last'] + ' ' + df['name_first']"
   ]
  },
  {
   "cell_type": "code",
   "execution_count": 12,
   "id": "dae382b1-73bd-4a29-a1e1-4c46a64560cd",
   "metadata": {
    "tags": []
   },
   "outputs": [
    {
     "data": {
      "text/html": [
       "<div>\n",
       "<style scoped>\n",
       "    .dataframe tbody tr th:only-of-type {\n",
       "        vertical-align: middle;\n",
       "    }\n",
       "\n",
       "    .dataframe tbody tr th {\n",
       "        vertical-align: top;\n",
       "    }\n",
       "\n",
       "    .dataframe thead th {\n",
       "        text-align: right;\n",
       "    }\n",
       "</style>\n",
       "<table border=\"1\" class=\"dataframe\">\n",
       "  <thead>\n",
       "    <tr style=\"text-align: right;\">\n",
       "      <th></th>\n",
       "      <th>name_last</th>\n",
       "      <th>name_first</th>\n",
       "      <th>race</th>\n",
       "      <th>full_name</th>\n",
       "    </tr>\n",
       "  </thead>\n",
       "  <tbody>\n",
       "    <tr>\n",
       "      <th>0</th>\n",
       "      <td>Hessler-Smith</td>\n",
       "      <td>Jason</td>\n",
       "      <td>nh_white</td>\n",
       "      <td>Hessler-Smith Jason</td>\n",
       "    </tr>\n",
       "    <tr>\n",
       "      <th>1</th>\n",
       "      <td>Rogers</td>\n",
       "      <td>Renee</td>\n",
       "      <td>nh_white</td>\n",
       "      <td>Rogers Renee</td>\n",
       "    </tr>\n",
       "    <tr>\n",
       "      <th>2</th>\n",
       "      <td>Bartolome</td>\n",
       "      <td>Crystal</td>\n",
       "      <td>nh_white</td>\n",
       "      <td>Bartolome Crystal</td>\n",
       "    </tr>\n",
       "    <tr>\n",
       "      <th>3</th>\n",
       "      <td>Bailey</td>\n",
       "      <td>Donna</td>\n",
       "      <td>nh_white</td>\n",
       "      <td>Bailey Donna</td>\n",
       "    </tr>\n",
       "    <tr>\n",
       "      <th>4</th>\n",
       "      <td>Carlson</td>\n",
       "      <td>Greggory</td>\n",
       "      <td>nh_white</td>\n",
       "      <td>Carlson Greggory</td>\n",
       "    </tr>\n",
       "  </tbody>\n",
       "</table>\n",
       "</div>"
      ],
      "text/plain": [
       "       name_last name_first      race            full_name\n",
       "0  Hessler-Smith      Jason  nh_white  Hessler-Smith Jason\n",
       "1         Rogers      Renee  nh_white         Rogers Renee\n",
       "2      Bartolome    Crystal  nh_white    Bartolome Crystal\n",
       "3         Bailey      Donna  nh_white         Bailey Donna\n",
       "4        Carlson   Greggory  nh_white     Carlson Greggory"
      ]
     },
     "execution_count": 12,
     "metadata": {},
     "output_type": "execute_result"
    }
   ],
   "source": [
    "df.head()"
   ]
  },
  {
   "cell_type": "code",
   "execution_count": 13,
   "id": "e9a8daf2-0a78-4e51-b1fe-f6cef6aa7e0b",
   "metadata": {
    "tags": []
   },
   "outputs": [],
   "source": [
    "df['full_name'] = df['full_name'].str.replace('[^a-zA-Z ]', '', regex=True)"
   ]
  },
  {
   "cell_type": "code",
   "execution_count": 14,
   "id": "05405272-47f3-46d1-a3ea-55d532bcdcd5",
   "metadata": {
    "tags": []
   },
   "outputs": [
    {
     "data": {
      "text/html": [
       "<div>\n",
       "<style scoped>\n",
       "    .dataframe tbody tr th:only-of-type {\n",
       "        vertical-align: middle;\n",
       "    }\n",
       "\n",
       "    .dataframe tbody tr th {\n",
       "        vertical-align: top;\n",
       "    }\n",
       "\n",
       "    .dataframe thead th {\n",
       "        text-align: right;\n",
       "    }\n",
       "</style>\n",
       "<table border=\"1\" class=\"dataframe\">\n",
       "  <thead>\n",
       "    <tr style=\"text-align: right;\">\n",
       "      <th></th>\n",
       "      <th>name_last</th>\n",
       "      <th>name_first</th>\n",
       "      <th>race</th>\n",
       "      <th>full_name</th>\n",
       "    </tr>\n",
       "  </thead>\n",
       "  <tbody>\n",
       "    <tr>\n",
       "      <th>0</th>\n",
       "      <td>Hessler-Smith</td>\n",
       "      <td>Jason</td>\n",
       "      <td>nh_white</td>\n",
       "      <td>HesslerSmith Jason</td>\n",
       "    </tr>\n",
       "    <tr>\n",
       "      <th>1</th>\n",
       "      <td>Rogers</td>\n",
       "      <td>Renee</td>\n",
       "      <td>nh_white</td>\n",
       "      <td>Rogers Renee</td>\n",
       "    </tr>\n",
       "    <tr>\n",
       "      <th>2</th>\n",
       "      <td>Bartolome</td>\n",
       "      <td>Crystal</td>\n",
       "      <td>nh_white</td>\n",
       "      <td>Bartolome Crystal</td>\n",
       "    </tr>\n",
       "    <tr>\n",
       "      <th>3</th>\n",
       "      <td>Bailey</td>\n",
       "      <td>Donna</td>\n",
       "      <td>nh_white</td>\n",
       "      <td>Bailey Donna</td>\n",
       "    </tr>\n",
       "    <tr>\n",
       "      <th>4</th>\n",
       "      <td>Carlson</td>\n",
       "      <td>Greggory</td>\n",
       "      <td>nh_white</td>\n",
       "      <td>Carlson Greggory</td>\n",
       "    </tr>\n",
       "  </tbody>\n",
       "</table>\n",
       "</div>"
      ],
      "text/plain": [
       "       name_last name_first      race           full_name\n",
       "0  Hessler-Smith      Jason  nh_white  HesslerSmith Jason\n",
       "1         Rogers      Renee  nh_white        Rogers Renee\n",
       "2      Bartolome    Crystal  nh_white   Bartolome Crystal\n",
       "3         Bailey      Donna  nh_white        Bailey Donna\n",
       "4        Carlson   Greggory  nh_white    Carlson Greggory"
      ]
     },
     "execution_count": 14,
     "metadata": {},
     "output_type": "execute_result"
    }
   ],
   "source": [
    "df.head()"
   ]
  },
  {
   "cell_type": "markdown",
   "id": "713830ed-6d40-4f75-819d-a7369107f37b",
   "metadata": {},
   "source": [
    "## drop duplicates"
   ]
  },
  {
   "cell_type": "code",
   "execution_count": 15,
   "id": "4657439c-da04-4ba7-b3a8-806f11f50396",
   "metadata": {
    "tags": []
   },
   "outputs": [
    {
     "data": {
      "text/html": [
       "<div>\n",
       "<style scoped>\n",
       "    .dataframe tbody tr th:only-of-type {\n",
       "        vertical-align: middle;\n",
       "    }\n",
       "\n",
       "    .dataframe tbody tr th {\n",
       "        vertical-align: top;\n",
       "    }\n",
       "\n",
       "    .dataframe thead th {\n",
       "        text-align: right;\n",
       "    }\n",
       "</style>\n",
       "<table border=\"1\" class=\"dataframe\">\n",
       "  <thead>\n",
       "    <tr style=\"text-align: right;\">\n",
       "      <th></th>\n",
       "      <th>name_last</th>\n",
       "      <th>name_first</th>\n",
       "      <th>race</th>\n",
       "      <th>full_name</th>\n",
       "    </tr>\n",
       "  </thead>\n",
       "  <tbody>\n",
       "    <tr>\n",
       "      <th>837</th>\n",
       "      <td>Moser</td>\n",
       "      <td>Patricia</td>\n",
       "      <td>nh_white</td>\n",
       "      <td>Moser Patricia</td>\n",
       "    </tr>\n",
       "    <tr>\n",
       "      <th>928</th>\n",
       "      <td>Johnson</td>\n",
       "      <td>Tiffany</td>\n",
       "      <td>nh_black</td>\n",
       "      <td>Johnson Tiffany</td>\n",
       "    </tr>\n",
       "    <tr>\n",
       "      <th>1247</th>\n",
       "      <td>Perry</td>\n",
       "      <td>Charles</td>\n",
       "      <td>nh_white</td>\n",
       "      <td>Perry Charles</td>\n",
       "    </tr>\n",
       "    <tr>\n",
       "      <th>2120</th>\n",
       "      <td>Johnson</td>\n",
       "      <td>Ashley</td>\n",
       "      <td>nh_black</td>\n",
       "      <td>Johnson Ashley</td>\n",
       "    </tr>\n",
       "    <tr>\n",
       "      <th>2285</th>\n",
       "      <td>Johnson</td>\n",
       "      <td>Clayton</td>\n",
       "      <td>nh_white</td>\n",
       "      <td>Johnson Clayton</td>\n",
       "    </tr>\n",
       "    <tr>\n",
       "      <th>...</th>\n",
       "      <td>...</td>\n",
       "      <td>...</td>\n",
       "      <td>...</td>\n",
       "      <td>...</td>\n",
       "    </tr>\n",
       "    <tr>\n",
       "      <th>15455101</th>\n",
       "      <td>Jones</td>\n",
       "      <td>Margaret</td>\n",
       "      <td>nh_white</td>\n",
       "      <td>Jones Margaret</td>\n",
       "    </tr>\n",
       "    <tr>\n",
       "      <th>15455102</th>\n",
       "      <td>Hartley</td>\n",
       "      <td>Brandon</td>\n",
       "      <td>nh_white</td>\n",
       "      <td>Hartley Brandon</td>\n",
       "    </tr>\n",
       "    <tr>\n",
       "      <th>15455104</th>\n",
       "      <td>Ballentine</td>\n",
       "      <td>Robert</td>\n",
       "      <td>nh_white</td>\n",
       "      <td>Ballentine Robert</td>\n",
       "    </tr>\n",
       "    <tr>\n",
       "      <th>15455106</th>\n",
       "      <td>Watts</td>\n",
       "      <td>Mark</td>\n",
       "      <td>nh_white</td>\n",
       "      <td>Watts Mark</td>\n",
       "    </tr>\n",
       "    <tr>\n",
       "      <th>15455108</th>\n",
       "      <td>Ward</td>\n",
       "      <td>Stephanie</td>\n",
       "      <td>nh_white</td>\n",
       "      <td>Ward Stephanie</td>\n",
       "    </tr>\n",
       "  </tbody>\n",
       "</table>\n",
       "<p>4557669 rows × 4 columns</p>\n",
       "</div>"
      ],
      "text/plain": [
       "           name_last name_first      race          full_name\n",
       "837            Moser   Patricia  nh_white     Moser Patricia\n",
       "928          Johnson    Tiffany  nh_black    Johnson Tiffany\n",
       "1247           Perry    Charles  nh_white      Perry Charles\n",
       "2120         Johnson     Ashley  nh_black     Johnson Ashley\n",
       "2285         Johnson    Clayton  nh_white    Johnson Clayton\n",
       "...              ...        ...       ...                ...\n",
       "15455101       Jones   Margaret  nh_white     Jones Margaret\n",
       "15455102     Hartley    Brandon  nh_white    Hartley Brandon\n",
       "15455104  Ballentine     Robert  nh_white  Ballentine Robert\n",
       "15455106       Watts       Mark  nh_white         Watts Mark\n",
       "15455108        Ward  Stephanie  nh_white     Ward Stephanie\n",
       "\n",
       "[4557669 rows x 4 columns]"
      ]
     },
     "execution_count": 15,
     "metadata": {},
     "output_type": "execute_result"
    }
   ],
   "source": [
    "df[df[['full_name','race']].duplicated()]"
   ]
  },
  {
   "cell_type": "code",
   "execution_count": 16,
   "id": "6c3cd9e9-bd8d-4ea6-9ee4-a048dd62dedb",
   "metadata": {
    "tags": []
   },
   "outputs": [
    {
     "data": {
      "text/html": [
       "<div>\n",
       "<style scoped>\n",
       "    .dataframe tbody tr th:only-of-type {\n",
       "        vertical-align: middle;\n",
       "    }\n",
       "\n",
       "    .dataframe tbody tr th {\n",
       "        vertical-align: top;\n",
       "    }\n",
       "\n",
       "    .dataframe thead th {\n",
       "        text-align: right;\n",
       "    }\n",
       "</style>\n",
       "<table border=\"1\" class=\"dataframe\">\n",
       "  <thead>\n",
       "    <tr style=\"text-align: right;\">\n",
       "      <th></th>\n",
       "      <th>name_last</th>\n",
       "      <th>name_first</th>\n",
       "      <th>race</th>\n",
       "      <th>full_name</th>\n",
       "    </tr>\n",
       "  </thead>\n",
       "  <tbody>\n",
       "    <tr>\n",
       "      <th>136</th>\n",
       "      <td>Porter</td>\n",
       "      <td>Paula</td>\n",
       "      <td>nh_white</td>\n",
       "      <td>Porter Paula</td>\n",
       "    </tr>\n",
       "    <tr>\n",
       "      <th>550</th>\n",
       "      <td>Porter</td>\n",
       "      <td>Paula</td>\n",
       "      <td>nh_black</td>\n",
       "      <td>Porter Paula</td>\n",
       "    </tr>\n",
       "    <tr>\n",
       "      <th>1527456</th>\n",
       "      <td>Porter</td>\n",
       "      <td>Paula</td>\n",
       "      <td>nh_white</td>\n",
       "      <td>Porter Paula</td>\n",
       "    </tr>\n",
       "    <tr>\n",
       "      <th>7563599</th>\n",
       "      <td>Porter</td>\n",
       "      <td>Paula</td>\n",
       "      <td>nh_white</td>\n",
       "      <td>Porter Paula</td>\n",
       "    </tr>\n",
       "    <tr>\n",
       "      <th>7631191</th>\n",
       "      <td>Porter</td>\n",
       "      <td>Paula</td>\n",
       "      <td>nh_white</td>\n",
       "      <td>Porter Paula</td>\n",
       "    </tr>\n",
       "    <tr>\n",
       "      <th>8383292</th>\n",
       "      <td>Porter</td>\n",
       "      <td>Paula</td>\n",
       "      <td>nh_white</td>\n",
       "      <td>Porter Paula</td>\n",
       "    </tr>\n",
       "    <tr>\n",
       "      <th>10682106</th>\n",
       "      <td>Porter</td>\n",
       "      <td>Paula</td>\n",
       "      <td>nh_white</td>\n",
       "      <td>Porter Paula</td>\n",
       "    </tr>\n",
       "  </tbody>\n",
       "</table>\n",
       "</div>"
      ],
      "text/plain": [
       "         name_last name_first      race     full_name\n",
       "136         Porter      Paula  nh_white  Porter Paula\n",
       "550         Porter      Paula  nh_black  Porter Paula\n",
       "1527456     Porter      Paula  nh_white  Porter Paula\n",
       "7563599     Porter      Paula  nh_white  Porter Paula\n",
       "7631191     Porter      Paula  nh_white  Porter Paula\n",
       "8383292     Porter      Paula  nh_white  Porter Paula\n",
       "10682106    Porter      Paula  nh_white  Porter Paula"
      ]
     },
     "execution_count": 16,
     "metadata": {},
     "output_type": "execute_result"
    }
   ],
   "source": [
    "df[df['full_name'] == \"Porter Paula\"]"
   ]
  },
  {
   "cell_type": "code",
   "execution_count": 17,
   "id": "1328a905-6bd0-4cc4-9da1-5b2f6b8317fb",
   "metadata": {
    "tags": []
   },
   "outputs": [],
   "source": [
    "df = df.drop_duplicates(['full_name','race'],keep= 'last')"
   ]
  },
  {
   "cell_type": "code",
   "execution_count": 18,
   "id": "b8fde5f4-190f-4385-9a84-b3f84a58a9a6",
   "metadata": {
    "tags": []
   },
   "outputs": [
    {
     "data": {
      "text/html": [
       "<div>\n",
       "<style scoped>\n",
       "    .dataframe tbody tr th:only-of-type {\n",
       "        vertical-align: middle;\n",
       "    }\n",
       "\n",
       "    .dataframe tbody tr th {\n",
       "        vertical-align: top;\n",
       "    }\n",
       "\n",
       "    .dataframe thead th {\n",
       "        text-align: right;\n",
       "    }\n",
       "</style>\n",
       "<table border=\"1\" class=\"dataframe\">\n",
       "  <thead>\n",
       "    <tr style=\"text-align: right;\">\n",
       "      <th></th>\n",
       "      <th>name_last</th>\n",
       "      <th>name_first</th>\n",
       "      <th>race</th>\n",
       "      <th>full_name</th>\n",
       "    </tr>\n",
       "  </thead>\n",
       "  <tbody>\n",
       "    <tr>\n",
       "      <th>550</th>\n",
       "      <td>Porter</td>\n",
       "      <td>Paula</td>\n",
       "      <td>nh_black</td>\n",
       "      <td>Porter Paula</td>\n",
       "    </tr>\n",
       "    <tr>\n",
       "      <th>10682106</th>\n",
       "      <td>Porter</td>\n",
       "      <td>Paula</td>\n",
       "      <td>nh_white</td>\n",
       "      <td>Porter Paula</td>\n",
       "    </tr>\n",
       "  </tbody>\n",
       "</table>\n",
       "</div>"
      ],
      "text/plain": [
       "         name_last name_first      race     full_name\n",
       "550         Porter      Paula  nh_black  Porter Paula\n",
       "10682106    Porter      Paula  nh_white  Porter Paula"
      ]
     },
     "execution_count": 18,
     "metadata": {},
     "output_type": "execute_result"
    }
   ],
   "source": [
    "df[df['full_name'] == \"Porter Paula\"]"
   ]
  },
  {
   "cell_type": "code",
   "execution_count": 19,
   "id": "66dbb6be-7866-44ce-b77c-abad60aa6b07",
   "metadata": {
    "tags": []
   },
   "outputs": [
    {
     "data": {
      "text/plain": [
       "(10809021, 4)"
      ]
     },
     "execution_count": 19,
     "metadata": {},
     "output_type": "execute_result"
    }
   ],
   "source": [
    "df.shape"
   ]
  },
  {
   "cell_type": "markdown",
   "id": "4e2ed379-51d3-445d-995e-258c724d3abb",
   "metadata": {},
   "source": [
    "## Extract features"
   ]
  },
  {
   "cell_type": "code",
   "execution_count": 20,
   "id": "56a1d629-37ea-435f-b99e-f48e285335d6",
   "metadata": {
    "tags": []
   },
   "outputs": [],
   "source": [
    "vectorizer = CountVectorizer(analyzer='char', ngram_range=(1, 2), lowercase=False)"
   ]
  },
  {
   "cell_type": "code",
   "execution_count": 21,
   "id": "accd0e12-5cb2-4f64-b46e-fd0e65b4843c",
   "metadata": {
    "tags": []
   },
   "outputs": [],
   "source": [
    "X = vectorizer.fit_transform(df['full_name'])"
   ]
  },
  {
   "cell_type": "code",
   "execution_count": 22,
   "id": "d18ba028-c270-49fc-8921-18b996754fa5",
   "metadata": {
    "tags": []
   },
   "outputs": [
    {
     "data": {
      "text/plain": [
       "array([[1, 0, 0, ..., 0, 0, 0],\n",
       "       [1, 0, 0, ..., 0, 0, 0],\n",
       "       [1, 0, 0, ..., 0, 0, 0],\n",
       "       ...,\n",
       "       [1, 0, 0, ..., 0, 0, 0],\n",
       "       [1, 0, 0, ..., 0, 0, 0],\n",
       "       [1, 0, 0, ..., 0, 0, 0]])"
      ]
     },
     "execution_count": 22,
     "metadata": {},
     "output_type": "execute_result"
    }
   ],
   "source": [
    "X[:10].toarray()"
   ]
  },
  {
   "cell_type": "code",
   "execution_count": 23,
   "id": "7078aec6-e9ef-4393-9086-e6c6b919a8a6",
   "metadata": {
    "tags": []
   },
   "outputs": [
    {
     "data": {
      "text/plain": [
       "array([' ', ' A', ' B', ..., 'zx', 'zy', 'zz'], dtype=object)"
      ]
     },
     "execution_count": 23,
     "metadata": {},
     "output_type": "execute_result"
    }
   ],
   "source": [
    "vectorizer.get_feature_names_out()"
   ]
  },
  {
   "cell_type": "code",
   "execution_count": 24,
   "id": "8f8729a2-b6f0-4265-abbd-d9878879f14a",
   "metadata": {
    "tags": []
   },
   "outputs": [
    {
     "data": {
      "text/plain": [
       "2767"
      ]
     },
     "execution_count": 24,
     "metadata": {},
     "output_type": "execute_result"
    }
   ],
   "source": [
    "len(vectorizer.get_feature_names_out())"
   ]
  },
  {
   "cell_type": "code",
   "execution_count": 25,
   "id": "19714c3f-3aa9-4e2f-8145-1aeda563f13c",
   "metadata": {
    "tags": []
   },
   "outputs": [],
   "source": [
    "vocab = vectorizer.get_feature_names_out()"
   ]
  },
  {
   "cell_type": "code",
   "execution_count": 26,
   "id": "b6371e6e-8ff8-4af1-b2e9-35a4f59c8e2e",
   "metadata": {
    "tags": []
   },
   "outputs": [
    {
     "data": {
      "text/plain": [
       "{0, 1, 2, 3, 4, 5, 6, 7}"
      ]
     },
     "execution_count": 26,
     "metadata": {},
     "output_type": "execute_result"
    }
   ],
   "source": [
    "set(df.race.factorize()[0])"
   ]
  },
  {
   "cell_type": "code",
   "execution_count": 27,
   "id": "89443030-683b-4b67-8d4e-df0aa85f4bb3",
   "metadata": {
    "tags": []
   },
   "outputs": [],
   "source": [
    "df['race_code'] = df.race.factorize()[0]"
   ]
  },
  {
   "cell_type": "code",
   "execution_count": 28,
   "id": "c495747b-e9da-4b0f-9d30-dc2b55fd57a4",
   "metadata": {
    "tags": []
   },
   "outputs": [
    {
     "data": {
      "text/html": [
       "<div>\n",
       "<style scoped>\n",
       "    .dataframe tbody tr th:only-of-type {\n",
       "        vertical-align: middle;\n",
       "    }\n",
       "\n",
       "    .dataframe tbody tr th {\n",
       "        vertical-align: top;\n",
       "    }\n",
       "\n",
       "    .dataframe thead th {\n",
       "        text-align: right;\n",
       "    }\n",
       "</style>\n",
       "<table border=\"1\" class=\"dataframe\">\n",
       "  <thead>\n",
       "    <tr style=\"text-align: right;\">\n",
       "      <th></th>\n",
       "      <th>name_last</th>\n",
       "      <th>name_first</th>\n",
       "      <th>race</th>\n",
       "      <th>full_name</th>\n",
       "      <th>race_code</th>\n",
       "    </tr>\n",
       "  </thead>\n",
       "  <tbody>\n",
       "    <tr>\n",
       "      <th>0</th>\n",
       "      <td>Hessler-Smith</td>\n",
       "      <td>Jason</td>\n",
       "      <td>nh_white</td>\n",
       "      <td>HesslerSmith Jason</td>\n",
       "      <td>0</td>\n",
       "    </tr>\n",
       "    <tr>\n",
       "      <th>2</th>\n",
       "      <td>Bartolome</td>\n",
       "      <td>Crystal</td>\n",
       "      <td>nh_white</td>\n",
       "      <td>Bartolome Crystal</td>\n",
       "      <td>0</td>\n",
       "    </tr>\n",
       "    <tr>\n",
       "      <th>4</th>\n",
       "      <td>Carlson</td>\n",
       "      <td>Greggory</td>\n",
       "      <td>nh_white</td>\n",
       "      <td>Carlson Greggory</td>\n",
       "      <td>0</td>\n",
       "    </tr>\n",
       "    <tr>\n",
       "      <th>5</th>\n",
       "      <td>McDowell</td>\n",
       "      <td>Terrica</td>\n",
       "      <td>nh_black</td>\n",
       "      <td>McDowell Terrica</td>\n",
       "      <td>1</td>\n",
       "    </tr>\n",
       "    <tr>\n",
       "      <th>6</th>\n",
       "      <td>Luong</td>\n",
       "      <td>Lin</td>\n",
       "      <td>other</td>\n",
       "      <td>Luong Lin</td>\n",
       "      <td>2</td>\n",
       "    </tr>\n",
       "  </tbody>\n",
       "</table>\n",
       "</div>"
      ],
      "text/plain": [
       "       name_last name_first      race           full_name  race_code\n",
       "0  Hessler-Smith      Jason  nh_white  HesslerSmith Jason          0\n",
       "2      Bartolome    Crystal  nh_white   Bartolome Crystal          0\n",
       "4        Carlson   Greggory  nh_white    Carlson Greggory          0\n",
       "5       McDowell    Terrica  nh_black    McDowell Terrica          1\n",
       "6          Luong        Lin     other           Luong Lin          2"
      ]
     },
     "execution_count": 28,
     "metadata": {},
     "output_type": "execute_result"
    }
   ],
   "source": [
    "df.head()"
   ]
  },
  {
   "cell_type": "code",
   "execution_count": 29,
   "id": "6a160419-e500-4c78-a0bb-6f4454d64e0f",
   "metadata": {
    "tags": []
   },
   "outputs": [
    {
     "data": {
      "text/html": [
       "<div>\n",
       "<style scoped>\n",
       "    .dataframe tbody tr th:only-of-type {\n",
       "        vertical-align: middle;\n",
       "    }\n",
       "\n",
       "    .dataframe tbody tr th {\n",
       "        vertical-align: top;\n",
       "    }\n",
       "\n",
       "    .dataframe thead th {\n",
       "        text-align: right;\n",
       "    }\n",
       "</style>\n",
       "<table border=\"1\" class=\"dataframe\">\n",
       "  <thead>\n",
       "    <tr style=\"text-align: right;\">\n",
       "      <th></th>\n",
       "      <th>race</th>\n",
       "      <th>race_code</th>\n",
       "    </tr>\n",
       "  </thead>\n",
       "  <tbody>\n",
       "    <tr>\n",
       "      <th>0</th>\n",
       "      <td>nh_white</td>\n",
       "      <td>0</td>\n",
       "    </tr>\n",
       "    <tr>\n",
       "      <th>5</th>\n",
       "      <td>nh_black</td>\n",
       "      <td>1</td>\n",
       "    </tr>\n",
       "    <tr>\n",
       "      <th>6</th>\n",
       "      <td>other</td>\n",
       "      <td>2</td>\n",
       "    </tr>\n",
       "    <tr>\n",
       "      <th>22</th>\n",
       "      <td>hispanic</td>\n",
       "      <td>3</td>\n",
       "    </tr>\n",
       "    <tr>\n",
       "      <th>32</th>\n",
       "      <td>asian</td>\n",
       "      <td>4</td>\n",
       "    </tr>\n",
       "    <tr>\n",
       "      <th>66</th>\n",
       "      <td>native_indian</td>\n",
       "      <td>5</td>\n",
       "    </tr>\n",
       "    <tr>\n",
       "      <th>158</th>\n",
       "      <td>multi_racial</td>\n",
       "      <td>6</td>\n",
       "    </tr>\n",
       "    <tr>\n",
       "      <th>610</th>\n",
       "      <td>unknown</td>\n",
       "      <td>7</td>\n",
       "    </tr>\n",
       "  </tbody>\n",
       "</table>\n",
       "</div>"
      ],
      "text/plain": [
       "              race  race_code\n",
       "0         nh_white          0\n",
       "5         nh_black          1\n",
       "6            other          2\n",
       "22        hispanic          3\n",
       "32           asian          4\n",
       "66   native_indian          5\n",
       "158   multi_racial          6\n",
       "610        unknown          7"
      ]
     },
     "execution_count": 29,
     "metadata": {},
     "output_type": "execute_result"
    }
   ],
   "source": [
    "df[['race', 'race_code']].drop_duplicates().sort_values('race_code')"
   ]
  },
  {
   "cell_type": "code",
   "execution_count": 30,
   "id": "db49e566-670d-4588-8556-41b64c9892cb",
   "metadata": {
    "tags": []
   },
   "outputs": [],
   "source": [
    "race_id_df = df[['race', 'race_code']].drop_duplicates().sort_values('race_code')\n",
    "race_to_id = dict(race_id_df.values)"
   ]
  },
  {
   "cell_type": "code",
   "execution_count": 31,
   "id": "df835a1e-32ee-4f09-b225-f2851b9264d5",
   "metadata": {
    "tags": []
   },
   "outputs": [
    {
     "data": {
      "text/plain": [
       "{'nh_white': 0,\n",
       " 'nh_black': 1,\n",
       " 'other': 2,\n",
       " 'hispanic': 3,\n",
       " 'asian': 4,\n",
       " 'native_indian': 5,\n",
       " 'multi_racial': 6,\n",
       " 'unknown': 7}"
      ]
     },
     "execution_count": 31,
     "metadata": {},
     "output_type": "execute_result"
    }
   ],
   "source": [
    "race_to_id"
   ]
  },
  {
   "cell_type": "code",
   "execution_count": 32,
   "id": "7510214c-57f4-49f7-8565-cfa2c48fd404",
   "metadata": {
    "tags": []
   },
   "outputs": [],
   "source": [
    "id_to_race = dict(race_id_df[['race_code', 'race']].values)"
   ]
  },
  {
   "cell_type": "code",
   "execution_count": 33,
   "id": "9edd623f-9fd9-44f7-b268-37c1fbfb3799",
   "metadata": {
    "tags": []
   },
   "outputs": [
    {
     "data": {
      "text/plain": [
       "{0: 'nh_white',\n",
       " 1: 'nh_black',\n",
       " 2: 'other',\n",
       " 3: 'hispanic',\n",
       " 4: 'asian',\n",
       " 5: 'native_indian',\n",
       " 6: 'multi_racial',\n",
       " 7: 'unknown'}"
      ]
     },
     "execution_count": 33,
     "metadata": {},
     "output_type": "execute_result"
    }
   ],
   "source": [
    "id_to_race"
   ]
  },
  {
   "cell_type": "code",
   "execution_count": 34,
   "id": "550526c7-8ac1-4e4f-b1ca-3922832c6119",
   "metadata": {
    "tags": []
   },
   "outputs": [],
   "source": [
    "y = df.race_code"
   ]
  },
  {
   "cell_type": "code",
   "execution_count": 35,
   "id": "9b0c0894-2832-4d63-a09b-0063c7d06207",
   "metadata": {
    "tags": []
   },
   "outputs": [
    {
     "data": {
      "text/plain": [
       "0"
      ]
     },
     "execution_count": 35,
     "metadata": {},
     "output_type": "execute_result"
    }
   ],
   "source": [
    "y[0]"
   ]
  },
  {
   "cell_type": "code",
   "execution_count": 36,
   "id": "7be2bc6c-0363-4803-83c5-e2a6a7fc4a03",
   "metadata": {
    "tags": []
   },
   "outputs": [],
   "source": [
    "X_train,  X_test, y_train, y_test = train_test_split(X, y, test_size=0.2, random_state=42, stratify=y)"
   ]
  },
  {
   "cell_type": "code",
   "execution_count": 37,
   "id": "c5747cde-b751-4037-9012-95ec8e7b4566",
   "metadata": {
    "tags": []
   },
   "outputs": [],
   "source": [
    "#Create a Gaussian Classifier\n",
    "clf = GradientBoostingClassifier(random_state=42, verbose=6)"
   ]
  },
  {
   "cell_type": "code",
   "execution_count": 38,
   "id": "27b2c2e0-561e-42c9-965f-72cfcfd2caa8",
   "metadata": {
    "tags": []
   },
   "outputs": [
    {
     "name": "stdout",
     "output_type": "stream",
     "text": [
      "(8647216, 2767)\n",
      "(2161805, 2767)\n"
     ]
    }
   ],
   "source": [
    "print(X_train.shape)\n",
    "print(X_test.shape)"
   ]
  },
  {
   "cell_type": "markdown",
   "id": "f4a954e6-adb7-4ed1-a998-ff259bb63d59",
   "metadata": {},
   "source": [
    "## Training"
   ]
  },
  {
   "cell_type": "markdown",
   "id": "3eaf206d-5323-4b62-b449-6ee4df96390c",
   "metadata": {},
   "source": [
    "## Doing it for 1 million with 100 iterations"
   ]
  },
  {
   "cell_type": "code",
   "execution_count": 42,
   "id": "5adcf7e6-ee3d-4e57-b008-e0bfaab740ef",
   "metadata": {
    "tags": []
   },
   "outputs": [
    {
     "name": "stdout",
     "output_type": "stream",
     "text": [
      "      Iter       Train Loss   Remaining Time \n",
      "         1           1.2455          111.68m\n",
      "         2           1.2283          108.63m\n",
      "         3           1.2148          106.66m\n",
      "         4           1.2043          105.27m\n",
      "         5           1.1939          104.14m\n",
      "         6           1.1868          101.46m\n",
      "         7           1.1794           99.75m\n",
      "         8           1.1738           98.51m\n",
      "         9           1.1684           97.25m\n",
      "        10           1.1636           96.15m\n",
      "        11           1.1589           95.10m\n",
      "        12           1.1544           94.63m\n",
      "        13           1.1504           93.49m\n",
      "        14           1.1466           92.30m\n",
      "        15           1.1428           91.15m\n",
      "        16           1.1397           89.91m\n",
      "        17           1.1369           88.80m\n",
      "        18           1.1340           87.68m\n",
      "        19           1.1315           86.45m\n",
      "        20           1.1285           85.31m\n",
      "        21           1.1262           84.17m\n",
      "        22           1.1235           83.06m\n",
      "        23           1.1211           81.96m\n",
      "        24           1.1191           80.78m\n",
      "        25           1.1167           79.73m\n",
      "        26           1.1147           78.73m\n",
      "        27           1.1130           77.79m\n",
      "        28           1.1111           76.76m\n",
      "        29           1.1095           75.78m\n",
      "        30           1.1074           74.83m\n",
      "        31           1.1058           73.84m\n",
      "        32           1.1043           72.79m\n",
      "        33           1.1025           71.85m\n",
      "        34           1.1009           70.87m\n",
      "        35           1.0995           69.85m\n",
      "        36           1.0981           68.83m\n",
      "        37           1.0969           67.80m\n",
      "        38           1.0956           66.78m\n",
      "        39           1.0941           65.79m\n",
      "        40           1.0927           64.73m\n",
      "        41           1.0917           63.70m\n",
      "        42           1.0904           62.61m\n",
      "        43           1.0891           61.51m\n",
      "        44           1.0882           60.46m\n",
      "        45           1.0869           59.42m\n",
      "        46           1.0858           58.40m\n",
      "        47           1.0847           57.34m\n",
      "        48           1.0837           56.28m\n",
      "        49           1.0828           55.20m\n",
      "        50           1.0817           54.16m\n",
      "        51           1.0807           53.10m\n",
      "        52           1.0797           51.99m\n",
      "        53           1.0789           50.91m\n",
      "        54           1.0778           49.84m\n",
      "        55           1.0769           48.76m\n",
      "        56           1.0759           47.68m\n",
      "        57           1.0751           46.58m\n",
      "        58           1.0743           45.50m\n",
      "        59           1.0735           44.41m\n",
      "        60           1.0726           43.35m\n",
      "        61           1.0717           42.26m\n",
      "        62           1.0708           41.19m\n",
      "        63           1.0699           40.10m\n",
      "        64           1.0693           39.01m\n",
      "        65           1.0686           37.91m\n",
      "        66           1.0678           36.84m\n",
      "        67           1.0671           35.76m\n",
      "        68           1.0665           34.69m\n",
      "        69           1.0657           33.62m\n",
      "        70           1.0650           32.53m\n",
      "        71           1.0643           31.45m\n",
      "        72           1.0635           30.37m\n",
      "        73           1.0629           29.30m\n",
      "        74           1.0622           28.23m\n",
      "        75           1.0616           27.15m\n",
      "        76           1.0609           26.08m\n",
      "        77           1.0602           24.99m\n",
      "        78           1.0596           23.89m\n",
      "        79           1.0590           22.79m\n",
      "        80           1.0584           21.70m\n",
      "        81           1.0579           20.62m\n",
      "        82           1.0572           19.53m\n",
      "        83           1.0566           18.45m\n",
      "        84           1.0560           17.37m\n",
      "        85           1.0555           16.29m\n",
      "        86           1.0549           15.20m\n",
      "        87           1.0544           14.12m\n",
      "        88           1.0538           13.03m\n",
      "        89           1.0532           11.95m\n",
      "        90           1.0526           10.86m\n",
      "        91           1.0521            9.78m\n",
      "        92           1.0514            8.69m\n",
      "        93           1.0508            7.61m\n",
      "        94           1.0506            6.52m\n",
      "        95           1.0500            5.44m\n",
      "        96           1.0496            4.35m\n",
      "        97           1.0491            3.26m\n",
      "        98           1.0487            2.17m\n",
      "        99           1.0481            1.09m\n",
      "       100           1.0476            0.00s\n",
      "CPU times: user 1h 46min 47s, sys: 1min 55s, total: 1h 48min 43s\n",
      "Wall time: 1h 48min 49s\n"
     ]
    },
    {
     "data": {
      "text/html": [
       "<style>#sk-container-id-1 {color: black;background-color: white;}#sk-container-id-1 pre{padding: 0;}#sk-container-id-1 div.sk-toggleable {background-color: white;}#sk-container-id-1 label.sk-toggleable__label {cursor: pointer;display: block;width: 100%;margin-bottom: 0;padding: 0.3em;box-sizing: border-box;text-align: center;}#sk-container-id-1 label.sk-toggleable__label-arrow:before {content: \"▸\";float: left;margin-right: 0.25em;color: #696969;}#sk-container-id-1 label.sk-toggleable__label-arrow:hover:before {color: black;}#sk-container-id-1 div.sk-estimator:hover label.sk-toggleable__label-arrow:before {color: black;}#sk-container-id-1 div.sk-toggleable__content {max-height: 0;max-width: 0;overflow: hidden;text-align: left;background-color: #f0f8ff;}#sk-container-id-1 div.sk-toggleable__content pre {margin: 0.2em;color: black;border-radius: 0.25em;background-color: #f0f8ff;}#sk-container-id-1 input.sk-toggleable__control:checked~div.sk-toggleable__content {max-height: 200px;max-width: 100%;overflow: auto;}#sk-container-id-1 input.sk-toggleable__control:checked~label.sk-toggleable__label-arrow:before {content: \"▾\";}#sk-container-id-1 div.sk-estimator input.sk-toggleable__control:checked~label.sk-toggleable__label {background-color: #d4ebff;}#sk-container-id-1 div.sk-label input.sk-toggleable__control:checked~label.sk-toggleable__label {background-color: #d4ebff;}#sk-container-id-1 input.sk-hidden--visually {border: 0;clip: rect(1px 1px 1px 1px);clip: rect(1px, 1px, 1px, 1px);height: 1px;margin: -1px;overflow: hidden;padding: 0;position: absolute;width: 1px;}#sk-container-id-1 div.sk-estimator {font-family: monospace;background-color: #f0f8ff;border: 1px dotted black;border-radius: 0.25em;box-sizing: border-box;margin-bottom: 0.5em;}#sk-container-id-1 div.sk-estimator:hover {background-color: #d4ebff;}#sk-container-id-1 div.sk-parallel-item::after {content: \"\";width: 100%;border-bottom: 1px solid gray;flex-grow: 1;}#sk-container-id-1 div.sk-label:hover label.sk-toggleable__label {background-color: #d4ebff;}#sk-container-id-1 div.sk-serial::before {content: \"\";position: absolute;border-left: 1px solid gray;box-sizing: border-box;top: 0;bottom: 0;left: 50%;z-index: 0;}#sk-container-id-1 div.sk-serial {display: flex;flex-direction: column;align-items: center;background-color: white;padding-right: 0.2em;padding-left: 0.2em;position: relative;}#sk-container-id-1 div.sk-item {position: relative;z-index: 1;}#sk-container-id-1 div.sk-parallel {display: flex;align-items: stretch;justify-content: center;background-color: white;position: relative;}#sk-container-id-1 div.sk-item::before, #sk-container-id-1 div.sk-parallel-item::before {content: \"\";position: absolute;border-left: 1px solid gray;box-sizing: border-box;top: 0;bottom: 0;left: 50%;z-index: -1;}#sk-container-id-1 div.sk-parallel-item {display: flex;flex-direction: column;z-index: 1;position: relative;background-color: white;}#sk-container-id-1 div.sk-parallel-item:first-child::after {align-self: flex-end;width: 50%;}#sk-container-id-1 div.sk-parallel-item:last-child::after {align-self: flex-start;width: 50%;}#sk-container-id-1 div.sk-parallel-item:only-child::after {width: 0;}#sk-container-id-1 div.sk-dashed-wrapped {border: 1px dashed gray;margin: 0 0.4em 0.5em 0.4em;box-sizing: border-box;padding-bottom: 0.4em;background-color: white;}#sk-container-id-1 div.sk-label label {font-family: monospace;font-weight: bold;display: inline-block;line-height: 1.2em;}#sk-container-id-1 div.sk-label-container {text-align: center;}#sk-container-id-1 div.sk-container {/* jupyter's `normalize.less` sets `[hidden] { display: none; }` but bootstrap.min.css set `[hidden] { display: none !important; }` so we also need the `!important` here to be able to override the default hidden behavior on the sphinx rendered scikit-learn.org. See: https://github.com/scikit-learn/scikit-learn/issues/21755 */display: inline-block !important;position: relative;}#sk-container-id-1 div.sk-text-repr-fallback {display: none;}</style><div id=\"sk-container-id-1\" class=\"sk-top-container\"><div class=\"sk-text-repr-fallback\"><pre>GradientBoostingClassifier(random_state=42, verbose=6)</pre><b>In a Jupyter environment, please rerun this cell to show the HTML representation or trust the notebook. <br />On GitHub, the HTML representation is unable to render, please try loading this page with nbviewer.org.</b></div><div class=\"sk-container\" hidden><div class=\"sk-item\"><div class=\"sk-estimator sk-toggleable\"><input class=\"sk-toggleable__control sk-hidden--visually\" id=\"sk-estimator-id-1\" type=\"checkbox\" checked><label for=\"sk-estimator-id-1\" class=\"sk-toggleable__label sk-toggleable__label-arrow\">GradientBoostingClassifier</label><div class=\"sk-toggleable__content\"><pre>GradientBoostingClassifier(random_state=42, verbose=6)</pre></div></div></div></div></div>"
      ],
      "text/plain": [
       "GradientBoostingClassifier(random_state=42, verbose=6)"
      ]
     },
     "execution_count": 42,
     "metadata": {},
     "output_type": "execute_result"
    }
   ],
   "source": [
    "%%time\n",
    "#Train the model using the training sets y_pred=clf.predict(X_test)\n",
    "\n",
    "# 1 million\n",
    "samples = 100 * 100 * 100\n",
    "# 1 million records took 2h 10min 13s\n",
    "# 8 million records will take ~17 hours\n",
    "\n",
    "clf.fit(X_train[:samples], y_train[:samples])"
   ]
  },
  {
   "cell_type": "code",
   "execution_count": 43,
   "id": "706b6bbd-7bf7-4f7f-b3ca-42f425ee8da0",
   "metadata": {
    "tags": []
   },
   "outputs": [
    {
     "name": "stdout",
     "output_type": "stream",
     "text": [
      "Accuracy: 0.655368546191724\n",
      "CPU times: user 48.2 s, sys: 2.62 s, total: 50.8 s\n",
      "Wall time: 58.4 s\n"
     ]
    }
   ],
   "source": [
    "%%time\n",
    "y_pred = clf.predict(X_test)\n",
    "# Model Accuracy, how often is the classifier correct?\n",
    "print(\"Accuracy:\", metrics.accuracy_score(y_test, y_pred))"
   ]
  },
  {
   "cell_type": "code",
   "execution_count": 44,
   "id": "2899fe5b-1699-444d-988a-981a7053940f",
   "metadata": {
    "tags": []
   },
   "outputs": [
    {
     "data": {
      "text/plain": [
       "['fl_voter_name_gb_vect_1M.joblib']"
      ]
     },
     "execution_count": 44,
     "metadata": {},
     "output_type": "execute_result"
    }
   ],
   "source": [
    "joblib.dump(vectorizer, \"fl_voter_name_gb_vect_1M.joblib\", compress=3)  # compression is ON!"
   ]
  },
  {
   "cell_type": "code",
   "execution_count": 45,
   "id": "7d836a71-0053-4159-819e-b78f7fbbd27c",
   "metadata": {
    "tags": []
   },
   "outputs": [
    {
     "data": {
      "text/plain": [
       "['fl_voter_name_gb_model_1M.joblib']"
      ]
     },
     "execution_count": 45,
     "metadata": {},
     "output_type": "execute_result"
    }
   ],
   "source": [
    "joblib.dump(clf, \"fl_voter_name_gb_model_1M.joblib\", compress=3)  # compression is ON!"
   ]
  },
  {
   "cell_type": "markdown",
   "id": "e273dbc0-f400-4915-9f73-fcf0532c0155",
   "metadata": {},
   "source": [
    "## Doing it for 2 million with 100 iterations"
   ]
  },
  {
   "cell_type": "code",
   "execution_count": 46,
   "id": "76f1c55a-8ff1-4286-8670-699c2bba71d5",
   "metadata": {
    "tags": []
   },
   "outputs": [
    {
     "name": "stdout",
     "output_type": "stream",
     "text": [
      "      Iter       Train Loss   Remaining Time \n",
      "         1           1.2455          259.82m\n",
      "         2           1.2282          255.67m\n",
      "         3           1.2151          252.34m\n",
      "         4           1.2045          248.67m\n",
      "         5           1.1946          244.61m\n",
      "         6           1.1873          241.55m\n",
      "         7           1.1800          239.23m\n",
      "         8           1.1741          236.18m\n",
      "         9           1.1685          233.78m\n",
      "        10           1.1638          230.52m\n",
      "        11           1.1592          227.62m\n",
      "        12           1.1545          224.47m\n",
      "        13           1.1507          221.92m\n",
      "        14           1.1468          218.90m\n",
      "        15           1.1433          216.33m\n",
      "        16           1.1399          213.68m\n",
      "        17           1.1368          210.78m\n",
      "        18           1.1338          207.60m\n",
      "        19           1.1313          204.49m\n",
      "        20           1.1288          200.83m\n",
      "        21           1.1260          197.54m\n",
      "        22           1.1238          194.50m\n",
      "        23           1.1218          191.33m\n",
      "        24           1.1193          188.26m\n",
      "        25           1.1173          185.18m\n",
      "        26           1.1154          182.19m\n",
      "        27           1.1136          179.32m\n",
      "        28           1.1118          176.57m\n",
      "        29           1.1096          173.83m\n",
      "        30           1.1078          171.21m\n",
      "        31           1.1063          168.38m\n",
      "        32           1.1050          165.72m\n",
      "        33           1.1035          162.93m\n",
      "        34           1.1018          160.17m\n",
      "        35           1.1000          157.61m\n",
      "        36           1.0985          154.98m\n",
      "        37           1.0972          152.45m\n",
      "        38           1.0959          149.92m\n",
      "        39           1.0947          147.68m\n",
      "        40           1.0933          145.38m\n",
      "        41           1.0919          143.11m\n",
      "        42           1.0907          140.81m\n",
      "        43           1.0895          138.52m\n",
      "        44           1.0885          136.11m\n",
      "        45           1.0873          133.70m\n",
      "        46           1.0864          131.17m\n",
      "        47           1.0852          128.68m\n",
      "        48           1.0841          126.28m\n",
      "        49           1.0830          123.80m\n",
      "        50           1.0823          121.27m\n",
      "        51           1.0814          118.80m\n",
      "        52           1.0805          116.30m\n",
      "        53           1.0797          113.79m\n",
      "        54           1.0790          111.26m\n",
      "        55           1.0781          108.78m\n",
      "        56           1.0772          106.26m\n",
      "        57           1.0763          103.88m\n",
      "        58           1.0756          101.41m\n",
      "        59           1.0747           98.97m\n",
      "        60           1.0738           96.56m\n",
      "        61           1.0730           94.21m\n",
      "        62           1.0721           91.78m\n",
      "        63           1.0715           89.31m\n",
      "        64           1.0708           86.89m\n",
      "        65           1.0701           84.45m\n",
      "        66           1.0692           82.09m\n",
      "        67           1.0685           79.69m\n",
      "        68           1.0678           77.32m\n",
      "        69           1.0671           74.87m\n",
      "        70           1.0663           72.43m\n",
      "        71           1.0656           69.97m\n",
      "        72           1.0650           67.52m\n",
      "        73           1.0643           65.10m\n",
      "        74           1.0637           62.66m\n",
      "        75           1.0631           60.21m\n",
      "        76           1.0624           57.78m\n",
      "        77           1.0618           55.38m\n",
      "        78           1.0614           52.98m\n",
      "        79           1.0608           50.55m\n",
      "        80           1.0602           48.12m\n",
      "        81           1.0596           45.68m\n",
      "        82           1.0591           43.26m\n",
      "        83           1.0585           40.86m\n",
      "        84           1.0579           38.44m\n",
      "        85           1.0574           36.04m\n",
      "        86           1.0568           33.64m\n",
      "        87           1.0562           31.23m\n",
      "        88           1.0557           28.83m\n",
      "        89           1.0552           26.43m\n",
      "        90           1.0546           24.02m\n",
      "        91           1.0540           21.62m\n",
      "        92           1.0536           19.22m\n",
      "        93           1.0530           16.81m\n",
      "        94           1.0526           14.41m\n",
      "        95           1.0521           12.01m\n",
      "        96           1.0515            9.61m\n",
      "        97           1.0511            7.21m\n",
      "        98           1.0507            4.80m\n",
      "        99           1.0502            2.40m\n",
      "       100           1.0497            0.00s\n",
      "CPU times: user 3h 51min 20s, sys: 9min 5s, total: 4h 25s\n",
      "Wall time: 4h 47s\n"
     ]
    },
    {
     "data": {
      "text/html": [
       "<style>#sk-container-id-2 {color: black;background-color: white;}#sk-container-id-2 pre{padding: 0;}#sk-container-id-2 div.sk-toggleable {background-color: white;}#sk-container-id-2 label.sk-toggleable__label {cursor: pointer;display: block;width: 100%;margin-bottom: 0;padding: 0.3em;box-sizing: border-box;text-align: center;}#sk-container-id-2 label.sk-toggleable__label-arrow:before {content: \"▸\";float: left;margin-right: 0.25em;color: #696969;}#sk-container-id-2 label.sk-toggleable__label-arrow:hover:before {color: black;}#sk-container-id-2 div.sk-estimator:hover label.sk-toggleable__label-arrow:before {color: black;}#sk-container-id-2 div.sk-toggleable__content {max-height: 0;max-width: 0;overflow: hidden;text-align: left;background-color: #f0f8ff;}#sk-container-id-2 div.sk-toggleable__content pre {margin: 0.2em;color: black;border-radius: 0.25em;background-color: #f0f8ff;}#sk-container-id-2 input.sk-toggleable__control:checked~div.sk-toggleable__content {max-height: 200px;max-width: 100%;overflow: auto;}#sk-container-id-2 input.sk-toggleable__control:checked~label.sk-toggleable__label-arrow:before {content: \"▾\";}#sk-container-id-2 div.sk-estimator input.sk-toggleable__control:checked~label.sk-toggleable__label {background-color: #d4ebff;}#sk-container-id-2 div.sk-label input.sk-toggleable__control:checked~label.sk-toggleable__label {background-color: #d4ebff;}#sk-container-id-2 input.sk-hidden--visually {border: 0;clip: rect(1px 1px 1px 1px);clip: rect(1px, 1px, 1px, 1px);height: 1px;margin: -1px;overflow: hidden;padding: 0;position: absolute;width: 1px;}#sk-container-id-2 div.sk-estimator {font-family: monospace;background-color: #f0f8ff;border: 1px dotted black;border-radius: 0.25em;box-sizing: border-box;margin-bottom: 0.5em;}#sk-container-id-2 div.sk-estimator:hover {background-color: #d4ebff;}#sk-container-id-2 div.sk-parallel-item::after {content: \"\";width: 100%;border-bottom: 1px solid gray;flex-grow: 1;}#sk-container-id-2 div.sk-label:hover label.sk-toggleable__label {background-color: #d4ebff;}#sk-container-id-2 div.sk-serial::before {content: \"\";position: absolute;border-left: 1px solid gray;box-sizing: border-box;top: 0;bottom: 0;left: 50%;z-index: 0;}#sk-container-id-2 div.sk-serial {display: flex;flex-direction: column;align-items: center;background-color: white;padding-right: 0.2em;padding-left: 0.2em;position: relative;}#sk-container-id-2 div.sk-item {position: relative;z-index: 1;}#sk-container-id-2 div.sk-parallel {display: flex;align-items: stretch;justify-content: center;background-color: white;position: relative;}#sk-container-id-2 div.sk-item::before, #sk-container-id-2 div.sk-parallel-item::before {content: \"\";position: absolute;border-left: 1px solid gray;box-sizing: border-box;top: 0;bottom: 0;left: 50%;z-index: -1;}#sk-container-id-2 div.sk-parallel-item {display: flex;flex-direction: column;z-index: 1;position: relative;background-color: white;}#sk-container-id-2 div.sk-parallel-item:first-child::after {align-self: flex-end;width: 50%;}#sk-container-id-2 div.sk-parallel-item:last-child::after {align-self: flex-start;width: 50%;}#sk-container-id-2 div.sk-parallel-item:only-child::after {width: 0;}#sk-container-id-2 div.sk-dashed-wrapped {border: 1px dashed gray;margin: 0 0.4em 0.5em 0.4em;box-sizing: border-box;padding-bottom: 0.4em;background-color: white;}#sk-container-id-2 div.sk-label label {font-family: monospace;font-weight: bold;display: inline-block;line-height: 1.2em;}#sk-container-id-2 div.sk-label-container {text-align: center;}#sk-container-id-2 div.sk-container {/* jupyter's `normalize.less` sets `[hidden] { display: none; }` but bootstrap.min.css set `[hidden] { display: none !important; }` so we also need the `!important` here to be able to override the default hidden behavior on the sphinx rendered scikit-learn.org. See: https://github.com/scikit-learn/scikit-learn/issues/21755 */display: inline-block !important;position: relative;}#sk-container-id-2 div.sk-text-repr-fallback {display: none;}</style><div id=\"sk-container-id-2\" class=\"sk-top-container\"><div class=\"sk-text-repr-fallback\"><pre>GradientBoostingClassifier(random_state=42, verbose=6)</pre><b>In a Jupyter environment, please rerun this cell to show the HTML representation or trust the notebook. <br />On GitHub, the HTML representation is unable to render, please try loading this page with nbviewer.org.</b></div><div class=\"sk-container\" hidden><div class=\"sk-item\"><div class=\"sk-estimator sk-toggleable\"><input class=\"sk-toggleable__control sk-hidden--visually\" id=\"sk-estimator-id-2\" type=\"checkbox\" checked><label for=\"sk-estimator-id-2\" class=\"sk-toggleable__label sk-toggleable__label-arrow\">GradientBoostingClassifier</label><div class=\"sk-toggleable__content\"><pre>GradientBoostingClassifier(random_state=42, verbose=6)</pre></div></div></div></div></div>"
      ],
      "text/plain": [
       "GradientBoostingClassifier(random_state=42, verbose=6)"
      ]
     },
     "execution_count": 46,
     "metadata": {},
     "output_type": "execute_result"
    }
   ],
   "source": [
    "%%time\n",
    "#Train the model using the training sets y_pred=clf.predict(X_test)\n",
    "clf = GradientBoostingClassifier(random_state=42, verbose=6)\n",
    "\n",
    "# 2 million\n",
    "samples = 2 * 100 * 100 * 100\n",
    "# 1 million records took 2h 10min 13s\n",
    "# 2 million records took 3h 50 mins\n",
    "# 8 million records will take ~17 hours\n",
    "\n",
    "clf.fit(X_train[:samples], y_train[:samples])"
   ]
  },
  {
   "cell_type": "code",
   "execution_count": 47,
   "id": "574338bf-b610-4619-bd23-ddc2eec5c899",
   "metadata": {
    "tags": []
   },
   "outputs": [
    {
     "name": "stdout",
     "output_type": "stream",
     "text": [
      "Accuracy: 0.6553865866717858\n",
      "CPU times: user 37.3 s, sys: 3.64 s, total: 40.9 s\n",
      "Wall time: 47.8 s\n"
     ]
    }
   ],
   "source": [
    "%%time\n",
    "y_pred = clf.predict(X_test)\n",
    "# Model Accuracy, how often is the classifier correct?\n",
    "print(\"Accuracy:\", metrics.accuracy_score(y_test, y_pred))"
   ]
  },
  {
   "cell_type": "code",
   "execution_count": 48,
   "id": "ce7677d6-3723-4d2b-9e88-823ed900dc6b",
   "metadata": {
    "tags": []
   },
   "outputs": [
    {
     "data": {
      "text/plain": [
       "['fl_voter_name_gb_vect_2M.joblib']"
      ]
     },
     "execution_count": 48,
     "metadata": {},
     "output_type": "execute_result"
    }
   ],
   "source": [
    "joblib.dump(vectorizer, \"fl_voter_name_gb_vect_2M.joblib\", compress=3)  # compression is ON!"
   ]
  },
  {
   "cell_type": "code",
   "execution_count": 49,
   "id": "ba7d6ce8-ed66-4d5e-86a0-f75a66c35bc2",
   "metadata": {
    "tags": []
   },
   "outputs": [
    {
     "data": {
      "text/plain": [
       "['fl_voter_name_gb_model_2M.joblib']"
      ]
     },
     "execution_count": 49,
     "metadata": {},
     "output_type": "execute_result"
    }
   ],
   "source": [
    "joblib.dump(clf, \"fl_voter_name_gb_model_2M.joblib\", compress=3)  # compression is ON!"
   ]
  },
  {
   "cell_type": "markdown",
   "id": "5f97bc2d-13a9-430d-970d-4929d539f8f5",
   "metadata": {},
   "source": [
    "# Now lets do for the whole train dataset with 20 iterations"
   ]
  },
  {
   "cell_type": "code",
   "execution_count": 39,
   "id": "f88669a8-23d8-473f-a377-287a26139330",
   "metadata": {
    "tags": []
   },
   "outputs": [
    {
     "name": "stdout",
     "output_type": "stream",
     "text": [
      "      Iter       Train Loss   Remaining Time \n",
      "         1           1.2454          279.97m\n",
      "         2           1.2283          260.36m\n",
      "         3           1.2153          243.58m\n",
      "         4           1.2045          229.15m\n",
      "         5           1.1947          214.38m\n",
      "         6           1.1872          200.97m\n",
      "         7           1.1801          186.81m\n",
      "         8           1.1743          172.44m\n",
      "         9           1.1685          157.57m\n",
      "        10           1.1641          143.10m\n",
      "        11           1.1594          128.65m\n",
      "        12           1.1549          113.91m\n",
      "        13           1.1509           99.47m\n",
      "        14           1.1471           85.01m\n",
      "        15           1.1441           70.49m\n",
      "        16           1.1410           56.24m\n",
      "        17           1.1377           42.09m\n",
      "        18           1.1348           27.98m\n",
      "        19           1.1322           13.97m\n",
      "        20           1.1293            0.00s\n",
      "CPU times: user 4h 22min 11s, sys: 16min 34s, total: 4h 38min 45s\n",
      "Wall time: 4h 39min 22s\n"
     ]
    },
    {
     "data": {
      "text/html": [
       "<style>#sk-container-id-1 {color: black;background-color: white;}#sk-container-id-1 pre{padding: 0;}#sk-container-id-1 div.sk-toggleable {background-color: white;}#sk-container-id-1 label.sk-toggleable__label {cursor: pointer;display: block;width: 100%;margin-bottom: 0;padding: 0.3em;box-sizing: border-box;text-align: center;}#sk-container-id-1 label.sk-toggleable__label-arrow:before {content: \"▸\";float: left;margin-right: 0.25em;color: #696969;}#sk-container-id-1 label.sk-toggleable__label-arrow:hover:before {color: black;}#sk-container-id-1 div.sk-estimator:hover label.sk-toggleable__label-arrow:before {color: black;}#sk-container-id-1 div.sk-toggleable__content {max-height: 0;max-width: 0;overflow: hidden;text-align: left;background-color: #f0f8ff;}#sk-container-id-1 div.sk-toggleable__content pre {margin: 0.2em;color: black;border-radius: 0.25em;background-color: #f0f8ff;}#sk-container-id-1 input.sk-toggleable__control:checked~div.sk-toggleable__content {max-height: 200px;max-width: 100%;overflow: auto;}#sk-container-id-1 input.sk-toggleable__control:checked~label.sk-toggleable__label-arrow:before {content: \"▾\";}#sk-container-id-1 div.sk-estimator input.sk-toggleable__control:checked~label.sk-toggleable__label {background-color: #d4ebff;}#sk-container-id-1 div.sk-label input.sk-toggleable__control:checked~label.sk-toggleable__label {background-color: #d4ebff;}#sk-container-id-1 input.sk-hidden--visually {border: 0;clip: rect(1px 1px 1px 1px);clip: rect(1px, 1px, 1px, 1px);height: 1px;margin: -1px;overflow: hidden;padding: 0;position: absolute;width: 1px;}#sk-container-id-1 div.sk-estimator {font-family: monospace;background-color: #f0f8ff;border: 1px dotted black;border-radius: 0.25em;box-sizing: border-box;margin-bottom: 0.5em;}#sk-container-id-1 div.sk-estimator:hover {background-color: #d4ebff;}#sk-container-id-1 div.sk-parallel-item::after {content: \"\";width: 100%;border-bottom: 1px solid gray;flex-grow: 1;}#sk-container-id-1 div.sk-label:hover label.sk-toggleable__label {background-color: #d4ebff;}#sk-container-id-1 div.sk-serial::before {content: \"\";position: absolute;border-left: 1px solid gray;box-sizing: border-box;top: 0;bottom: 0;left: 50%;z-index: 0;}#sk-container-id-1 div.sk-serial {display: flex;flex-direction: column;align-items: center;background-color: white;padding-right: 0.2em;padding-left: 0.2em;position: relative;}#sk-container-id-1 div.sk-item {position: relative;z-index: 1;}#sk-container-id-1 div.sk-parallel {display: flex;align-items: stretch;justify-content: center;background-color: white;position: relative;}#sk-container-id-1 div.sk-item::before, #sk-container-id-1 div.sk-parallel-item::before {content: \"\";position: absolute;border-left: 1px solid gray;box-sizing: border-box;top: 0;bottom: 0;left: 50%;z-index: -1;}#sk-container-id-1 div.sk-parallel-item {display: flex;flex-direction: column;z-index: 1;position: relative;background-color: white;}#sk-container-id-1 div.sk-parallel-item:first-child::after {align-self: flex-end;width: 50%;}#sk-container-id-1 div.sk-parallel-item:last-child::after {align-self: flex-start;width: 50%;}#sk-container-id-1 div.sk-parallel-item:only-child::after {width: 0;}#sk-container-id-1 div.sk-dashed-wrapped {border: 1px dashed gray;margin: 0 0.4em 0.5em 0.4em;box-sizing: border-box;padding-bottom: 0.4em;background-color: white;}#sk-container-id-1 div.sk-label label {font-family: monospace;font-weight: bold;display: inline-block;line-height: 1.2em;}#sk-container-id-1 div.sk-label-container {text-align: center;}#sk-container-id-1 div.sk-container {/* jupyter's `normalize.less` sets `[hidden] { display: none; }` but bootstrap.min.css set `[hidden] { display: none !important; }` so we also need the `!important` here to be able to override the default hidden behavior on the sphinx rendered scikit-learn.org. See: https://github.com/scikit-learn/scikit-learn/issues/21755 */display: inline-block !important;position: relative;}#sk-container-id-1 div.sk-text-repr-fallback {display: none;}</style><div id=\"sk-container-id-1\" class=\"sk-top-container\"><div class=\"sk-text-repr-fallback\"><pre>GradientBoostingClassifier(n_estimators=20, random_state=42, verbose=6)</pre><b>In a Jupyter environment, please rerun this cell to show the HTML representation or trust the notebook. <br />On GitHub, the HTML representation is unable to render, please try loading this page with nbviewer.org.</b></div><div class=\"sk-container\" hidden><div class=\"sk-item\"><div class=\"sk-estimator sk-toggleable\"><input class=\"sk-toggleable__control sk-hidden--visually\" id=\"sk-estimator-id-1\" type=\"checkbox\" checked><label for=\"sk-estimator-id-1\" class=\"sk-toggleable__label sk-toggleable__label-arrow\">GradientBoostingClassifier</label><div class=\"sk-toggleable__content\"><pre>GradientBoostingClassifier(n_estimators=20, random_state=42, verbose=6)</pre></div></div></div></div></div>"
      ],
      "text/plain": [
       "GradientBoostingClassifier(n_estimators=20, random_state=42, verbose=6)"
      ]
     },
     "execution_count": 39,
     "metadata": {},
     "output_type": "execute_result"
    }
   ],
   "source": [
    "%%time\n",
    "\n",
    "clf = GradientBoostingClassifier(n_estimators=20, random_state=42, verbose=6)\n",
    "clf.fit(X_train, y_train)"
   ]
  },
  {
   "cell_type": "code",
   "execution_count": 40,
   "id": "b2a64a28-7aae-4156-bb57-76db1774680b",
   "metadata": {
    "tags": []
   },
   "outputs": [
    {
     "name": "stdout",
     "output_type": "stream",
     "text": [
      "Accuracy: 0.6326995265530425\n",
      "CPU times: user 32.9 s, sys: 2.97 s, total: 35.9 s\n",
      "Wall time: 46.2 s\n"
     ]
    }
   ],
   "source": [
    "%%time\n",
    "y_pred = clf.predict(X_test)\n",
    "# Model Accuracy, how often is the classifier correct?\n",
    "print(\"Accuracy:\", metrics.accuracy_score(y_test, y_pred))"
   ]
  },
  {
   "cell_type": "code",
   "execution_count": 41,
   "id": "fce9d2a2-df49-43fe-b477-fa51dc64f01e",
   "metadata": {
    "tags": []
   },
   "outputs": [
    {
     "data": {
      "text/plain": [
       "['fl_voter_name_gb_vect.joblib']"
      ]
     },
     "execution_count": 41,
     "metadata": {},
     "output_type": "execute_result"
    }
   ],
   "source": [
    "joblib.dump(vectorizer, \"fl_voter_name_gb_vect.joblib\", compress=3)  # compression is ON!"
   ]
  },
  {
   "cell_type": "code",
   "execution_count": 42,
   "id": "e391f3db-c17b-4f01-bf1d-4317ff363572",
   "metadata": {},
   "outputs": [
    {
     "data": {
      "text/plain": [
       "['fl_voter_name_gb_model.joblib']"
      ]
     },
     "execution_count": 42,
     "metadata": {},
     "output_type": "execute_result"
    }
   ],
   "source": [
    "joblib.dump(clf, \"fl_voter_name_gb_model.joblib\", compress=3)  # compression is ON!"
   ]
  },
  {
   "cell_type": "code",
   "execution_count": 43,
   "id": "99b22751-c087-4adb-8488-57e0d7cdb7ae",
   "metadata": {
    "tags": []
   },
   "outputs": [
    {
     "name": "stdout",
     "output_type": "stream",
     "text": [
      "{\"status\":1,\"request\":\"a70aa5c1-0e8e-4ce3-9903-d3636607ff8d\"}"
     ]
    }
   ],
   "source": [
    "!~/pushover \"ethnicolor job is done\" 1 whistle"
   ]
  },
  {
   "cell_type": "markdown",
   "id": "39450453-38bd-4b6f-a792-6ecd875a106b",
   "metadata": {},
   "source": [
    "## Confusion Matrix"
   ]
  },
  {
   "cell_type": "markdown",
   "id": "9cf922af-de73-4254-93b2-a4e6e9726e6c",
   "metadata": {
    "tags": []
   },
   "source": [
    "### For 1M model"
   ]
  },
  {
   "cell_type": "code",
   "execution_count": 68,
   "id": "f21a2c41-faa1-49ba-b785-5a81e951d36f",
   "metadata": {
    "tags": []
   },
   "outputs": [
    {
     "name": "stdout",
     "output_type": "stream",
     "text": [
      "Defaulting to user installation because normal site-packages is not writeable\n",
      "Collecting matplotlib\n",
      "  Downloading matplotlib-3.7.1-cp310-cp310-manylinux_2_17_x86_64.manylinux2014_x86_64.whl (11.6 MB)\n",
      "\u001b[2K     \u001b[90m━━━━━━━━━━━━━━━━━━━━━━━━━━━━━━━━━━━━━━━\u001b[0m \u001b[32m11.6/11.6 MB\u001b[0m \u001b[31m106.9 kB/s\u001b[0m eta \u001b[36m0:00:00\u001b[0m00:01\u001b[0m00:03\u001b[0m\n",
      "\u001b[?25hRequirement already satisfied: pillow>=6.2.0 in /home/distill1994/.local/lib/python3.10/site-packages (from matplotlib) (9.3.0)\n",
      "Requirement already satisfied: python-dateutil>=2.7 in /usr/local/lib/python3.10/dist-packages (from matplotlib) (2.8.2)\n",
      "Collecting cycler>=0.10\n",
      "  Downloading cycler-0.11.0-py3-none-any.whl (6.4 kB)\n",
      "Collecting fonttools>=4.22.0\n",
      "  Downloading fonttools-4.39.4-py3-none-any.whl (1.0 MB)\n",
      "\u001b[2K     \u001b[90m━━━━━━━━━━━━━━━━━━━━━━━━━━━━━━━━━━━━━━━━\u001b[0m \u001b[32m1.0/1.0 MB\u001b[0m \u001b[31m69.7 kB/s\u001b[0m eta \u001b[36m0:00:00\u001b[0m00:01\u001b[0m00:01\u001b[0mm\n",
      "\u001b[?25hRequirement already satisfied: numpy>=1.20 in /home/distill1994/.local/lib/python3.10/site-packages (from matplotlib) (1.24.3)\n",
      "Collecting kiwisolver>=1.0.1\n",
      "  Downloading kiwisolver-1.4.4-cp310-cp310-manylinux_2_12_x86_64.manylinux2010_x86_64.whl (1.6 MB)\n",
      "\u001b[2K     \u001b[90m━━━━━━━━━━━━━━━━━━━━━━━━━━━━━━━━━━━━━━━━\u001b[0m \u001b[32m1.6/1.6 MB\u001b[0m \u001b[31m123.7 kB/s\u001b[0m eta \u001b[36m0:00:00\u001b[0m00:01\u001b[0m00:01\u001b[0m\n",
      "\u001b[?25hCollecting contourpy>=1.0.1\n",
      "  Downloading contourpy-1.0.7-cp310-cp310-manylinux_2_17_x86_64.manylinux2014_x86_64.whl (300 kB)\n",
      "\u001b[2K     \u001b[90m━━━━━━━━━━━━━━━━━━━━━━━━━━━━━━━━━━━━━\u001b[0m \u001b[32m300.3/300.3 KB\u001b[0m \u001b[31m248.9 kB/s\u001b[0m eta \u001b[36m0:00:00\u001b[0ma \u001b[36m0:00:01\u001b[0m\n",
      "\u001b[?25hCollecting pyparsing>=2.3.1\n",
      "  Downloading pyparsing-3.0.9-py3-none-any.whl (98 kB)\n",
      "\u001b[2K     \u001b[90m━━━━━━━━━━━━━━━━━━━━━━━━━━━━━━━━━━━━━━━\u001b[0m \u001b[32m98.3/98.3 KB\u001b[0m \u001b[31m102.4 kB/s\u001b[0m eta \u001b[36m0:00:00\u001b[0ma \u001b[36m0:00:01\u001b[0m\n",
      "\u001b[?25hRequirement already satisfied: packaging>=20.0 in /usr/local/lib/python3.10/dist-packages (from matplotlib) (23.1)\n",
      "Requirement already satisfied: six>=1.5 in /usr/lib/python3/dist-packages (from python-dateutil>=2.7->matplotlib) (1.16.0)\n",
      "Installing collected packages: pyparsing, kiwisolver, fonttools, cycler, contourpy, matplotlib\n",
      "\u001b[33m  WARNING: The scripts fonttools, pyftmerge, pyftsubset and ttx are installed in '/home/distill1994/.local/bin' which is not on PATH.\n",
      "  Consider adding this directory to PATH or, if you prefer to suppress this warning, use --no-warn-script-location.\u001b[0m\u001b[33m\n",
      "\u001b[0mSuccessfully installed contourpy-1.0.7 cycler-0.11.0 fonttools-4.39.4 kiwisolver-1.4.4 matplotlib-3.7.1 pyparsing-3.0.9\n"
     ]
    }
   ],
   "source": [
    "!pip install matplotlib"
   ]
  },
  {
   "cell_type": "code",
   "execution_count": 69,
   "id": "27ace3e7-d206-448f-8fd0-8baa003bc4a0",
   "metadata": {
    "tags": []
   },
   "outputs": [
    {
     "name": "stdout",
     "output_type": "stream",
     "text": [
      "               precision    recall  f1-score   support\n",
      "\n",
      "        asian       0.70      0.07      0.13     57636\n",
      "     hispanic       0.71      0.51      0.59    357839\n",
      " multi_racial       0.01      0.00      0.00     16776\n",
      "native_indian       0.01      0.00      0.00      9397\n",
      "     nh_black       0.70      0.05      0.09    318456\n",
      "     nh_white       0.65      0.96      0.77   1263354\n",
      "        other       0.24      0.00      0.01     55480\n",
      "      unknown       0.04      0.00      0.00     82867\n",
      "\n",
      "     accuracy                           0.66   2161805\n",
      "    macro avg       0.38      0.20      0.20   2161805\n",
      " weighted avg       0.63      0.66      0.57   2161805\n",
      "\n"
     ]
    },
    {
     "data": {
      "text/plain": [
       "<sklearn.metrics._plot.confusion_matrix.ConfusionMatrixDisplay at 0x7f713f0eb3a0>"
      ]
     },
     "execution_count": 69,
     "metadata": {},
     "output_type": "execute_result"
    },
    {
     "data": {
      "image/png": "[encoded data removed]",
      "text/plain": [
       "<Figure size 800x800 with 2 Axes>"
      ]
     },
     "metadata": {},
     "output_type": "display_data"
    }
   ],
   "source": [
    "from sklearn.metrics import confusion_matrix, classification_report, ConfusionMatrixDisplay\n",
    "import matplotlib.pyplot as plt\n",
    "%matplotlib inline  \n",
    "\n",
    "model_1m = joblib.load('fl_voter_name_gb_model_1M.joblib')\n",
    "preds = model_1m.predict(X_test)\n",
    "predicted = [id_to_race[p] for p in preds]\n",
    "actual = [id_to_race[p] for p in y_test.values]\n",
    "\n",
    "print(classification_report(actual, predicted))\n",
    "\n",
    "cm = confusion_matrix(actual, predicted, labels=list(race_to_id.keys()))\n",
    "cmp = ConfusionMatrixDisplay(cm, display_labels=list(race_to_id.keys()))\n",
    "fig, ax = plt.subplots(figsize=(8,8))\n",
    "cmp.plot(ax=ax, xticks_rotation='vertical')"
   ]
  },
  {
   "cell_type": "markdown",
   "id": "2d4ffcdb-0dfa-4135-92f0-4ee9bc1cca04",
   "metadata": {
    "tags": []
   },
   "source": [
    "### For 2M Model"
   ]
  },
  {
   "cell_type": "code",
   "execution_count": 73,
   "id": "775560d2-5583-4faf-8451-75ab19d09b18",
   "metadata": {
    "tags": []
   },
   "outputs": [
    {
     "name": "stdout",
     "output_type": "stream",
     "text": [
      "               precision    recall  f1-score   support\n",
      "\n",
      "        asian       0.70      0.07      0.13     57636\n",
      "     hispanic       0.71      0.51      0.59    357839\n",
      " multi_racial       0.03      0.00      0.00     16776\n",
      "native_indian       0.14      0.00      0.01      9397\n",
      "     nh_black       0.71      0.05      0.09    318456\n",
      "     nh_white       0.65      0.96      0.77   1263354\n",
      "        other       0.27      0.00      0.00     55480\n",
      "      unknown       0.03      0.00      0.00     82867\n",
      "\n",
      "     accuracy                           0.66   2161805\n",
      "    macro avg       0.40      0.20      0.20   2161805\n",
      " weighted avg       0.63      0.66      0.57   2161805\n",
      "\n"
     ]
    },
    {
     "data": {
      "text/plain": [
       "<sklearn.metrics._plot.confusion_matrix.ConfusionMatrixDisplay at 0x7f715ae3b9d0>"
      ]
     },
     "execution_count": 73,
     "metadata": {},
     "output_type": "execute_result"
    },
    {
     "data": {
      "image/png": "[encoded data removed]",
      "text/plain": [
       "<Figure size 800x800 with 2 Axes>"
      ]
     },
     "metadata": {},
     "output_type": "display_data"
    }
   ],
   "source": [
    "model_2m = joblib.load('fl_voter_name_gb_model_2M.joblib')\n",
    "preds = model_2m.predict(X_test)\n",
    "predicted = [id_to_race[p] for p in preds]\n",
    "actual = [id_to_race[p] for p in y_test.values]\n",
    "\n",
    "print(classification_report(actual, predicted))\n",
    "\n",
    "cm = confusion_matrix(actual, predicted, labels=list(race_to_id.keys()))\n",
    "cmp = ConfusionMatrixDisplay(cm, display_labels=list(race_to_id.keys()))\n",
    "fig, ax = plt.subplots(figsize=(8,8))\n",
    "cmp.plot(ax=ax, xticks_rotation='vertical')"
   ]
  },
  {
   "cell_type": "markdown",
   "id": "4a95f50f-487a-411b-b3e5-eaf6af672206",
   "metadata": {
    "tags": []
   },
   "source": [
    "### For Model trained  with complete dataset (20 iterations)"
   ]
  },
  {
   "cell_type": "code",
   "execution_count": 74,
   "id": "7401ff7d-a24f-488b-b9f7-58ac0b45f5d2",
   "metadata": {
    "tags": []
   },
   "outputs": [
    {
     "name": "stderr",
     "output_type": "stream",
     "text": [
      "/home/distill1994/.local/lib/python3.10/site-packages/sklearn/metrics/_classification.py:1344: UndefinedMetricWarning: Precision and F-score are ill-defined and being set to 0.0 in labels with no predicted samples. Use `zero_division` parameter to control this behavior.\n",
      "  _warn_prf(average, modifier, msg_start, len(result))\n",
      "/home/distill1994/.local/lib/python3.10/site-packages/sklearn/metrics/_classification.py:1344: UndefinedMetricWarning: Precision and F-score are ill-defined and being set to 0.0 in labels with no predicted samples. Use `zero_division` parameter to control this behavior.\n",
      "  _warn_prf(average, modifier, msg_start, len(result))\n",
      "/home/distill1994/.local/lib/python3.10/site-packages/sklearn/metrics/_classification.py:1344: UndefinedMetricWarning: Precision and F-score are ill-defined and being set to 0.0 in labels with no predicted samples. Use `zero_division` parameter to control this behavior.\n",
      "  _warn_prf(average, modifier, msg_start, len(result))\n"
     ]
    },
    {
     "name": "stdout",
     "output_type": "stream",
     "text": [
      "               precision    recall  f1-score   support\n",
      "\n",
      "        asian       0.77      0.02      0.04     57636\n",
      "     hispanic       0.74      0.36      0.48    357839\n",
      " multi_racial       0.00      0.00      0.00     16776\n",
      "native_indian       0.00      0.00      0.00      9397\n",
      "     nh_black       0.79      0.00      0.01    318456\n",
      "     nh_white       0.62      0.98      0.76   1263354\n",
      "        other       0.33      0.00      0.00     55480\n",
      "      unknown       0.00      0.00      0.00     82867\n",
      "\n",
      "     accuracy                           0.63   2161805\n",
      "    macro avg       0.41      0.17      0.16   2161805\n",
      " weighted avg       0.63      0.63      0.53   2161805\n",
      "\n"
     ]
    },
    {
     "data": {
      "text/plain": [
       "<sklearn.metrics._plot.confusion_matrix.ConfusionMatrixDisplay at 0x7f71577ef9d0>"
      ]
     },
     "execution_count": 74,
     "metadata": {},
     "output_type": "execute_result"
    },
    {
     "data": {
      "image/png": "[encoded data removed]",
      "text/plain": [
       "<Figure size 800x800 with 2 Axes>"
      ]
     },
     "metadata": {},
     "output_type": "display_data"
    }
   ],
   "source": [
    "model_full = joblib.load('fl_voter_name_gb_model.joblib')\n",
    "preds = model_full.predict(X_test)\n",
    "predicted = [id_to_race[p] for p in preds]\n",
    "actual = [id_to_race[p] for p in y_test.values]\n",
    "\n",
    "print(classification_report(actual, predicted))\n",
    "\n",
    "cm = confusion_matrix(actual, predicted, labels=list(race_to_id.keys()))\n",
    "cmp = ConfusionMatrixDisplay(cm, display_labels=list(race_to_id.keys()))\n",
    "fig, ax = plt.subplots(figsize=(8,8))\n",
    "cmp.plot(ax=ax, xticks_rotation='vertical')"
   ]
  },
  {
   "cell_type": "code",
   "execution_count": null,
   "id": "80bf6183-fda0-4b73-8952-82c03d044580",
   "metadata": {},
   "outputs": [],
   "source": []
  }
 ],
 "metadata": {
  "kernelspec": {
   "display_name": "Python 3 (ipykernel)",
   "language": "python",
   "name": "python3"
  },
  "language_info": {
   "codemirror_mode": {
    "name": "ipython",
    "version": 3
   },
   "file_extension": ".py",
   "mimetype": "text/x-python",
   "name": "python",
   "nbconvert_exporter": "python",
   "pygments_lexer": "ipython3",
   "version": "3.10.6"
  }
 },
 "nbformat": 4,
 "nbformat_minor": 5
}
