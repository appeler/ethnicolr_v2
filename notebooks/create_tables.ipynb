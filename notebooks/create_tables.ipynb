{
 "cells": [
  {
   "cell_type": "code",
   "execution_count": null,
   "id": "63c51238",
   "metadata": {},
   "outputs": [],
   "source": [
    "from tabulate import tabulate\n",
    "\n",
    "classification_report = \"\"\"\n",
    "            precision    recall  f1-score   support\n",
    "       asian       0.54      0.03      0.05      6867\n",
    "    hispanic       0.78      0.67      0.72     38961\n",
    "    nh_black       0.62      0.08      0.15     13726\n",
    "    nh_white       0.56      0.92      0.70     60970\n",
    "       other       0.35      0.00      0.00     14374\n",
    "weighted_avg       0.61      0.62      0.54    134898\n",
    "\"\"\"\n",
    "\n",
    "# Split the classification report into rows\n",
    "rows = [row.split() for row in classification_report.strip().split('\\n')[2:]]\n",
    "\n",
    "# Convert the rows to a LaTeX table\n",
    "table = tabulate(rows, headers=['', 'precision', 'recall', 'f1-score', 'support'], tablefmt='latex')\n",
    "\n",
    "# Print the LaTeX table\n",
    "print(table)"
   ]
  },
  {
   "cell_type": "code",
   "execution_count": null,
   "id": "f1625566",
   "metadata": {},
   "outputs": [],
   "source": [
    "from sklearn.metrics import classification_report\n",
    "from tabulate import tabulate\n",
    "\n",
    "# Example true labels and predicted labels\n",
    "y_true = [1, 2, 2, 1, 3]\n",
    "y_pred = [1, 2, 3, 1, 2]\n",
    "\n",
    "# Generate the classification report\n",
    "report = classification_report(y_true, y_pred, output_dict=True)\n",
    "\n",
    "# Convert the report to a list of lists\n",
    "table_data = []\n",
    "for label, metrics in report.items():\n",
    "    if label != 'accuracy' and label != 'macro avg' and label != 'weighted avg':\n",
    "        row = [label] + [metrics[key] for key in metrics.keys() if key != 'support']\n",
    "        table_data.append(row)\n",
    "\n",
    "# Add the accuracy row separately\n",
    "accuracy_row = ['accuracy'] + [''] * (len(table_data[0]) - 1) + [report['accuracy']]\n",
    "\n",
    "# Combine the table data and accuracy row\n",
    "table_data.append(accuracy_row)\n",
    "\n",
    "# Convert the table data to a LaTeX table\n",
    "latex_table = tabulate(table_data, headers=['', 'precision', 'recall', 'f1-score', 'support'], tablefmt='latex')\n",
    "\n",
    "# Print the LaTeX table\n",
    "print(latex_table)"
   ]
  },
  {
   "cell_type": "code",
   "execution_count": null,
   "id": "8455dca7",
   "metadata": {},
   "outputs": [],
   "source": []
  }
 ],
 "metadata": {
  "kernelspec": {
   "display_name": "Python 3 (ipykernel)",
   "language": "python",
   "name": "python3"
  },
  "language_info": {
   "codemirror_mode": {
    "name": "ipython",
    "version": 3
   },
   "file_extension": ".py",
   "mimetype": "text/x-python",
   "name": "python",
   "nbconvert_exporter": "python",
   "pygments_lexer": "ipython3",
   "version": "3.9.13"
  }
 },
 "nbformat": 4,
 "nbformat_minor": 5
}
