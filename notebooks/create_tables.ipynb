{
 "cells": [
  {
   "cell_type": "code",
   "execution_count": 6,
   "id": "63c51238",
   "metadata": {},
   "outputs": [
    {
     "name": "stdout",
     "output_type": "stream",
     "text": [
      "\\begin{tabular}{lrrrr}\n",
      "\\hline\n",
      "               &   precision &   recall &   f1-score &   support \\\\\n",
      "\\hline\n",
      " hispanic      &        0.85 &     0.78 &       0.81 &     10775 \\\\\n",
      " multi\\_racial  &        0.02 &     0    &       0    &       364 \\\\\n",
      " native\\_indian &        0.02 &     0.02 &       0.02 &       111 \\\\\n",
      " nh\\_black      &        0.59 &     0.42 &       0.49 &      4483 \\\\\n",
      " nh\\_white      &        0.79 &     0.92 &       0.85 &     25614 \\\\\n",
      " other         &        0.18 &     0.03 &       0.04 &       582 \\\\\n",
      " weighted\\_avg  &        0.76 &     0.78 &       0.76 &     43433 \\\\\n",
      "\\hline\n",
      "\\end{tabular}\n"
     ]
    }
   ],
   "source": [
    "from tabulate import tabulate\n",
    "\n",
    "classification_report = \"\"\"\n",
    "              precision    recall  f1-score   support\n",
    "        asian       0.54      0.21      0.30      1504\n",
    "     hispanic       0.85      0.78      0.81     10775\n",
    " multi_racial       0.02      0.00      0.00       364\n",
    "native_indian       0.02      0.02      0.02       111\n",
    "     nh_black       0.59      0.42      0.49      4483\n",
    "     nh_white       0.79      0.92      0.85     25614\n",
    "        other       0.18      0.03      0.04       582\n",
    " weighted_avg       0.76      0.78      0.76     43433\n",
    "\"\"\"\n",
    "\n",
    "# Split the classification report into rows\n",
    "rows = [row.split() for row in classification_report.strip().split('\\n')[2:]]\n",
    "\n",
    "# Convert the rows to a LaTeX table\n",
    "table = tabulate(rows, headers=['', 'precision', 'recall', 'f1-score', 'support'], tablefmt='latex')\n",
    "\n",
    "# Print the LaTeX table\n",
    "print(table)"
   ]
  },
  {
   "cell_type": "code",
   "execution_count": null,
   "id": "ddd01d5c",
   "metadata": {},
   "outputs": [],
   "source": [
    "from sklearn.metrics import classification_report\n",
    "from tabulate import tabulate\n",
    "\n",
    "# Example true labels and predicted labels\n",
    "y_true = [1, 2, 2, 1, 3]\n",
    "y_pred = [1, 2, 3, 1, 2]\n",
    "\n",
    "# Generate the classification report\n",
    "report = classification_report(y_true, y_pred, output_dict=True)\n",
    "\n",
    "# Convert the report to a list of lists\n",
    "table_data = []\n",
    "for label, metrics in report.items():\n",
    "    if label != 'accuracy' and label != 'macro avg' and label != 'weighted avg':\n",
    "        row = [label] + [metrics[key] for key in metrics.keys() if key != 'support']\n",
    "        table_data.append(row)\n",
    "\n",
    "# Add the accuracy row separately\n",
    "accuracy_row = ['accuracy'] + [''] * (len(table_data[0]) - 1) + [report['accuracy']]\n",
    "\n",
    "# Combine the table data and accuracy row\n",
    "table_data.append(accuracy_row)\n",
    "\n",
    "# Convert the table data to a LaTeX table\n",
    "latex_table = tabulate(table_data, headers=['', 'precision', 'recall', 'f1-score', 'support'], tablefmt='latex')\n",
    "\n",
    "# Print the LaTeX table\n",
    "print(latex_table)"
   ]
  },
  {
   "cell_type": "code",
   "execution_count": null,
   "id": "00cb24db",
   "metadata": {},
   "outputs": [],
   "source": [
    "import numpy as np\n",
    "from sklearn.metrics import accuracy_score\n",
    "from keras.models import Sequential\n",
    "from keras.layers import LSTM, Dense\n",
    "\n",
    "# Generate sample data (replace with your own data)\n",
    "X_train = np.array(['abc', 'def', 'ghi', 'jkl', 'mno'])\n",
    "y_train = np.array([0, 1, 0, 1, 0])"
   ]
  },
  {
   "cell_type": "code",
   "execution_count": null,
   "id": "151c8ef1",
   "metadata": {},
   "outputs": [],
   "source": []
  }
 ],
 "metadata": {
  "kernelspec": {
   "display_name": "Python 3 (ipykernel)",
   "language": "python",
   "name": "python3"
  },
  "language_info": {
   "codemirror_mode": {
    "name": "ipython",
    "version": 3
   },
   "file_extension": ".py",
   "mimetype": "text/x-python",
   "name": "python",
   "nbconvert_exporter": "python",
   "pygments_lexer": "ipython3",
   "version": "3.9.13"
  }
 },
 "nbformat": 4,
 "nbformat_minor": 5
}
