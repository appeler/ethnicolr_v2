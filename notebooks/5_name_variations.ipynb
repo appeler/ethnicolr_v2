{
 "cells": [
  {
   "cell_type": "markdown",
   "id": "76ce512b-f034-4ba8-85b0-f8b118c241a5",
   "metadata": {},
   "source": [
    "# Name Variations for last names"
   ]
  },
  {
   "cell_type": "markdown",
   "id": "ce678a64-f21f-4577-a7d1-66391e801e36",
   "metadata": {
    "tags": []
   },
   "source": [
    "## First trying with llama 30B\n",
    "Taking too much time (~9 mins) to do inference on 60GB Memory with 10 core CPU"
   ]
  },
  {
   "cell_type": "code",
   "execution_count": 2,
   "id": "16b280e5-abb1-4046-b973-dd0b859ea685",
   "metadata": {
    "tags": []
   },
   "outputs": [],
   "source": [
    "from llama_cpp import Llama"
   ]
  },
  {
   "cell_type": "code",
   "execution_count": 3,
   "id": "4c37eb26-8e28-4a9f-bf96-81a45e481a2b",
   "metadata": {
    "tags": []
   },
   "outputs": [
    {
     "name": "stderr",
     "output_type": "stream",
     "text": [
      "llama.cpp: loading model from /home/distill1994/workspace/llama.cpp/models/30B/ggml-model-q4_0.bin\n",
      "llama_model_load_internal: format     = ggjt v3 (latest)\n",
      "llama_model_load_internal: n_vocab    = 32000\n",
      "llama_model_load_internal: n_ctx      = 512\n",
      "llama_model_load_internal: n_embd     = 6656\n",
      "llama_model_load_internal: n_mult     = 256\n",
      "llama_model_load_internal: n_head     = 52\n",
      "llama_model_load_internal: n_layer    = 60\n",
      "llama_model_load_internal: n_rot      = 128\n",
      "llama_model_load_internal: ftype      = 2 (mostly Q4_0)\n",
      "llama_model_load_internal: n_ff       = 17920\n",
      "llama_model_load_internal: n_parts    = 1\n",
      "llama_model_load_internal: model size = 30B\n",
      "llama_model_load_internal: ggml ctx size =    0.13 MB\n",
      "llama_model_load_internal: mem required  = 19756.66 MB (+ 3124.00 MB per state)\n",
      ".\n",
      "llama_init_from_file: kv self size  =  780.00 MB\n",
      "AVX = 1 | AVX2 = 1 | AVX512 = 0 | AVX512_VBMI = 0 | AVX512_VNNI = 0 | FMA = 1 | NEON = 0 | ARM_FMA = 0 | F16C = 1 | FP16_VA = 0 | WASM_SIMD = 0 | BLAS = 0 | SSE3 = 1 | VSX = 0 | \n"
     ]
    },
    {
     "name": "stdout",
     "output_type": "stream",
     "text": [
      "{'id': 'cmpl-4d2ff605-6fe2-4f8a-ac6a-0ee99d415524', 'object': 'text_completion', 'created': 1686511129, 'model': '/home/distill1994/workspace/llama.cpp/models/30B/ggml-model-q4_0.bin', 'choices': [{'text': 'Q: give me 5 most common alternate spellings of the last name garcia? A: 1. Garza 2. Garza 3. Garci 4. Garz 5. Garcillano', 'index': 0, 'logprobs': None, 'finish_reason': 'stop'}], 'usage': {'prompt_tokens': 22, 'completion_tokens': 26, 'total_tokens': 48}}\n"
     ]
    },
    {
     "name": "stderr",
     "output_type": "stream",
     "text": [
      "\n",
      "llama_print_timings:        load time = 552232.75 ms\n",
      "llama_print_timings:      sample time =    40.46 ms /    26 runs   (    1.56 ms per token)\n",
      "llama_print_timings: prompt eval time = 552228.07 ms /    22 tokens (25101.28 ms per token)\n",
      "llama_print_timings:        eval time = 495115.02 ms /    25 runs   (19804.60 ms per token)\n",
      "llama_print_timings:       total time = 1047753.49 ms\n"
     ]
    }
   ],
   "source": [
    "llm = Llama(model_path=\"/home/distill1994/workspace/llama.cpp/models/30B/ggml-model-q4_0.bin\")\n",
    "output = llm(\"Q: give me 5 most common alternate spellings of the last name garcia? A: \", max_tokens=100, stop=[\"Q:\", \"\\n\"], echo=True)\n",
    "print(output)"
   ]
  },
  {
   "cell_type": "markdown",
   "id": "5e4774f1-0fa5-4c7e-9103-c885bf8aa126",
   "metadata": {},
   "source": [
    "## Next trying with llama 65B\n",
    "Taking too much time to do inference on 60GB Memory with 10 core CPU"
   ]
  },
  {
   "cell_type": "code",
   "execution_count": null,
   "id": "c94b4b44-291a-4af2-aa77-90bda89b189f",
   "metadata": {
    "tags": []
   },
   "outputs": [
    {
     "name": "stderr",
     "output_type": "stream",
     "text": [
      "llama.cpp: loading model from /home/distill1994/workspace/llama.cpp/models/65B/ggml-model-q4_0.bin\n",
      "llama_model_load_internal: format     = ggjt v3 (latest)\n",
      "llama_model_load_internal: n_vocab    = 32000\n",
      "llama_model_load_internal: n_ctx      = 512\n",
      "llama_model_load_internal: n_embd     = 8192\n",
      "llama_model_load_internal: n_mult     = 256\n",
      "llama_model_load_internal: n_head     = 64\n",
      "llama_model_load_internal: n_layer    = 80\n",
      "llama_model_load_internal: n_rot      = 128\n",
      "llama_model_load_internal: ftype      = 2 (mostly Q4_0)\n",
      "llama_model_load_internal: n_ff       = 22016\n",
      "llama_model_load_internal: n_parts    = 1\n",
      "llama_model_load_internal: model size = 65B\n",
      "llama_model_load_internal: ggml ctx size =    0.18 MB\n",
      "llama_model_load_internal: mem required  = 38610.46 MB (+ 5120.00 MB per state)\n",
      ".\n",
      "llama_init_from_file: kv self size  = 1280.00 MB\n",
      "AVX = 1 | AVX2 = 1 | AVX512 = 0 | AVX512_VBMI = 0 | AVX512_VNNI = 0 | FMA = 1 | NEON = 0 | ARM_FMA = 0 | F16C = 1 | FP16_VA = 0 | WASM_SIMD = 0 | BLAS = 0 | SSE3 = 1 | VSX = 0 | \n"
     ]
    },
    {
     "name": "stdout",
     "output_type": "stream",
     "text": [
      "{'id': 'cmpl-67063bfc-b735-4bd4-ba39-2621ba60d599', 'object': 'text_completion', 'created': 1686513951, 'model': '/home/distill1994/workspace/llama.cpp/models/65B/ggml-model-q4_0.bin', 'choices': [{'text': 'Q: give me 5 most common alternate spellings of the last name garcia? A: 1. GARCIA, 2. GARCÍA, 3. GARSÍA, 4. GARCEI', 'index': 0, 'logprobs': None, 'finish_reason': 'length'}], 'usage': {'prompt_tokens': 22, 'completion_tokens': 32, 'total_tokens': 54}}\n"
     ]
    },
    {
     "name": "stderr",
     "output_type": "stream",
     "text": [
      "\n",
      "llama_print_timings:        load time = 93866.74 ms\n",
      "llama_print_timings:      sample time =    33.38 ms /    32 runs   (    1.04 ms per token)\n",
      "llama_print_timings: prompt eval time = 93865.56 ms /    22 tokens ( 4266.62 ms per token)\n",
      "llama_print_timings:        eval time = 203079.49 ms /    31 runs   ( 6550.95 ms per token)\n",
      "llama_print_timings:       total time = 297587.78 ms\n"
     ]
    }
   ],
   "source": [
    "llm = Llama(model_path=\"/home/distill1994/workspace/llama.cpp/models/65B/ggml-model-q4_0.bin\")\n",
    "output1 = llm(\"Q: give me 5 most common alternate spellings of the last name garcia? A: \", max_tokens=32, stop=[\"Q:\", \"\\n\"], echo=True)\n",
    "print(output1)"
   ]
  },
  {
   "cell_type": "code",
   "execution_count": 15,
   "id": "208dcc36-18a6-4349-a07d-d1be161b43c8",
   "metadata": {
    "tags": []
   },
   "outputs": [
    {
     "name": "stderr",
     "output_type": "stream",
     "text": [
      "Llama.generate: prefix-match hit\n"
     ]
    },
    {
     "name": "stdout",
     "output_type": "stream",
     "text": [
      "{'id': 'cmpl-8c85ea5e-20d5-4a02-9944-7e0076d33564', 'object': 'text_completion', 'created': 1686521841, 'model': '/home/distill1994/workspace/llama.cpp/models/65B/ggml-model-q4_0.bin', 'choices': [{'text': 'Q: give me 5 most common alternate spellings of the last name garcia? A: 1. Garcea, Garaea, Gercia, Garcae, 2. Garzia, Garia, Giazria, Garziq 3. Gerza , Geraz, Gazer, Gezer 4. Garrica, Georica, Gorica, Grrica . 5. Gaarcia, Gaacia, Gaaria, Gaarja, Gaaroa', 'index': 0, 'logprobs': None, 'finish_reason': 'stop'}], 'usage': {'prompt_tokens': 22, 'completion_tokens': 86, 'total_tokens': 108}}\n",
      "CPU times: user 42min 43s, sys: 0 ns, total: 42min 43s\n",
      "Wall time: 8min 42s\n"
     ]
    },
    {
     "name": "stderr",
     "output_type": "stream",
     "text": [
      "\n",
      "llama_print_timings:        load time = 93866.74 ms\n",
      "llama_print_timings:      sample time =   148.68 ms /    86 runs   (    1.73 ms per token)\n",
      "llama_print_timings: prompt eval time =     0.00 ms /     1 tokens (    0.00 ms per token)\n",
      "llama_print_timings:        eval time = 517429.33 ms /    86 runs   ( 6016.62 ms per token)\n",
      "llama_print_timings:       total time = 522653.79 ms\n"
     ]
    }
   ],
   "source": [
    "%%time \n",
    "\n",
    "output1 = llm(\"Q: give me 5 most common alternate spellings of the last name garcia? A: \", max_tokens=500, stop=[\"Q:\", \"\\n\"], echo=True)\n",
    "print(output1)"
   ]
  },
  {
   "cell_type": "markdown",
   "id": "29702063-3e1d-4b43-b845-33047a9ca3e9",
   "metadata": {},
   "source": [
    "## Hugging Face llama models require endpoints to be created due to size"
   ]
  },
  {
   "cell_type": "code",
   "execution_count": 8,
   "id": "3bec6c31-53fa-4181-aad2-df6d981256eb",
   "metadata": {},
   "outputs": [
    {
     "name": "stdout",
     "output_type": "stream",
     "text": [
      "{'error': 'The model huggyllama/llama-65b is too large to be loaded automatically (130GB > 10GB). For commercial use please use PRO spaces (https://huggingface.co/spaces) or Inference Endpoints (https://huggingface.co/inference-endpoints).'}\n"
     ]
    }
   ],
   "source": [
    "import requests\n",
    "\n",
    "API_TOKEN = \"token\"\n",
    "\n",
    "API_URL = \"https://api-inference.huggingface.co/models/huggyllama/llama-65b\"\n",
    "headers = {\"Authorization\": f\"Bearer {API_TOKEN}\"}\n",
    "\n",
    "def query(payload):\n",
    "\tresponse = requests.post(API_URL, headers=headers, json=payload)\n",
    "\treturn response.json()\n",
    "\t\n",
    "output = query({\n",
    "\t\"inputs\": \"Can you please let us know more details about your \",\n",
    "})\n",
    "\n",
    "print(output)"
   ]
  },
  {
   "cell_type": "markdown",
   "id": "e5e0adfa-8911-4cd3-b32d-05c61014658d",
   "metadata": {},
   "source": [
    "## Tried HF model 30B Lazarus\n",
    "https://huggingface.co/CalderaAI/30B-Lazarus - but results are not as expected"
   ]
  },
  {
   "cell_type": "code",
   "execution_count": 12,
   "id": "587d86f5-0bf2-4549-b0f5-aeacf64e227c",
   "metadata": {
    "tags": []
   },
   "outputs": [
    {
     "name": "stderr",
     "output_type": "stream",
     "text": [
      "  % Total    % Received % Xferd  Average Speed   Time    Time     Time  Current\n",
      "                                 Dload  Upload   Total   Spent    Left  Speed\n",
      "100   144    0    65  100    79     18     22  0:00:03  0:00:03 --:--:--    41\n"
     ]
    },
    {
     "name": "stdout",
     "output_type": "stream",
     "text": [
      "[{\"generated_text\":\"\\n1. Garza\\n2. Garza\\n3. Garcia\\n4. Garcia\"}]"
     ]
    }
   ],
   "source": [
    "%%bash\n",
    "\n",
    "curl https://lakn0qwfmmct4iqv.us-east-1.aws.endpoints.huggingface.cloud \\\n",
    "-X POST \\\n",
    "-d '{\"inputs\":\"give me 10 most common alternate spellings of the last name garcia\"}' \\\n",
    "-H \"Authorization: Bearer token\" \\\n",
    "-H \"Content-Type: application/json\""
   ]
  },
  {
   "cell_type": "code",
   "execution_count": 10,
   "id": "ecbd1bd1-cdca-4f2f-bbfd-92dd293df7ad",
   "metadata": {
    "tags": []
   },
   "outputs": [
    {
     "data": {
      "text/plain": [
       "{'error': 'The model CalderaAI/30B-Lazarus is too large to be loaded automatically (65GB > 10GB). For commercial use please use PRO spaces (https://huggingface.co/spaces) or Inference Endpoints (https://huggingface.co/inference-endpoints).'}"
      ]
     },
     "execution_count": 10,
     "metadata": {},
     "output_type": "execute_result"
    }
   ],
   "source": [
    "output"
   ]
  },
  {
   "cell_type": "markdown",
   "id": "c22f0490-a5c4-4c3e-8447-8fa0caa920f6",
   "metadata": {
    "tags": []
   },
   "source": [
    "## Get the top lastnames based on frequency"
   ]
  },
  {
   "cell_type": "code",
   "execution_count": 16,
   "id": "a1e55908-a108-4df3-a75d-b1eb3f241211",
   "metadata": {
    "tags": []
   },
   "outputs": [],
   "source": [
    "import pandas as pd"
   ]
  },
  {
   "cell_type": "code",
   "execution_count": 17,
   "id": "844a4143-d3fa-430a-8ac4-db6dac16b6dc",
   "metadata": {
    "tags": []
   },
   "outputs": [
    {
     "data": {
      "text/plain": [
       "'/home/distill1994/ethnicolor'"
      ]
     },
     "execution_count": 17,
     "metadata": {},
     "output_type": "execute_result"
    }
   ],
   "source": [
    "%pwd"
   ]
  },
  {
   "cell_type": "code",
   "execution_count": 18,
   "id": "91ed35c9-65a1-4e64-8c94-bf0c9a172e9f",
   "metadata": {
    "tags": []
   },
   "outputs": [],
   "source": [
    "df = pd.read_csv(\"data/fl_2022_FullName_train.csv.gz\")"
   ]
  },
  {
   "cell_type": "code",
   "execution_count": 21,
   "id": "31684b74-1e78-4216-9203-55c1e51c46f5",
   "metadata": {
    "tags": []
   },
   "outputs": [
    {
     "data": {
      "text/html": [
       "<div>\n",
       "<style scoped>\n",
       "    .dataframe tbody tr th:only-of-type {\n",
       "        vertical-align: middle;\n",
       "    }\n",
       "\n",
       "    .dataframe tbody tr th {\n",
       "        vertical-align: top;\n",
       "    }\n",
       "\n",
       "    .dataframe thead th {\n",
       "        text-align: right;\n",
       "    }\n",
       "</style>\n",
       "<table border=\"1\" class=\"dataframe\">\n",
       "  <thead>\n",
       "    <tr style=\"text-align: right;\">\n",
       "      <th></th>\n",
       "      <th>name_last</th>\n",
       "      <th>name_first</th>\n",
       "      <th>race</th>\n",
       "      <th>full_name</th>\n",
       "      <th>race_code</th>\n",
       "    </tr>\n",
       "  </thead>\n",
       "  <tbody>\n",
       "    <tr>\n",
       "      <th>0</th>\n",
       "      <td>Baxla</td>\n",
       "      <td>Phyllis</td>\n",
       "      <td>nh_white</td>\n",
       "      <td>Baxla Phyllis</td>\n",
       "      <td>0</td>\n",
       "    </tr>\n",
       "    <tr>\n",
       "      <th>1</th>\n",
       "      <td>Ludwin</td>\n",
       "      <td>Ron</td>\n",
       "      <td>nh_white</td>\n",
       "      <td>Ludwin Ron</td>\n",
       "      <td>0</td>\n",
       "    </tr>\n",
       "    <tr>\n",
       "      <th>2</th>\n",
       "      <td>Signer Welton</td>\n",
       "      <td>Jessica</td>\n",
       "      <td>nh_white</td>\n",
       "      <td>Signer Welton Jessica</td>\n",
       "      <td>0</td>\n",
       "    </tr>\n",
       "    <tr>\n",
       "      <th>3</th>\n",
       "      <td>Stamps</td>\n",
       "      <td>Joshua</td>\n",
       "      <td>nh_white</td>\n",
       "      <td>Stamps Joshua</td>\n",
       "      <td>0</td>\n",
       "    </tr>\n",
       "    <tr>\n",
       "      <th>4</th>\n",
       "      <td>Vassell</td>\n",
       "      <td>Lillie</td>\n",
       "      <td>nh_black</td>\n",
       "      <td>Vassell Lillie</td>\n",
       "      <td>1</td>\n",
       "    </tr>\n",
       "  </tbody>\n",
       "</table>\n",
       "</div>"
      ],
      "text/plain": [
       "       name_last name_first      race              full_name  race_code\n",
       "0          Baxla    Phyllis  nh_white          Baxla Phyllis          0\n",
       "1         Ludwin        Ron  nh_white             Ludwin Ron          0\n",
       "2  Signer Welton    Jessica  nh_white  Signer Welton Jessica          0\n",
       "3         Stamps     Joshua  nh_white          Stamps Joshua          0\n",
       "4        Vassell     Lillie  nh_black         Vassell Lillie          1"
      ]
     },
     "execution_count": 21,
     "metadata": {},
     "output_type": "execute_result"
    }
   ],
   "source": [
    "df.head()"
   ]
  },
  {
   "cell_type": "code",
   "execution_count": 25,
   "id": "c033030b-bfbf-4691-bcc2-42dd8308c556",
   "metadata": {
    "tags": []
   },
   "outputs": [
    {
     "data": {
      "text/html": [
       "<div>\n",
       "<style scoped>\n",
       "    .dataframe tbody tr th:only-of-type {\n",
       "        vertical-align: middle;\n",
       "    }\n",
       "\n",
       "    .dataframe tbody tr th {\n",
       "        vertical-align: top;\n",
       "    }\n",
       "\n",
       "    .dataframe thead th {\n",
       "        text-align: right;\n",
       "    }\n",
       "</style>\n",
       "<table border=\"1\" class=\"dataframe\">\n",
       "  <thead>\n",
       "    <tr style=\"text-align: right;\">\n",
       "      <th></th>\n",
       "      <th>name_first</th>\n",
       "    </tr>\n",
       "    <tr>\n",
       "      <th>name_last</th>\n",
       "      <th></th>\n",
       "    </tr>\n",
       "  </thead>\n",
       "  <tbody>\n",
       "    <tr>\n",
       "      <th>Zzie</th>\n",
       "      <td>1</td>\n",
       "    </tr>\n",
       "    <tr>\n",
       "      <th>Zzaman</th>\n",
       "      <td>2</td>\n",
       "    </tr>\n",
       "    <tr>\n",
       "      <th>Zyznomyrsky</th>\n",
       "      <td>1</td>\n",
       "    </tr>\n",
       "    <tr>\n",
       "      <th>Zyzdryn</th>\n",
       "      <td>2</td>\n",
       "    </tr>\n",
       "    <tr>\n",
       "      <th>Zyzanski</th>\n",
       "      <td>1</td>\n",
       "    </tr>\n",
       "    <tr>\n",
       "      <th>...</th>\n",
       "      <td>...</td>\n",
       "    </tr>\n",
       "    <tr>\n",
       "      <th>A Felix</th>\n",
       "      <td>1</td>\n",
       "    </tr>\n",
       "    <tr>\n",
       "      <th>A F R Stephenson</th>\n",
       "      <td>1</td>\n",
       "    </tr>\n",
       "    <tr>\n",
       "      <th>A De Feria</th>\n",
       "      <td>1</td>\n",
       "    </tr>\n",
       "    <tr>\n",
       "      <th>A Bitang</th>\n",
       "      <td>1</td>\n",
       "    </tr>\n",
       "    <tr>\n",
       "      <th>A Arup</th>\n",
       "      <td>1</td>\n",
       "    </tr>\n",
       "  </tbody>\n",
       "</table>\n",
       "<p>933644 rows × 1 columns</p>\n",
       "</div>"
      ],
      "text/plain": [
       "                  name_first\n",
       "name_last                   \n",
       "Zzie                       1\n",
       "Zzaman                     2\n",
       "Zyznomyrsky                1\n",
       "Zyzdryn                    2\n",
       "Zyzanski                   1\n",
       "...                      ...\n",
       "A Felix                    1\n",
       "A F R Stephenson           1\n",
       "A De Feria                 1\n",
       "A Bitang                   1\n",
       "A Arup                     1\n",
       "\n",
       "[933644 rows x 1 columns]"
      ]
     },
     "execution_count": 25,
     "metadata": {},
     "output_type": "execute_result"
    }
   ],
   "source": [
    "df[['name_first','name_last']].groupby('name_last').count().sort_values('name_last', ascending=False)"
   ]
  },
  {
   "cell_type": "code",
   "execution_count": 33,
   "id": "566bdf76-ab5e-4c6e-8af2-3ce673c812bd",
   "metadata": {
    "tags": []
   },
   "outputs": [],
   "source": [
    "feq_df = df[['name_first','name_last']].groupby(['name_last'])['name_last'].count().reset_index(name='count').sort_values(['count'], ascending=False).reset_index()"
   ]
  },
  {
   "cell_type": "code",
   "execution_count": 34,
   "id": "dab58da4-7134-423a-a64b-60d9c7eae910",
   "metadata": {
    "tags": []
   },
   "outputs": [
    {
     "data": {
      "text/html": [
       "<div>\n",
       "<style scoped>\n",
       "    .dataframe tbody tr th:only-of-type {\n",
       "        vertical-align: middle;\n",
       "    }\n",
       "\n",
       "    .dataframe tbody tr th {\n",
       "        vertical-align: top;\n",
       "    }\n",
       "\n",
       "    .dataframe thead th {\n",
       "        text-align: right;\n",
       "    }\n",
       "</style>\n",
       "<table border=\"1\" class=\"dataframe\">\n",
       "  <thead>\n",
       "    <tr style=\"text-align: right;\">\n",
       "      <th></th>\n",
       "      <th>index</th>\n",
       "      <th>name_last</th>\n",
       "      <th>count</th>\n",
       "    </tr>\n",
       "  </thead>\n",
       "  <tbody>\n",
       "    <tr>\n",
       "      <th>0</th>\n",
       "      <td>906538</td>\n",
       "      <td>Williams</td>\n",
       "      <td>17156</td>\n",
       "    </tr>\n",
       "    <tr>\n",
       "      <th>1</th>\n",
       "      <td>789415</td>\n",
       "      <td>Smith</td>\n",
       "      <td>15556</td>\n",
       "    </tr>\n",
       "    <tr>\n",
       "      <th>2</th>\n",
       "      <td>407072</td>\n",
       "      <td>Johnson</td>\n",
       "      <td>14314</td>\n",
       "    </tr>\n",
       "    <tr>\n",
       "      <th>3</th>\n",
       "      <td>110893</td>\n",
       "      <td>Brown</td>\n",
       "      <td>13272</td>\n",
       "    </tr>\n",
       "    <tr>\n",
       "      <th>4</th>\n",
       "      <td>408376</td>\n",
       "      <td>Jones</td>\n",
       "      <td>11896</td>\n",
       "    </tr>\n",
       "  </tbody>\n",
       "</table>\n",
       "</div>"
      ],
      "text/plain": [
       "    index name_last  count\n",
       "0  906538  Williams  17156\n",
       "1  789415     Smith  15556\n",
       "2  407072   Johnson  14314\n",
       "3  110893     Brown  13272\n",
       "4  408376     Jones  11896"
      ]
     },
     "execution_count": 34,
     "metadata": {},
     "output_type": "execute_result"
    }
   ],
   "source": [
    "feq_df.head()"
   ]
  },
  {
   "cell_type": "code",
   "execution_count": 39,
   "id": "d8108afd-aab3-4d59-9737-f3e09ca9aa8b",
   "metadata": {
    "tags": []
   },
   "outputs": [
    {
     "data": {
      "text/html": [
       "<div>\n",
       "<style scoped>\n",
       "    .dataframe tbody tr th:only-of-type {\n",
       "        vertical-align: middle;\n",
       "    }\n",
       "\n",
       "    .dataframe tbody tr th {\n",
       "        vertical-align: top;\n",
       "    }\n",
       "\n",
       "    .dataframe thead th {\n",
       "        text-align: right;\n",
       "    }\n",
       "</style>\n",
       "<table border=\"1\" class=\"dataframe\">\n",
       "  <thead>\n",
       "    <tr style=\"text-align: right;\">\n",
       "      <th></th>\n",
       "      <th>index</th>\n",
       "      <th>name_last</th>\n",
       "      <th>count</th>\n",
       "    </tr>\n",
       "  </thead>\n",
       "  <tbody>\n",
       "    <tr>\n",
       "      <th>0</th>\n",
       "      <td>906538</td>\n",
       "      <td>Williams</td>\n",
       "      <td>17156</td>\n",
       "    </tr>\n",
       "    <tr>\n",
       "      <th>1</th>\n",
       "      <td>789415</td>\n",
       "      <td>Smith</td>\n",
       "      <td>15556</td>\n",
       "    </tr>\n",
       "    <tr>\n",
       "      <th>2</th>\n",
       "      <td>407072</td>\n",
       "      <td>Johnson</td>\n",
       "      <td>14314</td>\n",
       "    </tr>\n",
       "    <tr>\n",
       "      <th>3</th>\n",
       "      <td>110893</td>\n",
       "      <td>Brown</td>\n",
       "      <td>13272</td>\n",
       "    </tr>\n",
       "    <tr>\n",
       "      <th>4</th>\n",
       "      <td>408376</td>\n",
       "      <td>Jones</td>\n",
       "      <td>11896</td>\n",
       "    </tr>\n",
       "    <tr>\n",
       "      <th>...</th>\n",
       "      <td>...</td>\n",
       "      <td>...</td>\n",
       "      <td>...</td>\n",
       "    </tr>\n",
       "    <tr>\n",
       "      <th>10317</th>\n",
       "      <td>218832</td>\n",
       "      <td>Demosthene</td>\n",
       "      <td>101</td>\n",
       "    </tr>\n",
       "    <tr>\n",
       "      <th>10318</th>\n",
       "      <td>182175</td>\n",
       "      <td>Cothron</td>\n",
       "      <td>101</td>\n",
       "    </tr>\n",
       "    <tr>\n",
       "      <th>10319</th>\n",
       "      <td>312086</td>\n",
       "      <td>Gauvin</td>\n",
       "      <td>101</td>\n",
       "    </tr>\n",
       "    <tr>\n",
       "      <th>10320</th>\n",
       "      <td>452732</td>\n",
       "      <td>Kyser</td>\n",
       "      <td>101</td>\n",
       "    </tr>\n",
       "    <tr>\n",
       "      <th>10321</th>\n",
       "      <td>885296</td>\n",
       "      <td>Villano</td>\n",
       "      <td>101</td>\n",
       "    </tr>\n",
       "  </tbody>\n",
       "</table>\n",
       "<p>10322 rows × 3 columns</p>\n",
       "</div>"
      ],
      "text/plain": [
       "        index   name_last  count\n",
       "0      906538    Williams  17156\n",
       "1      789415       Smith  15556\n",
       "2      407072     Johnson  14314\n",
       "3      110893       Brown  13272\n",
       "4      408376       Jones  11896\n",
       "...       ...         ...    ...\n",
       "10317  218832  Demosthene    101\n",
       "10318  182175     Cothron    101\n",
       "10319  312086      Gauvin    101\n",
       "10320  452732       Kyser    101\n",
       "10321  885296     Villano    101\n",
       "\n",
       "[10322 rows x 3 columns]"
      ]
     },
     "execution_count": 39,
     "metadata": {},
     "output_type": "execute_result"
    }
   ],
   "source": [
    "feq_df[feq_df['count'] > 100]"
   ]
  },
  {
   "cell_type": "code",
   "execution_count": 43,
   "id": "09ac12fe-c796-4aaa-96d6-74f86c562b91",
   "metadata": {
    "tags": []
   },
   "outputs": [],
   "source": [
    "last_name_values = feq_df[feq_df['count'] > 100]['name_last'].values"
   ]
  },
  {
   "cell_type": "code",
   "execution_count": 45,
   "id": "dd1c1f88-302f-4ac3-89fb-83ad119d3422",
   "metadata": {
    "tags": []
   },
   "outputs": [
    {
     "data": {
      "text/plain": [
       "numpy.ndarray"
      ]
     },
     "execution_count": 45,
     "metadata": {},
     "output_type": "execute_result"
    }
   ],
   "source": [
    "type(last_name_values)"
   ]
  },
  {
   "cell_type": "code",
   "execution_count": 49,
   "id": "f1bd2a61-475e-4534-95a5-9b09cda13d0c",
   "metadata": {
    "tags": []
   },
   "outputs": [],
   "source": [
    "import numpy\n",
    "\n",
    "numpy.savetxt(\"last_names.csv\", last_name_values, fmt='%s', delimiter=\",\")"
   ]
  },
  {
   "cell_type": "markdown",
   "id": "8591637a-1353-48b3-ab41-bfeaccf2a6eb",
   "metadata": {
    "tags": []
   },
   "source": [
    "## Trying to generate randomly"
   ]
  },
  {
   "cell_type": "code",
   "execution_count": 88,
   "id": "2dd78497-439d-47f7-ba68-81f6c2b778d0",
   "metadata": {
    "tags": []
   },
   "outputs": [
    {
     "name": "stdout",
     "output_type": "stream",
     "text": [
      "{'garbia', 'garhia', 'gartia', 'gercia', 'garmia', 'garpcia', 'gascia', 'garzia', 'gorcia', 'garjia', 'garcii', 'garcie', 'gagcia', 'gavcia', 'gabcia', 'garcaa', 'gakcia', 'garpia', 'garlia', 'gawcia', 'gapcia', 'garqia', 'gazcia', 'gurcia', 'gadcia', 'garcia', 'gaycia', 'garwia', 'garxia', 'gancia', 'gardia', 'gircia', 'garfia', 'garsia', 'garcea', 'garcwia', 'gajcia', 'garyia', 'garcoa', 'garciu', 'garvia', 'gaccia', 'gafcia', 'gamcia', 'garcua', 'garnia', 'gaqcia', 'garcio', 'garkia', 'gahcia', 'gargia', 'galcia', 'garria', 'gaxcia', 'gatcia'}\n"
     ]
    }
   ],
   "source": [
    "import random\n",
    "\n",
    "def generate_similar_spellings(last_name):\n",
    "    similar_spellings = set()\n",
    "    similar_spellings.add(last_name)\n",
    "    vowels = set('aeiou')\n",
    "    consonants = set('bcdfghjklmnpqrstvwxyz')\n",
    "    # iterate through each character in the last name except the first letter\n",
    "    for i in range(1, len(last_name)):\n",
    "        # check if the character is a vowel or a consonant\n",
    "        if last_name[i] in vowels:\n",
    "            # replace the vowel with a random vowel\n",
    "            for v in vowels:\n",
    "                if v != last_name[i]:\n",
    "                    similar_spellings.add(last_name[:i] + v + last_name[i+1:])\n",
    "        else:\n",
    "            # replace the consonant with a random consonant\n",
    "            for c in consonants:\n",
    "                if c != last_name[i]:\n",
    "                    similar_spellings.add(last_name[:i] + c + last_name[i+1:])\n",
    "            # add an extra consonant after the current consonant\n",
    "            similar_spellings.add(last_name[:i+1] + random.choice(list(consonants)) + last_name[i+1:])\n",
    "    # return the set of similar spellings with the first letter always the same\n",
    "    return set([last_name[0] + spelling[1:] for spelling in similar_spellings])\n",
    "\n",
    "# example usage\n",
    "last_name = 'garcia'\n",
    "similar_spellings = generate_similar_spellings(last_name)\n",
    "print(similar_spellings)"
   ]
  },
  {
   "cell_type": "markdown",
   "id": "6209750b-98eb-4cd9-a221-a6dfbf8b1e52",
   "metadata": {},
   "source": [
    "Results are not as expected. "
   ]
  },
  {
   "cell_type": "markdown",
   "id": "a53626f4-d7af-48ef-8d92-2f1490e7083a",
   "metadata": {
    "tags": []
   },
   "source": [
    "## Using Open AI chatgpt 3.5 turbo"
   ]
  },
  {
   "cell_type": "code",
   "execution_count": 52,
   "id": "087d123f-6ff4-4c2a-af8a-0238454d4778",
   "metadata": {
    "tags": []
   },
   "outputs": [
    {
     "name": "stdout",
     "output_type": "stream",
     "text": [
      "Defaulting to user installation because normal site-packages is not writeable\n",
      "Collecting openai\n",
      "  Downloading openai-0.27.8-py3-none-any.whl (73 kB)\n",
      "\u001b[2K     \u001b[90m━━━━━━━━━━━━━━━━━━━━━━━━━━━━━━━━━━━━━━━━\u001b[0m \u001b[32m73.6/73.6 KB\u001b[0m \u001b[31m3.2 MB/s\u001b[0m eta \u001b[36m0:00:00\u001b[0m\n",
      "\u001b[?25hRequirement already satisfied: requests>=2.20 in /usr/local/lib/python3.10/dist-packages (from openai) (2.29.0)\n",
      "Requirement already satisfied: tqdm in /home/distill1994/.local/lib/python3.10/site-packages (from openai) (4.65.0)\n",
      "Collecting aiohttp\n",
      "  Using cached aiohttp-3.8.4-cp310-cp310-manylinux_2_17_x86_64.manylinux2014_x86_64.whl (1.0 MB)\n",
      "Requirement already satisfied: certifi>=2017.4.17 in /usr/local/lib/python3.10/dist-packages (from requests>=2.20->openai) (2022.12.7)\n",
      "Requirement already satisfied: charset-normalizer<4,>=2 in /usr/local/lib/python3.10/dist-packages (from requests>=2.20->openai) (3.1.0)\n",
      "Requirement already satisfied: idna<4,>=2.5 in /usr/local/lib/python3.10/dist-packages (from requests>=2.20->openai) (3.4)\n",
      "Requirement already satisfied: urllib3<1.27,>=1.21.1 in /usr/local/lib/python3.10/dist-packages (from requests>=2.20->openai) (1.26.15)\n",
      "Collecting async-timeout<5.0,>=4.0.0a3\n",
      "  Using cached async_timeout-4.0.2-py3-none-any.whl (5.8 kB)\n",
      "Collecting multidict<7.0,>=4.5\n",
      "  Using cached multidict-6.0.4-cp310-cp310-manylinux_2_17_x86_64.manylinux2014_x86_64.whl (114 kB)\n",
      "Collecting aiosignal>=1.1.2\n",
      "  Using cached aiosignal-1.3.1-py3-none-any.whl (7.6 kB)\n",
      "Requirement already satisfied: attrs>=17.3.0 in /usr/local/lib/python3.10/dist-packages (from aiohttp->openai) (23.1.0)\n",
      "Collecting yarl<2.0,>=1.0\n",
      "  Using cached yarl-1.9.2-cp310-cp310-manylinux_2_17_x86_64.manylinux2014_x86_64.whl (268 kB)\n",
      "Collecting frozenlist>=1.1.1\n",
      "  Using cached frozenlist-1.3.3-cp310-cp310-manylinux_2_5_x86_64.manylinux1_x86_64.manylinux_2_17_x86_64.manylinux2014_x86_64.whl (149 kB)\n",
      "Installing collected packages: multidict, frozenlist, async-timeout, yarl, aiosignal, aiohttp, openai\n",
      "\u001b[33m  WARNING: The script openai is installed in '/home/distill1994/.local/bin' which is not on PATH.\n",
      "  Consider adding this directory to PATH or, if you prefer to suppress this warning, use --no-warn-script-location.\u001b[0m\u001b[33m\n",
      "\u001b[0mSuccessfully installed aiohttp-3.8.4 aiosignal-1.3.1 async-timeout-4.0.2 frozenlist-1.3.3 multidict-6.0.4 openai-0.27.8 yarl-1.9.2\n",
      "Note: you may need to restart the kernel to use updated packages.\n"
     ]
    }
   ],
   "source": [
    "pip install openai"
   ]
  },
  {
   "cell_type": "code",
   "execution_count": 53,
   "id": "78e6dd6b-0cd2-430e-b684-684901e6a7fe",
   "metadata": {
    "tags": []
   },
   "outputs": [
    {
     "name": "stdout",
     "output_type": "stream",
     "text": [
      "Defaulting to user installation because normal site-packages is not writeable\n",
      "Requirement already satisfied: openai in /home/distill1994/.local/lib/python3.10/site-packages (0.27.8)\n",
      "Requirement already satisfied: requests>=2.20 in /usr/local/lib/python3.10/dist-packages (from openai) (2.29.0)\n",
      "Requirement already satisfied: aiohttp in /home/distill1994/.local/lib/python3.10/site-packages (from openai) (3.8.4)\n",
      "Requirement already satisfied: tqdm in /home/distill1994/.local/lib/python3.10/site-packages (from openai) (4.65.0)\n",
      "Requirement already satisfied: certifi>=2017.4.17 in /usr/local/lib/python3.10/dist-packages (from requests>=2.20->openai) (2022.12.7)\n",
      "Requirement already satisfied: urllib3<1.27,>=1.21.1 in /usr/local/lib/python3.10/dist-packages (from requests>=2.20->openai) (1.26.15)\n",
      "Requirement already satisfied: charset-normalizer<4,>=2 in /usr/local/lib/python3.10/dist-packages (from requests>=2.20->openai) (3.1.0)\n",
      "Requirement already satisfied: idna<4,>=2.5 in /usr/local/lib/python3.10/dist-packages (from requests>=2.20->openai) (3.4)\n",
      "Requirement already satisfied: frozenlist>=1.1.1 in /home/distill1994/.local/lib/python3.10/site-packages (from aiohttp->openai) (1.3.3)\n",
      "Requirement already satisfied: aiosignal>=1.1.2 in /home/distill1994/.local/lib/python3.10/site-packages (from aiohttp->openai) (1.3.1)\n",
      "Requirement already satisfied: async-timeout<5.0,>=4.0.0a3 in /home/distill1994/.local/lib/python3.10/site-packages (from aiohttp->openai) (4.0.2)\n",
      "Requirement already satisfied: multidict<7.0,>=4.5 in /home/distill1994/.local/lib/python3.10/site-packages (from aiohttp->openai) (6.0.4)\n",
      "Requirement already satisfied: attrs>=17.3.0 in /usr/local/lib/python3.10/dist-packages (from aiohttp->openai) (23.1.0)\n",
      "Requirement already satisfied: yarl<2.0,>=1.0 in /home/distill1994/.local/lib/python3.10/site-packages (from aiohttp->openai) (1.9.2)\n",
      "Note: you may need to restart the kernel to use updated packages.\n"
     ]
    }
   ],
   "source": [
    "%pip install openai"
   ]
  },
  {
   "cell_type": "code",
   "execution_count": 71,
   "id": "6ad41e6e-c0b0-489a-b6ff-02eb6d069034",
   "metadata": {
    "tags": []
   },
   "outputs": [],
   "source": [
    "import openai\n",
    "\n",
    "openai.api_key = 'token'"
   ]
  },
  {
   "cell_type": "code",
   "execution_count": 81,
   "id": "4501d561-7c3c-4374-bb4f-f737641c983f",
   "metadata": {
    "tags": []
   },
   "outputs": [],
   "source": [
    "import os\n",
    "\n",
    "# Function to get already processed names\n",
    "def get_processed_names(file):\n",
    "    if os.path.exists(file):\n",
    "        with open(file, 'r') as f:\n",
    "            reader = csv.DictReader(f)\n",
    "            return {row['Name'] for row in reader}\n",
    "    else:\n",
    "        return set()"
   ]
  },
  {
   "cell_type": "code",
   "execution_count": 82,
   "id": "26ba47f1-f734-4fb9-a9e1-4e82dd6fb59a",
   "metadata": {
    "tags": []
   },
   "outputs": [],
   "source": [
    "# Get already processed names\n",
    "processed_names = get_processed_names('name_variations.csv')"
   ]
  },
  {
   "cell_type": "code",
   "execution_count": 83,
   "id": "94ad9ac2-dc0b-4180-8d08-bfd3af79fd71",
   "metadata": {
    "tags": []
   },
   "outputs": [
    {
     "data": {
      "text/plain": [
       "1200"
      ]
     },
     "execution_count": 83,
     "metadata": {},
     "output_type": "execute_result"
    }
   ],
   "source": [
    "len(processed_names)"
   ]
  },
  {
   "cell_type": "code",
   "execution_count": 84,
   "id": "c79b5d30-e486-4850-868d-b9d75e4a12a2",
   "metadata": {
    "tags": []
   },
   "outputs": [
    {
     "name": "stdout",
     "output_type": "stream",
     "text": [
      "Rate limit exceeded. Sleeping for a minute.\n",
      "Rate limit exceeded. Sleeping for a minute.\n",
      "Rate limit exceeded. Sleeping for a minute.\n",
      "Rate limit exceeded. Sleeping for a minute.\n",
      "Rate limit exceeded. Sleeping for a minute.\n",
      "Rate limit exceeded. Sleeping for a minute.\n",
      "Rate limit exceeded. Sleeping for a minute.\n",
      "Rate limit exceeded. Sleeping for a minute.\n",
      "Rate limit exceeded. Sleeping for a minute.\n",
      "Rate limit exceeded. Sleeping for a minute.\n",
      "done\n"
     ]
    }
   ],
   "source": [
    "import csv\n",
    "import time\n",
    "\n",
    "# Function to divide names into chunks\n",
    "def chunks(lst, n):\n",
    "    for i in range(0, len(lst), n):\n",
    "        yield lst[i:i + n]\n",
    "\n",
    "        \n",
    "with open('name_variations.csv', 'a', newline='') as csvfile:\n",
    "    fieldnames = ['Name', 'Alternate 1', 'Alternate 2', 'Alternate 3', 'Alternate 4', 'Alternate 5']\n",
    "    writer = csv.DictWriter(csvfile, fieldnames=fieldnames)\n",
    "\n",
    "    # If file is empty write the header\n",
    "    if csvfile.tell() == 0:\n",
    "        writer.writeheader()     \n",
    "        \n",
    "    c = 0\n",
    "    # Iterate over names in chunks\n",
    "    for chunk in chunks(list(last_name_values), 15):\n",
    "        # Skip names that have been processed\n",
    "        chunk = [name for name in chunk if name not in processed_names]\n",
    "        if not chunk:\n",
    "            continue\n",
    "        \n",
    "        # Form the prompt\n",
    "        # print(chunk)\n",
    "        prompt = \"give me 5 most common alternate spellings of the last names, format as csv - \"\n",
    "        names = \",\".join([f\" {name.lower()}\" for name in chunk])\n",
    "        prompt = prompt + names\n",
    "        # print(prompt)\n",
    "\n",
    "        messages = [{\"role\": \"user\", \"content\": prompt}]\n",
    "        \n",
    "        while True:\n",
    "            try:\n",
    "                # Make the API call\n",
    "                response = openai.ChatCompletion.create(\n",
    "                  model=\"gpt-3.5-turbo\",\n",
    "                  messages=messages,\n",
    "                  temperature=0# adjust depending on the number of variations and length of names\n",
    "                )\n",
    "            except:\n",
    "                print(\"Rate limit exceeded. Sleeping for a minute.\")\n",
    "                time.sleep(60)  # Sleep for a minute and then retry\n",
    "                continue\n",
    "\n",
    "            break  # If no errors, break the loop\n",
    "\n",
    "        # print(response)\n",
    "        # Process the result\n",
    "        results = response.choices[0].message.content.strip().split('\\n')\n",
    "        # print(results)\n",
    "\n",
    "        for name, result in zip(chunk, results):\n",
    "            alternates = result.split(',')\n",
    "            #print(f\"{name}: {alternates}\")\n",
    "            # Write the name and alternates to the CSV file\n",
    "            writer.writerow({\n",
    "                'Name': name,\n",
    "                'Alternate 1': alternates[0].strip() if len(alternates) > 0 else '',\n",
    "                'Alternate 2': alternates[1].strip() if len(alternates) > 1 else '',\n",
    "                'Alternate 3': alternates[2].strip() if len(alternates) > 2 else '',\n",
    "                'Alternate 4': alternates[3].strip() if len(alternates) > 3 else '',\n",
    "                'Alternate 5': alternates[4].strip() if len(alternates) > 4 else '',\n",
    "            })\n",
    "\n",
    "print(\"done\")"
   ]
  },
  {
   "cell_type": "code",
   "execution_count": 90,
   "id": "71e53d77-a33f-4ad3-ac4a-879872d2509a",
   "metadata": {
    "tags": []
   },
   "outputs": [],
   "source": [
    "result_df = pd.read_csv(\"name_variations.csv\")"
   ]
  },
  {
   "cell_type": "code",
   "execution_count": 91,
   "id": "9c131f60-d992-4a1d-b2fe-1d39843796d2",
   "metadata": {
    "tags": []
   },
   "outputs": [
    {
     "data": {
      "text/plain": [
       "(9548, 6)"
      ]
     },
     "execution_count": 91,
     "metadata": {},
     "output_type": "execute_result"
    }
   ],
   "source": [
    "result_df.shape"
   ]
  },
  {
   "cell_type": "code",
   "execution_count": 92,
   "id": "a5f2cb25-9e79-401b-bc42-744b79b98f16",
   "metadata": {
    "tags": []
   },
   "outputs": [
    {
     "data": {
      "text/html": [
       "<div>\n",
       "<style scoped>\n",
       "    .dataframe tbody tr th:only-of-type {\n",
       "        vertical-align: middle;\n",
       "    }\n",
       "\n",
       "    .dataframe tbody tr th {\n",
       "        vertical-align: top;\n",
       "    }\n",
       "\n",
       "    .dataframe thead th {\n",
       "        text-align: right;\n",
       "    }\n",
       "</style>\n",
       "<table border=\"1\" class=\"dataframe\">\n",
       "  <thead>\n",
       "    <tr style=\"text-align: right;\">\n",
       "      <th></th>\n",
       "      <th>Name</th>\n",
       "      <th>Alternate 1</th>\n",
       "      <th>Alternate 2</th>\n",
       "      <th>Alternate 3</th>\n",
       "      <th>Alternate 4</th>\n",
       "      <th>Alternate 5</th>\n",
       "    </tr>\n",
       "  </thead>\n",
       "  <tbody>\n",
       "    <tr>\n",
       "      <th>5825</th>\n",
       "      <td>Branton</td>\n",
       "      <td>branton</td>\n",
       "      <td>Brantton</td>\n",
       "      <td>Brantton</td>\n",
       "      <td>Brantton</td>\n",
       "      <td>Brantton</td>\n",
       "    </tr>\n",
       "    <tr>\n",
       "      <th>455</th>\n",
       "      <td>Wise</td>\n",
       "      <td>Wise</td>\n",
       "      <td>Wyse</td>\n",
       "      <td>Wisee</td>\n",
       "      <td>NaN</td>\n",
       "      <td>NaN</td>\n",
       "    </tr>\n",
       "    <tr>\n",
       "      <th>3710</th>\n",
       "      <td>Bogle</td>\n",
       "      <td>Bogle</td>\n",
       "      <td>Bogel</td>\n",
       "      <td>Bogal</td>\n",
       "      <td>Bogol</td>\n",
       "      <td>Bogul</td>\n",
       "    </tr>\n",
       "    <tr>\n",
       "      <th>5703</th>\n",
       "      <td>Braga</td>\n",
       "      <td>braga</td>\n",
       "      <td>Bragga</td>\n",
       "      <td>Bragah</td>\n",
       "      <td>Bragas</td>\n",
       "      <td>Bragar</td>\n",
       "    </tr>\n",
       "    <tr>\n",
       "      <th>9156</th>\n",
       "      <td>Rogerson</td>\n",
       "      <td>rogerson</td>\n",
       "      <td>Rogersen</td>\n",
       "      <td>Rogersson</td>\n",
       "      <td>Rogerssen</td>\n",
       "      <td>Rogersun</td>\n",
       "    </tr>\n",
       "    <tr>\n",
       "      <th>6785</th>\n",
       "      <td>Urso</td>\n",
       "      <td>Urso</td>\n",
       "      <td>Ursu</td>\n",
       "      <td>Urzo</td>\n",
       "      <td>Urzo'</td>\n",
       "      <td>Ursoe</td>\n",
       "    </tr>\n",
       "    <tr>\n",
       "      <th>7719</th>\n",
       "      <td>Dudek</td>\n",
       "      <td>dudek</td>\n",
       "      <td>dudeck</td>\n",
       "      <td>dudekk</td>\n",
       "      <td>dudec</td>\n",
       "      <td>dudak</td>\n",
       "    </tr>\n",
       "    <tr>\n",
       "      <th>303</th>\n",
       "      <td>Melendez</td>\n",
       "      <td>Melendez</td>\n",
       "      <td>Melendes</td>\n",
       "      <td>Melendiz</td>\n",
       "      <td>Melendy</td>\n",
       "      <td>Melendes</td>\n",
       "    </tr>\n",
       "    <tr>\n",
       "      <th>5297</th>\n",
       "      <td>Bartels</td>\n",
       "      <td>Paola</td>\n",
       "      <td>Bartel</td>\n",
       "      <td>Weisburg</td>\n",
       "      <td>Miln</td>\n",
       "      <td>Dunlap</td>\n",
       "    </tr>\n",
       "    <tr>\n",
       "      <th>1095</th>\n",
       "      <td>Connor</td>\n",
       "      <td>Connor</td>\n",
       "      <td>Conner</td>\n",
       "      <td>Conor</td>\n",
       "      <td>Conar</td>\n",
       "      <td>Connerre</td>\n",
       "    </tr>\n",
       "  </tbody>\n",
       "</table>\n",
       "</div>"
      ],
      "text/plain": [
       "          Name Alternate 1 Alternate 2 Alternate 3 Alternate 4 Alternate 5\n",
       "5825   Branton     branton    Brantton    Brantton    Brantton    Brantton\n",
       "455       Wise        Wise        Wyse       Wisee         NaN         NaN\n",
       "3710     Bogle       Bogle       Bogel       Bogal       Bogol       Bogul\n",
       "5703     Braga       braga      Bragga      Bragah      Bragas      Bragar\n",
       "9156  Rogerson    rogerson    Rogersen   Rogersson   Rogerssen    Rogersun\n",
       "6785      Urso        Urso        Ursu        Urzo       Urzo'       Ursoe\n",
       "7719     Dudek       dudek      dudeck      dudekk       dudec       dudak\n",
       "303   Melendez    Melendez    Melendes    Melendiz     Melendy    Melendes\n",
       "5297   Bartels       Paola      Bartel    Weisburg        Miln      Dunlap\n",
       "1095    Connor      Connor      Conner       Conor       Conar    Connerre"
      ]
     },
     "execution_count": 92,
     "metadata": {},
     "output_type": "execute_result"
    }
   ],
   "source": [
    "result_df.sample(n=10)"
   ]
  },
  {
   "cell_type": "code",
   "execution_count": 93,
   "id": "87e68171-7600-4e6b-b636-4a1af41b9767",
   "metadata": {},
   "outputs": [
    {
     "data": {
      "text/plain": [
       "(9548, 6)"
      ]
     },
     "execution_count": 93,
     "metadata": {},
     "output_type": "execute_result"
    }
   ],
   "source": [
    "result_df.shape"
   ]
  },
  {
   "cell_type": "markdown",
   "id": "1f4859c5-3d4b-4bd8-8d7d-85b92ebdc9cf",
   "metadata": {},
   "source": [
    "## Creating dataset with generated content"
   ]
  },
  {
   "cell_type": "code",
   "execution_count": 94,
   "id": "bcfc8135-7c1b-453d-9ef6-e6a3194b9d49",
   "metadata": {
    "tags": []
   },
   "outputs": [
    {
     "data": {
      "text/html": [
       "<div>\n",
       "<style scoped>\n",
       "    .dataframe tbody tr th:only-of-type {\n",
       "        vertical-align: middle;\n",
       "    }\n",
       "\n",
       "    .dataframe tbody tr th {\n",
       "        vertical-align: top;\n",
       "    }\n",
       "\n",
       "    .dataframe thead th {\n",
       "        text-align: right;\n",
       "    }\n",
       "</style>\n",
       "<table border=\"1\" class=\"dataframe\">\n",
       "  <thead>\n",
       "    <tr style=\"text-align: right;\">\n",
       "      <th></th>\n",
       "      <th>name_last</th>\n",
       "      <th>name_first</th>\n",
       "      <th>race</th>\n",
       "      <th>full_name</th>\n",
       "      <th>race_code</th>\n",
       "    </tr>\n",
       "  </thead>\n",
       "  <tbody>\n",
       "    <tr>\n",
       "      <th>0</th>\n",
       "      <td>Baxla</td>\n",
       "      <td>Phyllis</td>\n",
       "      <td>nh_white</td>\n",
       "      <td>Baxla Phyllis</td>\n",
       "      <td>0</td>\n",
       "    </tr>\n",
       "    <tr>\n",
       "      <th>1</th>\n",
       "      <td>Ludwin</td>\n",
       "      <td>Ron</td>\n",
       "      <td>nh_white</td>\n",
       "      <td>Ludwin Ron</td>\n",
       "      <td>0</td>\n",
       "    </tr>\n",
       "    <tr>\n",
       "      <th>2</th>\n",
       "      <td>Signer Welton</td>\n",
       "      <td>Jessica</td>\n",
       "      <td>nh_white</td>\n",
       "      <td>Signer Welton Jessica</td>\n",
       "      <td>0</td>\n",
       "    </tr>\n",
       "    <tr>\n",
       "      <th>3</th>\n",
       "      <td>Stamps</td>\n",
       "      <td>Joshua</td>\n",
       "      <td>nh_white</td>\n",
       "      <td>Stamps Joshua</td>\n",
       "      <td>0</td>\n",
       "    </tr>\n",
       "    <tr>\n",
       "      <th>4</th>\n",
       "      <td>Vassell</td>\n",
       "      <td>Lillie</td>\n",
       "      <td>nh_black</td>\n",
       "      <td>Vassell Lillie</td>\n",
       "      <td>1</td>\n",
       "    </tr>\n",
       "  </tbody>\n",
       "</table>\n",
       "</div>"
      ],
      "text/plain": [
       "       name_last name_first      race              full_name  race_code\n",
       "0          Baxla    Phyllis  nh_white          Baxla Phyllis          0\n",
       "1         Ludwin        Ron  nh_white             Ludwin Ron          0\n",
       "2  Signer Welton    Jessica  nh_white  Signer Welton Jessica          0\n",
       "3         Stamps     Joshua  nh_white          Stamps Joshua          0\n",
       "4        Vassell     Lillie  nh_black         Vassell Lillie          1"
      ]
     },
     "execution_count": 94,
     "metadata": {},
     "output_type": "execute_result"
    }
   ],
   "source": [
    "df.head()"
   ]
  },
  {
   "cell_type": "code",
   "execution_count": 96,
   "id": "3fcbe2b8-21ca-4d9f-9554-996db5d8c254",
   "metadata": {
    "tags": []
   },
   "outputs": [],
   "source": [
    "last_df = df[['name_last','race','race_code']]"
   ]
  },
  {
   "cell_type": "code",
   "execution_count": 107,
   "id": "9ab74ef0-7f31-4020-be2f-a4bce12d0ec5",
   "metadata": {
    "tags": []
   },
   "outputs": [],
   "source": [
    "last_df = last_df.drop_duplicates()"
   ]
  },
  {
   "cell_type": "code",
   "execution_count": 108,
   "id": "73756b8b-337e-4863-8fbc-262755012548",
   "metadata": {
    "tags": []
   },
   "outputs": [
    {
     "data": {
      "text/html": [
       "<div>\n",
       "<style scoped>\n",
       "    .dataframe tbody tr th:only-of-type {\n",
       "        vertical-align: middle;\n",
       "    }\n",
       "\n",
       "    .dataframe tbody tr th {\n",
       "        vertical-align: top;\n",
       "    }\n",
       "\n",
       "    .dataframe thead th {\n",
       "        text-align: right;\n",
       "    }\n",
       "</style>\n",
       "<table border=\"1\" class=\"dataframe\">\n",
       "  <thead>\n",
       "    <tr style=\"text-align: right;\">\n",
       "      <th></th>\n",
       "      <th>name_last</th>\n",
       "      <th>race</th>\n",
       "      <th>race_code</th>\n",
       "    </tr>\n",
       "  </thead>\n",
       "  <tbody>\n",
       "    <tr>\n",
       "      <th>0</th>\n",
       "      <td>Baxla</td>\n",
       "      <td>nh_white</td>\n",
       "      <td>0</td>\n",
       "    </tr>\n",
       "    <tr>\n",
       "      <th>1</th>\n",
       "      <td>Ludwin</td>\n",
       "      <td>nh_white</td>\n",
       "      <td>0</td>\n",
       "    </tr>\n",
       "    <tr>\n",
       "      <th>2</th>\n",
       "      <td>Signer Welton</td>\n",
       "      <td>nh_white</td>\n",
       "      <td>0</td>\n",
       "    </tr>\n",
       "    <tr>\n",
       "      <th>3</th>\n",
       "      <td>Stamps</td>\n",
       "      <td>nh_white</td>\n",
       "      <td>0</td>\n",
       "    </tr>\n",
       "    <tr>\n",
       "      <th>4</th>\n",
       "      <td>Vassell</td>\n",
       "      <td>nh_black</td>\n",
       "      <td>1</td>\n",
       "    </tr>\n",
       "  </tbody>\n",
       "</table>\n",
       "</div>"
      ],
      "text/plain": [
       "       name_last      race  race_code\n",
       "0          Baxla  nh_white          0\n",
       "1         Ludwin  nh_white          0\n",
       "2  Signer Welton  nh_white          0\n",
       "3         Stamps  nh_white          0\n",
       "4        Vassell  nh_black          1"
      ]
     },
     "execution_count": 108,
     "metadata": {},
     "output_type": "execute_result"
    }
   ],
   "source": [
    "last_df.head()"
   ]
  },
  {
   "cell_type": "code",
   "execution_count": 130,
   "id": "64dcbdcf-876b-4930-bd48-acff243ade24",
   "metadata": {
    "tags": []
   },
   "outputs": [
    {
     "data": {
      "text/html": [
       "<div>\n",
       "<style scoped>\n",
       "    .dataframe tbody tr th:only-of-type {\n",
       "        vertical-align: middle;\n",
       "    }\n",
       "\n",
       "    .dataframe tbody tr th {\n",
       "        vertical-align: top;\n",
       "    }\n",
       "\n",
       "    .dataframe thead th {\n",
       "        text-align: right;\n",
       "    }\n",
       "</style>\n",
       "<table border=\"1\" class=\"dataframe\">\n",
       "  <thead>\n",
       "    <tr style=\"text-align: right;\">\n",
       "      <th></th>\n",
       "      <th>name_last</th>\n",
       "      <th>name_first</th>\n",
       "      <th>race</th>\n",
       "      <th>full_name</th>\n",
       "      <th>race_code</th>\n",
       "    </tr>\n",
       "  </thead>\n",
       "  <tbody>\n",
       "    <tr>\n",
       "      <th>3</th>\n",
       "      <td>Stamps</td>\n",
       "      <td>Joshua</td>\n",
       "      <td>nh_white</td>\n",
       "      <td>Stamps Joshua</td>\n",
       "      <td>0</td>\n",
       "    </tr>\n",
       "    <tr>\n",
       "      <th>38161</th>\n",
       "      <td>Stamps</td>\n",
       "      <td>Debra</td>\n",
       "      <td>nh_white</td>\n",
       "      <td>Stamps Debra</td>\n",
       "      <td>0</td>\n",
       "    </tr>\n",
       "    <tr>\n",
       "      <th>56418</th>\n",
       "      <td>Stamps</td>\n",
       "      <td>Randall</td>\n",
       "      <td>nh_white</td>\n",
       "      <td>Stamps Randall</td>\n",
       "      <td>0</td>\n",
       "    </tr>\n",
       "    <tr>\n",
       "      <th>128956</th>\n",
       "      <td>Stamps</td>\n",
       "      <td>Seth</td>\n",
       "      <td>nh_white</td>\n",
       "      <td>Stamps Seth</td>\n",
       "      <td>0</td>\n",
       "    </tr>\n",
       "    <tr>\n",
       "      <th>211374</th>\n",
       "      <td>Stamps</td>\n",
       "      <td>Devante</td>\n",
       "      <td>nh_black</td>\n",
       "      <td>Stamps Devante</td>\n",
       "      <td>1</td>\n",
       "    </tr>\n",
       "    <tr>\n",
       "      <th>...</th>\n",
       "      <td>...</td>\n",
       "      <td>...</td>\n",
       "      <td>...</td>\n",
       "      <td>...</td>\n",
       "      <td>...</td>\n",
       "    </tr>\n",
       "    <tr>\n",
       "      <th>7348558</th>\n",
       "      <td>Stamps</td>\n",
       "      <td>Janet</td>\n",
       "      <td>nh_white</td>\n",
       "      <td>Stamps Janet</td>\n",
       "      <td>0</td>\n",
       "    </tr>\n",
       "    <tr>\n",
       "      <th>7396992</th>\n",
       "      <td>Stamps</td>\n",
       "      <td>Michelle</td>\n",
       "      <td>nh_white</td>\n",
       "      <td>Stamps Michelle</td>\n",
       "      <td>0</td>\n",
       "    </tr>\n",
       "    <tr>\n",
       "      <th>7434212</th>\n",
       "      <td>Stamps</td>\n",
       "      <td>Rodger</td>\n",
       "      <td>nh_white</td>\n",
       "      <td>Stamps Rodger</td>\n",
       "      <td>0</td>\n",
       "    </tr>\n",
       "    <tr>\n",
       "      <th>7491935</th>\n",
       "      <td>Stamps</td>\n",
       "      <td>Thomas</td>\n",
       "      <td>nh_white</td>\n",
       "      <td>Stamps Thomas</td>\n",
       "      <td>0</td>\n",
       "    </tr>\n",
       "    <tr>\n",
       "      <th>7581112</th>\n",
       "      <td>Stamps</td>\n",
       "      <td>Joanna</td>\n",
       "      <td>nh_white</td>\n",
       "      <td>Stamps Joanna</td>\n",
       "      <td>0</td>\n",
       "    </tr>\n",
       "  </tbody>\n",
       "</table>\n",
       "<p>129 rows × 5 columns</p>\n",
       "</div>"
      ],
      "text/plain": [
       "        name_last name_first      race        full_name  race_code\n",
       "3          Stamps     Joshua  nh_white    Stamps Joshua          0\n",
       "38161      Stamps      Debra  nh_white     Stamps Debra          0\n",
       "56418      Stamps    Randall  nh_white   Stamps Randall          0\n",
       "128956     Stamps       Seth  nh_white      Stamps Seth          0\n",
       "211374     Stamps    Devante  nh_black   Stamps Devante          1\n",
       "...           ...        ...       ...              ...        ...\n",
       "7348558    Stamps      Janet  nh_white     Stamps Janet          0\n",
       "7396992    Stamps   Michelle  nh_white  Stamps Michelle          0\n",
       "7434212    Stamps     Rodger  nh_white    Stamps Rodger          0\n",
       "7491935    Stamps     Thomas  nh_white    Stamps Thomas          0\n",
       "7581112    Stamps     Joanna  nh_white    Stamps Joanna          0\n",
       "\n",
       "[129 rows x 5 columns]"
      ]
     },
     "execution_count": 130,
     "metadata": {},
     "output_type": "execute_result"
    }
   ],
   "source": [
    "df[df['name_last'] == 'Stamps']"
   ]
  },
  {
   "cell_type": "code",
   "execution_count": 134,
   "id": "4c6aeeee-a048-4b04-90e9-8506b2c67900",
   "metadata": {
    "tags": []
   },
   "outputs": [],
   "source": [
    "f_df = df[['name_first','name_last','race','race_code']] \\\n",
    "    .groupby(['name_last','race','race_code'])['name_last'].count() \\\n",
    "    .reset_index(name='count').sort_values(['count'], ascending=False).reset_index()"
   ]
  },
  {
   "cell_type": "code",
   "execution_count": 135,
   "id": "0abe4089-56fc-4741-861a-4758147f64a1",
   "metadata": {
    "tags": []
   },
   "outputs": [
    {
     "data": {
      "text/html": [
       "<div>\n",
       "<style scoped>\n",
       "    .dataframe tbody tr th:only-of-type {\n",
       "        vertical-align: middle;\n",
       "    }\n",
       "\n",
       "    .dataframe tbody tr th {\n",
       "        vertical-align: top;\n",
       "    }\n",
       "\n",
       "    .dataframe thead th {\n",
       "        text-align: right;\n",
       "    }\n",
       "</style>\n",
       "<table border=\"1\" class=\"dataframe\">\n",
       "  <thead>\n",
       "    <tr style=\"text-align: right;\">\n",
       "      <th></th>\n",
       "      <th>index</th>\n",
       "      <th>name_last</th>\n",
       "      <th>race</th>\n",
       "      <th>race_code</th>\n",
       "      <th>count</th>\n",
       "    </tr>\n",
       "  </thead>\n",
       "  <tbody>\n",
       "    <tr>\n",
       "      <th>12895</th>\n",
       "      <td>1001517</td>\n",
       "      <td>Stamps</td>\n",
       "      <td>nh_white</td>\n",
       "      <td>0</td>\n",
       "      <td>85</td>\n",
       "    </tr>\n",
       "    <tr>\n",
       "      <th>29632</th>\n",
       "      <td>1001516</td>\n",
       "      <td>Stamps</td>\n",
       "      <td>nh_black</td>\n",
       "      <td>1</td>\n",
       "      <td>37</td>\n",
       "    </tr>\n",
       "    <tr>\n",
       "      <th>203539</th>\n",
       "      <td>1001518</td>\n",
       "      <td>Stamps</td>\n",
       "      <td>other</td>\n",
       "      <td>2</td>\n",
       "      <td>4</td>\n",
       "    </tr>\n",
       "    <tr>\n",
       "      <th>410013</th>\n",
       "      <td>1001514</td>\n",
       "      <td>Stamps</td>\n",
       "      <td>asian</td>\n",
       "      <td>4</td>\n",
       "      <td>2</td>\n",
       "    </tr>\n",
       "    <tr>\n",
       "      <th>680402</th>\n",
       "      <td>1001515</td>\n",
       "      <td>Stamps</td>\n",
       "      <td>hispanic</td>\n",
       "      <td>3</td>\n",
       "      <td>1</td>\n",
       "    </tr>\n",
       "  </tbody>\n",
       "</table>\n",
       "</div>"
      ],
      "text/plain": [
       "          index name_last      race  race_code  count\n",
       "12895   1001517    Stamps  nh_white          0     85\n",
       "29632   1001516    Stamps  nh_black          1     37\n",
       "203539  1001518    Stamps     other          2      4\n",
       "410013  1001514    Stamps     asian          4      2\n",
       "680402  1001515    Stamps  hispanic          3      1"
      ]
     },
     "execution_count": 135,
     "metadata": {},
     "output_type": "execute_result"
    }
   ],
   "source": [
    "f_df[f_df['name_last'] == 'Stamps']"
   ]
  },
  {
   "cell_type": "code",
   "execution_count": 136,
   "id": "10b125ba-b93e-472c-910b-fc59d0be482a",
   "metadata": {
    "tags": []
   },
   "outputs": [],
   "source": [
    "common_df = f_df[f_df['name_last'].isin(result_df['Name'])]"
   ]
  },
  {
   "cell_type": "code",
   "execution_count": 137,
   "id": "1083c543-ba01-4fcc-a2fd-8f95f9fb5fa9",
   "metadata": {
    "tags": []
   },
   "outputs": [
    {
     "data": {
      "text/plain": [
       "(43364, 5)"
      ]
     },
     "execution_count": 137,
     "metadata": {},
     "output_type": "execute_result"
    }
   ],
   "source": [
    "common_df.shape"
   ]
  },
  {
   "cell_type": "code",
   "execution_count": 150,
   "id": "2c96469b-dcaa-46af-9d4f-df6f93319c05",
   "metadata": {
    "tags": []
   },
   "outputs": [
    {
     "data": {
      "text/plain": [
       "index         1001517\n",
       "name_last      Stamps\n",
       "race         nh_white\n",
       "race_code           0\n",
       "count              85\n",
       "Name: 12895, dtype: object"
      ]
     },
     "execution_count": 150,
     "metadata": {},
     "output_type": "execute_result"
    }
   ],
   "source": [
    "common_df.loc[common_df[common_df['name_last'] == 'Stamps']['count'].idxmax()]"
   ]
  },
  {
   "cell_type": "code",
   "execution_count": 157,
   "id": "6b40f38e-b7b4-4965-be13-e087e3087b98",
   "metadata": {
    "tags": []
   },
   "outputs": [
    {
     "data": {
      "text/plain": [
       "['Alternate 1', 'Alternate 2', 'Alternate 3', 'Alternate 4', 'Alternate 5']"
      ]
     },
     "execution_count": 157,
     "metadata": {},
     "output_type": "execute_result"
    }
   ],
   "source": [
    "list(result_df.columns[1:])"
   ]
  },
  {
   "cell_type": "code",
   "execution_count": 166,
   "id": "edf40856-8b05-490f-8b5c-ff368fd00437",
   "metadata": {
    "tags": []
   },
   "outputs": [
    {
     "data": {
      "text/plain": [
       "0       None\n",
       "1       None\n",
       "2       None\n",
       "3       None\n",
       "4       None\n",
       "        ... \n",
       "9543    None\n",
       "9544    None\n",
       "9545    None\n",
       "9546    None\n",
       "9547    None\n",
       "Length: 9548, dtype: object"
      ]
     },
     "execution_count": 166,
     "metadata": {},
     "output_type": "execute_result"
    }
   ],
   "source": [
    "names = []\n",
    "race = []\n",
    "race_codes = []\n",
    "alt_cols = list(result_df.columns[1:])\n",
    "\n",
    "def process(x):\n",
    "    match = common_df.loc[common_df[common_df['name_last'] == x.Name]['count'].idxmax()]\n",
    "    rc = match['race']\n",
    "    rcc = match['race_code']\n",
    "    for c in alt_cols:\n",
    "        if x[c]:\n",
    "            names.append(x[c])\n",
    "            race.append(rc)\n",
    "            race_codes.append(rcc)\n",
    "\n",
    "    \n",
    "result_df.apply(lambda x: process(x), axis=1)"
   ]
  },
  {
   "cell_type": "code",
   "execution_count": 167,
   "id": "d31b163c-6618-405c-9ba1-aafddb8c615c",
   "metadata": {
    "tags": []
   },
   "outputs": [
    {
     "name": "stdout",
     "output_type": "stream",
     "text": [
      "47740\n",
      "47740\n",
      "47740\n"
     ]
    }
   ],
   "source": [
    "print(len(names))\n",
    "print(len(race))\n",
    "print(len(names))"
   ]
  },
  {
   "cell_type": "code",
   "execution_count": 174,
   "id": "9d2065bf-9635-4a16-9909-dc692906edfa",
   "metadata": {
    "tags": []
   },
   "outputs": [],
   "source": [
    "gen_names = pd.DataFrame({'name_last': names, 'race': race, 'race_code': race_codes})"
   ]
  },
  {
   "cell_type": "code",
   "execution_count": 175,
   "id": "a5bfa2ed-5a60-4efd-96dd-dec22a6b2613",
   "metadata": {
    "tags": []
   },
   "outputs": [
    {
     "data": {
      "text/html": [
       "<div>\n",
       "<style scoped>\n",
       "    .dataframe tbody tr th:only-of-type {\n",
       "        vertical-align: middle;\n",
       "    }\n",
       "\n",
       "    .dataframe tbody tr th {\n",
       "        vertical-align: top;\n",
       "    }\n",
       "\n",
       "    .dataframe thead th {\n",
       "        text-align: right;\n",
       "    }\n",
       "</style>\n",
       "<table border=\"1\" class=\"dataframe\">\n",
       "  <thead>\n",
       "    <tr style=\"text-align: right;\">\n",
       "      <th></th>\n",
       "      <th>name_last</th>\n",
       "      <th>race</th>\n",
       "      <th>race_code</th>\n",
       "    </tr>\n",
       "  </thead>\n",
       "  <tbody>\n",
       "    <tr>\n",
       "      <th>29389</th>\n",
       "      <td>ingersollr</td>\n",
       "      <td>nh_white</td>\n",
       "      <td>0</td>\n",
       "    </tr>\n",
       "    <tr>\n",
       "      <th>45660</th>\n",
       "      <td>simo</td>\n",
       "      <td>hispanic</td>\n",
       "      <td>3</td>\n",
       "    </tr>\n",
       "    <tr>\n",
       "      <th>38155</th>\n",
       "      <td>Densmore</td>\n",
       "      <td>nh_white</td>\n",
       "      <td>0</td>\n",
       "    </tr>\n",
       "    <tr>\n",
       "      <th>4314</th>\n",
       "      <td>Alezea</td>\n",
       "      <td>hispanic</td>\n",
       "      <td>3</td>\n",
       "    </tr>\n",
       "    <tr>\n",
       "      <th>37979</th>\n",
       "      <td>fenwicq</td>\n",
       "      <td>nh_white</td>\n",
       "      <td>0</td>\n",
       "    </tr>\n",
       "    <tr>\n",
       "      <th>40021</th>\n",
       "      <td>Sulaiman</td>\n",
       "      <td>nh_white</td>\n",
       "      <td>0</td>\n",
       "    </tr>\n",
       "    <tr>\n",
       "      <th>12639</th>\n",
       "      <td>Lattimerr</td>\n",
       "      <td>nh_white</td>\n",
       "      <td>0</td>\n",
       "    </tr>\n",
       "    <tr>\n",
       "      <th>13013</th>\n",
       "      <td>trimbble</td>\n",
       "      <td>nh_white</td>\n",
       "      <td>0</td>\n",
       "    </tr>\n",
       "    <tr>\n",
       "      <th>25325</th>\n",
       "      <td>parke</td>\n",
       "      <td>nh_white</td>\n",
       "      <td>0</td>\n",
       "    </tr>\n",
       "    <tr>\n",
       "      <th>17658</th>\n",
       "      <td>Douty</td>\n",
       "      <td>nh_white</td>\n",
       "      <td>0</td>\n",
       "    </tr>\n",
       "  </tbody>\n",
       "</table>\n",
       "</div>"
      ],
      "text/plain": [
       "        name_last      race  race_code\n",
       "29389  ingersollr  nh_white          0\n",
       "45660        simo  hispanic          3\n",
       "38155    Densmore  nh_white          0\n",
       "4314       Alezea  hispanic          3\n",
       "37979     fenwicq  nh_white          0\n",
       "40021    Sulaiman  nh_white          0\n",
       "12639   Lattimerr  nh_white          0\n",
       "13013    trimbble  nh_white          0\n",
       "25325       parke  nh_white          0\n",
       "17658       Douty  nh_white          0"
      ]
     },
     "execution_count": 175,
     "metadata": {},
     "output_type": "execute_result"
    }
   ],
   "source": [
    "gen_names.sample(n=10)"
   ]
  },
  {
   "cell_type": "code",
   "execution_count": 176,
   "id": "47e73b98-00b3-48fa-a7a9-e81b96c72ab0",
   "metadata": {
    "tags": []
   },
   "outputs": [],
   "source": [
    "gen_names.to_csv(\"name_variations_with_race.csv\", index=False)"
   ]
  },
  {
   "cell_type": "code",
   "execution_count": 178,
   "id": "dc403bae-3771-438e-9f87-b757acda1225",
   "metadata": {
    "tags": []
   },
   "outputs": [],
   "source": [
    "final_df = pd.concat([last_df, gen_names])"
   ]
  },
  {
   "cell_type": "code",
   "execution_count": 179,
   "id": "67cb4dff-a9e2-4737-bcee-b7137fa35770",
   "metadata": {
    "tags": []
   },
   "outputs": [
    {
     "data": {
      "text/plain": [
       "(1161353, 3)"
      ]
     },
     "execution_count": 179,
     "metadata": {},
     "output_type": "execute_result"
    }
   ],
   "source": [
    "last_df.shape"
   ]
  },
  {
   "cell_type": "code",
   "execution_count": 180,
   "id": "cdefd82f-2f6e-4cf3-afc2-cad3d53ae7e4",
   "metadata": {
    "tags": []
   },
   "outputs": [
    {
     "data": {
      "text/plain": [
       "(47740, 3)"
      ]
     },
     "execution_count": 180,
     "metadata": {},
     "output_type": "execute_result"
    }
   ],
   "source": [
    "gen_names.shape"
   ]
  },
  {
   "cell_type": "code",
   "execution_count": 181,
   "id": "1cf6cbb6-4443-4dc8-84c4-7de550bc93df",
   "metadata": {
    "tags": []
   },
   "outputs": [
    {
     "data": {
      "text/plain": [
       "(1209093, 3)"
      ]
     },
     "execution_count": 181,
     "metadata": {},
     "output_type": "execute_result"
    }
   ],
   "source": [
    "final_df.shape"
   ]
  },
  {
   "cell_type": "code",
   "execution_count": 182,
   "id": "30715a4e-e411-4433-81d2-6636c9f49b13",
   "metadata": {
    "tags": []
   },
   "outputs": [],
   "source": [
    "final_df.to_csv(\"fl_2022_LastName_train_with_gen.csv\", index=False)"
   ]
  },
  {
   "cell_type": "code",
   "execution_count": 183,
   "id": "e3f03cf2-a9b9-4d81-97f0-90367bd49e07",
   "metadata": {
    "tags": []
   },
   "outputs": [
    {
     "name": "stdout",
     "output_type": "stream",
     "text": [
      "25M\tfl_2022_LastName_train_with_gen.csv\n",
      "76K\tlast_names.csv\n",
      "448K\tname_variations.csv\n",
      "876K\tname_variations_with_race.csv\n"
     ]
    }
   ],
   "source": [
    "!du -sh *.csv"
   ]
  },
  {
   "cell_type": "code",
   "execution_count": null,
   "id": "f51bd150-0827-462b-a216-5d169d4ad96c",
   "metadata": {},
   "outputs": [],
   "source": []
  }
 ],
 "metadata": {
  "kernelspec": {
   "display_name": "Python 3 (ipykernel)",
   "language": "python",
   "name": "python3"
  },
  "language_info": {
   "codemirror_mode": {
    "name": "ipython",
    "version": 3
   },
   "file_extension": ".py",
   "mimetype": "text/x-python",
   "name": "python",
   "nbconvert_exporter": "python",
   "pygments_lexer": "ipython3",
   "version": "3.10.6"
  }
 },
 "nbformat": 4,
 "nbformat_minor": 5
}
